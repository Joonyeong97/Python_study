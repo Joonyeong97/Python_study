{
 "cells": [
  {
   "cell_type": "code",
   "execution_count": 1,
   "metadata": {},
   "outputs": [],
   "source": [
    "# flask\n",
    "import flask"
   ]
  },
  {
   "cell_type": "code",
   "execution_count": 2,
   "metadata": {},
   "outputs": [
    {
     "name": "stdout",
     "output_type": "stream",
     "text": [
      "1.16.5\n",
      "type:<class 'numpy.ndarray'>\n",
      "shape: (3,), dimension: 1, dtype: int32\n",
      "Array.s Data:\n",
      " [1 2 3]\n"
     ]
    }
   ],
   "source": [
    "import matplotlib # 시각화 패키지\n",
    "import numpy as np # 별칭 class\n",
    "print(np.__version__) # 상위 오브젝트가 가진 속성\n",
    "def pprint(arr): # ndarray : numpy의 기본 데이터 배열\n",
    "    print('type:{}'.format(type(arr)))\n",
    "    print('shape: {}, dimension: {}, dtype: {}'.format(arr.shape,arr.ndim,arr.dtype))\n",
    "    print('Array.s Data:\\n', arr)\n",
    "    # 숫자의 디폴트는 int32\n",
    "arr=[1.0,2.0,3.0] # list\n",
    "a= np.array([1,2,3]) # ndarray 생성 함수 (매개변수: 리스트)\n",
    "pprint(a)"
   ]
  },
  {
   "cell_type": "code",
   "execution_count": 3,
   "metadata": {},
   "outputs": [
    {
     "name": "stdout",
     "output_type": "stream",
     "text": [
      "2226114769264\n",
      "10\n",
      "[0. 1. 2. 3. 4. 5. 6. 7. 8. 9.]\n",
      "40\n"
     ]
    },
    {
     "data": {
      "text/plain": [
       "array([  1,   2,   3,   4,   5,   6,   7,   8,   9,  10,  11,  12,  13,\n",
       "        14,  15,  16,  17,  18,  19,  20,  21,  22,  23,  24,  25,  26,\n",
       "        27,  28,  29,  30,  31,  32,  33,  34,  35,  36,  37,  38,  39,\n",
       "        40,  41,  42,  43,  44,  45,  46,  47,  48,  49,  50,  51,  52,\n",
       "        53,  54,  55,  56,  57,  58,  59,  60,  61,  62,  63,  64,  65,\n",
       "        66,  67,  68,  69,  70,  71,  72,  73,  74,  75,  76,  77,  78,\n",
       "        79,  80,  81,  82,  83,  84,  85,  86,  87,  88,  89,  90,  91,\n",
       "        92,  93,  94,  95,  96,  97,  98,  99, 100])"
      ]
     },
     "execution_count": 3,
     "metadata": {},
     "output_type": "execute_result"
    }
   ],
   "source": [
    "# 인스턴스 상태 어레이는 리스트를 매개변수로 사용\n",
    "a = np.array([0,1,2,3,4,5,6,7,8,9]) # ndarray\n",
    "print(id(a)) # python core 주소값 확인\n",
    "print(a.size) #  데이터 갯수\n",
    "print(a.astype(np.float32)) # 데이터 타입을 변경, numpy는  행중심, 동질적 같은 데이터 타입만.!\n",
    "print(a.dtype.itemsize*a.size) #  전체 메모리 사이즈 바이트\n",
    "# iterator for in _ range => list\n",
    "a = np.arange(1,101) # arange => ndarray\n",
    "a"
   ]
  },
  {
   "cell_type": "code",
   "execution_count": 4,
   "metadata": {},
   "outputs": [
    {
     "name": "stdout",
     "output_type": "stream",
     "text": [
      "[[0. 0. 0. 0.]\n",
      " [0. 0. 0. 0.]\n",
      " [0. 0. 0. 0.]]\n",
      "[[[1 1 1 1]\n",
      "  [1 1 1 1]\n",
      "  [1 1 1 1]]\n",
      "\n",
      " [[1 1 1 1]\n",
      "  [1 1 1 1]\n",
      "  [1 1 1 1]]]\n",
      "[[7 7]\n",
      " [7 7]]\n",
      "[[1. 0. 0. 0.]\n",
      " [0. 1. 0. 0.]\n",
      " [0. 0. 1. 0.]\n",
      " [0. 0. 0. 1.]]\n",
      "[[0.00000000e+000 0.00000000e+000]\n",
      " [0.00000000e+000 0.00000000e+000]\n",
      " [0.00000000e+000 6.28451502e-321]\n",
      " [1.24611741e-306 1.11261027e-306]]\n"
     ]
    }
   ],
   "source": [
    "# ndarray초기화 함수들\n",
    "print(np.zeros((3,4))) # 0으로 초기화\n",
    "print(np.ones((2,3,4),dtype=np.int16)) # 1로 초기화 data타입을 int로 면.행.열로 저장됨\n",
    "print(np.full((2,2),7))\n",
    "print(np.eye(4)) # 대각행렬 identity 행열연산에서 항등원 +,*, \n",
    "print(np.empty((4,2))) # 쓰레기값."
   ]
  },
  {
   "cell_type": "code",
   "execution_count": 5,
   "metadata": {},
   "outputs": [
    {
     "name": "stdout",
     "output_type": "stream",
     "text": [
      "[1, 5, -1]\n",
      "[ 0 10 20 30 40 50 60 70 80 90]\n",
      "[10 50 90]\n"
     ]
    }
   ],
   "source": [
    "a = np.arange(0,100,10) # ndarray\n",
    "indices = [1,5,-1] # list\n",
    "print(indices)\n",
    "b= a[indices] # list를 첨자로 사용\n",
    "print(a)\n",
    "print(b)"
   ]
  },
  {
   "cell_type": "code",
   "execution_count": 6,
   "metadata": {},
   "outputs": [
    {
     "name": "stdout",
     "output_type": "stream",
     "text": [
      "[11 12 13 14 15 16 17 18 19 20 21 22 23 24 25 26 27 28 29 30 31 32 33 34\n",
      " 35]\n",
      "[[11 12 13 14 15]\n",
      " [16 17 18 19 20]\n",
      " [21 22 23 24 25]\n",
      " [26 27 28 29 30]\n",
      " [31 32 33 34 35]]\n",
      "<class 'numpy.ndarray'>\n",
      "int32\n",
      "25\n",
      "(5, 5)\n",
      "2\n",
      "100\n",
      "(20, 4)\n"
     ]
    }
   ],
   "source": [
    "a = np.arange(11,36)\n",
    "print(a)\n",
    "a.shape = (5,5) # 정상모양을 갖춘 개수 R\n",
    "print(a)\n",
    "print(type(a))\n",
    "print(a.dtype)\n",
    "print(a.size)\n",
    "print(a.shape) #차수 (5,5)\n",
    "print(a.ndim) # 2차원\n",
    "print(a.nbytes) # 100byte = 25 * 4 \n",
    "print(a.strides) # (20,4) 다음열의 데이터는 몇바이트를 건너 뛰어야하는가.\n",
    "                # 다음 행은 몇바이트를 건너 뛰어야 하는가"
   ]
  },
  {
   "cell_type": "code",
   "execution_count": 7,
   "metadata": {},
   "outputs": [
    {
     "name": "stdout",
     "output_type": "stream",
     "text": [
      "<class 'numpy.ndarray'>\n",
      "[0 1 2 3 4 5 6 7 8 9]\n",
      "5\n",
      "[5 6 7]\n",
      "[ 1  2  3  4 12]\n"
     ]
    }
   ],
   "source": [
    "arr = np.arange(10)\n",
    "print(type(arr))\n",
    "print(arr)\n",
    "print(arr[5])\n",
    "print(arr[5:8]) # 마지막 불포함\n",
    "arr[5:8]=12 # 데이터 update\n",
    "print(arr[1:6]) "
   ]
  },
  {
   "cell_type": "code",
   "execution_count": 8,
   "metadata": {},
   "outputs": [
    {
     "name": "stdout",
     "output_type": "stream",
     "text": [
      "[1 2 3]\n",
      "3\n",
      "3\n",
      "[[1 2 3]\n",
      " [4 5 6]]\n",
      "[[2 3]\n",
      " [5 6]]\n",
      "[[1 2 3]\n",
      " [4 5 6]\n",
      " [7 8 9]]\n",
      "[4 5]\n",
      "[8 9]\n",
      "[[0 2 3]\n",
      " [0 5 6]\n",
      " [7 8 9]]\n"
     ]
    }
   ],
   "source": [
    "### numpy 첨자 생략불가 [,4] 불가\n",
    "arr2d = np.array([[1,2,3],[4,5,6],[7,8,9]])\n",
    "print(arr2d[0]) # 행우선 : 행\n",
    "print(arr2d[0][2])\n",
    "print(arr2d[0,2])\n",
    "print(arr2d[:2]) # 0,1행\n",
    "print(arr2d[:2,1:])\n",
    "print(arr2d[:,0:]) # 모든행\n",
    "print(arr2d[1,:2]) \n",
    "print(arr2d[2,1:])\n",
    "arr2d[:2,:1]=0\n",
    "arr2d[:2,:1]=0\n",
    "print(arr2d)"
   ]
  },
  {
   "cell_type": "code",
   "execution_count": 9,
   "metadata": {},
   "outputs": [
    {
     "name": "stdout",
     "output_type": "stream",
     "text": [
      "스트라이드값 (160, 40, 8)\n"
     ]
    }
   ],
   "source": [
    "# 실제 저장은 일렬로 사람이 데이터를 다루는 것은 입체로 480Byte\n",
    "# 행열연산에서 앞의 행렬열수와 뒤의 행렬의 행수를 일치 시켜야 행렬곱이 가능\n",
    "# 행렬곱에서 행렬 앞뒤로 바꾸면 안됨.\n",
    "print(\"스트라이드값\",np.ones((3,4,5), dtype=np.float64).strides)\n",
    "# 단일 데이터 float64 : 8바이트"
   ]
  },
  {
   "cell_type": "code",
   "execution_count": 9,
   "metadata": {},
   "outputs": [
    {
     "name": "stdout",
     "output_type": "stream",
     "text": [
      "[[[ 1  2  3]\n",
      "  [ 4  5  6]]\n",
      "\n",
      " [[ 7  8  9]\n",
      "  [10 11 12]]]\n",
      "첫차원 [[1 2 3]\n",
      " [4 5 6]]\n",
      "첫차원 첫행은 = [1 2 3]\n",
      "첫요소는 =  1\n",
      "8 =  8\n",
      "12\n"
     ]
    }
   ],
   "source": [
    "# 문제\n",
    "arr3d=np.array([ [[1,2,3],[4,5,6]],[[7,8,9],[10,11,12]] ]) # 2,2,3\n",
    "print(arr3d)\n",
    "print('첫차원',arr3d[0])\n",
    "print('첫차원 첫행은 =',arr3d[0][0])\n",
    "print('첫요소는 = ',arr3d[0][0][0])\n",
    "# 8출력\n",
    "print('8 = ',arr3d[1][0][1])\n",
    "# 12출력\n",
    "print(arr3d[1][1][2])"
   ]
  },
  {
   "cell_type": "code",
   "execution_count": 10,
   "metadata": {},
   "outputs": [
    {
     "name": "stdout",
     "output_type": "stream",
     "text": [
      " 값의 변경후\n",
      "[[[42 42 42]\n",
      "  [42 42 42]]\n",
      "\n",
      " [[ 7  8  9]\n",
      "  [10 11 12]]]\n",
      "이전값으로 복구\n",
      "[[[ 1  2  3]\n",
      "  [ 4  5  6]]\n",
      "\n",
      " [[ 7  8  9]\n",
      "  [10 11 12]]]\n"
     ]
    }
   ],
   "source": [
    "# backup이 안됨.\n",
    "old_values=arr3d.copy() # 대입 : 주소를 복사\n",
    "arr3d[0]=42\n",
    "print(\" 값의 변경후\")\n",
    "print(arr3d)\n",
    "\n",
    "print(\"이전값으로 복구\")\n",
    "arr3d=old_values\n",
    "print(arr3d)"
   ]
  },
  {
   "cell_type": "code",
   "execution_count": 12,
   "metadata": {},
   "outputs": [
    {
     "name": "stdout",
     "output_type": "stream",
     "text": [
      "[ 0  1  2  3  4  5  6  7  8  9 10 11 12 13 14 15 16 17 18 19 20 21 22 23\n",
      " 24 25 26 27 28 29 30 31 32 33 34 35]\n",
      "[[[ 0  1  2  3  4  5]\n",
      "  [ 6  7  8  9 10 11]\n",
      "  [12 13 14 15 16 17]]\n",
      "\n",
      " [[18 19 20 21 22 23]\n",
      "  [24 25 26 27 28 29]\n",
      "  [30 31 32 33 34 35]]]\n"
     ]
    }
   ],
   "source": [
    "Z = np.arange(36)\n",
    "print(Z)\n",
    "z=Z.reshape((6,6))\n",
    "reshape2 = Z.reshape((2,3,6))\n",
    "print(reshape2)"
   ]
  },
  {
   "cell_type": "code",
   "execution_count": 13,
   "metadata": {},
   "outputs": [
    {
     "name": "stdout",
     "output_type": "stream",
     "text": [
      "[[ 0  1  2  3]\n",
      " [ 4  5  6  7]\n",
      " [ 8  9 10 11]\n",
      " [12 13 14 15]\n",
      " [16 17 18 19]\n",
      " [20 21 22 23]\n",
      " [24 25 26 27]\n",
      " [28 29 30 31]]\n",
      "[[ 4  5  6  7]\n",
      " [20 21 22 23]\n",
      " [28 29 30 31]\n",
      " [ 8  9 10 11]]\n",
      "[[28 29 30 31]\n",
      " [12 13 14 15]\n",
      " [ 4  5  6  7]\n",
      " [24 25 26 27]]\n",
      "[ 4 23 29 10]\n"
     ]
    }
   ],
   "source": [
    "arr = np.arange(32).reshape((8,4))\n",
    "print(arr)\n",
    "print(arr[[1,5,7,2]]) # 1572행\n",
    "print(arr[[-1,-5,-7,-2]]) #거꾸로\n",
    "print(arr[[1,5,7,2],[0,3,1,2]])\n"
   ]
  },
  {
   "cell_type": "code",
   "execution_count": 14,
   "metadata": {},
   "outputs": [
    {
     "name": "stdout",
     "output_type": "stream",
     "text": [
      "[[ 4  5  6  7]\n",
      " [ 8  9 10 11]\n",
      " [20 21 22 23]\n",
      " [28 29 30 31]]\n",
      "[[ 4  7  5  6]\n",
      " [20 23 21 22]\n",
      " [28 31 29 30]\n",
      " [ 8 11  9 10]]\n"
     ]
    }
   ],
   "source": [
    "# FANCY 인덱싱\n",
    "print(arr[[1,2,5,7]][:,[0,1,2,3]])\n",
    "print(arr[[1,5,7,2]][:,[0,3,1,2]])"
   ]
  },
  {
   "cell_type": "code",
   "execution_count": 63,
   "metadata": {},
   "outputs": [
    {
     "name": "stdout",
     "output_type": "stream",
     "text": [
      "[[0, 1, 2, 3, 4, 5], [10, 11, 12, 13, 14, 15], [20, 21, 22, 23, 24, 25], [30, 31, 32, 33, 34, 35], [40, 41, 42, 43, 44, 45], [50, 51, 52, 53, 54, 55]]\n",
      "2 22 52\n",
      "[ 1 12 23 34 45]\n",
      "[31 41 51] [32 42 52] [35 45 55]\n",
      "빨강 [ 2 22 52]\n",
      "하늘 [[30 32 35]\n",
      " [40 42 45]\n",
      " [50 52 55]]\n"
     ]
    }
   ],
   "source": [
    "arr=[]\n",
    "for i in range(6):\n",
    "    ad=[]\n",
    "    for j in range(6):\n",
    "        ad.append(i*10+j)\n",
    "    arr.append(ad)\n",
    "print(arr)\n",
    "arr=np.array(arr)\n",
    "\n",
    "arr = arr.reshape((6,6))\n",
    "print(arr[0,2],arr[2,2],arr[5,2])\n",
    "print(arr[[0,1,2,3,4],[1,2,3,4,5]])\n",
    "print(arr[3:,1],arr[3:,2],arr[3:,5])\n",
    "\n",
    "# 선생님\n",
    "print('빨강', arr[[0,2,5],2])\n",
    "print('하늘', arr[3:6][:,[0,2,5]])"
   ]
  },
  {
   "cell_type": "code",
   "execution_count": 82,
   "metadata": {},
   "outputs": [
    {
     "name": "stdout",
     "output_type": "stream",
     "text": [
      "[ 2 12 22 32 42 52]\n",
      "[3 4]\n",
      "[[20 22 24]\n",
      " [40 42 44]]\n",
      "[[44 45]\n",
      " [54 55]]\n"
     ]
    }
   ],
   "source": [
    "print(arr[:,2])\n",
    "print(arr[0,3:5])\n",
    "print(arr[[2,4]][:,[0,2,4]])\n",
    "print(arr[4:][:,[4,5]])"
   ]
  },
  {
   "cell_type": "code",
   "execution_count": 86,
   "metadata": {},
   "outputs": [
    {
     "name": "stdout",
     "output_type": "stream",
     "text": [
      "타일출력\n",
      "[[1 0 1]\n",
      " [1 0 1]\n",
      " [1 0 1]\n",
      " [1 0 1]]\n",
      "[[ 2  2  4]\n",
      " [ 5  5  7]\n",
      " [ 8  8 10]\n",
      " [11 11 13]]\n",
      "[[ 2  2  4]\n",
      " [ 5  5  7]\n",
      " [ 8  8 10]\n",
      " [11 11 13]]\n"
     ]
    },
    {
     "data": {
      "text/plain": [
       "array([[ 4,  5,  6],\n",
       "       [ 7,  8,  9],\n",
       "       [10, 11, 12],\n",
       "       [13, 14, 15]])"
      ]
     },
     "execution_count": 86,
     "metadata": {},
     "output_type": "execute_result"
    }
   ],
   "source": [
    "x = np.array([[1,2,3],[4,5,6],[7,8,9],[10,11,12]]) # 4x3\n",
    "v = np.array([1,0,1])\n",
    "print(\"타일출력\")\n",
    "vv = np.tile(v,(4,1))\n",
    "print(vv)\n",
    "y=x+vv # 4x3 배열연산 -> 요소별 연산\n",
    "print(y)\n",
    "# 배열연산: 양쪽차원이 일치해야함\n",
    "print(x+v) # 4x3, 1x3 broadcasting\n",
    "x+3"
   ]
  },
  {
   "cell_type": "code",
   "execution_count": 95,
   "metadata": {},
   "outputs": [
    {
     "name": "stdout",
     "output_type": "stream",
     "text": [
      "[[0 1]\n",
      " [2 3]\n",
      " [4 5]]\n",
      "[[ 1  3  5]\n",
      " [ 3 13 23]\n",
      " [ 5 23 41]]\n",
      "[[0 2 4]\n",
      " [1 3 5]]\n"
     ]
    }
   ],
   "source": [
    "x = np.arange(6).reshape((3,2))\n",
    "print(x)\n",
    "# 거듭 제곱(행열곱) \n",
    "# x@x 앞의 행렬 열수와 뒤의 행렬의 행수가 일치해야함.\n",
    "print(x@x.T) # 전치행렬\n",
    "print(np.transpose(x))"
   ]
  },
  {
   "cell_type": "code",
   "execution_count": 98,
   "metadata": {},
   "outputs": [
    {
     "name": "stdout",
     "output_type": "stream",
     "text": [
      "[[[ 0  1  2  3]\n",
      "  [ 4  5  6  7]\n",
      "  [ 8  9 10 11]]\n",
      "\n",
      " [[12 13 14 15]\n",
      "  [16 17 18 19]\n",
      "  [20 21 22 23]]]\n",
      "[[[ 0  1  2  3]\n",
      "  [12 13 14 15]]\n",
      "\n",
      " [[ 4  5  6  7]\n",
      "  [16 17 18 19]]\n",
      "\n",
      " [[ 8  9 10 11]\n",
      "  [20 21 22 23]]]\n",
      "[[[ 0  4  8]\n",
      "  [ 1  5  9]\n",
      "  [ 2  6 10]\n",
      "  [ 3  7 11]]\n",
      "\n",
      " [[12 16 20]\n",
      "  [13 17 21]\n",
      "  [14 18 22]\n",
      "  [15 19 23]]]\n"
     ]
    }
   ],
   "source": [
    "arr = np.arange(24).reshape((2,3,4)) # 0,1,2\n",
    "print(arr)\n",
    "print(arr.transpose((1,0,2))) #3x2x4\n",
    "print(arr.transpose((0,2,1))) #2x4x3"
   ]
  },
  {
   "cell_type": "code",
   "execution_count": 102,
   "metadata": {},
   "outputs": [
    {
     "name": "stdout",
     "output_type": "stream",
     "text": [
      "[ True False False False False False False]\n",
      "[[-0.5770152  -0.73551066 -0.92306088 -0.88994105]]\n",
      "[[-0.92306088 -0.88994105]]\n",
      "[-0.88994105]\n",
      "[False  True  True  True  True  True  True]\n",
      "[False  True  True  True  True  True  True]\n",
      "[ True False False False  True False False]\n",
      "[[-0.5770152  -0.73551066 -0.92306088 -0.88994105]\n",
      " [ 0.28153436 -0.56037273 -0.29781179  1.33636802]]\n"
     ]
    }
   ],
   "source": [
    "# Boolean indexing (True/False)\n",
    "names = np.array(['Seoul', 'Daejun','chunju','seoul','chungju','Daejun','Daejun'])\n",
    "data = np.random.randn(7,4)\n",
    "print(names=='Seoul') # 1.0.0.0.0.0.0\n",
    "print(data[names=='Seoul']) # 0번행\n",
    "print(data[names=='Seoul',2:]) # 0번행 2열부터\n",
    "print(data[names=='Seoul',3])\n",
    "\n",
    "print(names!='Seoul') # 0.1.1.1.1.1.1\n",
    "print(~(names=='Seoul')) # ~ 은 부정\n",
    "mask = (names == 'Seoul') | (names=='chungju')\n",
    "print(mask)\n",
    "print(data[mask])"
   ]
  },
  {
   "cell_type": "code",
   "execution_count": 109,
   "metadata": {},
   "outputs": [
    {
     "name": "stdout",
     "output_type": "stream",
     "text": [
      "<zip object at 0x000002065039B648>\n",
      "[(1.1, 2.1, True), (1.2, 2.2, False), (1.3, 2.3, True), (1.4, 2.4, True), (1.5, 2.5, False)]\n",
      " result =  [1.1, 2.2, 1.3, 1.4, 2.5]\n",
      "[1.1 2.2 1.3 1.4 2.5]\n"
     ]
    }
   ],
   "source": [
    "xarr = np.array([1.1,1.2,1.3,1.4,1.5])\n",
    "yarr = np.array([2.1,2.2,2.3,2.4,2.5])\n",
    "cond = np.array([True, False, True, True, False])\n",
    "print(zip(xarr,yarr,cond) ,end = '\\n') # 요소별로 데이터를 묶음\n",
    "print(list(zip(xarr,yarr,cond)),end = '\\n')\n",
    "result = [(x if c else y) for x,y,c in zip(xarr,yarr,cond)] # 3항 연산자\n",
    "print(\" result = \", result)\n",
    "\n",
    "# result 간단하게\n",
    "result = np.where(cond,xarr,yarr)\n",
    "print(result)\n"
   ]
  },
  {
   "cell_type": "code",
   "execution_count": 110,
   "metadata": {},
   "outputs": [
    {
     "name": "stdout",
     "output_type": "stream",
     "text": [
      "[[-1.24425831  1.65072099 -0.10325146  0.35159856]\n",
      " [ 0.42134323 -0.02069573 -0.37630287  0.14439839]\n",
      " [ 0.51393947 -0.23876895  0.99224753  1.50320568]\n",
      " [ 1.89445375 -1.85317612  0.18790338  0.16447006]]\n",
      "[[-2  2 -2  2]\n",
      " [ 2 -2 -2  2]\n",
      " [ 2 -2  2  2]\n",
      " [ 2 -2  2  2]]\n"
     ]
    }
   ],
   "source": [
    "arr = np.random.randn(4,4)\n",
    "print(arr)\n",
    "print(np.where(arr>0,2,-2))"
   ]
  },
  {
   "cell_type": "code",
   "execution_count": 111,
   "metadata": {},
   "outputs": [],
   "source": [
    "# 문제) 다음 데이터를 이용하여 두개다 참일 때는 0, cond1이 참일때는 1, cond2가 참일때는\n",
    "# 2 그외일때는 3으로 처리하여 출력하시오."
   ]
  },
  {
   "cell_type": "code",
   "execution_count": 139,
   "metadata": {},
   "outputs": [
    {
     "name": "stdout",
     "output_type": "stream",
     "text": [
      "조건문 [1, 2, 0, 0, 3, 2, 0]\n",
      "3항연산자 [1 2 0 0 3 2 0]\n",
      "수식을 이용한 [1 2 0 0 3 2 0]\n"
     ]
    }
   ],
   "source": [
    "result= []\n",
    "cond1 = np.array([1,0,1,1,0,0,1], dtype=bool)\n",
    "cond2 = np.array([0,1,1,1,0,1,1], dtype=bool)\n",
    "\n",
    "for i in range(len(cond1)):\n",
    "    if(cond1[i] and cond2[i]):\n",
    "        result.append(0)\n",
    "    elif cond1[i]:\n",
    "        result.append(1)\n",
    "    elif cond2[i]:\n",
    "        result.append(2)\n",
    "    else:\n",
    "        result.append(3)\n",
    "print('조건문', result)\n",
    "result = np.where(cond1 & cond2,0,np.where(cond1,1,np.where(cond2, 2, 3)))\n",
    "print('3항연산자',result)\n",
    "result = 1*(cond1 & ~cond2)+ 2*(cond2&~cond1)+ 3* ~(cond1 | cond2)\n",
    "print('수식을 이용한',result)"
   ]
  },
  {
   "cell_type": "code",
   "execution_count": 146,
   "metadata": {},
   "outputs": [
    {
     "data": {
      "text/plain": [
       "array([10002, 10004, 10006, ..., 29996, 29998, 30000])"
      ]
     },
     "execution_count": 146,
     "metadata": {},
     "output_type": "execute_result"
    }
   ],
   "source": [
    "x = np.arange(1,10001)\n",
    "y = np.arange(10001,20001)\n",
    "\n",
    "z = np.zeros_like(x) # 다른 행렬과 같은 사이즈로 초기화\n",
    "for i in range(10000):\n",
    "    z[i] = x[i] + y[i]\n",
    "z"
   ]
  },
  {
   "cell_type": "code",
   "execution_count": 145,
   "metadata": {},
   "outputs": [
    {
     "name": "stdout",
     "output_type": "stream",
     "text": [
      "False\n",
      "True\n",
      "[ 2.71828183  7.3890561  20.08553692 54.59815003]\n"
     ]
    }
   ],
   "source": [
    "# 지수함수 : exp\n",
    "a = np.array([1,2,3,4])\n",
    "b = np.array([4,2,2,4])\n",
    "print(np.all(a==b)) # 전체가 참일때 참\n",
    "print(np.any(a==b)) # 하나라도 참이면 참\n",
    "print(np.exp(a)) # 지수함수 (자연대수 : 2.718 )"
   ]
  },
  {
   "cell_type": "code",
   "execution_count": 147,
   "metadata": {},
   "outputs": [],
   "source": [
    "# 선형 대수 : 선형으로 해결하자. -> 비선형도 잘게 나누면 선형"
   ]
  },
  {
   "cell_type": "markdown",
   "metadata": {},
   "source": [
    "# 행렬의 종류 :\n",
    "- 정방행렬 : 정사각형 (행과 열수가 같은 행렬)\n",
    "- 대칭행렬 : 우상단과 좌하단 같은 것\n",
    "- 대각행렬 : scale을 변화시키는 요소\n",
    "- 단위행렬(identity) : 행렬곱의 항등원, 행렬과 역행렬을 곱하면 단위행렬\n",
    "- 역행렬 : 행렬의 나눗셈을 위해 구해서 곱해지는 행렬 (정방행렬만 가능)\n",
    "- 특이행렬 : 역행렬이 없는 행렬\n",
    "- 직교행렬 : 축의 정직교, 각축간의 내적이 0인 행렬\n",
    "- 정방행렬이면서 대칭행렬 : 공분산행렬, 상관계수 행렬, 거리행렬\n",
    "- 공분산 : 두수간의 관계  ((한수-평균)*(다른수-평균))/(n-1)\n",
    "- 상관계수(표준화 -1~1) : 공분산 / 표준편차의 곱"
   ]
  },
  {
   "cell_type": "code",
   "execution_count": 189,
   "metadata": {},
   "outputs": [
    {
     "name": "stdout",
     "output_type": "stream",
     "text": [
      "[[1 2]\n",
      " [3 4]]\n",
      "[[2 3]\n",
      " [4 5]]\n",
      "[[3 5]\n",
      " [7 9]]\n",
      "[[ 2  6]\n",
      " [12 20]]\n",
      "[[10 13]\n",
      " [22 29]]\n"
     ]
    }
   ],
   "source": [
    "import numpy as np\n",
    "F1 = np.array([[1,2],[3,4]])\n",
    "F2 = np.array([[2,3],[4,5]])\n",
    "print(F1)\n",
    "print(F2)\n",
    "print(F1+F2) # 요소끼리\n",
    "print(F1*F2) # 요소끼리\n",
    "print(F1@F2) # \n",
    "# 1,2  2,2,1     행열곱도 내적  6,6 두 벡터의 사이각을 구해   \n",
    "# 3,4  2,2,1                  14,14    차원확장\n",
    "# 100개에서 2개로 차원축소하는건 데이터 손실이 큼\n",
    "# 100개에서 50개로 그다음에 2개로 이런식으로 하는것이 효율적 이게 딥러닝."
   ]
  },
  {
   "cell_type": "code",
   "execution_count": 161,
   "metadata": {},
   "outputs": [],
   "source": [
    "# 2 x 1 + x 2 -2 x 3 = -3\n",
    "# 3 x 1 + 2 x 3 = 5\n",
    "# x 1 + x 2 - x 3 =-2"
   ]
  },
  {
   "cell_type": "code",
   "execution_count": 169,
   "metadata": {},
   "outputs": [
    {
     "name": "stdout",
     "output_type": "stream",
     "text": [
      "[[ 2  1 -2]\n",
      " [ 3  0  1]\n",
      " [ 1  1 -1]]\n",
      "[[-3]\n",
      " [ 5]\n",
      " [-2]]\n",
      "[[ 1.]\n",
      " [-1.]\n",
      " [ 2.]]\n"
     ]
    }
   ],
   "source": [
    "A = np.array([[2,1,-2],[3,0,1],[1,1,-1]])\n",
    "print(A)\n",
    "b = np.transpose(np.array([[-3,5,-2]])) # 열로 전치\n",
    "print(b)\n",
    "x = np.linalg.solve(A,b) # A의 역행렬을 구해서 b와 곱해줌\n",
    "print(x)"
   ]
  },
  {
   "cell_type": "code",
   "execution_count": 170,
   "metadata": {},
   "outputs": [
    {
     "data": {
      "text/plain": [
       "array([[ 1.],\n",
       "       [-1.],\n",
       "       [ 2.]])"
      ]
     },
     "execution_count": 170,
     "metadata": {},
     "output_type": "execute_result"
    }
   ],
   "source": [
    "np.dot(np.linalg.inv(A),b) # 행렬곱"
   ]
  },
  {
   "cell_type": "code",
   "execution_count": 171,
   "metadata": {},
   "outputs": [
    {
     "data": {
      "text/plain": [
       "array([[ 1.],\n",
       "       [-1.],\n",
       "       [ 2.]])"
      ]
     },
     "execution_count": 171,
     "metadata": {},
     "output_type": "execute_result"
    }
   ],
   "source": [
    "np.linalg.inv(A)@b # 왜 역행렬을 구해야 하는가? 행렬은 나눗셈이 없어서 역행렬을 곱해서"
   ]
  },
  {
   "cell_type": "code",
   "execution_count": 172,
   "metadata": {},
   "outputs": [
    {
     "data": {
      "text/plain": [
       "-3"
      ]
     },
     "execution_count": 172,
     "metadata": {},
     "output_type": "execute_result"
    }
   ],
   "source": [
    "2*1 + (-1) -2 *2"
   ]
  },
  {
   "cell_type": "code",
   "execution_count": 174,
   "metadata": {},
   "outputs": [
    {
     "name": "stdout",
     "output_type": "stream",
     "text": [
      "0\n"
     ]
    }
   ],
   "source": [
    "a = np.array([0,1,0]) # y축\n",
    "b = np.array([1,0,0]) # x축\n",
    "res=np.dot(a,b) # 내적 사이각이 0이면 = 직각\n",
    "print(res)"
   ]
  },
  {
   "cell_type": "code",
   "execution_count": 176,
   "metadata": {},
   "outputs": [
    {
     "name": "stdout",
     "output_type": "stream",
     "text": [
      "1.0\n",
      "1.0\n",
      "1.0\n",
      "cos theta 0.0\n",
      "1.5707963267948966\n",
      "90.0\n"
     ]
    }
   ],
   "source": [
    "print(np.linalg.norm(a)) # 벡터의 크기값\n",
    "print(np.linalg.norm(b)) # 벡터의 크기값\n",
    "print(np.linalg.norm(a) * np.linalg.norm(b))\n",
    "rad = res/(np.linalg.norm(a) * np.linalg.norm(b)) # cos(theta)\n",
    "print(\"cos theta\", rad)\n",
    "print(np.arccos(rad)) # theta 값을 구함\n",
    "print(np.degrees(np.arccos(rad))) # degrees를 이용하면 사람이 보는 각도가 나옴."
   ]
  },
  {
   "cell_type": "code",
   "execution_count": 178,
   "metadata": {},
   "outputs": [
    {
     "name": "stdout",
     "output_type": "stream",
     "text": [
      "[[1 2]\n",
      " [3 4]]\n",
      "[[-2.   1. ]\n",
      " [ 1.5 -0.5]]\n",
      "[[1.00000000e+00 1.11022302e-16]\n",
      " [0.00000000e+00 1.00000000e+00]]\n"
     ]
    }
   ],
   "source": [
    "x = np.array([[1,2],[3,4]])\n",
    "y = np.linalg.inv(x)\n",
    "print(x)\n",
    "print(y)\n",
    "print(np.dot(x,y))"
   ]
  },
  {
   "cell_type": "markdown",
   "metadata": {},
   "source": [
    "# 다음 방정식의 해를 구하고 검산하시오\n",
    "\n",
    "x + y + z = 6\n",
    "2y + 5z = -4\n",
    "2x + 5y - z = 27\n",
    "\n",
    "\n",
    "\n"
   ]
  },
  {
   "cell_type": "code",
   "execution_count": 185,
   "metadata": {},
   "outputs": [
    {
     "name": "stdout",
     "output_type": "stream",
     "text": [
      "[[ 6]\n",
      " [-4]\n",
      " [27]]\n"
     ]
    }
   ],
   "source": [
    "A = np.array([[1,1,1],[0,2,5],[2,5,-1]])\n",
    "b = np.transpose(np.array([[6,-4,27]]))\n",
    "print(b)"
   ]
  },
  {
   "cell_type": "code",
   "execution_count": 187,
   "metadata": {},
   "outputs": [
    {
     "name": "stdout",
     "output_type": "stream",
     "text": [
      "[[ 5.]\n",
      " [ 3.]\n",
      " [-2.]]\n"
     ]
    }
   ],
   "source": [
    "# linalg : 리니어 알제브라 (선형대수)\n",
    "# inv : invers matrix\n",
    "result = np.linalg.inv(A)@b\n",
    "print(result)"
   ]
  },
  {
   "cell_type": "code",
   "execution_count": 188,
   "metadata": {},
   "outputs": [
    {
     "data": {
      "text/plain": [
       "6"
      ]
     },
     "execution_count": 188,
     "metadata": {},
     "output_type": "execute_result"
    }
   ],
   "source": [
    "5+3-2"
   ]
  }
 ],
 "metadata": {
  "kernelspec": {
   "display_name": "Python 3",
   "language": "python",
   "name": "python3"
  },
  "language_info": {
   "codemirror_mode": {
    "name": "ipython",
    "version": 3
   },
   "file_extension": ".py",
   "mimetype": "text/x-python",
   "name": "python",
   "nbconvert_exporter": "python",
   "pygments_lexer": "ipython3",
   "version": "3.7.4"
  }
 },
 "nbformat": 4,
 "nbformat_minor": 4
}
