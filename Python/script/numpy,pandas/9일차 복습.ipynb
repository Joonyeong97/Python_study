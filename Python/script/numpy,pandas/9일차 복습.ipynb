{
 "cells": [
  {
   "cell_type": "code",
   "execution_count": null,
   "metadata": {},
   "outputs": [],
   "source": [
    "np.arange(start,last, step)\n",
    "np.cov() 공분산\n",
    "np.corrcoef(대푯값) 상관계수 **\n",
    "np.average(array,weights=array2) 두개의 array의 평균을 구해줌\n",
    "np.sqrt() / root\n",
    "np.var(array) 분산\n",
    "np.std(array) 표준편차\n",
    "np.exp() 지수함수\n",
    "np.linspace() ..?\n",
    "np.cos() cosin\n",
    "np.sin() sin\n",
    "np.meshgrid() 이해안감 \n",
    "\n",
    "\n",
    "0이면 행 1이면 열 / array는 넘파이로 어레이 선언한거임.\n",
    "array.cumsum(0) 누적합 (행)\n",
    "array.cumprod(1) 누적곱 (열)\n",
    "array.sum() 합계\n",
    "array.mean() 평균\n",
    "array.mean(axis=1) 행으로 정렬ㅋㅋ\n",
    "array.average() "
   ]
  },
  {
   "cell_type": "code",
   "execution_count": null,
   "metadata": {},
   "outputs": [],
   "source": [
    "from numpy.random import randn\n",
    "랜덤함수 호출\n",
    "\n",
    "from numpy.random import seed\n",
    "의사난수 (데이터 출력순서)\n",
    "\n",
    "\n",
    "\n",
    "randn(*)  랜덤수 출력\n",
    "np.random.normal(0,3,(100,3)) # 평균이 0, 표준편차:3, 100*3 데이터 생성"
   ]
  },
  {
   "cell_type": "code",
   "execution_count": null,
   "metadata": {},
   "outputs": [],
   "source": [
    "from matplotlib.pyplot as plt\n",
    "%matplotlib inline # 초장에 입력 ㅋㅋ\n",
    "\n",
    "plt.sacatter()  산포도 출력\n",
    "plt.show()  표출력 **\n",
    "\n",
    "print(plt.style.available) 스타일종류 확인\n",
    "plt.style.use(['style']) 표 스타일 선정\n",
    "plt.figure(figsize=(12,4))  모양을 결정 및 사이즈선정\n",
    "plt.legend()  범례\n",
    "plt.grid()  격자선\n",
    "plt.title(\"plot\")  타이틀\n",
    "plt.xlabel(' ') x Label\n",
    "plt.ylabel(' \") y Label\n",
    "\n",
    "\n",
    "표 여러개 표시\n",
    "subplot은 도화지임.\n",
    "fig = plt.figure()\n",
    "ax1 = fig.add_subplot(2,1,1) # 2행 1열\n",
    "ax2 = fig.add_subplot(2,1,2) # \n",
    "ax1.plot(x,y) 시계열\n",
    "ax2.bar(x,y) 막대그래프\n",
    "ax2.barh() 가로로 막대\n",
    "ax2.axvline() zoom 같은 느낌임\n",
    "ax2.axhline() 위에랑똑같\n",
    "\n",
    "ax1.set_title('boxplot') 박스플롯 제목\n",
    "ax1.boxplot(data) 박스플롯생성\n",
    "\n",
    "plt.imshow(z,cmap=plt.cm.rainbow) 데이터를 이미지로 표현\n",
    "plt.title(\"$\\sqrt{x^2+y^2}$\") # latex 문법"
   ]
  },
  {
   "cell_type": "code",
   "execution_count": null,
   "metadata": {},
   "outputs": [],
   "source": [
    "pandas : Series, DataFreme, Panel\n",
    "numpy 방식의 인덱싱이 가능, + dict(중복을 허용, 순서를보장)\n",
    "import pandas as pd\n",
    "data = {'a':0.,\n",
    "        'b':1.,\n",
    "        'c':2.}\n",
    "\n",
    "pd.isnull() 널값이있냐?\n",
    "pd.notnull() 널이 아닌걸 찾아\n",
    "\n",
    "\n",
    "dt = pd.Series() 1차원으로 작성\n",
    "dt = pd.DataFrame({'키값':data', '키값':data'},columns =['열이름']\n",
    ",index=['행이름']) 2차원으로 작성\n",
    "이런식으로 pd작성\n",
    "\n",
    "\n",
    "dt.values 키값만 표시 Series\n",
    "dt.index 데이터값만 표시 Series\n",
    "dt.index.values 인덱스의 값만표시 Series\n",
    "dt.head() head or tail\n",
    "dt.value_counts() 도수 분포표\n",
    "dt.describe(include=['object']) count , unique, top, freq 네개 표시.\n",
    "dt.describe() count, mean, std, min, 25~75%, max 나옴 ㅋㅋ\n",
    "dt.dtype() 데이터 타입확인\n",
    "dt.ndim() 차원\n",
    "dt.shape() 행열 갯수 파악\n",
    "dt.str.count('a') 시리즈안에 어떤거에 몇개들었는지 파악 \n",
    "dt.plot.kde() 곡선으로 plot 표현\n",
    "\n",
    "\n",
    "데이터프레임 값중에서 전체데이터를 변경하려면\n",
    "그냥 숫자를 대입하면 들어감\n",
    "각개로 넣을라고하면\n",
    "\n",
    "Series 한개만든뒤\n",
    "Index값(행이름)을 정확하게 해서 넣어줘야 값이 들어감.! 중요!\n"
   ]
  },
  {
   "cell_type": "code",
   "execution_count": null,
   "metadata": {},
   "outputs": [],
   "source": [
    "dataframe !!\n",
    "\n",
    "df[df['열이름'].isin(['밸류값','밸류값2'])] # 필터링함수\n",
    "\n",
    "iloc는 위치 즉 숫자로찾고\n",
    "data.iloc[:3,:2] # 3행 2열 표시\n",
    "loc는 라벨 즉 문자로찾는다\n",
    "대신 행자리에 dates[] 를 넣으면 숫자로 찾을수있음!\n",
    "data.loc[:'행이름',:'열이름'] # 행열 표시해줌 ㅋㅋ\n",
    "\n",
    "data.dropna(how='any') # 결측치 모두 날려버리기\n",
    "data.fillna(value=5) # 결측치 5로 채우기\n",
    "pd.isna(data) # nan 값 확인"
   ]
  },
  {
   "cell_type": "code",
   "execution_count": 9,
   "metadata": {},
   "outputs": [
    {
     "name": "stdout",
     "output_type": "stream",
     "text": [
      "1578407400.116588\n",
      "time.struct_time(tm_year=2020, tm_mon=1, tm_mday=7, tm_hour=23, tm_min=30, tm_sec=0, tm_wday=1, tm_yday=7, tm_isdst=0)\n",
      "time.struct_time(tm_year=2020, tm_mon=1, tm_mday=6, tm_hour=23, tm_min=30, tm_sec=0, tm_wday=0, tm_yday=6, tm_isdst=0)\n"
     ]
    },
    {
     "data": {
      "text/plain": [
       "'2020 01 07'"
      ]
     },
     "execution_count": 9,
     "metadata": {},
     "output_type": "execute_result"
    }
   ],
   "source": [
    "import time\n",
    "print(time.time()) # 밀리초로 표현\n",
    "print(time.localtime()) # 년월일 시분초\n",
    "yesterday = time.localtime(time.time()-60*60*24) # 시간연산\n",
    "yesterday\n",
    "print(yesterday)\n",
    "time.strftime('%Y %m %d') # 시간을 문자열로 변경해서 출력"
   ]
  },
  {
   "cell_type": "markdown",
   "metadata": {},
   "source": [
    "from mpl_toolkits.mplot3d import Axes3D\n",
    "3D 출력\n"
   ]
  },
  {
   "cell_type": "code",
   "execution_count": null,
   "metadata": {},
   "outputs": [],
   "source": [
    "from mpl_toolkits.mplot3d import Axes3D\n",
    "fig = plt.figure()\n",
    "ax = Axes3D(fig)\n",
    "X = np.arange(-4,4,0.25) #0,0\n",
    "Y = np.arange(-4,4,0.25)\n",
    "X,Y = np.meshgrid(X,Y) # 좌표점 -4,-3.75,3.5\n",
    "R = np.sqrt(X**2 + Y**2) # 거리값\n",
    "# Z = R\n",
    "Z = np.sin(R)\n",
    "ax.plot_surface(X,Y,Z,rstride=1, cstride=1,cmap='hot')\n",
    "plt.show()\n",
    "ax.plot_surface(X,Y,Z,rstride=1, cstride=1, cmap=plt.cm.rainbow)\n",
    "plt.show()"
   ]
  },
  {
   "cell_type": "markdown",
   "metadata": {},
   "source": [
    "FONT 설정"
   ]
  },
  {
   "cell_type": "code",
   "execution_count": null,
   "metadata": {},
   "outputs": [],
   "source": [
    "%matplotlib inline\n",
    "from matplotlib import font_manager,rc\n",
    "import matplotlib\n",
    "import matplotlib.pyplot as plt\n",
    "plt.style.use(['classic'])\n",
    "font_path = \"C:/Windows/Fonts/H2GTRM.TTF\" # 윈도우 모든폰트있는곳\n",
    "font_name = font_manager.FontProperties(fname=font_path).get_name() # 폰트 이름 획득\n",
    "# resource configuration 폰트이름\n",
    "matplotlib.rc('font',family=font_name)\n",
    "plt.plot([1,2,3,4])\n",
    "plt.xlabel(\"시간\")\n",
    "plt.ylabel(\"거리\")\n",
    "plt.show()"
   ]
  },
  {
   "cell_type": "code",
   "execution_count": null,
   "metadata": {},
   "outputs": [],
   "source": [
    "import matplotlib.font_manager as fm\n",
    "path = 'C:\\\\Windows\\\\Fonts\\\\NanumBarunGothic.ttf'\n",
    "fontprop = fm.FontProperties(fname=path, size = 18)\n",
    "data = np.random.randint(-100,100,50).cumsum()# 누적합계\n",
    "data\n",
    "plt.plot(range(50), data , 'r')\n",
    "plt.title('가격변동 추이', fontproperties=fontprop)\n",
    "plt.ylabel('가격', fontproperties=fontprop)\n",
    "plt.show()"
   ]
  },
  {
   "cell_type": "markdown",
   "metadata": {},
   "source": [
    "# 지리정보 시스템\n",
    "folium.Marker([경도,위도],popup='이름' ,icon=folium.Icon(icon='cloud')).add_to(map_1)\n",
    "add_to() 이건 전체 지도 표시\n",
    "\n",
    "map_1 = folium.Map(location=[37.565711,126.978090],\n",
    "                  zoom_start=11 )"
   ]
  },
  {
   "cell_type": "code",
   "execution_count": null,
   "metadata": {},
   "outputs": [],
   "source": [
    "import folium\n",
    "map_1 = folium.Map(location=[37.565711,126.978090],\n",
    "                  zoom_start=16 )#,\n",
    "                 # tiles='Stamen Terrain')\n",
    "folium.Marker([37.565711,126.978090], popup='서울시청').add_to(map_1)\n",
    "folium.Marker([37.565711,126.978190], popup='서울시청및',icon=folium.Icon(icon='cloud')).add_to(map_1)\n",
    "map_1"
   ]
  },
  {
   "cell_type": "code",
   "execution_count": null,
   "metadata": {},
   "outputs": [],
   "source": [
    "import folium\n",
    "map_1 = folium.Map(location=[37.565711,126.978090],\n",
    "                  zoom_start=11 )#,\n",
    "                 # tiles='Stamen Terrain')\n",
    "folium.Marker([37.5597782,126.9454401], popup='이화여자대학교',icon=folium.Icon(icon='cloud')).add_to(map_1)\n",
    "folium.Marker([37.5648485,126.9623261], popup='경기대학교',icon=folium.Icon(icon='cloud')).add_to(map_1)\n",
    "folium.Marker([37.4598862,126.9497166], popup='서울대학교',icon=folium.Icon(icon='cloud')).add_to(map_1)\n",
    "folium.Marker([37.5572218,127.0452411], popup='한양대학교',icon=folium.Icon(icon='cloud')).add_to(map_1)\n",
    "folium.Marker([37.5838942,127.0586776], popup='서울시립대학교',icon=folium.Icon(icon='cloud')).add_to(map_1)\n",
    "\n",
    "folium.Marker([37.5908153,127.0277157], popup='고려대학교',icon=folium.Icon(icon='cloud')).add_to(map_1)\n",
    "folium.Marker([37.5658407,126.9384379], popup='연세대학교',icon=folium.Icon(icon='cloud')).add_to(map_1)\n",
    "folium.Marker([37.6119802,126.997623], popup='국민대학교',icon=folium.Icon(icon='cloud')).add_to(map_1)\n",
    "folium.Marker([37.6148588,127.0130941], popup='서경대학교',icon=folium.Icon(icon='cloud')).add_to(map_1)\n",
    "folium.Marker([37.6314859,127.0772556], popup='서울과학기술대학교',icon=folium.Icon(icon='cloud')).add_to(map_1)\n",
    "map_1"
   ]
  }
 ],
 "metadata": {
  "kernelspec": {
   "display_name": "Python 3",
   "language": "python",
   "name": "python3"
  },
  "language_info": {
   "codemirror_mode": {
    "name": "ipython",
    "version": 3
   },
   "file_extension": ".py",
   "mimetype": "text/x-python",
   "name": "python",
   "nbconvert_exporter": "python",
   "pygments_lexer": "ipython3",
   "version": "3.7.4"
  }
 },
 "nbformat": 4,
 "nbformat_minor": 4
}
