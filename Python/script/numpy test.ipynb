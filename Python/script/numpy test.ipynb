{
 "cells": [
  {
   "cell_type": "markdown",
   "metadata": {},
   "source": [
    "출처:\n",
    "https://nittaku.tistory.com/109?category=725162"
   ]
  },
  {
   "cell_type": "markdown",
   "metadata": {},
   "source": [
    " np.loadtxt( “ 파일경로”, 파일에서 사용한 구분자,  데이터타입 지정)를 이용해서 파일을 읽어와, data 변수에 array로 넣어준다.\n",
    "파일 경로는 .ipynb 파일을 만들어서 사용하는 폴더( c:\\user\\cho\\python_da\\)까지는 자동인식이 된다.\n",
    "우리는 노트북home폴더 이후에 “data폴더 / 파일경로”를 지정해주면된다.\n",
    "나는 홈화면에서 파일을 타고 들어간 다음 구분자까지 확인한 후, 노트북파일이 열린 python_da/ 뒤로부터 복사하였다\n",
    "데이터타입은 np.int64를 사용해 정수만 불러오자.(파일 불러오는 동안 in [ 출력번호 ] 가 * 로 표시되다가 완료되면 숫자로 바뀐다.)\n",
    "data = np.loadtxt(\"data/movielens-1m/ratings.dat\", delimiter = \"::\", dtype = np.int64)"
   ]
  },
  {
   "cell_type": "code",
   "execution_count": 2,
   "metadata": {},
   "outputs": [],
   "source": [
    "import numpy as np\n",
    "data = np.loadtxt(\"C:/Users/82105/Desktop/bigdata analysis/lyt09_python/lytPython/Python/numpy/movielens-1m/movielens-1m/ratings.dat\", delimiter = \"::\",dtype = np.int64)"
   ]
  },
  {
   "cell_type": "markdown",
   "metadata": {},
   "source": [
    "데이터셋을 다루는 좋은 습관은, 들고 있는 데이터의 앞 몇개를 매 작업마다 살펴보는 것과 array의 shape를 관찰하는 것이다.\n",
    "*** numpy없이 list만 있으면, 행렬의 개념이 적용안되면서 shape확인도 안된다. array로 데이터를 관리해야한다.\n",
    "(1) 먼저  [ 처음부터 5행까지, 전체열]을 살펴보기 위해, data[ :5, :] 를 입력해서 읽어온 데이터의 앞 5행만 살펴보자."
   ]
  },
  {
   "cell_type": "code",
   "execution_count": 5,
   "metadata": {},
   "outputs": [
    {
     "data": {
      "text/plain": [
       "array([[        1,      1193,         5, 978300760],\n",
       "       [        1,       661,         3, 978302109],\n",
       "       [        1,       914,         3, 978301968],\n",
       "       [        1,      3408,         4, 978300275],\n",
       "       [        1,      2355,         5, 978824291]], dtype=int64)"
      ]
     },
     "execution_count": 5,
     "metadata": {},
     "output_type": "execute_result"
    }
   ],
   "source": [
    "data[:5,:]"
   ]
  },
  {
   "cell_type": "markdown",
   "metadata": {},
   "source": [
    "# (2) shape도 살펴보자. ( 행, 렬)이 나타난다. 만약 1차원배열이면,,, 열만 나타난다"
   ]
  },
  {
   "cell_type": "code",
   "execution_count": 6,
   "metadata": {},
   "outputs": [
    {
     "data": {
      "text/plain": [
       "(1000209, 4)"
      ]
     },
     "execution_count": 6,
     "metadata": {},
     "output_type": "execute_result"
    }
   ],
   "source": [
    "data.shape"
   ]
  },
  {
   "cell_type": "markdown",
   "metadata": {},
   "source": [
    "전체 평점의 평균을 계산 (인덱싱 한 array. 평균함수)\n",
    "\n",
    "평점은 index 2번에 위치한 데이터들이다. 인덱싱을 통해 3열만 선택한 뒤\n",
    "array.mean()함수로 평균평점을 계산해야한다. data[:,2].mean()\n",
    "만약 파이썬만 사용했다면, 매 행에서 평점 열을 뽑아내서 array에 더하고, 전체 갯수로 나누는 작업을 해야하지만\n",
    "넘파이를 이용하면, 뽑아내는 과정없이, 인덱싱 한 뒤 mean()함수로 손쉽게구할 수 있다."
   ]
  },
  {
   "cell_type": "code",
   "execution_count": 7,
   "metadata": {},
   "outputs": [],
   "source": [
    "mean_rating_total=data[:,2].mean()"
   ]
  },
  {
   "cell_type": "code",
   "execution_count": 9,
   "metadata": {},
   "outputs": [
    {
     "data": {
      "text/plain": [
       "3.581564453029317"
      ]
     },
     "execution_count": 9,
     "metadata": {},
     "output_type": "execute_result"
    }
   ],
   "source": [
    "mean_rating_total"
   ]
  },
  {
   "cell_type": "code",
   "execution_count": 15,
   "metadata": {},
   "outputs": [
    {
     "data": {
      "text/plain": [
       "(6040,)"
      ]
     },
     "execution_count": 15,
     "metadata": {},
     "output_type": "execute_result"
    }
   ],
   "source": [
    "user_ids.shape\n"
   ]
  },
  {
   "cell_type": "markdown",
   "metadata": {},
   "source": [
    "6강때 학습한 것 처럼\n",
    "[1] 전체데이터 중 기준으로 삼을 열만 인덱싱하여 전체 데이터에 대한 전체기준열array로 삼을 것이다.\n",
    "[2] 기준으로 삼은 열에서unique(arr)함수로 중복없는 기준열array를 만들어 array변수에 따로 담아놓자.\n",
    "    바로 만들 수 있다.\n",
    "[3]  전체 기준열array == 중복없는 기준열array 中 특정성분 을 조건문으로 하여 마스크룰 만든다.\n",
    "[4] 그 마스크를 전체데이터의 행의 index에 집어 넣으면, 전제기준열에서 특정성분을 가진 행만을 뽑아 낼 수 있다.\n",
    "   열의 index에 넣으면 원하는 열만 뽑아낼 수 있다."
   ]
  },
  {
   "cell_type": "markdown",
   "metadata": {},
   "source": [
    "먼저 전체데이터에서 기준으로으로 삼을 각 사용자를 의미하는 1열을 인덱싱하여 전체기준열array[1]를 만들고 ,\n",
    "중복없는 기준array[2]를 따로 만들자. np.unique( arr )함수로 unique한(중복되지 않은) 사용자id의 종류를 뽑아내야한다."
   ]
  },
  {
   "cell_type": "code",
   "execution_count": 13,
   "metadata": {},
   "outputs": [
    {
     "name": "stdout",
     "output_type": "stream",
     "text": [
      "[   1    2    3 ... 6038 6039 6040]\n",
      "[1 2 3 4 5]\n"
     ]
    }
   ],
   "source": [
    "user_ids= np.unique(data[:,0])\n",
    "print(user_ids)\n",
    "print(user_ids[:5])\n"
   ]
  },
  {
   "cell_type": "markdown",
   "metadata": {},
   "source": [
    "어떤 array를 뽑아냈다면, 위에서 말한 것처럼, 앞에 몇개 + shape를 통한 행x열 (1차원이면 열만)을 확인하자\n",
    "shape를 통해, 1차원배열으로, 중복없는 기준열인 user_ids는 1부터, 6040 개의 열을 가진다\n",
    "cf) 앞에 몇개만 확인할 경우, 1차원이면 [ :5] - 5개의 열 확인 / 2차원이면 [:5, :] – 5개의 행 확인 이다.\n",
    "제일 앞 인덱스에다가 볼 열 / 행 / .. 을 개수를 지정하자."
   ]
  },
  {
   "cell_type": "markdown",
   "metadata": {},
   "source": [
    "전체 기준 열[1] ==  중복없는 기준열[2] 中 원하는 조건 을 통해 마스크[3]를 만들고,\n",
    "행index에 집어넣어서, 조건을 만족하는 행만 뽑아낼 것이다.( 사용자id를 가진 행만 뽑아내서 받아준다)\n",
    "이 때, 원하는 조건성분이 for문을 통해서 user_ids에 있는 것이 하나씩 입력되는 user_id가 원하는 조건이다.\n",
    "(0) 먼저, for문을 돌면서 append()함수를 사용해서 데이터를 받아줄 list = []를 하나 만들어줘야한다.\n",
    "    mean_rating_by_user_list는 기준인 user_id와 각 사용자의 평점들을 평균낸 값을 받아줄 것이다.\n",
    "(1) 마스크를 만든다( 전체기준열 == 중복없는기준열 中 원하는조건)\n",
    "     data[:, 0] == user_id\n",
    "(2) 마스크를 전체데이터의 행index에 집어넣어서, 기준을 만족하는 행들만 받아오는 data_for_user 에 넣자.\n",
    "     data_for_user = data [ data[:, 0] == user_id, :\n"
   ]
  },
  {
   "cell_type": "markdown",
   "metadata": {},
   "source": [
    "원하는 행들만 모여있는 data_for_user에서, 평점을 의미하는 3열만 인덱싱한 뒤 그 array에 대해 array.mean()으로 평균을 구하여 mean_rating_for_user에 담자. 현재의 조건인 user_id에 대한 행들의 평점array를 평균낸 값이 저장된다.\n",
    "mean_rating_for_user = data_for_user[ : , 2 ].mean();"
   ]
  },
  {
   "cell_type": "markdown",
   "metadata": {},
   "source": [
    "마지막으로, 첫번 째 코드인 mean_rating_by_user_list라는 빈 리스트[ , , , , ]에다가\n",
    "넣을 list변수.append(  [ 리스트, 성분  ] )를 통해\n",
    "해당 user_id와 함께 해당 user_id에 대한 평점들의 평균(data_for_user)을 같이 담을 것이다.\n",
    "    mean_rating_by_user_list.append ( [user_id , mean_rating_for_user ] )"
   ]
  },
  {
   "cell_type": "code",
   "execution_count": 17,
   "metadata": {},
   "outputs": [],
   "source": [
    "mean_rating_by_user_list = []\n",
    "for user_id in user_ids :\n",
    "    data_for_user = data[data[:,0] == user_id,:]\n",
    "    mean_rating_for_user = data_for_user[:2].mean();\n",
    "    mean_rating_by_user_list.append([user_id,mean_rating_for_user])"
   ]
  },
  {
   "cell_type": "markdown",
   "metadata": {},
   "source": [
    "FOR문을 돌면서, 각 사용자들(user_ids)에 대한 평균평점들이 처음에 만들어놓은 리스트에 담길 것이다.\n",
    "이 때, array가 아닌 []리스트 성분으로 [ 사용자id,  평점평균 ]을 담았기 때문에  1차원 array이다.\n",
    "인덱싱으로 5개만 확인하고 싶으면 열으로 확인해야한다.\n",
    "cf) array (  [ [리, 스, 트1] ,\n",
    "                [리, 스, 트2] ] ) ==> array 만 M X N 행렬이 적용되는 것이다.\n",
    "    list[  [ 리스트, 성분] ,\n",
    "          [ 리스트, 성분 ] ] ==> list는 1차원으로서, 인덱스에서는 열만 적용된다. + shape도 적용 안된다.\n"
   ]
  },
  {
   "cell_type": "markdown",
   "metadata": {},
   "source": [
    "append()를 사용해야하므로, 2차원처럼 생긴 2개의 정보를 담아 리스트로 받았다. 하지만 리스트는 행렬의 개념이 아니므로\n",
    "데이터관리에 유용하도록 이 2차원처럼 생긴 리스트를 np.array( list , 타입)을 이용해 array에 집어넣을 것이다.\n",
    "( numpy를 이용해서    리스트 –> array로 바꿔서 데이터를 관리하자!  np.array ( 리스트변수 ) or ( [리스트, 성분] )\n",
    "그러면 인덱스에 [행, 렬] 개념 및 shape을 적용할 수 있다.  데이터타입은 실수형으로 만들어준다.\n",
    "mean_rating_by_user_array = np.array( mean_rating_by_user_list , np.float32)\n",
    "만약 인덱스를 하나만 넣는다면, [행]으로 간주된다. 2차원 행렬에서는 [ :5 ] 와 [ :5, : ] 가 동일하다. shape도 확인해준다."
   ]
  },
  {
   "cell_type": "code",
   "execution_count": 18,
   "metadata": {},
   "outputs": [
    {
     "data": {
      "text/plain": [
       "[[1, 244575591.625],\n",
       " [2, 244575268.375],\n",
       " [3, 244575206.375],\n",
       " [4, 244574078.25],\n",
       " [5, 244561389.375]]"
      ]
     },
     "execution_count": 18,
     "metadata": {},
     "output_type": "execute_result"
    }
   ],
   "source": [
    "mean_rating_by_user_list[:5]"
   ]
  },
  {
   "cell_type": "code",
   "execution_count": 19,
   "metadata": {},
   "outputs": [],
   "source": [
    "mean_rating_by_user_array = np.array( mean_rating_by_user_list , np.float32)"
   ]
  },
  {
   "cell_type": "code",
   "execution_count": 21,
   "metadata": {},
   "outputs": [
    {
     "data": {
      "text/plain": [
       "array([[1.0000000e+00, 2.4457558e+08],\n",
       "       [2.0000000e+00, 2.4457526e+08],\n",
       "       [3.0000000e+00, 2.4457520e+08],\n",
       "       [4.0000000e+00, 2.4457408e+08],\n",
       "       [5.0000000e+00, 2.4456139e+08]], dtype=float32)"
      ]
     },
     "execution_count": 21,
     "metadata": {},
     "output_type": "execute_result"
    }
   ],
   "source": [
    "mean_rating_by_user_array[:5,:]"
   ]
  },
  {
   "cell_type": "markdown",
   "metadata": {},
   "source": [
    " 이제 사용자별 평점평균을 표시하는 array를 ---> 외부파일로 쓰는 작업을 해보   자. np.savetxt()메소드를 이용할 것이다.\n",
    "  np.savetxt( “ 파일명”,  해당 array 변수 ,  파이썬포맷, 구분자)를 이용해서    파일로  내보내기(쓰기)를 할 수 있다.\n",
    " np.savetxt(\"mean_rating_by_user.csv\", mean_rating_by_user_array,          fmt='%.3f', delimiter=',')\n",
    " 이 때, 파일경로는 해당notebook이 있는 위치폴더(python_da)가 루트다. 노트북 들과 함께 저장된다."
   ]
  },
  {
   "cell_type": "code",
   "execution_count": 23,
   "metadata": {},
   "outputs": [],
   "source": [
    "\n",
    "\n",
    "np.savetxt(\"mean_rating_bt_user.csv\",mean_rating_by_user_array,fmt='%.3f',delimiter=',')\n"
   ]
  }
 ],
 "metadata": {
  "kernelspec": {
   "display_name": "Python 3",
   "language": "python",
   "name": "python3"
  },
  "language_info": {
   "codemirror_mode": {
    "name": "ipython",
    "version": 3
   },
   "file_extension": ".py",
   "mimetype": "text/x-python",
   "name": "python",
   "nbconvert_exporter": "python",
   "pygments_lexer": "ipython3",
   "version": "3.7.4"
  }
 },
 "nbformat": 4,
 "nbformat_minor": 4
}
