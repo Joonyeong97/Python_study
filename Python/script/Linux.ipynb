{
 "cells": [
  {
   "cell_type": "code",
   "execution_count": 1,
   "metadata": {},
   "outputs": [
    {
     "ename": "SyntaxError",
     "evalue": "invalid syntax (<ipython-input-1-28e73b4fd63b>, line 2)",
     "output_type": "error",
     "traceback": [
      "\u001b[1;36m  File \u001b[1;32m\"<ipython-input-1-28e73b4fd63b>\"\u001b[1;36m, line \u001b[1;32m2\u001b[0m\n\u001b[1;33m    - 서비스 제공을 제어 : Systemctl\u001b[0m\n\u001b[1;37m            ^\u001b[0m\n\u001b[1;31mSyntaxError\u001b[0m\u001b[1;31m:\u001b[0m invalid syntax\n"
     ]
    }
   ],
   "source": [
    "# Linux : mariadb , 서버 관리자\n",
    "- 서비스 제공을 제어 : Systemctl\n",
    "    systemctl get-default : graphic mode (GUI : graphic user interface)\n",
    "        : text mode() - 서버가 서비스를 제공할때\n",
    "- 보안 : firewall - cmd (방화벽)\n",
    "- ip, port 포트번호는 모두 방화벽에 의해서 막혀있음\n",
    "ip addr show // ip확인\n",
    "ifconfig ## 확인\n",
    "shutdown -h now // 셧다운\n",
    "\n",
    "\n",
    "firewall-cmd --permanent --zone=public --add-port=3306/tcp\n",
    "firewall-cmd --list-services\n",
    "systemctl start firewalld\n",
    "systemctl enable firewalld\n",
    "yum install openssh-clients\n",
    "\n",
    "systemctl get-default # 현재모드\n",
    "systemctl set-default multi-user.target\n",
    "reboot\n",
    "cd: change directory\n",
    "shutdown -h now\n",
    "cd ~ : 루트 디렉터리로\n",
    "cp : copy 복사\n",
    "mkdir : make\n",
    "rm : remove\n",
    "find / -name test.txt -print\n",
    "vi : 명령행 모드, 입력모드, :실행명령\n",
    "dd 삭제, yy 복사 , p 는 붙여넣기\n",
    "i , a , o\n",
    ":q 종료, w저장, q! 저장하지 않고 종료\n",
    "yum 패키지 설치 : rpm을 래퍼\n",
    "yum install maria-server\n",
    "# server 관리때문에 텍스트 모드로 작업\n",
    "systemctl : 서비스를 제어\n",
    "firewall-cmd 방화벽\n",
    "systemctl start mariadb\n",
    "systemctl stop mariadb\n",
    "systemctl restart mariadb # 셋팅 변경시\n",
    "ps -ef | grep httpd # 웹서버가 실행중인지 확인\n",
    "\n",
    "HeidiSQL : 원격으로 mariadb 접속 작업\n",
    "    \n",
    "vi 편집기\n",
    "- 명령모드 ( esc 키 ) 커서가 있는 곳에서 dd 를 누르면 한줄 지워짐, yy 복사 , q 붙여넣기\n",
    "- 입력모드 i ,a , o 셋중 하나만 누르면 입력모드로 변경됨.\n",
    "- 마지막행 모드 :w,저장 :q!,저장하지않고 저장"
   ]
  },
  {
   "cell_type": "code",
   "execution_count": null,
   "metadata": {},
   "outputs": [],
   "source": []
  }
 ],
 "metadata": {
  "kernelspec": {
   "display_name": "Python 3",
   "language": "python",
   "name": "python3"
  },
  "language_info": {
   "codemirror_mode": {
    "name": "ipython",
    "version": 3
   },
   "file_extension": ".py",
   "mimetype": "text/x-python",
   "name": "python",
   "nbconvert_exporter": "python",
   "pygments_lexer": "ipython3",
   "version": "3.7.6"
  }
 },
 "nbformat": 4,
 "nbformat_minor": 4
}
