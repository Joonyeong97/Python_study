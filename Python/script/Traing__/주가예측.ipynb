{
 "cells": [
  {
   "cell_type": "code",
   "execution_count": 1,
   "metadata": {},
   "outputs": [
    {
     "name": "stderr",
     "output_type": "stream",
     "text": [
      "Using TensorFlow backend.\n",
      "C:\\Users\\ICT01_06\\Anaconda3\\envs\\tf_test22\\lib\\site-packages\\tensorflow\\python\\framework\\dtypes.py:516: FutureWarning: Passing (type, 1) or '1type' as a synonym of type is deprecated; in a future version of numpy, it will be understood as (type, (1,)) / '(1,)type'.\n",
      "  _np_qint8 = np.dtype([(\"qint8\", np.int8, 1)])\n",
      "C:\\Users\\ICT01_06\\Anaconda3\\envs\\tf_test22\\lib\\site-packages\\tensorflow\\python\\framework\\dtypes.py:517: FutureWarning: Passing (type, 1) or '1type' as a synonym of type is deprecated; in a future version of numpy, it will be understood as (type, (1,)) / '(1,)type'.\n",
      "  _np_quint8 = np.dtype([(\"quint8\", np.uint8, 1)])\n",
      "C:\\Users\\ICT01_06\\Anaconda3\\envs\\tf_test22\\lib\\site-packages\\tensorflow\\python\\framework\\dtypes.py:518: FutureWarning: Passing (type, 1) or '1type' as a synonym of type is deprecated; in a future version of numpy, it will be understood as (type, (1,)) / '(1,)type'.\n",
      "  _np_qint16 = np.dtype([(\"qint16\", np.int16, 1)])\n",
      "C:\\Users\\ICT01_06\\Anaconda3\\envs\\tf_test22\\lib\\site-packages\\tensorflow\\python\\framework\\dtypes.py:519: FutureWarning: Passing (type, 1) or '1type' as a synonym of type is deprecated; in a future version of numpy, it will be understood as (type, (1,)) / '(1,)type'.\n",
      "  _np_quint16 = np.dtype([(\"quint16\", np.uint16, 1)])\n",
      "C:\\Users\\ICT01_06\\Anaconda3\\envs\\tf_test22\\lib\\site-packages\\tensorflow\\python\\framework\\dtypes.py:520: FutureWarning: Passing (type, 1) or '1type' as a synonym of type is deprecated; in a future version of numpy, it will be understood as (type, (1,)) / '(1,)type'.\n",
      "  _np_qint32 = np.dtype([(\"qint32\", np.int32, 1)])\n",
      "C:\\Users\\ICT01_06\\Anaconda3\\envs\\tf_test22\\lib\\site-packages\\tensorflow\\python\\framework\\dtypes.py:525: FutureWarning: Passing (type, 1) or '1type' as a synonym of type is deprecated; in a future version of numpy, it will be understood as (type, (1,)) / '(1,)type'.\n",
      "  np_resource = np.dtype([(\"resource\", np.ubyte, 1)])\n",
      "C:\\Users\\ICT01_06\\Anaconda3\\envs\\tf_test22\\lib\\site-packages\\tensorboard\\compat\\tensorflow_stub\\dtypes.py:541: FutureWarning: Passing (type, 1) or '1type' as a synonym of type is deprecated; in a future version of numpy, it will be understood as (type, (1,)) / '(1,)type'.\n",
      "  _np_qint8 = np.dtype([(\"qint8\", np.int8, 1)])\n",
      "C:\\Users\\ICT01_06\\Anaconda3\\envs\\tf_test22\\lib\\site-packages\\tensorboard\\compat\\tensorflow_stub\\dtypes.py:542: FutureWarning: Passing (type, 1) or '1type' as a synonym of type is deprecated; in a future version of numpy, it will be understood as (type, (1,)) / '(1,)type'.\n",
      "  _np_quint8 = np.dtype([(\"quint8\", np.uint8, 1)])\n",
      "C:\\Users\\ICT01_06\\Anaconda3\\envs\\tf_test22\\lib\\site-packages\\tensorboard\\compat\\tensorflow_stub\\dtypes.py:543: FutureWarning: Passing (type, 1) or '1type' as a synonym of type is deprecated; in a future version of numpy, it will be understood as (type, (1,)) / '(1,)type'.\n",
      "  _np_qint16 = np.dtype([(\"qint16\", np.int16, 1)])\n",
      "C:\\Users\\ICT01_06\\Anaconda3\\envs\\tf_test22\\lib\\site-packages\\tensorboard\\compat\\tensorflow_stub\\dtypes.py:544: FutureWarning: Passing (type, 1) or '1type' as a synonym of type is deprecated; in a future version of numpy, it will be understood as (type, (1,)) / '(1,)type'.\n",
      "  _np_quint16 = np.dtype([(\"quint16\", np.uint16, 1)])\n",
      "C:\\Users\\ICT01_06\\Anaconda3\\envs\\tf_test22\\lib\\site-packages\\tensorboard\\compat\\tensorflow_stub\\dtypes.py:545: FutureWarning: Passing (type, 1) or '1type' as a synonym of type is deprecated; in a future version of numpy, it will be understood as (type, (1,)) / '(1,)type'.\n",
      "  _np_qint32 = np.dtype([(\"qint32\", np.int32, 1)])\n",
      "C:\\Users\\ICT01_06\\Anaconda3\\envs\\tf_test22\\lib\\site-packages\\tensorboard\\compat\\tensorflow_stub\\dtypes.py:550: FutureWarning: Passing (type, 1) or '1type' as a synonym of type is deprecated; in a future version of numpy, it will be understood as (type, (1,)) / '(1,)type'.\n",
      "  np_resource = np.dtype([(\"resource\", np.ubyte, 1)])\n"
     ]
    }
   ],
   "source": [
    "import pandas as pd\n",
    "import numpy as np\n",
    "import matplotlib.pyplot as plt\n",
    "from keras.models import Sequential\n",
    "from keras.layers import LSTM, Dropout, Dense, Activation\n",
    "# from keras.callbacks import TensorBoard, ModelCheckpoint, ReduceLROnPlateau\n",
    "import datetime\n",
    "import tensorflow as tf"
   ]
  },
  {
   "cell_type": "code",
   "execution_count": 37,
   "metadata": {},
   "outputs": [],
   "source": [
    "import tensorflow as tf"
   ]
  },
  {
   "cell_type": "code",
   "execution_count": 2,
   "metadata": {},
   "outputs": [
    {
     "data": {
      "text/html": [
       "<div>\n",
       "<style scoped>\n",
       "    .dataframe tbody tr th:only-of-type {\n",
       "        vertical-align: middle;\n",
       "    }\n",
       "\n",
       "    .dataframe tbody tr th {\n",
       "        vertical-align: top;\n",
       "    }\n",
       "\n",
       "    .dataframe thead th {\n",
       "        text-align: right;\n",
       "    }\n",
       "</style>\n",
       "<table border=\"1\" class=\"dataframe\">\n",
       "  <thead>\n",
       "    <tr style=\"text-align: right;\">\n",
       "      <th></th>\n",
       "      <th>Date</th>\n",
       "      <th>Open</th>\n",
       "      <th>High</th>\n",
       "      <th>Low</th>\n",
       "      <th>Close</th>\n",
       "      <th>Adj Close</th>\n",
       "      <th>Volume</th>\n",
       "    </tr>\n",
       "  </thead>\n",
       "  <tbody>\n",
       "    <tr>\n",
       "      <th>0</th>\n",
       "      <td>2015-02-05</td>\n",
       "      <td>22.664141</td>\n",
       "      <td>22.941919</td>\n",
       "      <td>22.605219</td>\n",
       "      <td>22.849327</td>\n",
       "      <td>22.509346</td>\n",
       "      <td>14671800</td>\n",
       "    </tr>\n",
       "    <tr>\n",
       "      <th>1</th>\n",
       "      <td>2015-02-06</td>\n",
       "      <td>22.811447</td>\n",
       "      <td>23.106060</td>\n",
       "      <td>22.752525</td>\n",
       "      <td>22.937710</td>\n",
       "      <td>22.596413</td>\n",
       "      <td>19006500</td>\n",
       "    </tr>\n",
       "    <tr>\n",
       "      <th>2</th>\n",
       "      <td>2015-02-09</td>\n",
       "      <td>22.731482</td>\n",
       "      <td>23.076599</td>\n",
       "      <td>22.731482</td>\n",
       "      <td>22.866161</td>\n",
       "      <td>22.525930</td>\n",
       "      <td>10209900</td>\n",
       "    </tr>\n",
       "    <tr>\n",
       "      <th>3</th>\n",
       "      <td>2015-02-10</td>\n",
       "      <td>22.912458</td>\n",
       "      <td>23.388046</td>\n",
       "      <td>22.676767</td>\n",
       "      <td>23.261784</td>\n",
       "      <td>22.915667</td>\n",
       "      <td>25966100</td>\n",
       "    </tr>\n",
       "    <tr>\n",
       "      <th>4</th>\n",
       "      <td>2015-02-11</td>\n",
       "      <td>23.324915</td>\n",
       "      <td>23.337542</td>\n",
       "      <td>23.000841</td>\n",
       "      <td>23.207071</td>\n",
       "      <td>22.861767</td>\n",
       "      <td>14791500</td>\n",
       "    </tr>\n",
       "  </tbody>\n",
       "</table>\n",
       "</div>"
      ],
      "text/plain": [
       "         Date       Open       High        Low      Close  Adj Close    Volume\n",
       "0  2015-02-05  22.664141  22.941919  22.605219  22.849327  22.509346  14671800\n",
       "1  2015-02-06  22.811447  23.106060  22.752525  22.937710  22.596413  19006500\n",
       "2  2015-02-09  22.731482  23.076599  22.731482  22.866161  22.525930  10209900\n",
       "3  2015-02-10  22.912458  23.388046  22.676767  23.261784  22.915667  25966100\n",
       "4  2015-02-11  23.324915  23.337542  23.000841  23.207071  22.861767  14791500"
      ]
     },
     "execution_count": 2,
     "metadata": {},
     "output_type": "execute_result"
    }
   ],
   "source": [
    "data = pd.read_csv('EBAY.csv')\n",
    "data.head()\n"
   ]
  },
  {
   "cell_type": "code",
   "execution_count": 3,
   "metadata": {},
   "outputs": [],
   "source": [
    "data = data.dropna()"
   ]
  },
  {
   "cell_type": "code",
   "execution_count": 7,
   "metadata": {},
   "outputs": [],
   "source": [
    "high_prices = data['High'].values\n",
    "low_prices = data['Low'].values\n",
    "mid_prices = (high_prices + low_prices) / 2"
   ]
  },
  {
   "cell_type": "code",
   "execution_count": 5,
   "metadata": {},
   "outputs": [],
   "source": [
    "seq_len = 50\n",
    "sequence_length = seq_len + 1\n",
    "\n",
    "result = []\n",
    "for index in range(len(mid_prices) - sequence_length):\n",
    "    result.append(mid_prices[index: index + sequence_length])"
   ]
  },
  {
   "cell_type": "code",
   "execution_count": 19,
   "metadata": {},
   "outputs": [
    {
     "data": {
      "text/plain": [
       "array([23.1691915, 23.219697 , 23.486953 , 23.6258425, 23.842593 ,\n",
       "       24.017256 , 24.2655725, 24.482324 , 24.497053 , 24.530724 ,\n",
       "       24.6359435, 24.5033675, 24.4549665, 24.545455 , 24.4970545,\n",
       "       24.7411615, 25.1452015, 25.3914145, 25.162037 , 25.151515 ,\n",
       "       25.0925925, 24.9705385, 25.063131 , 24.987373 , 24.62963  ,\n",
       "       24.2066495, 24.5180975, 24.650673 , 24.903199 , 24.7558915,\n",
       "       24.290825 , 24.2550505, 24.440236 , 24.4234   , 24.1035355,\n",
       "       23.9920035, 23.697391 , 24.147728 , 24.0404045, 23.979377 ,\n",
       "       24.147728 , 24.204546 , 23.8804715, 23.983585 , 24.0004215,\n",
       "       23.5458755, 23.539562 , 23.714226 , 23.815235 , 24.905303 ,\n",
       "       25.0147305])"
      ]
     },
     "execution_count": 19,
     "metadata": {},
     "output_type": "execute_result"
    }
   ],
   "source": [
    "mid_prices[4:4+51]"
   ]
  },
  {
   "cell_type": "code",
   "execution_count": 11,
   "metadata": {},
   "outputs": [
    {
     "data": {
      "text/plain": [
       "array([23.1691915, 23.219697 , 23.486953 , 23.6258425, 23.842593 ,\n",
       "       24.017256 , 24.2655725, 24.482324 , 24.497053 , 24.530724 ,\n",
       "       24.6359435, 24.5033675, 24.4549665, 24.545455 , 24.4970545,\n",
       "       24.7411615, 25.1452015, 25.3914145, 25.162037 , 25.151515 ,\n",
       "       25.0925925, 24.9705385, 25.063131 , 24.987373 , 24.62963  ,\n",
       "       24.2066495, 24.5180975, 24.650673 , 24.903199 , 24.7558915,\n",
       "       24.290825 , 24.2550505, 24.440236 , 24.4234   , 24.1035355,\n",
       "       23.9920035, 23.697391 , 24.147728 , 24.0404045, 23.979377 ,\n",
       "       24.147728 , 24.204546 , 23.8804715, 23.983585 , 24.0004215,\n",
       "       23.5458755, 23.539562 , 23.714226 , 23.815235 , 24.905303 ,\n",
       "       25.0147305])"
      ]
     },
     "execution_count": 11,
     "metadata": {},
     "output_type": "execute_result"
    }
   ],
   "source": [
    "mid_prices[4:4 + 51]"
   ]
  },
  {
   "cell_type": "code",
   "execution_count": 22,
   "metadata": {},
   "outputs": [
    {
     "data": {
      "text/plain": [
       "array([35.195    , 34.995001 , 35.       , 35.       , 35.9349995,\n",
       "       35.66     , 35.8549995, 35.6549985, 35.215    , 34.6849995,\n",
       "       35.0250015, 34.93     , 35.0250015, 34.7399995, 34.83     ,\n",
       "       34.835001 , 35.16     , 35.514999 , 35.5799995, 35.6100005,\n",
       "       35.625    , 35.8199995, 36.129999 , 36.33     , 36.1899985,\n",
       "       36.3549995, 36.195002 , 35.959999 , 35.83     , 36.3199995,\n",
       "       35.9399985, 35.6399995, 35.5249995, 35.825001 , 35.210001 ,\n",
       "       35.0100005, 34.725    , 34.9399985, 35.385    , 35.630001 ,\n",
       "       35.5900005, 35.665001 , 35.8500005, 35.7649995, 35.4449995,\n",
       "       35.245001 , 35.9700015, 34.9399985, 34.6949995, 34.279999 ,\n",
       "       34.119999 , 36.799999 ])"
      ]
     },
     "execution_count": 22,
     "metadata": {},
     "output_type": "execute_result"
    }
   ],
   "source": [
    "mid_prices[index:]"
   ]
  },
  {
   "cell_type": "code",
   "execution_count": 24,
   "metadata": {},
   "outputs": [
    {
     "data": {
      "text/plain": [
       "((1086, 50, 1), (121, 50, 1))"
      ]
     },
     "execution_count": 24,
     "metadata": {},
     "output_type": "execute_result"
    }
   ],
   "source": [
    "normalized_data = []\n",
    "for window in result:\n",
    "    normalized_window = [((float(p) / float(window[0])) - 1) for p in window]\n",
    "    normalized_data.append(normalized_window)\n",
    "\n",
    "result = np.array(normalized_data)\n",
    "\n",
    "# split train and test data\n",
    "row = int(round(result.shape[0] * 0.9))\n",
    "train = result[:row, :]\n",
    "np.random.shuffle(train)\n",
    "\n",
    "x_train = train[:, :-1]\n",
    "x_train = np.reshape(x_train, (x_train.shape[0], x_train.shape[1], 1))\n",
    "y_train = train[:, -1]\n",
    "\n",
    "x_test = result[row:, :-1]\n",
    "x_test = np.reshape(x_test, (x_test.shape[0], x_test.shape[1], 1))\n",
    "y_test = result[row:, -1]\n",
    "\n",
    "x_train.shape, x_test.shape"
   ]
  },
  {
   "cell_type": "code",
   "execution_count": 25,
   "metadata": {},
   "outputs": [
    {
     "data": {
      "text/plain": [
       "array([[[ 0.        ],\n",
       "        [-0.00525395],\n",
       "        [-0.00729715],\n",
       "        ...,\n",
       "        [ 0.00160537],\n",
       "        [ 0.00467017],\n",
       "        [-0.00496207]],\n",
       "\n",
       "       [[ 0.        ],\n",
       "        [ 0.00326801],\n",
       "        [ 0.01041671],\n",
       "        ...,\n",
       "        [-0.04616015],\n",
       "        [-0.0723039 ],\n",
       "        [-0.06290846]],\n",
       "\n",
       "       [[ 0.        ],\n",
       "        [-0.01305614],\n",
       "        [-0.01769454],\n",
       "        ...,\n",
       "        [-0.11406973],\n",
       "        [-0.09208037],\n",
       "        [-0.09551624]],\n",
       "\n",
       "       ...,\n",
       "\n",
       "       [[ 0.        ],\n",
       "        [ 0.00737339],\n",
       "        [-0.00524336],\n",
       "        ...,\n",
       "        [ 0.09716529],\n",
       "        [ 0.10126164],\n",
       "        [ 0.10339176]],\n",
       "\n",
       "       [[ 0.        ],\n",
       "        [-0.01104501],\n",
       "        [-0.02939675],\n",
       "        ...,\n",
       "        [-0.23687341],\n",
       "        [-0.23874258],\n",
       "        [-0.25080714]],\n",
       "\n",
       "       [[ 0.        ],\n",
       "        [ 0.02031793],\n",
       "        [ 0.01727713],\n",
       "        ...,\n",
       "        [-0.07173461],\n",
       "        [-0.06302691],\n",
       "        [-0.06302691]]])"
      ]
     },
     "execution_count": 25,
     "metadata": {},
     "output_type": "execute_result"
    }
   ],
   "source": [
    "x_train"
   ]
  },
  {
   "cell_type": "code",
   "execution_count": 27,
   "metadata": {},
   "outputs": [],
   "source": [
    "config = tf.ConfigProto(allow_soft_placement=True)\n",
    "config.gpu_options.allocator_type = 'BFC'\n",
    "config.gpu_options.per_process_gpu_memory_fraction = 0.90\n",
    "config.gpu_options.allow_growth = True\n",
    "\n",
    "session = tf.Session(config=config)"
   ]
  },
  {
   "cell_type": "code",
   "execution_count": 26,
   "metadata": {},
   "outputs": [],
   "source": [
    "import keras.backend.tensorflow_backend as K\n",
    "with K.tf_ops.device('/device:GPU:0'):\n",
    "    model = Sequential()\n",
    "    model.add(LSTM(50, return_sequences=True, input_shape=(50, 1)))\n",
    "    model.add(Dropout(0.2))\n",
    "    model.add(LSTM(64, return_sequences=True, input_shape=(50, 1)))\n",
    "    model.add(Dropout(0.2))\n",
    "    model.add(LSTM(74, return_sequences=False))\n",
    "    model.add(Dense(10))\n",
    "    model.add(Dense(1, activation='linear'))\n",
    "    model.compile(loss='mse', optimizer='adam')"
   ]
  },
  {
   "cell_type": "code",
   "execution_count": null,
   "metadata": {},
   "outputs": [],
   "source": [
    "import keras.backend.tensorflow_backend as K\n",
    "with K.tf_ops.device('/device:GPU:0'):\n",
    "    model = Sequential()\n",
    "    model.add(LSTM(60, return_sequences=True, input_shape=(50, 1)))\n",
    "    model.add(Dropout(0.2))\n",
    "    model.add(LSTM(70, return_sequences=True, input_shape=(50, 1)))\n",
    "    model.add(Dropout(0.2))\n",
    "    model.add(LSTM(80, return_sequences=True, input_shape=(50, 1)))\n",
    "    model.add(Dropout(0.2))\n",
    "    model.add(LSTM(40, return_sequences=False))\n",
    "    model.add(Dense(1, activation='linear'))\n",
    "    model.compile(loss='mse', optimizer='adam')"
   ]
  },
  {
   "cell_type": "code",
   "execution_count": 41,
   "metadata": {},
   "outputs": [
    {
     "name": "stdout",
     "output_type": "stream",
     "text": [
      "Model: \"sequential_7\"\n",
      "_________________________________________________________________\n",
      "Layer (type)                 Output Shape              Param #   \n",
      "=================================================================\n",
      "lstm_13 (LSTM)               (None, 50, 50)            10400     \n",
      "_________________________________________________________________\n",
      "lstm_14 (LSTM)               (None, 50, 64)            29440     \n",
      "_________________________________________________________________\n",
      "lstm_15 (LSTM)               (None, 74)                41144     \n",
      "_________________________________________________________________\n",
      "dense_6 (Dense)              (None, 1)                 75        \n",
      "=================================================================\n",
      "Total params: 81,059\n",
      "Trainable params: 81,059\n",
      "Non-trainable params: 0\n",
      "_________________________________________________________________\n"
     ]
    }
   ],
   "source": [
    "model.summary()"
   ]
  },
  {
   "cell_type": "code",
   "execution_count": 28,
   "metadata": {},
   "outputs": [
    {
     "name": "stdout",
     "output_type": "stream",
     "text": [
      "WARNING:tensorflow:From C:\\Users\\ICT01_06\\Anaconda3\\envs\\tf_test22\\lib\\site-packages\\keras\\backend\\tensorflow_backend.py:422: The name tf.global_variables is deprecated. Please use tf.compat.v1.global_variables instead.\n",
      "\n",
      "Train on 1086 samples, validate on 121 samples\n",
      "Epoch 1/20\n",
      "1086/1086 [==============================] - 14s 12ms/step - loss: 0.0030 - val_loss: 7.8539e-04\n",
      "Epoch 2/20\n",
      "1086/1086 [==============================] - 12s 11ms/step - loss: 0.0014 - val_loss: 7.6664e-04\n",
      "Epoch 3/20\n",
      "1086/1086 [==============================] - 12s 11ms/step - loss: 0.0012 - val_loss: 0.0010\n",
      "Epoch 4/20\n",
      "1086/1086 [==============================] - 12s 11ms/step - loss: 9.4417e-04 - val_loss: 3.8016e-04\n",
      "Epoch 5/20\n",
      "1086/1086 [==============================] - 12s 11ms/step - loss: 8.9962e-04 - val_loss: 5.1399e-04\n",
      "Epoch 6/20\n",
      "1086/1086 [==============================] - 12s 11ms/step - loss: 8.0754e-04 - val_loss: 5.9990e-04\n",
      "Epoch 7/20\n",
      "1086/1086 [==============================] - 12s 11ms/step - loss: 7.7262e-04 - val_loss: 2.6793e-04\n",
      "Epoch 8/20\n",
      "1086/1086 [==============================] - 12s 11ms/step - loss: 7.0537e-04 - val_loss: 2.4935e-04\n",
      "Epoch 9/20\n",
      "1086/1086 [==============================] - 12s 11ms/step - loss: 6.5634e-04 - val_loss: 2.6442e-04\n",
      "Epoch 10/20\n",
      "1086/1086 [==============================] - 12s 11ms/step - loss: 5.9108e-04 - val_loss: 2.2640e-04\n",
      "Epoch 11/20\n",
      "1086/1086 [==============================] - 12s 11ms/step - loss: 5.9536e-04 - val_loss: 2.4454e-04\n",
      "Epoch 12/20\n",
      "1086/1086 [==============================] - 12s 11ms/step - loss: 5.5787e-04 - val_loss: 3.8410e-04\n",
      "Epoch 13/20\n",
      "1086/1086 [==============================] - 13s 12ms/step - loss: 5.4811e-04 - val_loss: 2.3362e-04\n",
      "Epoch 14/20\n",
      "1086/1086 [==============================] - 13s 12ms/step - loss: 5.2126e-04 - val_loss: 1.9817e-04\n",
      "Epoch 15/20\n",
      "1086/1086 [==============================] - 12s 11ms/step - loss: 5.1986e-04 - val_loss: 1.8503e-04\n",
      "Epoch 16/20\n",
      "1086/1086 [==============================] - 12s 11ms/step - loss: 5.0104e-04 - val_loss: 2.8272e-04\n",
      "Epoch 17/20\n",
      "1086/1086 [==============================] - 13s 12ms/step - loss: 4.7055e-04 - val_loss: 2.2596e-04\n",
      "Epoch 18/20\n",
      "1086/1086 [==============================] - 13s 12ms/step - loss: 4.9643e-04 - val_loss: 1.6580e-04\n",
      "Epoch 19/20\n",
      "1086/1086 [==============================] - 12s 11ms/step - loss: 4.6959e-04 - val_loss: 2.5434e-04\n",
      "Epoch 20/20\n",
      "1086/1086 [==============================] - 13s 12ms/step - loss: 4.5080e-04 - val_loss: 2.2954e-04\n"
     ]
    }
   ],
   "source": [
    "history = model.fit(x_train, y_train,\n",
    "    validation_data=(x_test, y_test),\n",
    "    batch_size=12,\n",
    "    epochs=20)"
   ]
  },
  {
   "cell_type": "code",
   "execution_count": 30,
   "metadata": {},
   "outputs": [
    {
     "data": {
      "image/png": "[encoded data removed]",
      "text/plain": [
       "<Figure size 1440x720 with 1 Axes>"
      ]
     },
     "metadata": {},
     "output_type": "display_data"
    }
   ],
   "source": [
    "pred = model.predict(x_test)\n",
    "\n",
    "fig = plt.figure(facecolor='white', figsize=(20, 10))\n",
    "ax = fig.add_subplot(111)\n",
    "ax.plot(y_test, label='True')\n",
    "ax.plot(pred, label='Prediction')\n",
    "ax.legend()\n",
    "plt.show()"
   ]
  },
  {
   "cell_type": "code",
   "execution_count": null,
   "metadata": {},
   "outputs": [],
   "source": []
  }
 ],
 "metadata": {
  "kernelspec": {
   "display_name": "Python 3",
   "language": "python",
   "name": "python3"
  },
  "language_info": {
   "codemirror_mode": {
    "name": "ipython",
    "version": 3
   },
   "file_extension": ".py",
   "mimetype": "text/x-python",
   "name": "python",
   "nbconvert_exporter": "python",
   "pygments_lexer": "ipython3",
   "version": "3.7.6"
  }
 },
 "nbformat": 4,
 "nbformat_minor": 4
}
