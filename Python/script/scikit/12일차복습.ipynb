{
 "cells": [
  {
   "cell_type": "code",
   "execution_count": 1,
   "metadata": {},
   "outputs": [],
   "source": [
    "# 12일차 복습"
   ]
  },
  {
   "cell_type": "code",
   "execution_count": 2,
   "metadata": {},
   "outputs": [],
   "source": [
    "%matplotlib inline\n",
    "import numpy as np\n",
    "import matplotlib.pyplot as plt\n",
    "from scipy.optimize import curve_fit\n",
    "# scipy : optimization, interpolation, 미적분, fft : matlab"
   ]
  },
  {
   "cell_type": "code",
   "execution_count": 3,
   "metadata": {},
   "outputs": [
    {
     "name": "stdout",
     "output_type": "stream",
     "text": [
      "[ 0.08703704 -0.81349206  1.69312169 -0.03968254]\n",
      "방정식          3          2\n",
      "0.08704 x - 0.8135 x + 1.693 x - 0.03968\n",
      "-0.347321428571432\n",
      "0.6143849206349201\n",
      "22.579365079365022\n",
      "0.06825396825396512\n"
     ]
    }
   ],
   "source": [
    "x = np.array([0.0,1.0,2.0,3.0,4.0,5.0])\n",
    "y = np.array([0.0,0.8,0.9,0.1,-0.8,-1.0])\n",
    "z = np.polyfit(x,y,3) \n",
    "print(z)\n",
    "p = np.poly1d(z)\n",
    "print('방정식',p)\n",
    "print(p(3.5))\n",
    "print(p(0.5))\n",
    "print(p(10))\n",
    "print(p(3.0))"
   ]
  },
  {
   "cell_type": "code",
   "execution_count": null,
   "metadata": {},
   "outputs": [],
   "source": [
    "b"
   ]
  }
 ],
 "metadata": {
  "kernelspec": {
   "display_name": "Python 3",
   "language": "python",
   "name": "python3"
  },
  "language_info": {
   "codemirror_mode": {
    "name": "ipython",
    "version": 3
   },
   "file_extension": ".py",
   "mimetype": "text/x-python",
   "name": "python",
   "nbconvert_exporter": "python",
   "pygments_lexer": "ipython3",
   "version": "3.7.4"
  }
 },
 "nbformat": 4,
 "nbformat_minor": 4
}
