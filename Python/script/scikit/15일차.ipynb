{
 "cells": [
  {
   "cell_type": "markdown",
   "metadata": {},
   "source": [
    "- model select\n",
    "전처리에 편하게 나눠서 처리할수 있게 도와주는것.\n",
    "- feature\n",
    "\n",
    "-preprocessing 전처리 -> learning -> model -> predict service"
   ]
  },
  {
   "cell_type": "code",
   "execution_count": null,
   "metadata": {},
   "outputs": [],
   "source": [
    "- 4차 산업시대\n",
    "    - IOT (모든장비를 인터넷으로 묶은것)\n",
    "    - Bigdata\n",
    "    - AI\n",
    "    - AR(증강현실)/VR(가상현실)/MR(증강+가상)\n",
    "    - fintech\n",
    "    - BlockChain\n",
    "        \n",
    "    - 가장현실적인 것\n",
    "        - AIOT (AI + IOT)\n",
    "        - 신경망\n",
    "            -Tensorflow -> ANN -> FFNN(feed forword) -> MLP(Multi-layer-Perceptron)\n",
    "            XOR문제를 해결을 못해서 -> Multi layer -> 기울기소멸 -> LSTM\n",
    "    \n",
    "    - preprocessing중에서 정규화를진행 해야함 ( 결측치 제거, 이상치 제거, 범주화 )\n",
    "    - learning (500*30 데이터를 30*1로 가중치를 줘서 진행하면 500*1 로 500*30 을 대표)\n",
    "        - (500*30개 중에 30개의 열에서 1개의 열로 줄여야함 단. 각 열이 주는 영향을 계산을 해서 해야함.)\n",
    "    - 차원확대 SVM ( Support vector machine )\n",
    "    - 활성화 함수 (Activation function = 분류나 예측으로 결정 )\n",
    "        - identity 가중치에 나온값을 그대로 보내면 (회귀) (MLPRegression)\n",
    "        - sigmoid ( 0 ~ 1 ) -> 분류 (MLPClassifier)\n",
    "        - softmax 클래스가 여러개인놈을 분류시킬때\n",
    "        - cost function ^(y_hat-y)\n",
    "    - 수학계산을 하는 solver를 결정 \n",
    "    - learning-rate(hyper Parameter*가중치)을 가변하는것이 adam (값을 처음엔 많이 차차 줄여서.)\n",
    "    - 순전파 (y_hat을 만드는 과정)\n",
    "    - 역전파 (가중치를 조정하는 과정)\n",
    "    * 이걸 다합친게 tensorflow~\n",
    "        - 데이터를 어떻게 분류할 것인가를 놓고 이미 많은 기계학습 알고리즘이 등장했다. \n",
    "        - ‘의사결정나무’나 ‘베이지안망’, ‘서포트벡터머신(SVM)’, ‘인공신경망’ 등이 대표적이다.\\\n",
    "        \n",
    "        \n",
    "        "
   ]
  }
 ],
 "metadata": {
  "kernelspec": {
   "display_name": "Python 3",
   "language": "python",
   "name": "python3"
  },
  "language_info": {
   "codemirror_mode": {
    "name": "ipython",
    "version": 3
   },
   "file_extension": ".py",
   "mimetype": "text/x-python",
   "name": "python",
   "nbconvert_exporter": "python",
   "pygments_lexer": "ipython3",
   "version": "3.7.4"
  }
 },
 "nbformat": 4,
 "nbformat_minor": 4
}
