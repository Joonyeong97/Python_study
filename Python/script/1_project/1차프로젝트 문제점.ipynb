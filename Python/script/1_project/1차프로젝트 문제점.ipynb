{
 "cells": [
  {
   "cell_type": "markdown",
   "metadata": {},
   "source": [
    "# 문제점\n"
   ]
  },
  {
   "cell_type": "markdown",
   "metadata": {},
   "source": [
    "예측문제 / 분류문제\n",
    "기본적으로 예측문제는 y 값하고 x 값이 상관관계가 있어야 한다고 판단되어야한다 (0.5 이상.)\n",
    "(여기서 x 값은 독립변수 y 값은 종속변수.)\n",
    "종속변수를 예측해야함으로 즉 x 값과 y 값이 상관관계가 있어야 합니다.\n",
    "data.corr()\n",
    "\n",
    "기본적으로 Traing 세트하고 Test 세트가 나눠져있는것이 바람직합니다.\n",
    "기본적으로 모델링뒤에 Regression 이 붙으면 다중회귀, Classifier 가 붙으면 분류기입니다.\n",
    "전부다 파라미터가 다르니 Shift + Tab 으로 파라미터를 확인 해야합니다.\n",
    "\n",
    "X,y 값이 정해져있으면 MSE 와 RMSE 로 크기에 의존하여 에러를 확인하는방법을 사용\n",
    "X 값을 scale 해주고서\n",
    "예측모델에 fit해준뒤 \n",
    "predict으로 테스트값을 테스팅해준다음\n",
    "\n",
    "mse 값과 rmse 를 출력후 한번 검증\n",
    "y,y_pred 값 넣어주자\n"
   ]
  },
  {
   "cell_type": "code",
   "execution_count": 1,
   "metadata": {},
   "outputs": [],
   "source": [
    "# 기본 예측문제에 사용되는 패키지\n",
    "# MSE / RMSE를 측정하기 위한 패키지\n",
    "from sklearn.metrics import mean_squared_error\n",
    "# 다중회귀분석을 하기 위한 패키지\n",
    "from sklearn.linear_model import LinearRegression\n",
    "# Traing / Test 세트를 나눠줄 패키지\n",
    "from sklearn.model_selection import train_test_split \n",
    "# \n",
    "from sklearn.preprocessing import scale, minmax_scale\n",
    "\n"
   ]
  },
  {
   "cell_type": "code",
   "execution_count": null,
   "metadata": {},
   "outputs": [],
   "source": [
    "scaler = scale(x)\n",
    "\n",
    "lig_clf = LinearRegression().fit(scaler,y)\n",
    "\n",
    "y_pred = lig_clf.predict(scaler)\n",
    "\n",
    "mse = mean_squared_error(y,y_pred)\n",
    "rmse = mean_squared_error(y,y_pred)**0.5\n",
    "\n",
    "# 문제확인\n",
    "print(\"MSE : \",mse)\n",
    "print(\"RMSE : \",rmse)\n",
    "\n",
    "# y = ax + ax1 + ax2 + b\n",
    "print(lig_clf.coef_) # 가중치/기울기 = 계수, 각 곱해주는값 a값\n",
    "print(lig_clf.intercept_) # b값\n"
   ]
  }
 ],
 "metadata": {
  "kernelspec": {
   "display_name": "Python 3",
   "language": "python",
   "name": "python3"
  },
  "language_info": {
   "codemirror_mode": {
    "name": "ipython",
    "version": 3
   },
   "file_extension": ".py",
   "mimetype": "text/x-python",
   "name": "python",
   "nbconvert_exporter": "python",
   "pygments_lexer": "ipython3",
   "version": "3.7.4"
  }
 },
 "nbformat": 4,
 "nbformat_minor": 4
}
