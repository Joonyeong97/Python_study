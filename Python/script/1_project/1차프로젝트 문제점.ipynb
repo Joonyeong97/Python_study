{
 "cells": [
  {
   "cell_type": "markdown",
   "metadata": {},
   "source": [
    "# 문제점\n"
   ]
  },
  {
   "cell_type": "markdown",
   "metadata": {},
   "source": [
    "예측문제 / 분류문제\n",
    "\n",
    "(여기서 x 값은 독립변수 y 값은 종속변수.)\n",
    "\n",
    "처음엔 결측치, 이상치를 판단후에 제거할지 mean처리할지 판단\n",
    "그 뒤에 X값끼리 상관관계를 분석후에 다중공선성을 판단해야함.\n",
    "서로 상관관계가 높다고 나오면 다중 공선성이 있기때문에 제거해야함.\n",
    "\n",
    "그리고 y 값하고 x 값이 상관관계가 있어야 한다고 판단되어야한다 (0.5 이상.)\n",
    "종속변수를 예측해야함으로 즉 x 값과 y 값이 상관관계가 있어야 합니다.\n",
    "data.corr()\n",
    "\n",
    "기본적으로 Traing 세트하고 Test 세트가 나눠져있는것이 바람직합니다.\n",
    "기본적으로 모델링뒤에 Regression 이 붙으면 다중회귀, Classifier 가 붙으면 분류기입니다.\n",
    "전부다 파라미터가 다르니 Shift + Tab 으로 파라미터를 확인 해야합니다.\n",
    "\n",
    "X,y 값이 정해져있으면 MSE 와 RMSE 로 크기에 의존하여 에러를 확인하는방법을 사용\n",
    "X 값을 scale 해주고서\n",
    "예측모델에 fit해준뒤 \n",
    "predict으로 테스트값을 테스팅해준다음\n",
    "mse 값과 rmse 를 출력후 한번 검증\n",
    "y,y_pred 값 넣어주자\n",
    "\n",
    "MSE가 0에 가까울수록 정확도가 높은것이다.\n",
    "\n",
    "회귀식 y = a*x + b 가 나오는건\n",
    "LinearRegressor 만 나옵니다.\n",
    "\n"
   ]
  },
  {
   "cell_type": "markdown",
   "metadata": {},
   "source": [
    "기본 순서도"
   ]
  },
  {
   "cell_type": "code",
   "execution_count": 1,
   "metadata": {},
   "outputs": [],
   "source": [
    "# 기본 예측문제에 사용되는 패키지\n",
    "import pandas as pd\n",
    "import numpy as np\n",
    "\n",
    "# Traing / Test 세트를 나눠줄 패키지\n",
    "from sklearn.model_selection import train_test_split \n",
    "# 전처리하는 세트\n",
    "from sklearn.preprocessing import scale, robust_scale, minmax_scale , maxabs_scale\n",
    "from sklearn.preprocessing import MinMaxScaler # MinMax 점수\n",
    "from sklearn.preprocessing import StandardScaler # Z 점수\n",
    "\n",
    "# 다중회귀분석을 하기 위한 패키지\n",
    "from sklearn.linear_model import LinearRegression # 이놈만 coef_ / intercept_ 가 나옴. y = a*x + b / coef는 x / intercept는 b\n",
    "from sklearn.linear_model import Lasso,Ridge,Hinge # 규제모델\n",
    "from sklearn.svm import SVR # Support Vector Regressor 차원의 수를 늘려서 모델을 만듬.\n",
    "from sklearn.ensemble import RandomForestRegressor\n",
    "from sklearn.ensemble import VotingRegressor # 여러모델을 상대로 투표방식으로 재검증\n",
    "from sklearn.tree import DecisionTreeRegressor # 결정트리.\n",
    "from sklearn.neighbors import KNeighborsClassifier\n",
    "\n",
    "\n",
    "# 검증 모델~\n",
    "from sklearn.metrics import mean_squared_error # MSE / RMSE\n",
    "from sklearn.metrics import mean_absolute_error \n",
    "from sklearn.model_selection import KFold, cross_val_score, cross_val_predict # 폴더수로 트레인/ 테스트\n",
    "#cross는 여러개 크로스해서 트레인셋이 테스트가되고 테스트가 트레인이 됨.\n",
    "\n",
    "\n",
    "# 모델 selection / 여러 모델들의 파라미터를 수정하여 최적의 파라미터를 정해줌!\n",
    "from sklearn.model_selection import GridSearchCV\n"
   ]
  },
  {
   "cell_type": "code",
   "execution_count": null,
   "metadata": {},
   "outputs": [],
   "source": [
    "# 제일 기본적인 회귀식 만들기.\n",
    "\n",
    "scaler = scale(x)\n",
    "\n",
    "lig_clf = LinearRegression().fit(scaler,y)\n",
    "\n",
    "y_pred = lig_clf.predict(scaler)\n",
    "\n",
    "mse = mean_squared_error(y,y_pred)\n",
    "rmse = mean_squared_error(y,y_pred)**0.5\n",
    "\n",
    "# 문제확인\n",
    "print(\"MSE : \",mse)\n",
    "print(\"RMSE : \",rmse)\n",
    "\n",
    "# y = ax + ax1 + ax2 + b\n",
    "print(lig_clf.coef_) # 가중치/기울기 = 계수, 각 곱해주는값 a값\n",
    "print(lig_clf.intercept_) # b값\n"
   ]
  },
  {
   "cell_type": "code",
   "execution_count": null,
   "metadata": {},
   "outputs": [],
   "source": [
    "import numpy as np\n",
    "from sklearn.decomposition import PCA\n",
    "\n",
    "\n",
    "# 16개의 변수중 영향력있는 변수 3개추출\n",
    "pca = PCA(n_components=16)\n",
    "model = pca.fit_transform(minmax_X)\n",
    "print(pca.explained_variance_ratio_) # 설명력\n",
    "\n",
    "plt.plot(np.cumsum(pca.explained_variance_ratio_)) # elbow를 시각적으로 확인\n",
    "plt.show()\n",
    "plt.plot(pca.explained_variance_ratio_, 'bo-')\n",
    "plt.show()"
   ]
  }
 ],
 "metadata": {
  "kernelspec": {
   "display_name": "Python 3",
   "language": "python",
   "name": "python3"
  },
  "language_info": {
   "codemirror_mode": {
    "name": "ipython",
    "version": 3
   },
   "file_extension": ".py",
   "mimetype": "text/x-python",
   "name": "python",
   "nbconvert_exporter": "python",
   "pygments_lexer": "ipython3",
   "version": "3.7.4"
  }
 },
 "nbformat": 4,
 "nbformat_minor": 4
}
