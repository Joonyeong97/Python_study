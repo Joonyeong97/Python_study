{
 "cells": [
  {
   "cell_type": "code",
   "execution_count": null,
   "metadata": {},
   "outputs": [],
   "source": [
    "from sklearn.preprocessing import MinMaxScaler\n",
    "from sklearn.svm import SVC\n",
    "scaler = MinMaxScaler(feature_range=(0,1))\n",
    "scaled_data = scaler.fit_transform(X)\n",
    "\n",
    "SVC2 = SVC(degree=3,C=0.01).fit(scaled_data,y)\n",
    "\n",
    "print('정확도:%.2f'%(SVC2.score(scaled_data,y)*100),\"%\")"
   ]
  },
  {
   "cell_type": "code",
   "execution_count": null,
   "metadata": {},
   "outputs": [],
   "source": [
    "from sklearn.preprocessing import MinMaxScaler\n",
    "from sklearn.ensemble import RandomForestRegressor\n",
    "scaler = MinMaxScaler(feature_range=(0,1))\n",
    "scaled_data = scaler.fit_transform(X)\n",
    "\n",
    "randomF= RandomForestRegressor(n_estimators=100,max_depth =3,min_samples_leaf=1).fit(scaled_data,y)\n",
    "\n",
    "print('정확도:%.2f'%(randomF.score(scaled_data,y)*100),\"%\")"
   ]
  },
  {
   "cell_type": "code",
   "execution_count": null,
   "metadata": {},
   "outputs": [],
   "source": [
    "#from sklearn.model_selection import train_test_split\n",
    "#X_train, X_test, y_train, y_test = train_test_split(X, y, test_size = 0.70, random_state = 42)"
   ]
  },
  {
   "cell_type": "code",
   "execution_count": 3,
   "metadata": {},
   "outputs": [
    {
     "ename": "NameError",
     "evalue": "name 'X' is not defined",
     "output_type": "error",
     "traceback": [
      "\u001b[1;31m---------------------------------------------------------------------------\u001b[0m",
      "\u001b[1;31mNameError\u001b[0m                                 Traceback (most recent call last)",
      "\u001b[1;32m<ipython-input-3-cb3e12b9c24a>\u001b[0m in \u001b[0;36m<module>\u001b[1;34m\u001b[0m\n\u001b[0;32m     12\u001b[0m \u001b[0mvoting_clf\u001b[0m \u001b[1;33m=\u001b[0m \u001b[0mVotingRegressor\u001b[0m\u001b[1;33m(\u001b[0m\u001b[0mestimators\u001b[0m\u001b[1;33m=\u001b[0m\u001b[1;33m[\u001b[0m\u001b[1;33m(\u001b[0m\u001b[1;34m'lr'\u001b[0m\u001b[1;33m,\u001b[0m \u001b[0mlog_clf\u001b[0m\u001b[1;33m)\u001b[0m\u001b[1;33m,\u001b[0m\u001b[1;33m(\u001b[0m\u001b[1;34m'rf'\u001b[0m\u001b[1;33m,\u001b[0m\u001b[0mrnd_clf\u001b[0m\u001b[1;33m)\u001b[0m\u001b[1;33m,\u001b[0m\u001b[1;33m(\u001b[0m\u001b[1;34m'svc'\u001b[0m\u001b[1;33m,\u001b[0m\u001b[0msvm_clf\u001b[0m\u001b[1;33m)\u001b[0m\u001b[1;33m]\u001b[0m\u001b[1;33m,\u001b[0m \u001b[0mn_jobs\u001b[0m\u001b[1;33m=\u001b[0m\u001b[1;33m-\u001b[0m\u001b[1;36m1\u001b[0m\u001b[1;33m)\u001b[0m\u001b[1;33m\u001b[0m\u001b[1;33m\u001b[0m\u001b[0m\n\u001b[0;32m     13\u001b[0m \u001b[1;31m#VotingRegressor()\u001b[0m\u001b[1;33m\u001b[0m\u001b[1;33m\u001b[0m\u001b[1;33m\u001b[0m\u001b[0m\n\u001b[1;32m---> 14\u001b[1;33m \u001b[0mvoting_clf\u001b[0m\u001b[1;33m.\u001b[0m\u001b[0mfit\u001b[0m\u001b[1;33m(\u001b[0m\u001b[0mX\u001b[0m\u001b[1;33m,\u001b[0m\u001b[0my\u001b[0m\u001b[1;33m)\u001b[0m\u001b[1;33m\u001b[0m\u001b[1;33m\u001b[0m\u001b[0m\n\u001b[0m",
      "\u001b[1;31mNameError\u001b[0m: name 'X' is not defined"
     ]
    }
   ],
   "source": [
    "# 앙상블\n",
    "from sklearn.ensemble import VotingRegressor,VotingClassifier\n",
    "from sklearn.svm import SVC\n",
    "from sklearn.linear_model import LogisticRegression\n",
    "from sklearn.ensemble import RandomForestRegressor\n",
    "\n",
    "log_clf = LogisticRegression()\n",
    "rnd_clf = RandomForestRegressor()\n",
    "svm_clf = SVC()\n",
    "\n",
    "\n",
    "voting_clf = VotingRegressor(estimators=[('lr', log_clf),('rf',rnd_clf),('svc',svm_clf)], n_jobs=-1)\n",
    "#VotingRegressor()\n",
    "voting_clf.fit(X,y)"
   ]
  },
  {
   "cell_type": "code",
   "execution_count": null,
   "metadata": {},
   "outputs": [],
   "source": [
    "# 앙상블점수\n",
    "voting_clf.score(X,y)\n"
   ]
  },
  {
   "cell_type": "code",
   "execution_count": null,
   "metadata": {},
   "outputs": [],
   "source": [
    "# z점수 SVC\n",
    "from sklearn.svm import SVC\n",
    "from sklearn.preprocessing import scale, robust_scale, minmax_scale , maxabs_scale\n",
    "scaler = scale(X)\n",
    "\n",
    "#scaled_data = scale.fit(x)\n",
    "\n",
    "logreg= SVC(degree=3,C=0.01).fit(scaler,y)\n",
    "\n",
    "print(\"SVC Z점수 정확도:%.2f\" %(logreg.score(scaler,y)*100),\"%\")\n",
    "#\n",
    "scaler = maxabs_scale(X)\n",
    "\n",
    "#scaled_data = scale.fit(x)\n",
    "\n",
    "logreg= SVC(degree=3,C=0.01).fit(scaler,y)\n",
    "\n",
    "print('SVC maxabs점수 정확도:%.2f'%(logreg.score(scaler,y)*100),\"%\")\n",
    "#\n",
    "scaler = minmax_scale(X)\n",
    "\n",
    "#scaled_data = scale.fit(x)\n",
    "\n",
    "logreg= SVC(degree=3,C=0.01).fit(scaler,y)\n",
    "\n",
    "print('SVC minmax점수 정확도:%.2f'%(logreg.score(scaler,y)*100),\"%\")\n",
    "#\n",
    "scaler = robust_scale(X)\n",
    "\n",
    "#scaled_data = scale.fit(x)\n",
    "\n",
    "logreg= SVC(degree=3,C=0.01).fit(scaler,y)\n",
    "\n",
    "print('SVC robust점수 정확도:%.2f'%(logreg.score(scaler,y)*100),\"%\")"
   ]
  },
  {
   "cell_type": "code",
   "execution_count": null,
   "metadata": {},
   "outputs": [],
   "source": [
    "# z점수 logistic Reg\n",
    "from sklearn.linear_model import LogisticRegression\n",
    "from sklearn.preprocessing import scale, robust_scale, minmax_scale , maxabs_scale\n",
    "scaler = scale(X)\n",
    "\n",
    "#scaled_data = scale.fit(x)\n",
    "\n",
    "logreg= LogisticRegression(solver='lbfgs',max_iter=20).fit(scaler,y)\n",
    "\n",
    "print(\"Logi.Regre Z점수 정확도:%.2f\" %(logreg.score(scaler,y)*100),\"%\")\n",
    "#\n",
    "scaler = maxabs_scale(X)\n",
    "\n",
    "#scaled_data = scale.fit(x)\n",
    "\n",
    "logreg= LogisticRegression(solver='lbfgs',max_iter=20).fit(scaler,y)\n",
    "\n",
    "print('Logi.Regre maxabs점수 정확도:%.2f'%(logreg.score(scaler,y)*100),\"%\")\n",
    "#\n",
    "scaler = minmax_scale(X)\n",
    "\n",
    "#scaled_data = scale.fit(x)\n",
    "\n",
    "logreg= LogisticRegression(solver='lbfgs',max_iter=20).fit(scaler,y)\n",
    "\n",
    "print('Logi.Regre minmax점수 정확도:%.2f'%(logreg.score(scaler,y)*100),\"%\")\n",
    "#\n",
    "scaler = robust_scale(X)\n",
    "\n",
    "#scaled_data = scale.fit(x)\n",
    "\n",
    "logreg= LogisticRegression(solver='lbfgs',max_iter=20).fit(scaler,y)\n",
    "\n",
    "print('Logi.Regre robust점수 정확도:%.2f'%(logreg.score(scaler,y)*100),\"%\")"
   ]
  },
  {
   "cell_type": "code",
   "execution_count": null,
   "metadata": {},
   "outputs": [],
   "source": [
    "# Random forest \n",
    "from sklearn.ensemble import RandomForestRegressor,RandomForestClassifier\n",
    "from sklearn.preprocessing import scale, robust_scale, minmax_scale , maxabs_scale\n",
    "scaler = scale(X)\n",
    "\n",
    "RandomF= RandomForestRegressor(n_estimators = 100, random_state=42).fit(scaler,y)\n",
    "\n",
    "print('RF/ Z_점수 정확도:%.2f'%(RandomF.score(scaler,y)*100),\"%\")\n",
    "###########\n",
    "scaler = robust_scale(X)\n",
    "\n",
    "RandomF= RandomForestRegressor(n_estimators = 100, random_state=42).fit(scaler,y)\n",
    "\n",
    "print('RF/ robust 정확도:%.2f'%(RandomF.score(scaler,y)*100),\"%\")\n",
    "###########\n",
    "scaler = minmax_scale(X)\n",
    "\n",
    "RandomF= RandomForestRegressor(n_estimators = 100, random_state=42).fit(scaler,y)\n",
    "\n",
    "print('RF/ minmax 정확도:%.2f'%(RandomF.score(scaler,y)*100),\"%\")\n",
    "###########\n",
    "scaler = maxabs_scale(X)\n",
    "\n",
    "RandomF= RandomForestRegressor(n_estimators = 100, random_state=42).fit(scaler,y)\n",
    "\n",
    "print('RF/ maxabs 정확도:%.2f'%(RandomF.score(scaler,y)*100),\"%\")\n",
    "###########"
   ]
  }
 ],
 "metadata": {
  "kernelspec": {
   "display_name": "Python 3",
   "language": "python",
   "name": "python3"
  },
  "language_info": {
   "codemirror_mode": {
    "name": "ipython",
    "version": 3
   },
   "file_extension": ".py",
   "mimetype": "text/x-python",
   "name": "python",
   "nbconvert_exporter": "python",
   "pygments_lexer": "ipython3",
   "version": "3.7.4"
  }
 },
 "nbformat": 4,
 "nbformat_minor": 4
}
