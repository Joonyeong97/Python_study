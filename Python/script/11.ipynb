{
 "cells": [
  {
   "cell_type": "markdown",
   "metadata": {},
   "source": [
    "# 편집모드와 명령행 모드"
   ]
  },
  {
   "cell_type": "code",
   "execution_count": null,
   "metadata": {},
   "outputs": [],
   "source": [
    "# 자료구조를 데이터 타입화\n",
    "# list : 데이터의 앞뒤에 다음이나 이전 데이터의 주소가 저장\n",
    "#      : 메모리를 효율적으로 사용하고 삽입삭제를 용이하게 사용하기 위해서 사용하는 자료구조\n",
    "#      : 검색에서는 속도가 느림\n",
    "# dict : 키이 값이 데이터가 저장되어지는 주소값으로 계산되는 hash 함수를 이용해 hash란 주소를 만드는것\n",
    "#      : 데이터 저장, 검색속도가 빠름\n",
    "#      : 데이터 주소값으로 변환되어지는 키이: 데이터 형식으로 저장됨\n",
    "# set : 키이만 저장( 중복 불허 ) : 범주형 데이터의 종류를 확인할 때 사용\n",
    "# tuple : list와 동일한데 변경이 불가능함. (함수가 작음), 함수의 매개변수로 값을 전달하거나 여러개의 값을 리턴하고 싶을때\n",
    "# system 에서 사용함.\n",
    "# 내장함수\n",
    "# 괄호 : [] : list , {} dict, set, () : tuple, 함수에서 사용"
   ]
  },
  {
   "cell_type": "code",
   "execution_count": null,
   "metadata": {
    "scrolled": true
   },
   "outputs": [],
   "source": [
    "a = 10 # 주소 => 값저장 (맵핑)\n",
    "b = a # 10이 대입되는 것이 아니고 a가 가리키는 주소가 대입\n",
    "print(a)\n",
    "print(b)\n"
   ]
  },
  {
   "cell_type": "code",
   "execution_count": null,
   "metadata": {
    "scrolled": false
   },
   "outputs": [],
   "source": [
    "#주소값 일치\n",
    "print(\"주소값 대입\", id(a)), print(id(b) )"
   ]
  },
  {
   "cell_type": "code",
   "execution_count": null,
   "metadata": {},
   "outputs": [],
   "source": [
    "a = 20 \n",
    "print(a)\n",
    "print(b)\n",
    "print(\"주소값 대입\", id(a)), print(id(b) )"
   ]
  },
  {
   "cell_type": "code",
   "execution_count": null,
   "metadata": {},
   "outputs": [],
   "source": [
    "# 파이썬은 대소문자를 구분한다."
   ]
  },
  {
   "cell_type": "code",
   "execution_count": null,
   "metadata": {},
   "outputs": [],
   "source": [
    "type(a)"
   ]
  },
  {
   "cell_type": "code",
   "execution_count": null,
   "metadata": {},
   "outputs": [],
   "source": [
    "# 데이터 입력 :\n",
    "problem = input(\"수식을 입력하시오\") # 데이터 입출력은 문자열로 입출력됨.\n",
    "# 연산을 위해서 데이터 타입을 숫자로 변경\n",
    "print(problem)\n",
    "print(int(problem)) # 데이터 casting : 데이터 형변환\n",
    "print(eval(problem)) # 평가 "
   ]
  },
  {
   "cell_type": "code",
   "execution_count": null,
   "metadata": {},
   "outputs": [],
   "source": [
    "a3 = 4.24e-3 # exponent 지수형\n",
    "a4 = 0o177 # octal 8진수로 표현\n",
    "print(a3)\n",
    "print(a4)\n"
   ]
  },
  {
   "cell_type": "code",
   "execution_count": null,
   "metadata": {},
   "outputs": [],
   "source": [
    "# fullName 문자열 : 기본이 1차원 배열 , 숫자 int :4byte, float : 4byte\n",
    "fullName = input(\"이름을 입력하세요 : \")\n",
    "n = fullName.rfind(\" \")\n",
    "\n",
    "print(fullName[0]) # 배열과 리스트의 인덱싱은 동일하다.\n",
    "print(fullName[1])\n",
    "print(fullName[2])\n",
    "print(n)\n",
    "print(\"이름 : \", fullName[n+1:]) # :\n",
    "print(\"성(s): \", fullName[:n])"
   ]
  },
  {
   "cell_type": "code",
   "execution_count": null,
   "metadata": {},
   "outputs": [],
   "source": [
    "# 문자열은 '' \"single quotation\", \"korea\" ; double quotation\n",
    "# \"\"\"\"\"\" : 3개인 경우는 입력하는대로 저장함\n",
    "\n",
    "s = \"korea\"\n",
    "print(s+s) #koreakorea\n",
    "print(s*3) # 횟수지정\n",
    "print(s[0:])\n",
    "print(s[4])\n",
    "print(s[-1]) # R에서 - 인덱스 : 제외하고 / 파이썬에서는 뒤에서부터\n",
    "print(s[1:3]) # 끝은 제외\n",
    "print(s[-2:]) # 끝에서 두번째부터 끝까지\n",
    "print(s[-2:5])\n",
    "print(s[3:-1]) \n",
    "print(len(s))\n",
    "s.split('r') # 중심에 두고 나눠라."
   ]
  },
  {
   "cell_type": "code",
   "execution_count": null,
   "metadata": {},
   "outputs": [],
   "source": [
    "# csv 데이터 : comma 로 분리된 데이터\n",
    "t = 'Seoul, Incheon, won'.split(\",\")\n",
    "print(t) # 리스트로 분할"
   ]
  },
  {
   "cell_type": "code",
   "execution_count": null,
   "metadata": {},
   "outputs": [],
   "source": [
    "','.join(t)"
   ]
  },
  {
   "cell_type": "code",
   "execution_count": 114,
   "metadata": {},
   "outputs": [
    {
     "name": "stdout",
     "output_type": "stream",
     "text": [
      "Korea\n",
      "2\n",
      "1\n",
      "True\n",
      "False\n",
      "True\n",
      "koRea\n",
      "False\n",
      "True\n"
     ]
    }
   ],
   "source": [
    "# 파이썬은 객체 지향 프로그래밍으로 설계된 언어임 : 모든 것이 객체임, 함수도 객체임\n",
    "# C, Java는  객체지향을 별도로 학습\n",
    "# python은 자체가 객체지향언어임.\n",
    "s = 'korea'\n",
    "print(s.capitalize()) # 첫자가 대문자로\n",
    "print(s.find('r')) # r을 찾아라 \n",
    "print(s.count('re')) #  re가 몇번 나타나냐\n",
    "print(s.isalpha()) # 문자열이냐\n",
    "print(s.isdigit()) # 숫자냐\n",
    "print('0123'.isdigit()) # 숫자냐\n",
    "print(s.replace('r','R')) # r을 R로 바꿔서 출력해라\n",
    "print(s.startswith('K')) # 스타트로 K로 시작하냐\n",
    "print(s.endswith('a')) # 끝이 a로 끝나냐\n",
    "\n",
    "\n"
   ]
  },
  {
   "cell_type": "code",
   "execution_count": null,
   "metadata": {},
   "outputs": [],
   "source": [
    "# 산술연산\n",
    "a = 3\n",
    "b = 4\n",
    "\n",
    "print(a + b, a-b, a*b,a/b)\n",
    "print(a/b)\n",
    "print(a%b) # 나머지연산자 : 경우의 수를 생성할때 : 변수가 가질 수 있는 경우수를 확인\n",
    "print(1%2)\n",
    "print(2%2)\n",
    "print(3%2)\n",
    "print(4%2)\n",
    "\n",
    "print(7/4)\n",
    "print(7//4) # 몫 연산자"
   ]
  },
  {
   "cell_type": "code",
   "execution_count": null,
   "metadata": {
    "scrolled": true
   },
   "outputs": [],
   "source": [
    "# 내장함수\n",
    "# 괄호 : [] : list , {} dict, set, () : tuple, 함수에서 사용\n",
    "# tuple은 변경안됨\n",
    "\n",
    "print(\"sum([1,2,3]) : \", sum([1,2,3]))\n",
    "print(\"min([1,2,3]) : \", min([1,2,3]))\n",
    "print(\"abs(-11) : \", abs(-11)) # 절대값\n",
    "print(\"pow(2,10) : \", pow(2,10)) # 2에 10승\n",
    "print(\"round(3.141595) : \", round(3.141592)) # 반올림\n",
    "print(\"round(3.141595) : \", round(3.141592, 2))\n",
    "# 함수의 형태가 다르면 : 오버로딩\n",
    "# 파이썬 오버로딩이 없음. = > 디폴트 매개변수\n",
    "\n",
    "\n"
   ]
  },
  {
   "cell_type": "code",
   "execution_count": null,
   "metadata": {},
   "outputs": [],
   "source": [
    "# 문제 : 숫자 4,7,8 을 리스트로 초기화 하고 합계를 출력하시오"
   ]
  },
  {
   "cell_type": "code",
   "execution_count": null,
   "metadata": {},
   "outputs": [],
   "source": [
    "ab = 1,2,3\n",
    "sum(ab)"
   ]
  },
  {
   "cell_type": "code",
   "execution_count": null,
   "metadata": {},
   "outputs": [],
   "source": [
    "# 문제 : 두 수를 입력받아 몫과 나머지를 출력하시오"
   ]
  },
  {
   "cell_type": "code",
   "execution_count": 12,
   "metadata": {
    "scrolled": true
   },
   "outputs": [
    {
     "name": "stdout",
     "output_type": "stream",
     "text": [
      "첫 번째 수 15\n",
      "두 번째 수20\n",
      "입력된 수를 2로 나눈 결과 몫 =  17 나머지 =  1\n",
      "홀수 입니다.\n"
     ]
    }
   ],
   "source": [
    "a = input(\"첫 번째 수 \")\n",
    "b = input(\"두 번째 수\" )\n",
    "hab = int(a) + int(b)\n",
    "quotient = hab // 2\n",
    "remainder = hab % 2\n",
    "print(\"입력된 수를 2로 나눈 결과 몫 = \", quotient, \"나머지 = \", remainder)\n",
    "# 파이썬의 블록은 들여쓰기임\n",
    "# : 조건문 , 반복문, 함수\n",
    "if remainder == 0:\n",
    "    print(\" 짝수 입니다. \")\n",
    "else: \n",
    "        print(\"홀수 입니다.\")"
   ]
  },
  {
   "cell_type": "markdown",
   "metadata": {},
   "source": [
    "# Scope\n"
   ]
  },
  {
   "cell_type": "code",
   "execution_count": 14,
   "metadata": {},
   "outputs": [],
   "source": [
    "x = 300 # 전역 변수\n",
    "def myfunc() : # 함수도 리턴타입을 지정하지 않음\n",
    "    x = 200 # 지역변수 : 함수와 생사를 같이함\n",
    "    print(x)\n",
    "    myfunc()\n",
    "    print(x)"
   ]
  },
  {
   "cell_type": "code",
   "execution_count": null,
   "metadata": {},
   "outputs": [],
   "source": [
    "# 어떤 수가 들어 오더라도 나머지가 0::가위, 1:바위, 2:보 로 출력하시오"
   ]
  },
  {
   "cell_type": "code",
   "execution_count": 29,
   "metadata": {},
   "outputs": [
    {
     "name": "stdout",
     "output_type": "stream",
     "text": [
      "0~2 중 입력하시오 18\n",
      "가위입니다.\n"
     ]
    }
   ],
   "source": [
    "vv = int(input(\"0~2 중 입력하시오 \"))\n",
    "zz\n",
    "\n",
    "if vv % 2 == 0:\n",
    "    print(\"가위입니다.\")\n",
    "elif vv % 2 == 1:\n",
    "    print(\"바위입니다.\")\n",
    "elif vv % 2 == 2:\n",
    "    print(\"보 입니다.\")"
   ]
  },
  {
   "cell_type": "code",
   "execution_count": 30,
   "metadata": {},
   "outputs": [
    {
     "name": "stdout",
     "output_type": "stream",
     "text": [
      "4\n",
      "earths\n",
      "['fire', 'air']\n",
      "['air', 1, 'water', 'fire', 'earths']\n"
     ]
    }
   ],
   "source": [
    "# random : 프로그램에서 난수는 의사난수임.\n",
    "import random\n",
    "random.seed(1000) # 그대로가라\n",
    "print(random.randint(1,5))\n",
    "elements = [\"earth\", 1, \"air\", \"fire\", \"water\"]\n",
    "elements[0] = \"earths\"\n",
    "print(random.choice(elements))\n",
    "print(random.sample(elements, 2)) # 두개만 뽑아라 랜덤으로\n",
    "random.shuffle(elements) # 셔플해라\n",
    "print(elements)\n",
    "\n"
   ]
  },
  {
   "cell_type": "code",
   "execution_count": null,
   "metadata": {},
   "outputs": [],
   "source": [
    "# 비교연산자와 논리 연산자 ( >=, <=,>,<)와 논리 연산자 (and, or, not)\n",
    "a = 20\n",
    "b = 10\n",
    "c = a > 10 and b < 50\n",
    "print(c)\n",
    "\n",
    "c = 10<a<50\n",
    "print(c)"
   ]
  },
  {
   "cell_type": "code",
   "execution_count": null,
   "metadata": {},
   "outputs": [],
   "source": [
    "# swap\n",
    "x = 5\n",
    "y = 6\n",
    "x, y = y,x\n",
    "print(x,y)"
   ]
  },
  {
   "cell_type": "code",
   "execution_count": 31,
   "metadata": {
    "scrolled": true
   },
   "outputs": [
    {
     "name": "stdout",
     "output_type": "stream",
     "text": [
      "[3, ['a', 'b', 'c'], 4]\n",
      "['a', 'b']\n",
      "['a', 100, 50]\n",
      "1\n",
      "['a', 'b', ['Life', 'is']] [2] [0]\n"
     ]
    }
   ],
   "source": [
    "# list 안에 list\n",
    "# a 에 저장된 것 : list주소값, 리스트는 주소를 담아놓은 항아리\n",
    "a = [1,2,3, ['a','b','c'],4,5]\n",
    "print(a[2:5])\n",
    "print(a[3][:2])\n",
    "# 2차원 list\n",
    "a = [['a',100, 50], ['a2',90,88],['a2',100,100]]\n",
    "print(a[0][:3])\n",
    "\n",
    "a = [1,2, ['a','b',['Life', 'is']]]\n",
    "print(a[0])\n",
    "print(a[2],[2],[0])"
   ]
  },
  {
   "cell_type": "code",
   "execution_count": 32,
   "metadata": {},
   "outputs": [
    {
     "name": "stdout",
     "output_type": "stream",
     "text": [
      "60\n",
      "[10, 20, 30, 40, 50]\n",
      "60\n",
      "80\n"
     ]
    }
   ],
   "source": [
    "# 리스트를 이용한 스택 ( stack ) Last in first out\n",
    "a = [10,20,30,40,50]\n",
    "a.append(60) # 데이터추가시 append 함수사용\n",
    "print(a.pop()) # 뒤에서 데이터를 가지오 오면서 삭제\n",
    "print(a)\n",
    "a.append(60)\n",
    "print(a.pop())\n",
    "a.append(70)\n",
    "a.append(80)\n",
    "print(a.pop())"
   ]
  },
  {
   "cell_type": "code",
   "execution_count": 26,
   "metadata": {},
   "outputs": [
    {
     "name": "stdout",
     "output_type": "stream",
     "text": [
      "7 12\n",
      "7\n"
     ]
    },
    {
     "data": {
      "text/plain": [
       "(9, 20)"
      ]
     },
     "execution_count": 26,
     "metadata": {},
     "output_type": "execute_result"
    }
   ],
   "source": [
    "# 파이썬 함수 - 리턴값의 지정은 없음.\n",
    "# define 한다\n",
    "def calc(a,b): # 함수의 역할 : 작업, 매개변수 : 작업 할 때 필요한 데이터\n",
    "    return a+b, a*b\n",
    "x,y = calc(3,4)\n",
    "print(x,y)\n",
    "print(x)\n",
    "x,y\n",
    "args=(4,5) # tuple\n",
    "calc(*args) # 포인터로 찢어서 찾아서 해라"
   ]
  },
  {
   "cell_type": "code",
   "execution_count": 103,
   "metadata": {},
   "outputs": [
    {
     "name": "stdout",
     "output_type": "stream",
     "text": [
      "1\n"
     ]
    }
   ],
   "source": [
    "# dictionary\n",
    "d = {'one':1,'two':2} # 키이 => 저장될 주소값으로 계산됨 - 검색에서 가장속도가 빠른것\n",
    "# 콜론으로 묶은게 키 , 1 이 데이터\n",
    "d.items() # 묶어서 리스트화 시켜라\n",
    "print(d['one'])\n",
    "# mongodb => NOSQL"
   ]
  },
  {
   "cell_type": "code",
   "execution_count": 107,
   "metadata": {},
   "outputs": [
    {
     "name": "stdout",
     "output_type": "stream",
     "text": [
      "2\n",
      "True\n",
      "1\n",
      "['incheon', 'seoul', 'suwon']\n"
     ]
    },
    {
     "data": {
      "text/plain": [
       "['suwon', 'seoul', 'incheon']"
      ]
     },
     "execution_count": 107,
     "metadata": {},
     "output_type": "execute_result"
    }
   ],
   "source": [
    "cities = ['seoul','incheon','suwon']\n",
    "print(cities.index('suwon')) # 0,1,2 마지막인 2번에 위치\n",
    "print('incheon' in cities) # 포함 연산자 cities에 인천이 포함되냐\n",
    "print(cities.count('seoul')) # 서울이 몇개냐\n",
    "zd = sorted(cities) # 오름차순 ㄱㄴㄷ\n",
    "print(zd)\n",
    "sorted(cities, reverse = True) # 리버스 거꾸로 = 내림차순"
   ]
  },
  {
   "cell_type": "code",
   "execution_count": 108,
   "metadata": {},
   "outputs": [
    {
     "name": "stdout",
     "output_type": "stream",
     "text": [
      "['seoul', 'incheon', 'suwon']\n",
      "['seoul', 'incheon', 'suwon', 'busan']\n",
      "['daegu', 'seoul', 'incheon', 'suwon', 'busan']\n",
      "결합 ['daegu', 'seoul', 'incheon', 'suwon', 'busan', 'jeju', 'kwangju']\n",
      "['daegu', 'seoul', 'incheon', 'suwon', 'busan', ['daejun', 'ulsan']]\n",
      "['daegu', 'seoul', 'incheon', 'suwon', 'busan', ['daejun', 'ulsan'], 'jeju', 'kwangju']\n"
     ]
    }
   ],
   "source": [
    "# 데이터 삽입이 용이\n",
    "print(cities)\n",
    "cities.append('busan') # 맨뒤에 값추가 \n",
    "print(cities)\n",
    "cities.insert(0,'daegu') # 데이터 삽입 처음에\n",
    "print(cities)\n",
    "other_cities = ['jeju', 'kwangju']\n",
    "print('결합', cities + other_cities) # 리스트+ 연산자 \n",
    "cities.append(['daejun','ulsan']) # 모양이 유지가 됨\n",
    "print(cities)\n",
    "cities.extend(['jeju','kwangju'])\n",
    "print(cities)"
   ]
  },
  {
   "cell_type": "code",
   "execution_count": 109,
   "metadata": {},
   "outputs": [
    {
     "name": "stdout",
     "output_type": "stream",
     "text": [
      "['daejun', 'ulsan']\n",
      "ulsan\n",
      "['daegu', 'seoul', 'incheon', 'suwon', 'busan', ['daejun', 'jeju'], 'jeju', 'kwangju']\n"
     ]
    }
   ],
   "source": [
    "print(cities[5])\n",
    "print(cities[5][1])\n",
    "cities[5][1] = 'jeju'\n",
    "print(cities)"
   ]
  },
  {
   "cell_type": "code",
   "execution_count": 110,
   "metadata": {},
   "outputs": [
    {
     "name": "stdout",
     "output_type": "stream",
     "text": [
      "['daegu', 'seoul', 'incheon', 'suwon', 'busan', ['daejun'], 'jeju', 'kwangju']\n"
     ]
    }
   ],
   "source": [
    "# cities[5].remove(cities[5][1])\n",
    "del(cities[5][1])\n",
    "print(cities)"
   ]
  },
  {
   "cell_type": "code",
   "execution_count": 116,
   "metadata": {},
   "outputs": [
    {
     "name": "stdout",
     "output_type": "stream",
     "text": [
      "점수입력 : 15\n",
      "F\n"
     ]
    }
   ],
   "source": [
    "print('점수입력 : ', end = '') # \\n\n",
    "jumsu = int(input())\n",
    "if jumsu >= 90: print('A')\n",
    "elif jumsu >= 80: print('B')\n",
    "elif jumsu >= 70: print('C')\n",
    "elif jumsu >= 60: print('D')\n",
    "else: print('F')"
   ]
  },
  {
   "cell_type": "code",
   "execution_count": 120,
   "metadata": {},
   "outputs": [],
   "source": [
    "# 다음 (color와 mode에 따른 날씨)를 if문을 이용하여 출력하시오\n",
    "#          ( 반응에 따른 날씨 예측 프로그램 )\n",
    "#                   Blue        Red\n",
    "#       STEADY      화창      비오는날\n",
    "#       FLASHING    구름     눈오는날\n"
   ]
  },
  {
   "cell_type": "code",
   "execution_count": 49,
   "metadata": {},
   "outputs": [
    {
     "name": "stdout",
     "output_type": "stream",
     "text": [
      "둘중 하나 입력\n",
      "STEADY, FLASHING 입력\n",
      "STEADY\n",
      "BLUE, RED 입력\n",
      "RED\n",
      "비오는날\n"
     ]
    }
   ],
   "source": [
    "print(\"둘중 하나 입력\")\n",
    "print(\"STEADY, FLASHING 입력\")\n",
    "nalsi = input()\n",
    "print(\"BLUE, RED 입력\")\n",
    "mode = input()\n",
    "\n",
    "\n",
    "if nalsi == \"STEADY\":\n",
    "     if mode == \"BLUE\":\n",
    "               print(\"화창한날\")\n",
    "                \n",
    "if nalsi == \"FLASHING\":\n",
    "     if mode == \"BLUE\":\n",
    "               print(\"구름낀날\")\n",
    "                \n",
    "if nalsi == \"STEADY\":\n",
    "     if mode == \"RED\":\n",
    "               print(\"비오는날\")\n",
    "\n",
    "if nalsi == \"FLASHING\":\n",
    "     if mode == \"RED\":\n",
    "               print(\"눈오는날\")\n",
    "\n"
   ]
  },
  {
   "cell_type": "code",
   "execution_count": 162,
   "metadata": {},
   "outputs": [
    {
     "name": "stdout",
     "output_type": "stream",
     "text": [
      "색입력(BLUE or RED) : BLUE\n",
      "mode 입력 (STEADY or FLASHING) : STEADY\n",
      "예측된 날씨는 화창한 날\n"
     ]
    }
   ],
   "source": [
    "color = input(\"색입력(BLUE or RED) : \")\n",
    "mode = input(\"mode 입력 (STEADY or FLASHING) : \")\n",
    "color = color.upper()\n",
    "mode = mode.upper()\n",
    "result = \"\"\n",
    "if color == \"BLUE\":\n",
    "    if mode == \"STEADY\":\n",
    "        result = \"화창한 날\"\n",
    "    else:\n",
    "        result = \"구름낀 날\"\n",
    "else:\n",
    "    if mode == \"STEADY\":\n",
    "        result = \"비오는 날\"\n",
    "    else:\n",
    "        result = \"눈오는 날\"\n",
    "print(\"예측된 날씨는\", result)"
   ]
  },
  {
   "cell_type": "code",
   "execution_count": 169,
   "metadata": {},
   "outputs": [],
   "source": [
    "# 수입 (revenue)과 지출 (costs)을 입력받아 순수입을 출력하는 프로그램을 작성\n",
    "#  - 제약조건 : 소수점 이하 2자리 가지 출력 (round)\n",
    "#   : 수입과 지출이 동일한 경우를 고려하시오 (손익분기점\n",
    "#   : 결과 출력시 경우에 따라 순수익, 순손실도 같이 출력하세요.\n"
   ]
  },
  {
   "cell_type": "code",
   "execution_count": 195,
   "metadata": {},
   "outputs": [
    {
     "name": "stdout",
     "output_type": "stream",
     "text": [
      "수입을 입력하세요 : 90\n",
      "지출을 입력하세요 : 100\n",
      "순손실입니다 :  -10.0\n"
     ]
    }
   ],
   "source": [
    "re = float(input(\"수입을 입력하세요 : \"))\n",
    "co = float(input(\"지출을 입력하세요 : \"))\n",
    "sun = round(re-co,2)\n",
    "\n",
    "if re == co:\n",
    "    print(\"손익 분기점입니다. \")\n",
    "elif re > co:\n",
    "    print(\"순수익입니다 :\", sun)\n",
    "elif re < co:\n",
    "    print(\"순손실입니다 : \", sun)"
   ]
  },
  {
   "cell_type": "code",
   "execution_count": 50,
   "metadata": {},
   "outputs": [
    {
     "name": "stdout",
     "output_type": "stream",
     "text": [
      "총비용을 입력하시오50\n",
      "총수익을 입력하시오60\n",
      "순수익 = 10.00.\n"
     ]
    }
   ],
   "source": [
    "costs = eval(input(\"총비용을 입력하시오\"))\n",
    "revenue = eval(input(\"총수익을 입력하시오\"))\n",
    "if costs == revenue:\n",
    "    result =\"손익분기점입니다.\"\n",
    "else:\n",
    "    if costs < revenue:\n",
    "        profit = revenue - costs\n",
    "        result = \"순수익 = {0:,.2f}.\".format(round(profit,2)) # 문자열\n",
    "    else:\n",
    "        loss = costs - revenue\n",
    "        result = \"순손실 = {0:,.2f}.\".format(round(loss,2))\n",
    "print(result)\n",
    "\n",
    "# {0: 맨처음부터 ,.2f 플롯으로 소수열 2자리까지 표시해라}\n",
    "# format() 문자열을 {} 중괄호 안에있는곳으로 투입시켜라"
   ]
  },
  {
   "cell_type": "code",
   "execution_count": 51,
   "metadata": {},
   "outputs": [],
   "source": [
    "# 평균, 분산, 표준편차,\n",
    "#  분산 : 관측치 - 평균\n",
    "#  for문 : \n",
    "#  수입(revenue)과 지출(costs)을 입력받아 순수입을 출력하는 프로그램을 작성하시오\n",
    "#  - 제약조건 : 소수점 이하 2자리 까지 출력 (round)\n",
    "#    : 수입과 지출이 동일한 경우를 고려하시오 (손익분기점)\n",
    "#   : 결과 출력시 경우에 따라 순수익, 순손실도 같이 출력하도록 하시오"
   ]
  },
  {
   "cell_type": "code",
   "execution_count": null,
   "metadata": {},
   "outputs": [],
   "source": []
  }
 ],
 "metadata": {
  "kernelspec": {
   "display_name": "Python 3",
   "language": "python",
   "name": "python3"
  },
  "language_info": {
   "codemirror_mode": {
    "name": "ipython",
    "version": 3
   },
   "file_extension": ".py",
   "mimetype": "text/x-python",
   "name": "python",
   "nbconvert_exporter": "python",
   "pygments_lexer": "ipython3",
   "version": "3.7.4"
  }
 },
 "nbformat": 4,
 "nbformat_minor": 2
}
