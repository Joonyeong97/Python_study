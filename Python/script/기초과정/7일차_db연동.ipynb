{
 "cells": [
  {
   "cell_type": "code",
   "execution_count": 18,
   "metadata": {},
   "outputs": [
    {
     "data": {
      "text/plain": [
       "'20200325_04:31:53'"
      ]
     },
     "execution_count": 18,
     "metadata": {},
     "output_type": "execute_result"
    }
   ],
   "source": [
    "import datetime\n",
    "current = datetime.datetime.now()\n",
    "nine_hour_later = current + datetime.timedelta(hours=9)\n",
    "date = nine_hour_later.strftime(\"%Y%m%d_%H:%M:%S\")\n",
    "date"
   ]
  },
  {
   "cell_type": "markdown",
   "metadata": {},
   "source": [
    "# 7일차\n",
    "- 파이썬과 mariaDB연동"
   ]
  },
  {
   "cell_type": "code",
   "execution_count": 141,
   "metadata": {},
   "outputs": [],
   "source": [
    "def sql_():\n",
    "    import pymysql\n",
    "    conn = pymysql.connect(host='13.124.226.221',\n",
    "                           user='ljkk1542', port=8056, password='maroon3169!@', db='tell119',\n",
    "                           charset='utf8mb4', use_unicode=True,\n",
    "                           cursorclass=pymysql.cursors.DictCursor)\n",
    "    return conn"
   ]
  },
  {
   "cell_type": "code",
   "execution_count": 159,
   "metadata": {},
   "outputs": [],
   "source": [
    "date = '20200322'\n"
   ]
  },
  {
   "cell_type": "code",
   "execution_count": 161,
   "metadata": {},
   "outputs": [
    {
     "data": {
      "text/plain": [
       "8"
      ]
     },
     "execution_count": 161,
     "metadata": {},
     "output_type": "execute_result"
    }
   ],
   "source": [
    "len(date)"
   ]
  },
  {
   "cell_type": "code",
   "execution_count": 156,
   "metadata": {},
   "outputs": [],
   "source": [
    "conn = sql_()\n",
    "cur = conn.cursor()\n",
    "sql =\"\"\"SELECT * FROM Connection_ip where date>= (%s)\"\"\"\n",
    "cur.execute(sql, '%s'%(date))\n",
    "row = cur.fetchall()\n",
    "real = []\n",
    "for pet in row:\n",
    "    pet_val = list(pet.values())\n",
    "    real.append(pet_val)\n"
   ]
  },
  {
   "cell_type": "code",
   "execution_count": 143,
   "metadata": {},
   "outputs": [],
   "source": [
    "import pandas as pd"
   ]
  },
  {
   "cell_type": "code",
   "execution_count": 144,
   "metadata": {},
   "outputs": [],
   "source": [
    "ip = []\n",
    "date = []\n",
    "for i,q in enumerate(real):\n",
    "    ip.append(q[0])\n",
    "    date.append(q[1].strftime('%Y%m%d'))"
   ]
  },
  {
   "cell_type": "code",
   "execution_count": 145,
   "metadata": {},
   "outputs": [],
   "source": [
    "aa = pd.DataFrame(ip,columns=['IP'])\n",
    "bb = pd.DataFrame(date,columns=['DATE'])"
   ]
  },
  {
   "cell_type": "code",
   "execution_count": 146,
   "metadata": {},
   "outputs": [],
   "source": [
    "df = pd.merge(aa,bb, how='outer', left_index=True,right_index=True)"
   ]
  },
  {
   "cell_type": "code",
   "execution_count": 147,
   "metadata": {},
   "outputs": [
    {
     "data": {
      "text/plain": [
       "761"
      ]
     },
     "execution_count": 147,
     "metadata": {},
     "output_type": "execute_result"
    }
   ],
   "source": [
    "len(df)"
   ]
  },
  {
   "cell_type": "code",
   "execution_count": 148,
   "metadata": {},
   "outputs": [
    {
     "data": {
      "text/html": [
       "<div>\n",
       "<style scoped>\n",
       "    .dataframe tbody tr th:only-of-type {\n",
       "        vertical-align: middle;\n",
       "    }\n",
       "\n",
       "    .dataframe tbody tr th {\n",
       "        vertical-align: top;\n",
       "    }\n",
       "\n",
       "    .dataframe thead th {\n",
       "        text-align: right;\n",
       "    }\n",
       "</style>\n",
       "<table border=\"1\" class=\"dataframe\">\n",
       "  <thead>\n",
       "    <tr style=\"text-align: right;\">\n",
       "      <th></th>\n",
       "      <th>IP</th>\n",
       "    </tr>\n",
       "  </thead>\n",
       "  <tbody>\n",
       "    <tr>\n",
       "      <th>1</th>\n",
       "      <td>218.157.138.171</td>\n",
       "    </tr>\n",
       "  </tbody>\n",
       "</table>\n",
       "</div>"
      ],
      "text/plain": [
       "                IP\n",
       "1  218.157.138.171"
      ]
     },
     "execution_count": 148,
     "metadata": {},
     "output_type": "execute_result"
    }
   ],
   "source": [
    "df.iloc[1:2,:1]"
   ]
  },
  {
   "cell_type": "code",
   "execution_count": 140,
   "metadata": {},
   "outputs": [
    {
     "data": {
      "text/plain": [
       "0      218.157.138.171\n",
       "1      218.157.138.171\n",
       "2           39.7.59.32\n",
       "3      192.241.198.223\n",
       "4         54.203.58.10\n",
       "            ...       \n",
       "756    218.157.138.171\n",
       "757    104.238.220.208\n",
       "758       42.188.65.28\n",
       "759          127.0.0.1\n",
       "760      200.53.28.136\n",
       "Name: IP, Length: 761, dtype: object"
      ]
     },
     "execution_count": 140,
     "metadata": {},
     "output_type": "execute_result"
    }
   ],
   "source": [
    "df['IP']"
   ]
  },
  {
   "cell_type": "code",
   "execution_count": 78,
   "metadata": {},
   "outputs": [
    {
     "name": "stdout",
     "output_type": "stream",
     "text": [
      "None\n"
     ]
    },
    {
     "data": {
      "text/plain": [
       "<bound method Connection.close of <pymysql.connections.Connection object at 0x00000296FD8E35C8>>"
      ]
     },
     "execution_count": 78,
     "metadata": {},
     "output_type": "execute_result"
    }
   ],
   "source": [
    "import pymysql\n",
    "# 네트워크 접속은 os관리\n",
    "conn = pymysql.connect(host = '13.124.226.221',\n",
    "                      user ='ljkk1542', port=8056, password='maroon3169!@', db='tell119',\n",
    "                      charset = 'utf8mb4', use_unicode=True,\n",
    "                      cursorclass = pymysql.cursors.DictCursor)\n",
    "\n",
    "cur = conn.cursor()\n",
    "cur.execute(\"Create table inquire ( id INT NOT NULL AUTO_INCREMENT, \\\n",
    "           name VARCHAR(20),\\\n",
    "           email TEXT,\\\n",
    "           text TEXT,\\\n",
    "           IP_address TEXT,\\\n",
    "           mmdd TEXT,\\\n",
    "           PRIMARY KEY (id)) ENGINE = InnoDB AUTO_INCREMENT=1\")\n",
    "print(cur.description)\n",
    "conn.close"
   ]
  },
  {
   "cell_type": "code",
   "execution_count": 67,
   "metadata": {},
   "outputs": [],
   "source": []
  },
  {
   "cell_type": "code",
   "execution_count": 57,
   "metadata": {},
   "outputs": [
    {
     "data": {
      "text/plain": [
       "'2020-03-08 15:50:19'"
      ]
     },
     "execution_count": 57,
     "metadata": {},
     "output_type": "execute_result"
    }
   ],
   "source": [
    "import time\n",
    "date = time.strftime('%Y-%m-%d %H:%M:%S', time.localtime(time.time()))\n"
   ]
  },
  {
   "cell_type": "code",
   "execution_count": 75,
   "metadata": {},
   "outputs": [],
   "source": [
    "name = 'sfsdfafjk'\n",
    "email = 'ea@naver.com'\n",
    "text = 'asfd특수문자fasd 실험입니다. ★qweqew 니니니님아ㅇ'\n",
    "ip = '125.15.3.5'"
   ]
  },
  {
   "cell_type": "code",
   "execution_count": 77,
   "metadata": {},
   "outputs": [],
   "source": [
    "import pymysql\n",
    "conn = pymysql.connect(host = 'localhost',\n",
    "                      user ='root', port=3306, password='root', db='tell119',\n",
    "                      charset = 'utf8mb4', use_unicode=True,\n",
    "                      cursorclass = pymysql.cursors.DictCursor)\n",
    "\n",
    "cur = conn.cursor()\n",
    "sql =\"\"\"INSERT INTO inquire (name, email, text, IP_address, mmdd)\n",
    "    VALUES(%s, %s, %s, %s, %s)\"\"\"\n",
    "\n",
    "\n",
    "\n",
    "cur.execute(sql, ('%s'%(name), '%s'%(email),'%s'%(text), '%s'%(ip), '%s'%(date)))\n",
    "\n",
    "# cur.execute(sql, ('ljkk1542', '텍스트 문의드립니다.'))\n",
    "# cur.execute(sql, ('영구영구', '텍스트 문의드립니다. 잘 지내시죠?'))\n",
    "# cur.execute(sql, ('영구영구2', '텍스트 문의드립니다. ggggggqweqejasdkhda test 입니다.'))\n",
    "\n",
    "\n",
    "conn.commit()\n"
   ]
  },
  {
   "cell_type": "code",
   "execution_count": 74,
   "metadata": {},
   "outputs": [
    {
     "data": {
      "text/plain": [
       "'sfsdfafjk'"
      ]
     },
     "execution_count": 74,
     "metadata": {},
     "output_type": "execute_result"
    }
   ],
   "source": [
    "'%s'%(name)"
   ]
  },
  {
   "cell_type": "code",
   "execution_count": 1,
   "metadata": {},
   "outputs": [
    {
     "name": "stdout",
     "output_type": "stream",
     "text": [
      "None\n"
     ]
    },
    {
     "data": {
      "text/plain": [
       "<bound method Connection.close of <pymysql.connections.Connection object at 0x00000296FD6C4388>>"
      ]
     },
     "execution_count": 1,
     "metadata": {},
     "output_type": "execute_result"
    }
   ],
   "source": [
    "import pymysql\n",
    "# 네트워크 접속은 os관리\n",
    "conn = pymysql.connect(host = 'localhost',\n",
    "                      user ='root', port=3306, password='root', db='acornschool',\n",
    "                      charset = 'utf8mb4', use_unicode=True,\n",
    "                      cursorclass = pymysql.cursors.DictCursor)\n",
    "\n",
    "cur = conn.cursor()\n",
    "cur.execute(\"Create table pet ( id INT NOT NULL AUTO_INCREMENT, \\\n",
    "           name VARCHAR(20),\\\n",
    "           owner VARCHAR(20),\\\n",
    "           species VARCHAR(20),\\\n",
    "           sex CHAR(1),\\\n",
    "           birth DATE, death DATE,\\\n",
    "           PRIMARY KEY (id)) ENGINE = InnoDB AUTO_INCREMENT=1\")\n",
    "print(cur.description)\n",
    "conn.close"
   ]
  },
  {
   "cell_type": "code",
   "execution_count": 2,
   "metadata": {},
   "outputs": [],
   "source": [
    "conn = pymysql.connect(host = 'localhost',\n",
    "                      user ='root', port=3306, password='root', db='acornschool',\n",
    "                      charset = 'utf8mb4', use_unicode=True,\n",
    "                      cursorclass = pymysql.cursors.DictCursor)\n",
    "\n",
    "cur = conn.cursor()\n",
    "sql =\"\"\"INSERT INTO pet (name, owner, species, sex, birth, death)\n",
    "    VALUES(%s, %s, %s, %s, %s, %s)\"\"\"\n",
    "cur.execute(sql, ('유리', 'acorn', '강아지', 'f', '2014-1-1','2016-2-1'))\n",
    "cur.execute(sql, ('귀엽', 'acorn', '강아지', 'f', '2014-3-1','2016-9-1'))\n",
    "cur.execute(sql, ('돌이', 'acorn', '곰', 'f', '2014-8-1','2018-2-1'))\n",
    "conn.commit()\n"
   ]
  },
  {
   "cell_type": "code",
   "execution_count": 11,
   "metadata": {},
   "outputs": [
    {
     "name": "stdout",
     "output_type": "stream",
     "text": [
      "5\n"
     ]
    },
    {
     "data": {
      "text/plain": [
       "<bound method Connection.close of <pymysql.connections.Connection object at 0x000001F807D5CB48>>"
      ]
     },
     "execution_count": 11,
     "metadata": {},
     "output_type": "execute_result"
    }
   ],
   "source": [
    "cur.executemany(\"\"\"INSERT INTO pet (name, owner, species, sex, birth, death)\n",
    "    VALUES(%s, %s, %s, %s, %s, %s)\"\"\",\n",
    "    [('대한','민주','cat','f','2001-02-04',None),\n",
    "    ('민국','자유','cat','f','2010-03-17',None),\n",
    "    ('만세','민주','cat','f','2010-05-13',None),\n",
    "    ('하자','민주','cat','f','2001-08-27',None),\n",
    "    ('성공','자유','cat','f','2017-08-31','2018-04-29')])\n",
    "conn.commit()\n",
    "print(cur.rowcount)\n",
    "conn.close"
   ]
  },
  {
   "cell_type": "code",
   "execution_count": 11,
   "metadata": {},
   "outputs": [],
   "source": [
    "import pymysql\n",
    "conn = pymysql.connect(host = '192.168.1.178',\n",
    "                      user ='root', port=3306, password='root', db='acornschool',\n",
    "                      charset = 'utf8mb4', use_unicode=True,\n",
    "                      cursorclass = pymysql.cursors.DictCursor)\n",
    "cur = conn.cursor()\n",
    "\n"
   ]
  },
  {
   "cell_type": "code",
   "execution_count": 12,
   "metadata": {},
   "outputs": [
    {
     "name": "stdout",
     "output_type": "stream",
     "text": [
      "8\n",
      "{'id': 4, 'name': '대한', 'owner': '민주', 'species': 'cat', 'sex': 'f', 'birth': datetime.date(2001, 2, 4), 'death': None}\n",
      "{'id': 5, 'name': '민국', 'owner': '자유', 'species': 'cat', 'sex': 'f', 'birth': datetime.date(2010, 3, 17), 'death': None}\n",
      "{'id': 6, 'name': '만세', 'owner': '민주', 'species': 'cat', 'sex': 'f', 'birth': datetime.date(2010, 5, 13), 'death': None}\n",
      "{'id': 7, 'name': '하자', 'owner': '민주', 'species': 'cat', 'sex': 'f', 'birth': datetime.date(2001, 8, 27), 'death': None}\n",
      "{'id': 8, 'name': '성공', 'owner': '자유', 'species': 'cat', 'sex': 'f', 'birth': datetime.date(2017, 8, 31), 'death': datetime.date(2018, 4, 29)}\n"
     ]
    }
   ],
   "source": [
    "cur.execute('select * from pet')\n",
    "print(cur.rowcount)\n",
    "cur.description\n",
    "\n",
    "cur.fetchone()\n",
    "cur.fetchone()\n",
    "cur.fetchone()\n",
    "recs = cur.fetchmany(2)\n",
    "for rec in recs:\n",
    "    print(rec)\n",
    "recs = cur.fetchall()\n",
    "for rec in recs:\n",
    "    print(rec)\n",
    "#cur.close()\n",
    "#conn.close()\n"
   ]
  },
  {
   "cell_type": "code",
   "execution_count": 17,
   "metadata": {},
   "outputs": [
    {
     "name": "stdout",
     "output_type": "stream",
     "text": [
      "ID=8, Name=성공, 주인=자유\n",
      "1\n"
     ]
    }
   ],
   "source": [
    "# 문제 : 생일이 2015-01-01이후인 pet을 출력하시오\n",
    "\n",
    "cur.execute(\"\"\"SELECT * FROM pet WHERE birth >'2015-01-01';\"\"\")\n",
    "row = cur.fetchall()\n",
    "for pet in row:\n",
    "    pet_val = list(pet.values())\n",
    "    print(\"ID=%d, Name=%s, 주인=%s\"% (pet_val[0],pet_val[1],pet_val[2]))\n",
    "    \n",
    "# 문제 초심을 유리로 업데이트하시오\n",
    "sql = 'update pet set name=%s where name = %s'\n",
    "cur.execute(sql, ('초심','유리'))\n",
    "conn.commit()\n",
    "print(cur.rowcount)\n",
    "\n"
   ]
  },
  {
   "cell_type": "code",
   "execution_count": 19,
   "metadata": {},
   "outputs": [
    {
     "name": "stdout",
     "output_type": "stream",
     "text": [
      "0\n"
     ]
    }
   ],
   "source": [
    "# 문제: 유리를 삭제하시오( 쿼리를 일반화 )\n",
    "sql = 'delete from pet where name=%s'\n",
    "cur.execute(sql,'초심')\n",
    "conn.commit()\n",
    "print(cur.rowcount)\n",
    "\n",
    "cur.close()\n",
    "conn.close()"
   ]
  },
  {
   "cell_type": "code",
   "execution_count": 21,
   "metadata": {},
   "outputs": [
    {
     "name": "stdout",
     "output_type": "stream",
     "text": [
      "[{'id': 2, 'name': '귀엽', 'owner': 'acorn', 'species': '강아지', 'sex': 'f', 'birth': datetime.date(2014, 3, 1), 'death': datetime.date(2016, 9, 1)}, {'id': 3, 'name': '돌이', 'owner': 'acorn', 'species': '곰', 'sex': 'f', 'birth': datetime.date(2014, 8, 1), 'death': datetime.date(2018, 2, 1)}, {'id': 4, 'name': '대한', 'owner': '민주', 'species': 'cat', 'sex': 'f', 'birth': datetime.date(2001, 2, 4), 'death': None}, {'id': 5, 'name': '민국', 'owner': '자유', 'species': 'cat', 'sex': 'f', 'birth': datetime.date(2010, 3, 17), 'death': None}, {'id': 6, 'name': '만세', 'owner': '민주', 'species': 'cat', 'sex': 'f', 'birth': datetime.date(2010, 5, 13), 'death': None}, {'id': 7, 'name': '하자', 'owner': '민주', 'species': 'cat', 'sex': 'f', 'birth': datetime.date(2001, 8, 27), 'death': None}, {'id': 8, 'name': '성공', 'owner': '자유', 'species': 'cat', 'sex': 'f', 'birth': datetime.date(2017, 8, 31), 'death': datetime.date(2018, 4, 29)}]\n"
     ]
    }
   ],
   "source": [
    "conn = pymysql.connect(host = '192.168.1.178',\n",
    "                      user ='root', port=3306, password='root', db='acornschool',\n",
    "                      charset = 'utf8mb4', use_unicode=True,\n",
    "                      cursorclass = pymysql.cursors.DictCursor)\n",
    "cur = conn.cursor()\n",
    "\n",
    "cur = conn.cursor()\n",
    "cur.callproc('pet_select')\n",
    "if(cur.rowcount):\n",
    "    print(cur.fetchall())\n"
   ]
  },
  {
   "cell_type": "code",
   "execution_count": 40,
   "metadata": {},
   "outputs": [],
   "source": [
    "# 문제 insert 를 하는 프로시져를 생성한 다음에\n",
    "# ('마음이', 'acorn','.백구','f','2018-01-02','2018-11-04') 데이터를 입력하시오\n",
    "import pymysql\n",
    "\n",
    "conn = pymysql.connect(host = '192.168.1.178',\n",
    "                      user ='root', port=3306, password='root', db='acornschool',\n",
    "                      charset = 'utf8mb4', use_unicode=True,\n",
    "                      cursorclass = pymysql.cursors.DictCursor)\n",
    "cur = conn.cursor()\n",
    "\n",
    "data = ('마음이', 'acorn','백구','f','2018-01-02','2018-11-04')\n",
    "cur.callproc('pet_insert',data)\n",
    "conn.commit()\n"
   ]
  },
  {
   "cell_type": "code",
   "execution_count": 51,
   "metadata": {},
   "outputs": [
    {
     "name": "stdout",
     "output_type": "stream",
     "text": [
      "2\n",
      "수정할 이름이 없습니다.\n"
     ]
    }
   ],
   "source": [
    "# update\n",
    "data = (\"마음\",\"마음22\",0)\n",
    "cur.callproc('pet_update',data)\n",
    "cur.execute('SELECT @_pet_update_2')# 이름이결정\n",
    "result = cur.fetchone()\n",
    "print(result['@_pet_update_2']) # 키이 데이터형식\n",
    "if result['@_pet_update_2'] ==2:\n",
    "    print(\"수정할 이름이 없습니다.\")\n",
    "else:\n",
    "    print(\"성공적으로 수정되었습니다.\")\n",
    "conn.commit()\n"
   ]
  },
  {
   "cell_type": "code",
   "execution_count": 59,
   "metadata": {},
   "outputs": [
    {
     "name": "stdout",
     "output_type": "stream",
     "text": [
      "2\n",
      "삭제할 이름이 없습니다.\n"
     ]
    }
   ],
   "source": [
    "# delete\n",
    "data = (\"마음22\",0)\n",
    "cur.callproc('pet_delete',data)\n",
    "cur.execute('SELECT @_pet_delete_1')# 이름이결정\n",
    "result = cur.fetchone()\n",
    "print(result['@_pet_delete_1']) # 키이 데이터형식\n",
    "if result['@_pet_delete_1'] ==2:\n",
    "    print(\"삭제할 이름이 없습니다.\")\n",
    "else:\n",
    "    print(\"성공적으로 수정되었습니다.\")\n",
    "conn.commit()"
   ]
  },
  {
   "cell_type": "code",
   "execution_count": 61,
   "metadata": {},
   "outputs": [
    {
     "name": "stdout",
     "output_type": "stream",
     "text": [
      "2\n",
      "삭제할 이름이 없습니다.\n"
     ]
    }
   ],
   "source": [
    "\n",
    "try: # Exception 예외처리 (프로그램은 지속적으로 실행되어야한다.)\n",
    "    data = (\"마음22\",0)\n",
    "    cur.callproc('pet_delete',data)\n",
    "    cur.execute('SELECT @_pet_delete_1')# 이름이결정\n",
    "    result = cur.fetchone()\n",
    "    print(result['@_pet_delete_1']) # 키이 데이터형식\n",
    "    if result['@_pet_delete_1'] ==2:\n",
    "        print(\"삭제할 이름이 없습니다.\")\n",
    "    else:\n",
    "        print(\"성공적으로 수정되었습니다.\")\n",
    "except:\n",
    "    conn.rollback()\n"
   ]
  },
  {
   "cell_type": "code",
   "execution_count": 1,
   "metadata": {},
   "outputs": [],
   "source": [
    "import pymysql\n",
    "class Student:\n",
    "    def __init__(self):\n",
    "        self.bunho=0\n",
    "        self.name=''\n",
    "        self.kor=0\n",
    "        self.mat=0\n",
    "        self.eng=0\n",
    "        self.total=0\n",
    "        self.average=0\n",
    "        self.grade=''\n",
    "    def inputData(self):\n",
    "        self.name=input(\"이름을 입력하시오\")\n",
    "        self.kor=eval(input(\"국어점수:\"))\n",
    "        self.mat=eval(input(\"수학점수:\"))\n",
    "        self.eng=eval(input(\"영어점수:\"))\n",
    "        \n",
    "    def calc_total_average(self):\n",
    "        self.total=self.kor+self.mat+self.eng\n",
    "        self.average=round(self.total/3,2)\n",
    "        self.grade = self.calcSemGrade()\n",
    "        \n",
    "    def calcSemGrade(self):\n",
    "        if self.average>=90:\n",
    "            return \"A\"\n",
    "        elif self.average>=80:\n",
    "            return \"B\"\n",
    "        elif self.average>=70:\n",
    "            return \"C\"\n",
    "        elif self.average>=60:\n",
    "            return \"D\"\n",
    "        else:\n",
    "            return \"F\"\n",
    "    def __str__(self):\n",
    "        return '%5s %5s %6s %6s %6s %7s %7s %s' % (self.bunho, self.name,\n",
    "                                                  self.kor, self.mat,self.eng,self.total,\n",
    "                                                  self.average, self.grade)\n",
    "    def __cmp__(self,other):\n",
    "        return self.name == other.name\n",
    "    def __call__(self,other): # 클래스를 함수처럼 사용하고자할때 오버라이딩.\n",
    "        st = []\n",
    "        for student in other:\n",
    "            stp = Student()\n",
    "            stp.name=student[0]\n",
    "            stp.kor=student[1]\n",
    "            stp.eng=student[2]\n",
    "            stp.mat=student[3]\n",
    "            st.append(stp)\n",
    "        return st"
   ]
  },
  {
   "cell_type": "code",
   "execution_count": 2,
   "metadata": {},
   "outputs": [],
   "source": [
    "class maria:\n",
    "    schoolname = \"에이콘 아카데미\"\n",
    "    def __init__(self):\n",
    "        self.conn = pymysql.connect(host='192.168.1.178', port=3306, user='root',\n",
    "                           password='root',db='acornschool', charset='utf8',\n",
    "                                    autocommit=True)\n",
    "        cor = self.conn.cursor()\n",
    "        cor.execute(\"SHOW TABLES\")\n",
    "        tables = cor.fetchall()\n",
    "        c = []\n",
    "        for i in tables:\n",
    "            if  i == ('sungjuk',):\n",
    "                c.append(i)\n",
    "        if len(c) != 0:\n",
    "            sungjuk_table = \"SELECT * FROM sungjuk\"\n",
    "            cor.execute(sungjuk_table)\n",
    "            print('테이블이 있습니다. ')\n",
    "        else:\n",
    "            cor.execute(\"CREATE TABLE sungjuk (name VARCHAR(20), kor INTEGER(20),  mat INTEGER(20),eng INTEGER(20))\")\n",
    "            print('sungjuk테이블을 생성하였습니다. ')\n",
    "    def __del__(self):\n",
    "        self.conn.close()\n",
    "\n",
    "    def selectdb(self ):\n",
    "        cur = self.conn.cursor()\n",
    "        cur.callproc(\"sungjuk_select\")\n",
    "        if (cur.rowcount):\n",
    "            stu = list(cur.fetchall())\n",
    "        else :\n",
    "            stu = 0;\n",
    "        cur.close()\n",
    "        return stu\n",
    "   \n",
    "    def insertdb(self,name, kor, mat, eng):\n",
    "        cur = self.conn.cursor()\n",
    "        args = (name, kor, mat, eng)\n",
    "        cur.callproc(\"sungjuk_insert\",args)\n",
    "        cur.close()\n",
    "       \n",
    "    def updatedb(self, in_name, up_name):\n",
    "        cur = self.conn.cursor()\n",
    "        args = (in_name, up_name, 0)\n",
    "        cur.callproc(\"sungjuk_update\", args)\n",
    "        cur.execute('SELECT @_sungjuk_update_2')\n",
    "        result = cur.fetchone()\n",
    "        if result==2 :\n",
    "            print(\"수정할 이름이 없습니다.\")\n",
    "        else :\n",
    "            print(\"성공적으로 수정하였습니다. \")\n",
    "        cur.close()\n",
    "        return result \n",
    "   \n",
    "    def deletedb(self,in_name):\n",
    "        cur = self.conn.cursor()\n",
    "        args = (in_name, 0)\n",
    "        cur.callproc(\"sungjuk_delete\", args)\n",
    "        cur.execute('SELECT @_sungjuk_delete_1')\n",
    "        result = cur.fetchone()\n",
    "        if result==2 :\n",
    "            print(\"삭제할 이름이 없습니다.\")\n",
    "        else :\n",
    "            print(\"성공적으로 삭제하였습니다. \")\n",
    "        cur.close()\n",
    "        return result"
   ]
  },
  {
   "cell_type": "code",
   "execution_count": 3,
   "metadata": {},
   "outputs": [],
   "source": [
    "from math import  *\n",
    "from statistics import *\n",
    "\n",
    "class Management:\n",
    "    def __init__(self):\n",
    "        self.maria = maria()\n",
    "    def M_select(self):\n",
    "        data = self.maria.selectdb()\n",
    "        st = []\n",
    "        if (data):\n",
    "            for student in data:\n",
    "                stp = Student()\n",
    "                stp.bunho = student[0]\n",
    "                stp.name = student[1]\n",
    "                stp.kor = student[2]\n",
    "                stp.eng = student[3]\n",
    "                stp.mat = student[4]\n",
    "                stp.total = student[5]\n",
    "                stp.average = student[5]\n",
    "                st.append(stp)                    \n",
    "            # studdata=Student((data))\n",
    "            print(maria.schoolname + \"  성적 계산표 \")\n",
    "            print('%5s %5s %6s %6s %6s %6s  %6s %6s' % ('번 호', '이 름', '국 어',\n",
    "                    '수 학', '영  어', '총 점', '평 균', '학 점' ))      \n",
    "            for stud in st:\n",
    "                print( stud)                     \n",
    "        else :\n",
    "            print(\"데이터가 없습니다. . \")\n",
    "           \n",
    "    def M_insert(self):\n",
    "        stu = Student()\n",
    "        stu.inputData()\n",
    "        self.maria.insertdb(stu.name, stu.kor, stu.mat, stu.eng)\n",
    "    def M_update(self):\n",
    "        name = input(\"검색할 이름을 입력하시요\")\n",
    "        replace_name = input(\"수정할 이름을 입력하시요\")\n",
    "        result=self.maria.updatedb(name, replace_name)  \n",
    "    def M_delete(self):       \n",
    "        name = input(\"검색할 이름을 입력하시요\")\n",
    "        self.maria.deletedb(name)   "
   ]
  },
  {
   "cell_type": "code",
   "execution_count": null,
   "metadata": {},
   "outputs": [
    {
     "name": "stdout",
     "output_type": "stream",
     "text": [
      "테이블이 있습니다. \n",
      "테이블이 있습니다. \n"
     ]
    },
    {
     "name": "stdin",
     "output_type": "stream",
     "text": [
      "['전체검색(1), 입력(2), 수정(3), 삭제(4), 종료(9)'] 1\n"
     ]
    },
    {
     "name": "stdout",
     "output_type": "stream",
     "text": [
      "에이콘 아카데미  성적 계산표 \n",
      "  번 호   이 름    국 어    수 학   영  어    총 점     평 균    학 점\n",
      "    1  asds     54     85     65    None    None \n",
      "    2   ewq     52     98     65    None    None \n",
      "    3  dasd     98     78     98    None    None \n",
      "    4 qweqew     87     88     98    None    None \n",
      "    5   ewq     88     85     95    None    None \n",
      "    6   qwe    123    123    123    None    None \n",
      "    7  9999    123    213    123    None    None \n",
      "    8   qwe    123    123    123    None    None \n",
      "    9   qwe    123    123    123    None    None \n"
     ]
    },
    {
     "name": "stdin",
     "output_type": "stream",
     "text": [
      "['전체검색(1), 입력(2), 수정(3), 삭제(4), 종료(9)'] 2\n",
      "이름을 입력하시오 qwe\n",
      "국어점수: 45\n",
      "수학점수: 65\n",
      "영어점수: 98\n",
      "['전체검색(1), 입력(2), 수정(3), 삭제(4), 종료(9)'] 1\n"
     ]
    },
    {
     "name": "stdout",
     "output_type": "stream",
     "text": [
      "에이콘 아카데미  성적 계산표 \n",
      "  번 호   이 름    국 어    수 학   영  어    총 점     평 균    학 점\n",
      "    1  asds     54     85     65    None    None \n",
      "    2   ewq     52     98     65    None    None \n",
      "    3  dasd     98     78     98    None    None \n",
      "    4 qweqew     87     88     98    None    None \n",
      "    5   ewq     88     85     95    None    None \n",
      "    6   qwe    123    123    123    None    None \n",
      "    7  9999    123    213    123    None    None \n",
      "    8   qwe    123    123    123    None    None \n",
      "    9   qwe    123    123    123    None    None \n",
      "   10   qwe     45     98     65    None    None \n"
     ]
    }
   ],
   "source": [
    "import pymysql\n",
    "import sys\n",
    "class Menu():\n",
    "    def __init__(self):\n",
    "        self.manage = Management()\n",
    "       \n",
    "    def work(self):\n",
    "        menu = [ \"전체검색(1), 입력(2), 수정(3), 삭제(4), 종료(9)\"]\n",
    "        manage = Management()\n",
    "        while 1:\n",
    "            sel = input(menu)\n",
    "            if  sel == \"1\":\n",
    "                manage.M_select()\n",
    "                continue\n",
    "            elif sel == \"2\":\n",
    "                manage.M_insert()\n",
    "                continue       \n",
    "            elif sel ==\"3\":\n",
    "                manage.M_update()\n",
    "                continue\n",
    "            elif sel ==\"4\":\n",
    "                manage.M_delete()\n",
    "            elif sel ==\"9\":\n",
    "                del(manage)\n",
    "                sys.exit()\n",
    "            else :\n",
    "                print(\"잘못된 입력입니다. 다시입력 하시요\")\n",
    "                continue       \n",
    "menu = Menu()\n",
    "menu.work() "
   ]
  },
  {
   "cell_type": "code",
   "execution_count": null,
   "metadata": {},
   "outputs": [],
   "source": []
  },
  {
   "cell_type": "code",
   "execution_count": null,
   "metadata": {},
   "outputs": [],
   "source": []
  }
 ],
 "metadata": {
  "kernelspec": {
   "display_name": "Python 3",
   "language": "python",
   "name": "python3"
  },
  "language_info": {
   "codemirror_mode": {
    "name": "ipython",
    "version": 3
   },
   "file_extension": ".py",
   "mimetype": "text/x-python",
   "name": "python",
   "nbconvert_exporter": "python",
   "pygments_lexer": "ipython3",
   "version": "3.7.6"
  }
 },
 "nbformat": 4,
 "nbformat_minor": 4
}
