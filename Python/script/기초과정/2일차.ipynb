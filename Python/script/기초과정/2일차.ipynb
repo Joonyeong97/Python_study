{
 "cells": [
  {
   "cell_type": "code",
   "execution_count": 1,
   "metadata": {},
   "outputs": [],
   "source": [
    "# 2일차\n",
    "# 반복문"
   ]
  },
  {
   "cell_type": "code",
   "execution_count": 8,
   "metadata": {},
   "outputs": [
    {
     "name": "stdout",
     "output_type": "stream",
     "text": [
      "7 2 4\n",
      "3 8\n"
     ]
    }
   ],
   "source": [
    "num1 = 6\n",
    "num1 += 1 # num1 = num1 + 1\n",
    "num2 = 7\n",
    "num2 -= 5 # num2 = num2 - 1\n",
    "num3 = 8\n",
    "num3 /= 2 # num3 = num3 / 2\n",
    "print(num1,num2,round(num3))\n",
    "num1 = 1\n",
    "num1 *= 3\n",
    "num2 = 2\n",
    "num2 **= 3 # ^ , ** \n",
    "print(num1, num2)"
   ]
  },
  {
   "cell_type": "code",
   "execution_count": 22,
   "metadata": {},
   "outputs": [
    {
     "name": "stdout",
     "output_type": "stream",
     "text": [
      "Negative\n"
     ]
    }
   ],
   "source": [
    "# 3항 연산자\n",
    "x = 5\n",
    "ans = 'Non-negative' if x>=10 else 'Negative'\n",
    "print(ans)"
   ]
  },
  {
   "cell_type": "code",
   "execution_count": 23,
   "metadata": {},
   "outputs": [
    {
     "name": "stdout",
     "output_type": "stream",
     "text": [
      "empty city\n"
     ]
    }
   ],
   "source": [
    "city = ' '# 문자열 거짓, 공백도 문자열, 숫자:0, list:[], dict:{}, tuple:() 모두 거짓\n",
    "if city: # 조건이 참인 경우만 실행\n",
    "    print('empty city')"
   ]
  },
  {
   "cell_type": "code",
   "execution_count": 1,
   "metadata": {},
   "outputs": [
    {
     "name": "stdout",
     "output_type": "stream",
     "text": [
      "2019-12-26 19:56:39.332412\n",
      "\n",
      "생년월일(19951031)을 입력하시오19951031\n",
      "당신의 나이는  25\n",
      "당신은 미성년자가 아닙니다.\n"
     ]
    }
   ],
   "source": [
    "# 날짜의 입력은\n",
    "# 특수하게 해석해서 년월일로 해석\n",
    "import datetime\n",
    "dt = datetime.datetime.now() # 함수는 ()를 사용해야함\n",
    "print(dt)\n",
    "print()\n",
    "#데이터입력\n",
    "age = input(\"생년월일(19951031)을 입력하시오\")\n",
    "#데이터처리\n",
    "year = int(age[0:4]) # 마지막은 미포함\n",
    "month = int(age[4:6]) \n",
    "day = int(age[6:])\n",
    "# 빼기연산\n",
    "# 분산 : 상계방지 (제곱)\n",
    "year_diff = dt.year - year\n",
    "month_diff = dt.month - month\n",
    "day_diff = dt.day - day\n",
    "if day_diff < 0: # 일 내림\n",
    "    month_diff -=1\n",
    "if month_diff <0: # 월 내림\n",
    "    year_diff -=1\n",
    "#데이터 출력\n",
    "print(\"당신의 나이는 \", year_diff + 1)\n",
    "if year_diff < 18:\n",
    "    print(\"당신은 미성년자입니다.\")\n",
    "else:\n",
    "    print(\"당신은 미성년자가 아닙니다.\")"
   ]
  },
  {
   "cell_type": "code",
   "execution_count": 27,
   "metadata": {},
   "outputs": [],
   "source": [
    "# 데이터 입력 -> 처리(연산자), 제어문(판단문, 한가지 규칙을 여러데이터에 적용: 반복문)"
   ]
  },
  {
   "cell_type": "code",
   "execution_count": 28,
   "metadata": {},
   "outputs": [],
   "source": [
    "# for\n",
    "# for(i=0; i<100; i++): 인덱스 오버플로우\n",
    "# {}: 인덱스 오버플로우\n",
    "# for in 문"
   ]
  },
  {
   "cell_type": "code",
   "execution_count": 30,
   "metadata": {},
   "outputs": [
    {
     "name": "stdout",
     "output_type": "stream",
     "text": [
      "earth air fire water "
     ]
    }
   ],
   "source": [
    "# 데이터를 이용하는 방법\n",
    "elements = [\"earth\",\"air\",\"fire\",\"water\"]\n",
    "for i in elements: # i = \"earth\" # Collections, iterator, generator, enumerate\n",
    "    print(i, end = \" \") # 공백"
   ]
  },
  {
   "cell_type": "code",
   "execution_count": 31,
   "metadata": {},
   "outputs": [],
   "source": [
    "# Collections : list, tuple, dict, set\n",
    "# iterator : range : (i=0; i<100; i++): 와 같은 방법으로 사용(start, end, step)\n",
    "# generator : 실시간 데이터 생성, 메모리를 차지하지 않음\n",
    "# enumerate : 매핑으 해줌 0:earth, 1:air, 2:fire"
   ]
  },
  {
   "cell_type": "code",
   "execution_count": 33,
   "metadata": {},
   "outputs": [
    {
     "name": "stdout",
     "output_type": "stream",
     "text": [
      "0\n",
      "1\n",
      "2\n",
      "3\n",
      "4\n"
     ]
    }
   ],
   "source": [
    "for i in range(5): # 최종값\n",
    "    print(i)"
   ]
  },
  {
   "cell_type": "code",
   "execution_count": 35,
   "metadata": {},
   "outputs": [
    {
     "name": "stdout",
     "output_type": "stream",
     "text": [
      "2\n",
      "3\n",
      "4\n"
     ]
    }
   ],
   "source": [
    "#  python 은 오버로딩이 없음 : default 값으로 처리\n",
    "for i in range(2,5):\n",
    "    print(i)"
   ]
  },
  {
   "cell_type": "code",
   "execution_count": 37,
   "metadata": {
    "scrolled": true
   },
   "outputs": [
    {
     "name": "stdout",
     "output_type": "stream",
     "text": [
      "0\n",
      "2\n",
      "4\n",
      "6\n",
      "8\n"
     ]
    }
   ],
   "source": [
    "for i in range(0,10,2): # start, end, step\n",
    "    print(i)"
   ]
  },
  {
   "cell_type": "code",
   "execution_count": 39,
   "metadata": {},
   "outputs": [
    {
     "name": "stdout",
     "output_type": "stream",
     "text": [
      "0\n",
      "earth\n",
      "1\n",
      "air\n",
      "2\n",
      "fire\n",
      "3\n",
      "water\n"
     ]
    }
   ],
   "source": [
    "# 인덱스를 이용하는 방법\n",
    "for i in range(4):\n",
    "    print(i)\n",
    "    print(elements[i])"
   ]
  },
  {
   "cell_type": "code",
   "execution_count": 42,
   "metadata": {},
   "outputs": [
    {
     "name": "stdout",
     "output_type": "stream",
     "text": [
      "range(0, 4)\n",
      "[0, 1, 2, 3]\n"
     ]
    }
   ],
   "source": [
    "# range는 객체(object)다\n",
    "ra = range(4)\n",
    "print(ra)\n",
    "print(list(ra)) #리스트로 캐스팅"
   ]
  },
  {
   "cell_type": "code",
   "execution_count": 44,
   "metadata": {},
   "outputs": [
    {
     "name": "stdout",
     "output_type": "stream",
     "text": [
      "[5, 4, 3, 2, 1, 0]\n"
     ]
    }
   ],
   "source": [
    "print(list(range(5,-1,-1)))"
   ]
  },
  {
   "cell_type": "code",
   "execution_count": 48,
   "metadata": {},
   "outputs": [
    {
     "name": "stdout",
     "output_type": "stream",
     "text": [
      "55\n"
     ]
    }
   ],
   "source": [
    "# 증가변수, 누적변수\n",
    "sum = 0\n",
    "for x in range(1,11):\n",
    "    #sum = sum + x\n",
    "    sum+=x\n",
    "print(sum)"
   ]
  },
  {
   "cell_type": "code",
   "execution_count": 62,
   "metadata": {},
   "outputs": [
    {
     "name": "stdout",
     "output_type": "stream",
     "text": [
      "\n",
      "2 * 2 = 4 \t 3 * 2 = 6 \t 4 * 2 = 8 \t 5 * 2 = 10 \t 6 * 2 = 12 \t 7 * 2 = 14 \t 8 * 2 = 16 \t 9 * 2 = 18 \t \n",
      "2 * 3 = 6 \t 3 * 3 = 9 \t 4 * 3 = 12 \t 5 * 3 = 15 \t 6 * 3 = 18 \t 7 * 3 = 21 \t 8 * 3 = 24 \t 9 * 3 = 27 \t \n",
      "2 * 4 = 8 \t 3 * 4 = 12 \t 4 * 4 = 16 \t 5 * 4 = 20 \t 6 * 4 = 24 \t 7 * 4 = 28 \t 8 * 4 = 32 \t 9 * 4 = 36 \t \n",
      "2 * 5 = 10 \t 3 * 5 = 15 \t 4 * 5 = 20 \t 5 * 5 = 25 \t 6 * 5 = 30 \t 7 * 5 = 35 \t 8 * 5 = 40 \t 9 * 5 = 45 \t \n",
      "2 * 6 = 12 \t 3 * 6 = 18 \t 4 * 6 = 24 \t 5 * 6 = 30 \t 6 * 6 = 36 \t 7 * 6 = 42 \t 8 * 6 = 48 \t 9 * 6 = 54 \t \n",
      "2 * 7 = 14 \t 3 * 7 = 21 \t 4 * 7 = 28 \t 5 * 7 = 35 \t 6 * 7 = 42 \t 7 * 7 = 49 \t 8 * 7 = 56 \t 9 * 7 = 63 \t \n",
      "2 * 8 = 16 \t 3 * 8 = 24 \t 4 * 8 = 32 \t 5 * 8 = 40 \t 6 * 8 = 48 \t 7 * 8 = 56 \t 8 * 8 = 64 \t 9 * 8 = 72 \t \n",
      "2 * 9 = 18 \t 3 * 9 = 27 \t 4 * 9 = 36 \t 5 * 9 = 45 \t 6 * 9 = 54 \t 7 * 9 = 63 \t 8 * 9 = 72 \t 9 * 9 = 81 \t "
     ]
    }
   ],
   "source": [
    "# 중첩된 for 문\n",
    "for x in range(2,10):\n",
    "    print()\n",
    "    for y in range(2,10):\n",
    "        print(y, '*', x, '=', x*y, '\\t', end = \" \")"
   ]
  },
  {
   "cell_type": "code",
   "execution_count": 66,
   "metadata": {},
   "outputs": [
    {
     "data": {
      "text/plain": [
       "[0, 1, 2, 3, 4, 5, 6, 7, 8, 9]"
      ]
     },
     "execution_count": 66,
     "metadata": {},
     "output_type": "execute_result"
    }
   ],
   "source": [
    "# 내장 리스트 : 동적으로 데이터 생성\n",
    "[i for i in range(10)]"
   ]
  },
  {
   "cell_type": "code",
   "execution_count": 74,
   "metadata": {},
   "outputs": [
    {
     "data": {
      "text/plain": [
       "{0: 0, 1: 1, 2: 8, 3: 27, 4: 64, 5: 125, 6: 216, 7: 343, 8: 512, 9: 729}"
      ]
     },
     "execution_count": 74,
     "metadata": {},
     "output_type": "execute_result"
    }
   ],
   "source": [
    "{i: i**3 for i in range(10)}"
   ]
  },
  {
   "cell_type": "code",
   "execution_count": 75,
   "metadata": {},
   "outputs": [
    {
     "data": {
      "text/plain": [
       "[0, 4, 16, 36, 64]"
      ]
     },
     "execution_count": 75,
     "metadata": {},
     "output_type": "execute_result"
    }
   ],
   "source": [
    "[i**2 for i in range(10) if i%2 == 0]"
   ]
  },
  {
   "cell_type": "code",
   "execution_count": 77,
   "metadata": {},
   "outputs": [
    {
     "data": {
      "text/plain": [
       "[(1, 10),\n",
       " (1, 11),\n",
       " (1, 12),\n",
       " (1, 13),\n",
       " (1, 14),\n",
       " (2, 10),\n",
       " (2, 11),\n",
       " (2, 12),\n",
       " (2, 13),\n",
       " (2, 14),\n",
       " (3, 10),\n",
       " (3, 11),\n",
       " (3, 12),\n",
       " (3, 13),\n",
       " (3, 14),\n",
       " (4, 10),\n",
       " (4, 11),\n",
       " (4, 12),\n",
       " (4, 13),\n",
       " (4, 14)]"
      ]
     },
     "execution_count": 77,
     "metadata": {},
     "output_type": "execute_result"
    }
   ],
   "source": [
    "#for r in rows :\n",
    "#    for c in cols:\n",
    "#        (r,c)\n",
    "rows = range(1, 5)\n",
    "cols = range(10,15)\n",
    "vectors = [(r,c) for r in rows for c in cols]\n",
    "vectors"
   ]
  },
  {
   "cell_type": "code",
   "execution_count": 80,
   "metadata": {},
   "outputs": [
    {
     "data": {
      "text/plain": [
       "[1,\n",
       " 2,\n",
       " '3의배수 ',\n",
       " 4,\n",
       " '5의배수',\n",
       " '3의배수 ',\n",
       " 7,\n",
       " 8,\n",
       " '3의배수 ',\n",
       " '5의배수',\n",
       " 11,\n",
       " '3의배수 ',\n",
       " 13,\n",
       " 14,\n",
       " '3의배수 5의배수',\n",
       " 16,\n",
       " 17,\n",
       " '3의배수 ',\n",
       " 19,\n",
       " '5의배수']"
      ]
     },
     "execution_count": 80,
     "metadata": {},
     "output_type": "execute_result"
    }
   ],
   "source": [
    "# 문자열 연산자 +, * (반복)\n",
    "# 앞이 참이면 뒤의 것은 계산하지 않음.\n",
    "# True == 1, False == 0\n",
    "[\"3의배수 \" * (i%3==0) + \"5의배수\" * (i%5 == 0) or i for i in range(1,21)]"
   ]
  },
  {
   "cell_type": "code",
   "execution_count": 118,
   "metadata": {},
   "outputs": [
    {
     "ename": "IndentationError",
     "evalue": "unexpected indent (<ipython-input-118-437bc7a4a62a>, line 11)",
     "output_type": "error",
     "traceback": [
      "\u001b[1;36m  File \u001b[1;32m\"<ipython-input-118-437bc7a4a62a>\"\u001b[1;36m, line \u001b[1;32m11\u001b[0m\n\u001b[1;33m    elif jumsu >= 80: B = jumsu\u001b[0m\n\u001b[1;37m    ^\u001b[0m\n\u001b[1;31mIndentationError\u001b[0m\u001b[1;31m:\u001b[0m unexpected indent\n"
     ]
    }
   ],
   "source": [
    "# 정수를 입력받아서 A,B,C,D,F 학점으로 출력하시오 (점수를 학점으로 mapping 시키시오)\n",
    "jumsu = int(input(\"점수를 입력하시오 : \"))\n",
    "pf = int()\n",
    "\n",
    "if jumsu >= 90: pf = jumsu\n",
    "            elif jumsu >= 80: pf = jumsu\n",
    "            elif jumsu >= 70: pf = jumsu\n",
    "            elif jumsu >= 60: pf = jumsu\n",
    "            else: pf = jumsu\n",
    "    \n",
    "print(\"당신의 학점은 : \" , A)\n",
    "    \n",
    "#d = {'one':1,'two':2} #dict"
   ]
  },
  {
   "cell_type": "code",
   "execution_count": 96,
   "metadata": {},
   "outputs": [
    {
     "name": "stdout",
     "output_type": "stream",
     "text": [
      "점수입력 :  90\n",
      "A\n",
      "점수입력 :  50\n",
      "F\n",
      "점수입력 :  60\n",
      "D\n",
      "점수입력 :  40\n",
      "F\n",
      "점수입력 :  80\n",
      "B\n",
      "점수입력 :  90\n",
      "A\n",
      "점수입력 :  60\n",
      "D\n",
      "점수입력 :  30\n",
      "F\n",
      "점수입력 :  50\n",
      "F\n",
      "점수입력 :  40\n",
      "F\n",
      "점수입력 :  20\n",
      "F\n",
      "점수입력 :  501\n",
      "A\n",
      "점수입력 :  0\n"
     ]
    }
   ],
   "source": [
    "# 점수를 입력받아 A,B,C,D,E,F 학점출력\n",
    "while True: # 무한루프\n",
    "    print('점수입력 : ', end = ' ')\n",
    "    jumsu = int(input())\n",
    "    if jumsu == 0:\n",
    "        break\n",
    "    if jumsu >= 90: print(\"A\")\n",
    "    elif jumsu >= 80: print(\"B\")\n",
    "    elif jumsu >= 70: print(\"C\")\n",
    "    elif jumsu >= 60: print(\"D\")\n",
    "    else: print(\"F\")"
   ]
  },
  {
   "cell_type": "code",
   "execution_count": 121,
   "metadata": {},
   "outputs": [],
   "source": [
    "# 번호 국어 영어 수학 점수를 입력하는 프로그램 작성 (3명 분)\n",
    "# 2차원 리스트로 작성\n"
   ]
  },
  {
   "cell_type": "code",
   "execution_count": 125,
   "metadata": {},
   "outputs": [
    {
     "name": "stdout",
     "output_type": "stream",
     "text": [
      "번호를 입력하시오 : 1\n",
      "이름을 입력하시오 : 1\n",
      "국어 점수 입력 : 1\n",
      "영어 점수 입력 : 1\n",
      "수학 점수 입력 : 1\n",
      "번호를 입력하시오 : 1\n",
      "이름을 입력하시오 : 1\n",
      "국어 점수 입력 : 1\n",
      "영어 점수 입력 : 1\n",
      "수학 점수 입력 : 1\n",
      "번호를 입력하시오 : 1\n",
      "이름을 입력하시오 : 1\n",
      "국어 점수 입력 : 1\n",
      "영어 점수 입력 : 1\n",
      "수학 점수 입력 : 1\n",
      "[['1', '1', 1, 1, 1, '1', '1', 1, 1, 1, '1', '1', 1, 1, 1], ['1', '1', 1, 1, 1, '1', '1', 1, 1, 1, '1', '1', 1, 1, 1], ['1', '1', 1, 1, 1, '1', '1', 1, 1, 1, '1', '1', 1, 1, 1]]\n"
     ]
    }
   ],
   "source": [
    "# 2 차원 리스트\n",
    "final = []\n",
    "for i in range (1):\n",
    "    sungjuk=[]\n",
    "    num = input(\"번호를 입력하시오 : \")\n",
    "    name = input(\"이름을 입력하시오 : \")\n",
    "    kor = int(input(\"국어 점수 입력 : \"))\n",
    "    eng = int(input(\"영어 점수 입력 : \"))\n",
    "    math = int(input(\"수학 점수 입력 : \"))\n",
    "    sungjuk.append(num)\n",
    "    sungjuk.append(name)\n",
    "    sungjuk.append(kor)\n",
    "    sungjuk.append(eng)\n",
    "    sungjuk.append(math)\n",
    "    final.append(sungjuk)\n",
    "print(final)\n",
    "    "
   ]
  },
  {
   "cell_type": "code",
   "execution_count": 12,
   "metadata": {},
   "outputs": [
    {
     "name": "stdout",
     "output_type": "stream",
     "text": [
      "번호를 입력하시오 : 17\n",
      "이름을 입력하시오 : qqq\n",
      "국어 점수 입력 : 54\n",
      "영어 점수 입력 : 65\n",
      "수학 점수 입력 : 87\n",
      "번호를 입력하시오 : 18\n",
      "이름을 입력하시오 : www\n",
      "국어 점수 입력 : 45\n",
      "영어 점수 입력 : 65\n",
      "수학 점수 입력 : 98\n",
      "번호를 입력하시오 : ttt\n",
      "이름을 입력하시오 : 456\n",
      "국어 점수 입력 : 45\n",
      "영어 점수 입력 : 65\n",
      "수학 점수 입력 : 87\n",
      "[['17', 'qqq', 54.0, 65.0, 87.0, 206.0, 68.67, 'D'], ['18', 'www', 45.0, 65.0, 98.0, 208.0, 69.33, 'D'], ['ttt', '456', 45.0, 65.0, 87.0, 197.0, 65.67, 'D']]\n"
     ]
    }
   ],
   "source": [
    "# 문제 합계와 평균을 구해서 추가시켜 보시요\n",
    "\n",
    "final = []\n",
    "prr = 3\n",
    "for i in range (prr):\n",
    "    sungjuk=[]\n",
    "    grade = str()\n",
    "    hap1 = float()\n",
    "    hap = float()\n",
    "    num = input(\"번호를 입력하시오 : \")\n",
    "    name = input(\"이름을 입력하시오 : \")\n",
    "    kor = float(input(\"국어 점수 입력 : \"))\n",
    "    if kor >= 101: \n",
    "        print(\"다시입력하세요.\")\n",
    "        break\n",
    "    eng = float(input(\"영어 점수 입력 : \"))\n",
    "    if eng >= 101: \n",
    "        print(\"다시입력하세요.\")\n",
    "        break\n",
    "    math = float(input(\"수학 점수 입력 : \"))\n",
    "    if math >= 101: \n",
    "        print(\"다시입력하세요.\")\n",
    "        break\n",
    "    sungjuk.append(num)\n",
    "    sungjuk.append(name)\n",
    "    sungjuk.append(kor)\n",
    "    sungjuk.append(eng)\n",
    "    sungjuk.append(math)\n",
    "    hap1 = (kor+eng+math)\n",
    "    hap = hap1/3\n",
    "    hap = round(hap,2)\n",
    "    if hap >= 90:\n",
    "        grade =\"A\"\n",
    "    elif hap >= 80:\n",
    "        grade =\"B\"\n",
    "    elif hap >= 70:\n",
    "        grade =\"C\"\n",
    "    elif hap >= 60:\n",
    "        grade =\"D\"\n",
    "    else: \n",
    "        grade =\"F\"\n",
    "    sungjuk.append(hap1)\n",
    "    sungjuk.append(hap)\n",
    "    sungjuk.append(grade)\n",
    "    final.append(sungjuk)\n",
    "print(final)"
   ]
  },
  {
   "cell_type": "code",
   "execution_count": 156,
   "metadata": {},
   "outputs": [],
   "source": [
    "# 정렬하고 싶은 경우 (이름으로 정렬)\n",
    "# 기본 데이터함수 : str, int, float, list, set, tuple\n",
    "# 파이썬은 모든 것은 객체(변수+함수) : 사용자 정의 데이터 타입.\n",
    "final.sort()\n",
    "# 번호순"
   ]
  },
  {
   "cell_type": "code",
   "execution_count": 218,
   "metadata": {},
   "outputs": [
    {
     "name": "stdout",
     "output_type": "stream",
     "text": [
      "[['15', 'ㅇㅇㅇ', 54.0, 98.0, 65.0, 217.0, 72.33, 'C'], ['17', 'ㅁㅁㅁ', 85.0, 95.0, 65.0, 245.0, 81.67, 'B'], ['19', 'ㄷㄷㄷ', 98.0, 65.0, 25.0, 188.0, 62.67, 'D']]\n"
     ]
    }
   ],
   "source": [
    "# 함수를 키로한다\n",
    "# 이름순\n",
    "def getKey(a1):\n",
    "    return a1[1]\n",
    "final.sort(key=getKey, reverse = True) # 내림차순 큰것부터 작은순으로\\\n",
    "print(final)"
   ]
  },
  {
   "cell_type": "code",
   "execution_count": 213,
   "metadata": {},
   "outputs": [
    {
     "data": {
      "text/plain": [
       "[['15', 'ㅇㅇㅇ', 54.0, 98.0, 65.0, 217.0, 72.33, 'C'],\n",
       " ['17', 'ㅁㅁㅁ', 85.0, 95.0, 65.0, 245.0, 81.67, 'B'],\n",
       " ['19', 'ㄷㄷㄷ', 98.0, 65.0, 25.0, 188.0, 62.67, 'D']]"
      ]
     },
     "execution_count": 213,
     "metadata": {},
     "output_type": "execute_result"
    }
   ],
   "source": [
    "# lambda 함수 : 무명함수, 간단한 함수를 작성할 때 사용\n",
    "final.sort(key=lambda row:row[1], reverse = True)\n",
    "final"
   ]
  },
  {
   "cell_type": "code",
   "execution_count": 162,
   "metadata": {},
   "outputs": [],
   "source": [
    "# 등수를 입력하는 필드를 추가하시오"
   ]
  },
  {
   "cell_type": "code",
   "execution_count": 14,
   "metadata": {},
   "outputs": [],
   "source": [
    "def rank1(a):\n",
    "    return a[5]\n",
    "final.sort(key=rank1, reverse = True)\n",
    "final\n",
    "for i in range(len(final)):\n",
    "    final[i].append(i+1)\n"
   ]
  },
  {
   "cell_type": "code",
   "execution_count": 16,
   "metadata": {},
   "outputs": [
    {
     "data": {
      "text/plain": [
       "10"
      ]
     },
     "execution_count": 16,
     "metadata": {},
     "output_type": "execute_result"
    }
   ],
   "source": [
    "final\n",
    "len(final[0])"
   ]
  },
  {
   "cell_type": "code",
   "execution_count": null,
   "metadata": {},
   "outputs": [],
   "source": [
    "rank = 0\n",
    "for i in range(len(final)):\n",
    "    rank = rank +1\n",
    "    final[i].append(rank)\n",
    "final.sort(key = lambda row:row[0])\n",
    "tot_list = [\"번호\",\"이름\",\"국어\",\"수학\",\"영어\",\"합계\",\"평균\",\"순위\"]\n",
    "for j in range(len(final[0])):\n",
    "    print(tot_list[j], end =\" \")\n",
    "for i in range(len(final)):\n",
    "    print(end = \"\\n\")\n",
    "    for j in range(8):\n",
    "        print(final[i][j], end =\" \")"
   ]
  },
  {
   "cell_type": "code",
   "execution_count": null,
   "metadata": {},
   "outputs": [],
   "source": [
    "# 문제 number guess (숫자 맞추기 게임 1:1 )\n",
    "# 1. 컴퓨터는 숫자를 랜덤으로 발생시킵니다. (1 ~ 100 )\n",
    "# 2. 사용자는 숫자를 입력합니다.\n",
    "# 3. 컴퓨터가 낸 숫자와 사용자가 입력한 숫자가 일치하는지 확인하고 일치하면 확인하고\n",
    "# 다시 다음 게임으로 진행합니다.\n",
    "# 4.만약 맞추지 못하였으면 사용자가 입력한 숫자가 컴퓨터가 가지고 있는\n",
    "# 수 보다 큰지 작은지를 알려줍니다.\n",
    "# 5.무한루프보다 진행하던 게임은 q 가 눌리면 종료합니다\n",
    "# 6. 몇회만에 맞추었는지를 확인하여 출력해 줍니다.\n",
    "# 7. 총 진행횟수하고 guess횟수를 누적시킨다음에 평균 시도 횟수를 출력하시오"
   ]
  },
  {
   "cell_type": "code",
   "execution_count": 2,
   "metadata": {},
   "outputs": [
    {
     "name": "stdout",
     "output_type": "stream",
     "text": [
      " 1 ~ 100 사이중 숫자를 입력하시오 . (Q to exit)12\n",
      " 랜덤수가 더 큽니다. \n",
      " 1 ~ 100 사이중 숫자를 입력하시오 . (Q to exit)4563\n",
      "100이하만 입력하시오.\n",
      " 적은수가 더 큽니다. \n",
      " 1 ~ 100 사이중 숫자를 입력하시오 . (Q to exit)123\n",
      "100이하만 입력하시오.\n",
      " 적은수가 더 큽니다. \n",
      " 1 ~ 100 사이중 숫자를 입력하시오 . (Q to exit)12\n",
      " 랜덤수가 더 큽니다. \n",
      " 1 ~ 100 사이중 숫자를 입력하시오 . (Q to exit)45\n",
      " 적은수가 더 큽니다. \n",
      " 1 ~ 100 사이중 숫자를 입력하시오 . (Q to exit)65\n",
      " 적은수가 더 큽니다. \n",
      " 1 ~ 100 사이중 숫자를 입력하시오 . (Q to exit)98\n",
      " 적은수가 더 큽니다. \n",
      " 1 ~ 100 사이중 숫자를 입력하시오 . (Q to exit)50\n",
      " 적은수가 더 큽니다. \n",
      " 1 ~ 100 사이중 숫자를 입력하시오 . (Q to exit)48\n",
      " 적은수가 더 큽니다. \n",
      " 1 ~ 100 사이중 숫자를 입력하시오 . (Q to exit)20\n",
      " 랜덤수가 더 큽니다. \n",
      " 1 ~ 100 사이중 숫자를 입력하시오 . (Q to exit)30\n",
      " 랜덤수가 더 큽니다. \n",
      " 1 ~ 100 사이중 숫자를 입력하시오 . (Q to exit)30\n",
      " 랜덤수가 더 큽니다. \n",
      " 1 ~ 100 사이중 숫자를 입력하시오 . (Q to exit)40\n",
      " 적은수가 더 큽니다. \n",
      " 1 ~ 100 사이중 숫자를 입력하시오 . (Q to exit)35\n",
      " 랜덤수가 더 큽니다. \n",
      " 1 ~ 100 사이중 숫자를 입력하시오 . (Q to exit)37\n",
      " 성공입니다  성공횟수 1 총 도전횟수 16\n",
      " 1 ~ 100 사이중 숫자를 입력하시오 . (Q to exit)Q\n",
      " 탈출입니다.  성공횟수 1 총 도전횟수 0 평균 도전횟수 0.0 \n"
     ]
    }
   ],
   "source": [
    "# 경우의 수는 3가지 (정답, 작은경우, 큰경우)\n",
    "# 전체게임 회수와 이긴회수\n",
    "# 평균 시도회수를 계산하기 위해서 변수를 정의하고 계산\n",
    "\n",
    "from random import randint\n",
    "count = int()\n",
    "ss = int()\n",
    "n = randint(1, 101)\n",
    "while True:\n",
    "    sa = input(\" 1 ~ 100 사이중 숫자를 입력하시오 . (Q to exit)\")\n",
    "    if sa == 'Q':\n",
    "        qw = count/ss\n",
    "        print(\" 탈출입니다. \",\"성공횟수\", ss , \"총 도전횟수\", count, \"평균 도전횟수\", qw,\"입니다.\")\n",
    "        break\n",
    "    if int(sa) > 100:\n",
    "        count = count + 1\n",
    "        print(\"100이하만 입력하시오.\")\n",
    "    if n == int(sa):\n",
    "        ss = ss + 1\n",
    "        print(\" 성공입니다 \",\"성공횟수\",ss , \"총 도전횟수\", count)\n",
    "    if n > int(sa):\n",
    "        count = count + 1\n",
    "        print(\" 랜덤수가 더 큽니다. \")\n",
    "    if n < int(sa):\n",
    "        count = count + 1\n",
    "        print(\" 적은수가 더 큽니다. \")"
   ]
  },
  {
   "cell_type": "code",
   "execution_count": 7,
   "metadata": {},
   "outputs": [
    {
     "name": "stdout",
     "output_type": "stream",
     "text": [
      " 면적을 입력하시오 789\n",
      "238.72919818456882\n",
      "중형아파트\n"
     ]
    }
   ],
   "source": [
    "# 문제 1 제곱미터로 입력되는 아파트 면적을 평형으로 계산하여 종류 판정\n",
    "# 30평형을 기준으로 판정하는 프로그램 작성\n",
    "# 소형 (17) 중소형 (25) 중형 (30)\n",
    "# 평형수 = 제곱미터 / 3.305\n",
    "\n",
    "jekop = float(input(\" 면적을 입력하시오 \"))\n",
    "pyung = jekop/3.305\n",
    "print(pyung)\n",
    "if pyung >= 30:\n",
    "    print(\"중형아파트\")\n",
    "elif pyung >= 25:\n",
    "    print(\"중소형아파트\")\n",
    "elif pyung >= 17:\n",
    "    print(\"소형아파트\")\n",
    "else:\n",
    "    print(\"다시입력하세요.\")\n"
   ]
  },
  {
   "cell_type": "code",
   "execution_count": 8,
   "metadata": {},
   "outputs": [
    {
     "name": "stdout",
     "output_type": "stream",
     "text": [
      "분을 입력하시오52\n",
      "52 분은 초로 환산할시 3120 초입니다\n"
     ]
    }
   ],
   "source": [
    "# 문제 2 날 수를 입력하면 이를 초로 변경하는 프로그램 작성\n",
    "\n",
    "date = int(input(\"일수를 입력하시오\"))\n",
    "si = int(input(\"시을 입력하시오 1~24시중\"))\n",
    "if si> 60:\n",
    "    print(\"다시입력하세요.\")\n",
    "    break\n",
    "bun = int(input(\"분를 입력하시오 1~60분중\"))\n",
    "if bun> 60:\n",
    "    print(\"다시입력하세요.\")\n",
    "    break\n",
    "date1 = (date*24)*60\n",
    "date1_1 = date1*60\n",
    "si1 = si*60\n",
    "bun1 = bun*60\n",
    "hap = \n",
    "\n",
    "print(date,\"분은 초로 환산할시\",cho,\"초입니다\")"
   ]
  },
  {
   "cell_type": "code",
   "execution_count": 16,
   "metadata": {},
   "outputs": [
    {
     "name": "stdout",
     "output_type": "stream",
     "text": [
      " 연봉을 입력하시오 . 455555555\n",
      "세후 연봉은  440522220.0 원 입니다.\n"
     ]
    }
   ],
   "source": [
    "# 소득세 계산 : 소득 세율표를 구해보고 이를 이용하여 소득이 들어오면 세금이\n",
    "# 얼마인지 계산하시오 (연봉, 단순히 세율만 적용합니다.)\n",
    "\n",
    "income = int(input(\" 연봉을 입력하시오 . \"))\n",
    "inco = (income*3.3)/100\n",
    "con = income-inco\n",
    "\n",
    "print(\"세후 연봉은 \",round(con,-1),\"원 입니다.\")"
   ]
  },
  {
   "cell_type": "code",
   "execution_count": 30,
   "metadata": {},
   "outputs": [
    {
     "name": "stdout",
     "output_type": "stream",
     "text": [
      " 놀이공원 매표소 단체 입장료 계산기입니다. \n",
      " 초등생은 몇명인가요? 4\n",
      " 청소년은 몇명인가요? 4\n",
      " 일반인은 몇명인가요? 45\n",
      " 경로자는 몇명인가요? 8\n",
      "할인카드가 있으신가요? y or ny\n",
      " VIP이신가요? y or ny\n",
      "총 가격은 721050.0 입니다.\n"
     ]
    }
   ],
   "source": [
    "# 놀이공원 매표소 단체 입장료 계산하기\n",
    "# 조건 : 팀별 인원 구성을 입력 (초등, 청소년, 일반인, 경로대상) 하면 입장료 소견표에\n",
    "# 정산요금 : 초등(5000원), 청소년(10000원), 일반인(15000원), 경로대상(3000원)\n",
    "# 팀별 할인 카드 확인\n",
    "# 카드 없음 : 할인 무 , 일반카드 :10%, VIP : 20%\n",
    "\n",
    "print(\" 놀이공원 매표소 단체 입장료 계산기입니다. \")\n",
    "halin = str()\n",
    "gg = str()\n",
    "\n",
    "cho = 5000\n",
    "chung = 10000\n",
    "liban = 15000\n",
    "gyung = 3000\n",
    "\n",
    "insu = int(input(\" 초등생은 몇명인가요? \"))\n",
    "insu2 = int(input(\" 청소년은 몇명인가요? \"))\n",
    "insu3 = int(input(\" 일반인은 몇명인가요? \"))\n",
    "insu4 = int(input(\" 경로자는 몇명인가요? \"))\n",
    "\n",
    "cho1 = 5000*insu\n",
    "chung1 = 10000*insu2\n",
    "liban1 = 15000*insu3\n",
    "gyung1 = 3000*insu4\n",
    "chong = cho1+chung1+liban1+gyung1\n",
    "\n",
    "halin = input(\"할인카드가 있으신가요? y or n\")\n",
    "if halin == \"y\":\n",
    "    gg = input(\" VIP이신가요? y or n\")\n",
    "if gg == \"y\":\n",
    "    chho1 = chong/20\n",
    "    print(\"총 가격은\", chong-chho1,\"입니다.\")\n",
    "if gg == \"n\":\n",
    "    chho = chong/10\n",
    "    print(\"총 가격은\", chong-chho,\"입니다.\")\n",
    "\n",
    "\n",
    "\n",
    "if halin == \"n\":\n",
    "    print(\"총 가격은\", chong,\"입니다.\")\n",
    "\n"
   ]
  },
  {
   "cell_type": "code",
   "execution_count": 23,
   "metadata": {},
   "outputs": [
    {
     "name": "stdout",
     "output_type": "stream",
     "text": [
      "초등생 몇명?5\n",
      "청소년 몇명?5\n",
      "일반 몇명?5\n",
      "경로 몇명?5\n",
      "카드X:0, 일반:1,VIP:22\n",
      "총요금 132000.0 원 입니다.\n"
     ]
    }
   ],
   "source": [
    "ele = int(input(\"초등생 몇명?\"))\n",
    "mid = int(input(\"청소년 몇명?\"))\n",
    "adult = int(input(\"일반 몇명?\"))\n",
    "old = int(input(\"경로 몇명?\"))\n",
    "\n",
    "\n",
    "ele1 = 5000*ele\n",
    "mid1 = 10000*mid\n",
    "adult1 = 15000*adult\n",
    "old1 = 3000*old\n",
    "tot = ele1+mid1+adult1+old1\n",
    "\n",
    "dis = int(input(\"카드X:0, 일반:1,VIP:2\"))\n",
    "se = [tot,tot*0.9,tot*0.8]\n",
    "print(\"총요금\",se[dis],\"원 입니다.\")"
   ]
  },
  {
   "cell_type": "code",
   "execution_count": 57,
   "metadata": {},
   "outputs": [
    {
     "name": "stdout",
     "output_type": "stream",
     "text": [
      "숫자를 입력하시오5\n",
      "*\n",
      "**\n",
      "***\n",
      "****\n",
      "*****\n"
     ]
    }
   ],
   "source": [
    "# for\n",
    "# for(i=0; i<100; i++): 인덱스 오버플로우\n",
    "# {}: 인덱스 오버플로우\n",
    "# for in 문\n",
    "num = int(input(\"숫자를 입력하시오\"))\n",
    "for i in range(num):\n",
    "    for j in range(i+1):\n",
    "        print(\"*\", end = \"\")\n",
    "    print()"
   ]
  },
  {
   "cell_type": "code",
   "execution_count": 54,
   "metadata": {},
   "outputs": [
    {
     "name": "stdout",
     "output_type": "stream",
     "text": [
      "숫자 입력5\n",
      "     *\n",
      "    **\n",
      "   ***\n",
      "  ****\n",
      " *****\n"
     ]
    }
   ],
   "source": [
    "num2 = int(input('숫자 입력'))\n",
    "for i in range(num2):\n",
    "    for k in range(num2-i):\n",
    "        print(\" \", end='')\n",
    "    for j in range(i+1):\n",
    "        print(\"*\",end='')\n",
    "    print()"
   ]
  },
  {
   "cell_type": "code",
   "execution_count": 14,
   "metadata": {
    "scrolled": false
   },
   "outputs": [
    {
     "name": "stdout",
     "output_type": "stream",
     "text": [
      "숫자 입력5\n",
      "@@@@@@@@@@\n",
      "@@@@ @@@@\n",
      "@@@   @@@\n",
      "@@     @@\n",
      "@       @\n"
     ]
    }
   ],
   "source": [
    "n = int(input('숫자 입력'))\n",
    "for i in range(n):\n",
    "    for k in range(n-i):\n",
    "        print(\"@\", end = '')\n",
    "    for j in range(i*2 - 1):\n",
    "        print(\" \", end = '')\n",
    "    for j in range(n-i):\n",
    "        print(\"@\", end = '')\n",
    "    print()"
   ]
  },
  {
   "cell_type": "code",
   "execution_count": 29,
   "metadata": {},
   "outputs": [
    {
     "name": "stdout",
     "output_type": "stream",
     "text": [
      "숫자 입력5\n",
      "+++++      ++++\n",
      "++++      ++++\n",
      "+++      ++++\n",
      "++      ++++\n",
      "+      ++++\n"
     ]
    }
   ],
   "source": [
    "n = int(input('숫자 입력'))\n",
    "for i in range(n):\n",
    "    for k in range(n-i):\n",
    "        print(\"+\", end = '')\n",
    "    for k in range(n+1):\n",
    "        print(\" \", end = '')\n",
    "    for k in range(n-1):\n",
    "        print(\"+\", end = '')\n",
    "    print()"
   ]
  },
  {
   "cell_type": "code",
   "execution_count": 15,
   "metadata": {},
   "outputs": [
    {
     "name": "stdout",
     "output_type": "stream",
     "text": [
      "숫자 입력5\n",
      "     *\n",
      "    ***\n",
      "   *****\n",
      "  *******\n",
      " *********\n"
     ]
    }
   ],
   "source": [
    "n = int(input('숫자 입력'))\n",
    "for i in range(n):\n",
    "    for j in range(n-i):\n",
    "        print(\" \", end='')\n",
    "    for j in range(i+1):\n",
    "        print(\"*\", end='')\n",
    "    for j in range(i):\n",
    "        print(\"*\", end='')\n",
    "    print()"
   ]
  },
  {
   "cell_type": "code",
   "execution_count": 1,
   "metadata": {},
   "outputs": [
    {
     "name": "stdout",
     "output_type": "stream",
     "text": [
      "\n",
      "          *\n",
      "         ***\n",
      "        *****\n",
      "       *******\n",
      "      *********\n",
      "     ***********\n",
      "    *************\n",
      "   ***************\n",
      "  *****************\n",
      " *******************\n"
     ]
    }
   ],
   "source": [
    "print(\"\")\n",
    "for i in range(1,11):\n",
    "    print(\" \"*(10-i), \"*\"*(i*2-1))"
   ]
  },
  {
   "cell_type": "code",
   "execution_count": 3,
   "metadata": {},
   "outputs": [
    {
     "name": "stdout",
     "output_type": "stream",
     "text": [
      "숫자 입력10\n",
      "*\n",
      "**\n",
      "***\n",
      "****\n",
      "*****\n",
      "******\n",
      "*******\n",
      "********\n",
      "*********\n",
      "**********\n",
      "*********\n",
      "********\n",
      "*******\n",
      "******\n",
      "*****\n",
      "****\n",
      "***\n",
      "**\n",
      "*\n"
     ]
    }
   ],
   "source": [
    "n = int(input('숫자 입력'))\n",
    "n1 = n-1\n",
    "for i in range(n):\n",
    "    for j in range(i+1):\n",
    "        print(\"*\",end='')\n",
    "    print()\n",
    "for i in range(n1):\n",
    "    for k in range(n1-i):\n",
    "        print(\"*\",end='')\n",
    "    print()"
   ]
  },
  {
   "cell_type": "code",
   "execution_count": 5,
   "metadata": {},
   "outputs": [
    {
     "name": "stdout",
     "output_type": "stream",
     "text": [
      "숫자 입력5\n",
      "*\n",
      "**\n",
      "***\n",
      "****\n",
      "*****\n"
     ]
    }
   ],
   "source": [
    "n = int(input('숫자 입력'))\n",
    "n1 = n-1\n",
    "for i in range(n):\n",
    "    for j in range(i+1):\n",
    "        print(\"*\",end='')\n",
    "    print()\n"
   ]
  },
  {
   "cell_type": "code",
   "execution_count": 4,
   "metadata": {},
   "outputs": [
    {
     "name": "stdout",
     "output_type": "stream",
     "text": [
      "숫자 입력5\n",
      "*****\n",
      "****\n",
      "***\n",
      "**\n",
      "*\n"
     ]
    }
   ],
   "source": [
    "n1 = int(input('숫자 입력'))\n",
    "for i in range(n1):\n",
    "    for k in range(n1-i):\n",
    "        print(\"*\",end='')\n",
    "    print()"
   ]
  },
  {
   "cell_type": "code",
   "execution_count": 7,
   "metadata": {},
   "outputs": [
    {
     "ename": "SyntaxError",
     "evalue": "invalid syntax (<ipython-input-7-196fd9941c2e>, line 4)",
     "output_type": "error",
     "traceback": [
      "\u001b[1;36m  File \u001b[1;32m\"<ipython-input-7-196fd9941c2e>\"\u001b[1;36m, line \u001b[1;32m4\u001b[0m\n\u001b[1;33m    for j range(i + 1):\u001b[0m\n\u001b[1;37m              ^\u001b[0m\n\u001b[1;31mSyntaxError\u001b[0m\u001b[1;31m:\u001b[0m invalid syntax\n"
     ]
    }
   ],
   "source": [
    "nz = int(input('숫자 입력'))\n",
    "for i in range(nz):\n",
    "    if i<nz / 2:\n",
    "        for j range(i + 1):\n",
    "            print(\"*\",end=\"\")\n",
    "    else:\n",
    "        for j in range(nz//2-1,-1,-1):\n",
    "            if(j>=i-nz//2):\n",
    "                print(\"*\",end='')\n",
    "    print()"
   ]
  },
  {
   "cell_type": "code",
   "execution_count": 5,
   "metadata": {},
   "outputs": [
    {
     "name": "stdout",
     "output_type": "stream",
     "text": [
      "\n",
      "*\n",
      "**\n",
      "***\n",
      "****\n",
      "*****\n",
      "****\n",
      "***\n",
      "**\n",
      "*\n"
     ]
    }
   ],
   "source": [
    "print(\"\")\n",
    "for i in range(1,10):\n",
    "    print(\"*\"*(i-int(i/6)*(i*2-10)))"
   ]
  }
 ],
 "metadata": {
  "kernelspec": {
   "display_name": "Python 3",
   "language": "python",
   "name": "python3"
  },
  "language_info": {
   "codemirror_mode": {
    "name": "ipython",
    "version": 3
   },
   "file_extension": ".py",
   "mimetype": "text/x-python",
   "name": "python",
   "nbconvert_exporter": "python",
   "pygments_lexer": "ipython3",
   "version": "3.7.4"
  }
 },
 "nbformat": 4,
 "nbformat_minor": 2
}
