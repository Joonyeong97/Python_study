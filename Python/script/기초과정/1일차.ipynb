{
 "cells": [
  {
   "cell_type": "markdown",
   "metadata": {},
   "source": [
    "# 편집모드와 명령행 모드"
   ]
  },
  {
   "cell_type": "code",
   "execution_count": 1,
   "metadata": {
    "scrolled": true
   },
   "outputs": [
    {
     "name": "stdout",
     "output_type": "stream",
     "text": [
      "10\n",
      "10\n"
     ]
    }
   ],
   "source": [
    "a = 10 # 주소 => 값저장 (맵핑)\n",
    "b = a # 10이 대입되는 것이 아니고 a가 가리키는 주소가 대입\n",
    "print(a)\n",
    "print(b)\n"
   ]
  },
  {
   "cell_type": "code",
   "execution_count": 2,
   "metadata": {
    "scrolled": false
   },
   "outputs": [
    {
     "name": "stdout",
     "output_type": "stream",
     "text": [
      "주소값 대입 140726044107440\n",
      "140726044107440\n"
     ]
    },
    {
     "data": {
      "text/plain": [
       "(None, None)"
      ]
     },
     "execution_count": 2,
     "metadata": {},
     "output_type": "execute_result"
    }
   ],
   "source": [
    "#주소값 일치\n",
    "print(\"주소값 대입\", id(a)), print(id(b) )\n",
    "# id() 주소값찾는 함수"
   ]
  },
  {
   "cell_type": "code",
   "execution_count": null,
   "metadata": {},
   "outputs": [],
   "source": [
    "a = 20 \n",
    "print(a)\n",
    "print(b)\n",
    "print(\"주소값 대입\", id(a)), print(id(b) )"
   ]
  },
  {
   "cell_type": "code",
   "execution_count": null,
   "metadata": {},
   "outputs": [],
   "source": [
    "# 파이썬은 대소문자를 구분한다."
   ]
  },
  {
   "cell_type": "code",
   "execution_count": 3,
   "metadata": {},
   "outputs": [
    {
     "data": {
      "text/plain": [
       "int"
      ]
     },
     "execution_count": 3,
     "metadata": {},
     "output_type": "execute_result"
    }
   ],
   "source": [
    "type(a)\n",
    "# 데이터 타입확인"
   ]
  },
  {
   "cell_type": "code",
   "execution_count": null,
   "metadata": {},
   "outputs": [],
   "source": [
    "# 데이터 입력 :\n",
    "problem = input(\"수식을 입력하시오\") # 데이터 입출력은 문자열로 입출력됨.\n",
    "# 입출력하려면  ABC = input(\" \")\n",
    "# 연산을 위해서 데이터 타입을 숫자로 변경\n",
    "print(problem)\n",
    "print(int(problem)) # 데이터 casting : 데이터 형변환\n",
    "print(eval(problem)) # 평가 "
   ]
  },
  {
   "cell_type": "code",
   "execution_count": null,
   "metadata": {},
   "outputs": [],
   "source": [
    "a3 = 4.24e-3 # exponent 지수형\n",
    "# e-3 붙으면 소수점 앞에 3자리 추가\n",
    "a4 = 0o177 # octal 8진수로 표현\n",
    "print(a3)\n",
    "print(a4)\n"
   ]
  },
  {
   "cell_type": "code",
   "execution_count": null,
   "metadata": {},
   "outputs": [],
   "source": [
    "# fullName 문자열 : 기본이 1차원 배열 , 숫자 int :4byte, float : 4byte\n",
    "fullName = input(\"이름을 입력하세요 : \")\n",
    "n = fullName.rfind(\" \")\n",
    "# 리버스파인드 거꾸로부터 찾아라\n",
    "\n",
    "print(fullName[0]) # 배열과 리스트의 인덱싱은 동일하다.\n",
    "print(fullName[1])\n",
    "print(fullName[2])\n",
    "print(n)\n",
    "print(\"이름 : \", fullName[n+1:]) # :\n",
    "print(\"성(s): \", fullName[:n])"
   ]
  },
  {
   "cell_type": "code",
   "execution_count": 4,
   "metadata": {},
   "outputs": [
    {
     "name": "stdout",
     "output_type": "stream",
     "text": [
      "koreakorea\n",
      "koreakoreakorea\n",
      "korea\n",
      "a\n",
      "a\n",
      "or\n",
      "ea\n",
      "ea\n",
      "e\n",
      "5\n"
     ]
    },
    {
     "data": {
      "text/plain": [
       "['ko', 'ea']"
      ]
     },
     "execution_count": 4,
     "metadata": {},
     "output_type": "execute_result"
    }
   ],
   "source": [
    "# 문자열은 '' \"single quotation\", \"korea\" ; double quotation\n",
    "# \"\"\"\"\"\" : 3개인 경우는 입력하는대로 저장함\n",
    "\n",
    "s = \"korea\"\n",
    "print(s+s) #koreakorea\n",
    "print(s*3) # 횟수지정\n",
    "print(s[0:])\n",
    "print(s[4])\n",
    "print(s[-1]) # R에서 - 인덱스 : 제외하고 / 파이썬에서는 뒤에서부터\n",
    "print(s[1:3]) # 끝은 제외\n",
    "print(s[-2:]) # 끝에서 두번째부터 끝까지\n",
    "print(s[-2:5])\n",
    "print(s[3:-1]) \n",
    "print(len(s))\n",
    "s.split('r') # 중심에 두고 나눠라.\n",
    "# split 함수"
   ]
  },
  {
   "cell_type": "code",
   "execution_count": null,
   "metadata": {},
   "outputs": [],
   "source": [
    "# csv 데이터 : comma 로 분리된 데이터\n",
    "t = 'Seoul, Incheon, won'.split(\",\")\n",
    "print(t) # 리스트로 분할\n",
    "#  컴마로 나눠서 출력해라 .붙이고 split"
   ]
  },
  {
   "cell_type": "code",
   "execution_count": null,
   "metadata": {},
   "outputs": [],
   "source": [
    "','.join(t)"
   ]
  },
  {
   "cell_type": "code",
   "execution_count": null,
   "metadata": {},
   "outputs": [],
   "source": [
    "# 파이썬은 객체 지향 프로그래밍으로 설계된 언어임 : 모든 것이 객체임, 함수도 객체임\n",
    "# C, Java는  객체지향을 별도로 학습\n",
    "# python은 자체가 객체지향언어임.\n",
    "s = 'korea'\n",
    "print(s.capitalize()) # 첫자가 대문자로\n",
    "print(s.find('r')) # r을 찾아라 \n",
    "print(s.count('re')) #  re가 몇번 나타나냐\n",
    "print(s.isalpha()) # 문자열이냐\n",
    "print(s.isdigit()) # 숫자냐\n",
    "print('0123'.isdigit()) # 숫자냐\n",
    "print(s.replace('r','R')) # r을 R로 바꿔서 출력해라\n",
    "print(s.startswith('K')) # 스타트로 K로 시작하냐\n",
    "print(s.endswith('a')) # 끝이 a로 끝나냐\n",
    "\n",
    "\n"
   ]
  },
  {
   "cell_type": "code",
   "execution_count": null,
   "metadata": {},
   "outputs": [],
   "source": [
    "# 산술연산\n",
    "a = 3\n",
    "b = 4\n",
    "\n",
    "print(a + b, a-b, a*b,a/b)\n",
    "print(a/b)\n",
    "print(a%b) # 나머지연산자 : 경우의 수를 생성할때 : 변수가 가질 수 있는 경우수를 확인\n",
    "print(1%2)\n",
    "print(2%2)\n",
    "print(3%2)\n",
    "print(4%2)\n",
    "\n",
    "print(7/4)\n",
    "print(7//4) # 몫 연산자"
   ]
  },
  {
   "cell_type": "code",
   "execution_count": null,
   "metadata": {
    "scrolled": true
   },
   "outputs": [],
   "source": [
    "# 내장함수\n",
    "# 괄호 : [] : list , {} dict, set, () : tuple, 함수에서 사용\n",
    "\n",
    "print(\"sum([1,2,3]) : \", sum([1,2,3]))\n",
    "print(\"min([1,2,3]) : \", min([1,2,3]))\n",
    "print(\"abs(-11) : \", abs(-11)) # 절대값\n",
    "print(\"pow(2,10) : \", pow(2,10)) # 2에 10승\n",
    "print(\"round(3.141595) : \", round(3.141592)) # 반올림\n",
    "print(\"round(3.141595) : \", round(3.141592, 2))\n",
    "# 함수의 형태가 다르면 : 오버로딩\n",
    "# 파이썬 오버로딩이 없음. = > 디폴트 매개변수\n",
    "\n",
    "\n"
   ]
  },
  {
   "cell_type": "code",
   "execution_count": null,
   "metadata": {},
   "outputs": [],
   "source": [
    "# 문제 : 숫자 4,7,8 을 리스트로 초기화 하고 합계를 출력하시오"
   ]
  },
  {
   "cell_type": "code",
   "execution_count": null,
   "metadata": {},
   "outputs": [],
   "source": [
    "ab = 1,2,3\n",
    "sum(ab)"
   ]
  },
  {
   "cell_type": "code",
   "execution_count": null,
   "metadata": {},
   "outputs": [],
   "source": [
    "# 문제 : 두 수를 입력받아 몫과 나머지를 출력하시오"
   ]
  },
  {
   "cell_type": "code",
   "execution_count": null,
   "metadata": {
    "scrolled": true
   },
   "outputs": [],
   "source": [
    "a = input(\"첫 번째 수 \")\n",
    "b = input(\"두 번째 수\" )\n",
    "hab = int(a) + int(b)\n",
    "quotient = hab // 2\n",
    "remainder = hab % 2\n",
    "print(\"입력된 수를 2로 나눈 결과 몫 = \", quotient, \"나머지 = \", remainder)\n",
    "# 파이썬의 블록은 들여쓰기임\n",
    "# : 조건문 , 반복문, 함수\n",
    "if remainder == 0:\n",
    "    print(\" 짝수 입니다. \")\n",
    "else: \n",
    "        print(\"홀수 입니다.\")"
   ]
  },
  {
   "cell_type": "markdown",
   "metadata": {},
   "source": [
    "# Scope\n"
   ]
  },
  {
   "cell_type": "code",
   "execution_count": null,
   "metadata": {},
   "outputs": [],
   "source": [
    "x = 300 # 전역 변수\n",
    "def myfunc() : # 함수도 리턴타입을 지정하지 않음\n",
    "    x = 200 # 지역변수 : 함수와 생사를 같이함\n",
    "    print(x)\n",
    "    myfunc()\n",
    "    print(x)"
   ]
  },
  {
   "cell_type": "code",
   "execution_count": null,
   "metadata": {},
   "outputs": [],
   "source": [
    "# 어떤 수가 들어 오더라도 나머지가 0::가위, 1:바위, 2:보 로 출력하시오"
   ]
  },
  {
   "cell_type": "code",
   "execution_count": null,
   "metadata": {},
   "outputs": [],
   "source": [
    "vv = input(\"0~2 중 입력하시오 \")\n",
    "\n",
    "if vv == '0':\n",
    "    print(\"가위입니다.\")\n",
    "elif vv == '1':\n",
    "    print(\"바위입니다.\")\n",
    "else:\n",
    "    print(\"보 입니다.\")"
   ]
  },
  {
   "cell_type": "code",
   "execution_count": null,
   "metadata": {},
   "outputs": [],
   "source": [
    "# random : 프로그램에서 난수는 의사난수임.\n",
    "import random\n",
    "random.seed(1000) # 그대로가라\n",
    "print(random.randint(1,5))\n",
    "elements = [\"earth\", 1, \"air\", \"fire\", \"water\"]\n",
    "elements[0] = \"earths\"\n",
    "print(random.choice(elements))\n",
    "print(random.sample(elements, 2)) # 두개만 뽑아라 랜덤으로\n",
    "random.shuffle(elements) # 셔플해라\n",
    "print(elements)\n",
    "\n"
   ]
  },
  {
   "cell_type": "code",
   "execution_count": null,
   "metadata": {},
   "outputs": [],
   "source": [
    "# 비교연산자와 논리 연산자 ( >=, <=,>,<)와 논리 연산자 (and, or, not)\n",
    "a = 20\n",
    "b = 10\n",
    "c = a> 10 and b < 50\n",
    "print(c)\n",
    "\n",
    "c = 10<a<50\n",
    "print(c)"
   ]
  },
  {
   "cell_type": "code",
   "execution_count": null,
   "metadata": {},
   "outputs": [],
   "source": [
    "# swap\n",
    "x = 5\n",
    "y = 6\n",
    "x, y = y,x\n",
    "print(x,y)"
   ]
  },
  {
   "cell_type": "code",
   "execution_count": null,
   "metadata": {
    "scrolled": true
   },
   "outputs": [],
   "source": [
    "# list 안에 list\n",
    "# a 에 저장된 것 : list주소값, 리스트는 주소를 담아놓은 항아리\n",
    "a = [1,2,3, ['a','b','c'],4,5]\n",
    "print(a[2:5])\n",
    "print(a[3][:2])\n",
    "# 2차원 list\n",
    "a = [['a',100, 50], ['a2',90,88],['a2',100,100]]\n",
    "print(a[0][:3])\n",
    "\n",
    "a = [1,2, ['a','b',['Life', 'is']]]\n",
    "print(a[0])\n",
    "print(a[2],[2],[0])"
   ]
  },
  {
   "cell_type": "code",
   "execution_count": null,
   "metadata": {},
   "outputs": [],
   "source": [
    "# 리스트를 이용한 스택 ( stack ) Last in first out\n",
    "a = [10,20,30,40,50]\n",
    "a.append(60) # 데이터추가시 append 함수사용\n",
    "print(a.pop()) # 뒤에서 데이터를 가지오 오면서 삭제\n",
    "print(a)\n",
    "a.append(60)\n",
    "print(a.pop())\n",
    "a.append(70)\n",
    "a.append(80)\n",
    "print(a.pop())"
   ]
  },
  {
   "cell_type": "code",
   "execution_count": null,
   "metadata": {},
   "outputs": [],
   "source": [
    "def calc(a,b):\n",
    "    return a+b, a*b\n",
    "x,y = calc(3,4)\n",
    "print(x,y)\n",
    "print(x)\n",
    "x,y\n",
    "args(4,5)\n",
    "calc(*args)"
   ]
  }
 ],
 "metadata": {
  "kernelspec": {
   "display_name": "Python 3",
   "language": "python",
   "name": "python3"
  },
  "language_info": {
   "codemirror_mode": {
    "name": "ipython",
    "version": 3
   },
   "file_extension": ".py",
   "mimetype": "text/x-python",
   "name": "python",
   "nbconvert_exporter": "python",
   "pygments_lexer": "ipython3",
   "version": "3.7.4"
  }
 },
 "nbformat": 4,
 "nbformat_minor": 2
}
