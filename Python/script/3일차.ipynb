{
 "cells": [
  {
   "cell_type": "markdown",
   "metadata": {},
   "source": [
    "# 3일차"
   ]
  },
  {
   "cell_type": "code",
   "execution_count": 12,
   "metadata": {},
   "outputs": [
    {
     "name": "stdout",
     "output_type": "stream",
     "text": [
      "ㅇㅇㅇㅇ5\n",
      "*\n",
      "          *\n",
      "            *\n",
      "              *\n",
      "                *\n",
      "                  "
     ]
    }
   ],
   "source": [
    "nnn = int(input(\"ㅇㅇㅇㅇ\"))\n",
    "for i in range(nnn+i):\n",
    "    print(\"*\", end = \"\\n\")\n",
    "    for i in range(nnn+i):\n",
    "        print(\" \", end = \" \")"
   ]
  },
  {
   "cell_type": "code",
   "execution_count": 23,
   "metadata": {},
   "outputs": [
    {
     "name": "stdout",
     "output_type": "stream",
     "text": [
      "None\n"
     ]
    }
   ],
   "source": [
    "def add(a,b):\n",
    "    c = a+b\n",
    "    return\n",
    "key = add(a=10,b=20)\n",
    "\n"
   ]
  },
  {
   "cell_type": "code",
   "execution_count": null,
   "metadata": {},
   "outputs": [],
   "source": [
    "# 함수 (function)\n",
    "# - 함수이름은 중복이 되면 안됨 (오버로딩은 default 매개변수로 해결)\n",
    "# - Required auguments(매개변수를 순서적으로 입력)\n",
    "# - keyword auguments(키이 매개변수의 순서 변경이 가능)\n",
    "# - default auguments(오버로딩해결)\n",
    "# - Variable-length auguments(변동매개변수 : * -> list, ** -> dict)"
   ]
  },
  {
   "cell_type": "code",
   "execution_count": 26,
   "metadata": {},
   "outputs": [
    {
     "name": "stdout",
     "output_type": "stream",
     "text": [
      "30\n",
      "70\n",
      "30\n",
      "70\n"
     ]
    }
   ],
   "source": [
    "a=10\n",
    "b=20\n",
    "result = a+b\n",
    "print(result)\n",
    "\n",
    "c=30\n",
    "d=40\n",
    "result = c+d\n",
    "print(result)\n",
    "\n",
    "def addvalue(a,b): # ab=10, bd=20 주소값만 전달 call by reference\n",
    "    return a+b\n",
    "print(addvalue(10,20)) # 호출시 데이터는 힙에 저장 => 주소값만 전달\n",
    "print(addvalue(30,40)) #"
   ]
  },
  {
   "cell_type": "code",
   "execution_count": 27,
   "metadata": {},
   "outputs": [
    {
     "ename": "SyntaxError",
     "evalue": "can't assign to operator (<ipython-input-27-af5f7a889909>, line 2)",
     "output_type": "error",
     "traceback": [
      "\u001b[1;36m  File \u001b[1;32m\"<ipython-input-27-af5f7a889909>\"\u001b[1;36m, line \u001b[1;32m2\u001b[0m\n\u001b[1;33m    - y = ax+b # a= 기울기 계수, b:bias 절편\u001b[0m\n\u001b[1;37m                                      ^\u001b[0m\n\u001b[1;31mSyntaxError\u001b[0m\u001b[1;31m:\u001b[0m can't assign to operator\n"
     ]
    }
   ],
   "source": [
    "# 회귀분석\n",
    "- y = ax+b # a= 기울기 계수, b:bias 절편 "
   ]
  },
  {
   "cell_type": "code",
   "execution_count": 30,
   "metadata": {},
   "outputs": [
    {
     "name": "stdout",
     "output_type": "stream",
     "text": [
      "1030\n",
      "1030\n"
     ]
    }
   ],
   "source": [
    "def reg(a,b,x):\n",
    "    return a*x + b\n",
    "print(reg(10,30,100))\n",
    "\n",
    "def reg2(x):\n",
    "    a = 10\n",
    "    b = 30\n",
    "    return a*x+b\n",
    "print(reg2(100))"
   ]
  },
  {
   "cell_type": "code",
   "execution_count": 37,
   "metadata": {},
   "outputs": [
    {
     "name": "stdout",
     "output_type": "stream",
     "text": [
      "10보다 크다\n"
     ]
    }
   ],
   "source": [
    "# 두수를 더한 값이 10보다 큰지 확인하시오\n",
    "a=10\n",
    "b=20\n",
    "result=a+b\n",
    "if result >= 10:\n",
    "    result = \"10보다 크다\"\n",
    "else:\n",
    "    result = \"10보다 작다\"\n",
    "print(result)"
   ]
  },
  {
   "cell_type": "code",
   "execution_count": 39,
   "metadata": {},
   "outputs": [
    {
     "data": {
      "text/plain": [
       "'10보다 크다'"
      ]
     },
     "execution_count": 39,
     "metadata": {},
     "output_type": "execute_result"
    }
   ],
   "source": [
    "def sum_1(a,b):\n",
    "    result=a+b\n",
    "    if result >= 10:\n",
    "        result = \"10보다 크다\"\n",
    "    else:\n",
    "        result = \"10보다 작다\"\n",
    "    return result\n",
    "sum_1(10,20)"
   ]
  },
  {
   "cell_type": "code",
   "execution_count": 49,
   "metadata": {},
   "outputs": [
    {
     "name": "stdout",
     "output_type": "stream",
     "text": [
      "10 20\n",
      "(30, 40)\n"
     ]
    }
   ],
   "source": [
    "a=10\n",
    "b=20\n",
    "print(a,b)\n",
    "\n",
    "def re(c):\n",
    "    a=30\n",
    "    b=40\n",
    "    return a,b\n",
    "print(re(c))"
   ]
  },
  {
   "cell_type": "code",
   "execution_count": 54,
   "metadata": {},
   "outputs": [
    {
     "name": "stdout",
     "output_type": "stream",
     "text": [
      "(20, 10)\n",
      "(10, 20)\n"
     ]
    },
    {
     "data": {
      "text/plain": [
       "tuple"
      ]
     },
     "execution_count": 54,
     "metadata": {},
     "output_type": "execute_result"
    }
   ],
   "source": [
    "a=10\n",
    "b=20\n",
    "def swap(x,y): # 함수는 여러개의 값을 리턴할 수 있음.\n",
    "    return y,x\n",
    "a,b = swap(a,b)\n",
    "print(ab)\n",
    "x = swap(a,b) # 함수가 리턴하는 값은 튜플임.\n",
    "print(x)\n",
    "type(x)"
   ]
  },
  {
   "cell_type": "code",
   "execution_count": 59,
   "metadata": {},
   "outputs": [
    {
     "name": "stdout",
     "output_type": "stream",
     "text": [
      "30\n",
      "-10\n",
      "200\n",
      "결과 :  30\n",
      "결과 :  -10\n",
      "결과 :  200\n"
     ]
    }
   ],
   "source": [
    "# 두 수를 입력받아 +,-,* 하는 함수 3개를 작성하시오.\n",
    "# add, subtract, multiply\n",
    "\n",
    "def add(x,y):\n",
    "    return x+y\n",
    "print(add(10,20))\n",
    "\n",
    "def subtract(x,y):\n",
    "    return x-y\n",
    "print(subtract(10,20))\n",
    "\n",
    "def multiply(x,y):\n",
    "    return x*y\n",
    "print(multiply(10,20))\n",
    "\n",
    "# 함수는 일급함수 : 함수가 매개변수로 전달가능, 리턴값으로 가능\n",
    "def changefun(g,a,b):\n",
    "    return g(a,b)\n",
    "print('결과 : ', changefun(add,10,20)) #sort (key함수 전달 )\n",
    "print('결과 : ', changefun(subtract,10,20))\n",
    "print('결과 : ', changefun(multiply,10,20))\n"
   ]
  },
  {
   "cell_type": "code",
   "execution_count": 70,
   "metadata": {},
   "outputs": [
    {
     "name": "stdout",
     "output_type": "stream",
     "text": [
      "함수내부에서 출력 :  [10, 20, 30, [1, 2, 3, 4]]\n",
      "함수 외부에서 출력 :  [10, 20, 30, [1, 2, 3, 4]]\n"
     ]
    }
   ],
   "source": [
    "def changeme(mylist): # mylist = mylist주소\n",
    "    mylist.append([1,2,3,4]); # 대입이 벌어지면  call by value\n",
    "    print(\"함수내부에서 출력 : \", mylist)\n",
    "    return\n",
    "mylist = [10,20,30] # heap에 저장, 이유 : 주소값이 넘어갔기 때문에 call by reference\n",
    "changeme(mylist)\n",
    "print(\"함수 외부에서 출력 : \", mylist)"
   ]
  },
  {
   "cell_type": "code",
   "execution_count": 71,
   "metadata": {},
   "outputs": [
    {
     "ename": "AttributeError",
     "evalue": "'set' object has no attribute 'append'",
     "output_type": "error",
     "traceback": [
      "\u001b[1;31m---------------------------------------------------------------------------\u001b[0m",
      "\u001b[1;31mAttributeError\u001b[0m                            Traceback (most recent call last)",
      "\u001b[1;32m<ipython-input-71-4cfd817ab4d5>\u001b[0m in \u001b[0;36m<module>\u001b[1;34m\u001b[0m\n\u001b[0;32m      1\u001b[0m \u001b[0mmylist\u001b[0m \u001b[1;33m=\u001b[0m \u001b[1;33m{\u001b[0m\u001b[1;36m10\u001b[0m\u001b[1;33m,\u001b[0m\u001b[1;36m20\u001b[0m\u001b[1;33m,\u001b[0m\u001b[1;36m30\u001b[0m\u001b[1;33m}\u001b[0m \u001b[1;31m# heap에 저장, 이유 : 주소값이 넘어갔기 때문에 call by reference\u001b[0m\u001b[1;33m\u001b[0m\u001b[1;33m\u001b[0m\u001b[0m\n\u001b[1;32m----> 2\u001b[1;33m \u001b[0mchangeme\u001b[0m\u001b[1;33m(\u001b[0m\u001b[0mmylist\u001b[0m\u001b[1;33m)\u001b[0m\u001b[1;33m\u001b[0m\u001b[1;33m\u001b[0m\u001b[0m\n\u001b[0m\u001b[0;32m      3\u001b[0m \u001b[0mprint\u001b[0m\u001b[1;33m(\u001b[0m\u001b[1;34m\"함수 외부에서 출력 : \"\u001b[0m\u001b[1;33m,\u001b[0m \u001b[0mmylist\u001b[0m\u001b[1;33m)\u001b[0m\u001b[1;33m\u001b[0m\u001b[1;33m\u001b[0m\u001b[0m\n",
      "\u001b[1;32m<ipython-input-70-cd3b4e4e3627>\u001b[0m in \u001b[0;36mchangeme\u001b[1;34m(mylist)\u001b[0m\n\u001b[0;32m      1\u001b[0m \u001b[1;32mdef\u001b[0m \u001b[0mchangeme\u001b[0m\u001b[1;33m(\u001b[0m\u001b[0mmylist\u001b[0m\u001b[1;33m)\u001b[0m\u001b[1;33m:\u001b[0m \u001b[1;31m# mylist = mylist주소\u001b[0m\u001b[1;33m\u001b[0m\u001b[1;33m\u001b[0m\u001b[0m\n\u001b[1;32m----> 2\u001b[1;33m     \u001b[0mmylist\u001b[0m\u001b[1;33m.\u001b[0m\u001b[0mappend\u001b[0m\u001b[1;33m(\u001b[0m\u001b[1;33m[\u001b[0m\u001b[1;36m1\u001b[0m\u001b[1;33m,\u001b[0m\u001b[1;36m2\u001b[0m\u001b[1;33m,\u001b[0m\u001b[1;36m3\u001b[0m\u001b[1;33m,\u001b[0m\u001b[1;36m4\u001b[0m\u001b[1;33m]\u001b[0m\u001b[1;33m)\u001b[0m\u001b[1;33m;\u001b[0m \u001b[1;31m# 대입이 벌어지면  call by value\u001b[0m\u001b[1;33m\u001b[0m\u001b[1;33m\u001b[0m\u001b[0m\n\u001b[0m\u001b[0;32m      3\u001b[0m     \u001b[0mprint\u001b[0m\u001b[1;33m(\u001b[0m\u001b[1;34m\"함수내부에서 출력 : \"\u001b[0m\u001b[1;33m,\u001b[0m \u001b[0mmylist\u001b[0m\u001b[1;33m)\u001b[0m\u001b[1;33m\u001b[0m\u001b[1;33m\u001b[0m\u001b[0m\n\u001b[0;32m      4\u001b[0m     \u001b[1;32mreturn\u001b[0m\u001b[1;33m\u001b[0m\u001b[1;33m\u001b[0m\u001b[0m\n\u001b[0;32m      5\u001b[0m \u001b[0mmylist\u001b[0m \u001b[1;33m=\u001b[0m \u001b[1;33m[\u001b[0m\u001b[1;36m10\u001b[0m\u001b[1;33m,\u001b[0m\u001b[1;36m20\u001b[0m\u001b[1;33m,\u001b[0m\u001b[1;36m30\u001b[0m\u001b[1;33m]\u001b[0m \u001b[1;31m# heap에 저장, 이유 : 주소값이 넘어갔기 때문에 call by reference\u001b[0m\u001b[1;33m\u001b[0m\u001b[1;33m\u001b[0m\u001b[0m\n",
      "\u001b[1;31mAttributeError\u001b[0m: 'set' object has no attribute 'append'"
     ]
    }
   ],
   "source": [
    "# 실행이 안되는 이유 {}이건 dict 이기때문에 append가 없음.\n",
    "# 데이터 타입을 구분해야 하는 것은 프로그래머의 책임.\n",
    "mylist = {10,20,30} \n",
    "changeme(mylist)\n",
    "print(\"함수 외부에서 출력 : \", mylist)"
   ]
  },
  {
   "cell_type": "code",
   "execution_count": 73,
   "metadata": {},
   "outputs": [
    {
     "name": "stdout",
     "output_type": "stream",
     "text": [
      "시작\n",
      "1,2,3,\n",
      "1,2,3,4,5,6,7,8,9,10,\n"
     ]
    }
   ],
   "source": [
    "# 변동 매개변수 : \n",
    "def func1(*args): # list가 옴.\n",
    "    for i in args:\n",
    "        print(i, end=',')\n",
    "    print()\n",
    "print('시작')\n",
    "func1(1,2,3)\n",
    "func1(1,2,3,4,5,6,7,8,9,10)"
   ]
  },
  {
   "cell_type": "code",
   "execution_count": 76,
   "metadata": {},
   "outputs": [
    {
     "name": "stdout",
     "output_type": "stream",
     "text": [
      "args is  (1, 2)\n",
      "kwargs is  {'z': 5.0}\n",
      "Hello Now I'm going to call <function g at 0x000002AF946D00D8>\n",
      "1\n",
      "2\n",
      "5.0\n"
     ]
    },
    {
     "data": {
      "text/plain": [
       "0.6"
      ]
     },
     "execution_count": 76,
     "metadata": {},
     "output_type": "execute_result"
    }
   ],
   "source": [
    "def say_hello_then_call(f, *args, **kwargs):\n",
    "    print('args is ', args)\n",
    "    print('kwargs is ', kwargs)\n",
    "    print(\"Hello Now I'm going to call %s\" % f) # 함수가 위치한 주소값\n",
    "    return f(*args, **kwargs)\n",
    "def g(x,y,z=1): # 디폴트 매개변수\n",
    "    print(x)\n",
    "    print(y)\n",
    "    print(z)\n",
    "    return (x+y) /z\n",
    "say_hello_then_call(g,1,2,z=5.)"
   ]
  },
  {
   "cell_type": "code",
   "execution_count": 80,
   "metadata": {},
   "outputs": [
    {
     "name": "stdout",
     "output_type": "stream",
     "text": [
      "1 0\n",
      "1 2\n",
      "1 2\n"
     ]
    }
   ],
   "source": [
    "def func_test2(a,b=0):\n",
    "    print(a,b)\n",
    "func_test2(1) # a=1,b=0\n",
    "func_test2(1,2) # a=1, b=2\n",
    "func_test2(b=2,a=1) # 키이 매개변수"
   ]
  },
  {
   "cell_type": "code",
   "execution_count": 81,
   "metadata": {},
   "outputs": [],
   "source": [
    "def func_test4(): # None 객체\n",
    "    pass # 몸통을 미지정"
   ]
  },
  {
   "cell_type": "code",
   "execution_count": 83,
   "metadata": {},
   "outputs": [
    {
     "data": {
      "text/plain": [
       "True"
      ]
     },
     "execution_count": 83,
     "metadata": {},
     "output_type": "execute_result"
    }
   ],
   "source": [
    "# == 숫자나 문자,\n",
    "# 객체를 비교할 때는 is 함수\n",
    "result = func_test4()\n",
    "result is None"
   ]
  },
  {
   "cell_type": "code",
   "execution_count": 85,
   "metadata": {},
   "outputs": [
    {
     "data": {
      "text/plain": [
       "NoneType"
      ]
     },
     "execution_count": 85,
     "metadata": {},
     "output_type": "execute_result"
    }
   ],
   "source": [
    "result.__class__ # 멤버변수, 시스템에서 생성한 변수"
   ]
  },
  {
   "cell_type": "code",
   "execution_count": 87,
   "metadata": {},
   "outputs": [
    {
     "data": {
      "text/plain": [
       "function"
      ]
     },
     "execution_count": 87,
     "metadata": {},
     "output_type": "execute_result"
    }
   ],
   "source": [
    "func_test4.__class__ "
   ]
  },
  {
   "cell_type": "code",
   "execution_count": 92,
   "metadata": {},
   "outputs": [
    {
     "name": "stdout",
     "output_type": "stream",
     "text": [
      "15 5 50\n",
      "<class 'function'>\n"
     ]
    }
   ],
   "source": [
    "def func_test3(a,b):\n",
    "    return a+b, a-b, a*b\n",
    "a,b,c = func_test3(10,5)\n",
    "print(a,b,c); print(type(func_test3))\n",
    "# 함수도 객체다."
   ]
  },
  {
   "cell_type": "code",
   "execution_count": 93,
   "metadata": {},
   "outputs": [
    {
     "name": "stdout",
     "output_type": "stream",
     "text": [
      "15\n"
     ]
    }
   ],
   "source": [
    "# 커링\n",
    "def all_number(x,y):\n",
    "    return x+y\n",
    "add_five=lambda y: all_number(5, y) # 무명함수 -> 유명함수\n",
    "print(add_five(10))"
   ]
  },
  {
   "cell_type": "code",
   "execution_count": 109,
   "metadata": {},
   "outputs": [
    {
     "data": {
      "text/plain": [
       "19.72308292331602"
      ]
     },
     "execution_count": 109,
     "metadata": {},
     "output_type": "execute_result"
    }
   ],
   "source": [
    "# 문제 : 두 점 사이의 거리값을 구하는 함수를 작성하시오.\n",
    "import math\n",
    "#math.sqrt()\n",
    "def pp(x1,y1,x2,y2):\n",
    "    x = x2-x1\n",
    "    y = y2-y1\n",
    "    di = math.sqrt(x**2 + y**2)  # 피라고리스 정리\n",
    "    return di\n",
    "pp(10,10,27,20)"
   ]
  },
  {
   "cell_type": "code",
   "execution_count": 110,
   "metadata": {},
   "outputs": [
    {
     "name": "stdout",
     "output_type": "stream",
     "text": [
      "1.4142135623730951\n"
     ]
    }
   ],
   "source": [
    "# 문제 : 두 점 사이의 거리값을 구하는 함수를 작성하시오.\n",
    "import math\n",
    "#math.sqrt()\n",
    "def point(x1,y1,x2,y2):\n",
    "    # 두점사이의 거리계산\n",
    "    dx = x1 - x2\n",
    "    dy = y1 - y2\n",
    "    dist = math.sqrt(dx**2 + dy**2)\n",
    "    return dist\n",
    "print(point(1,1,2,2))\n",
    "?point"
   ]
  },
  {
   "cell_type": "code",
   "execution_count": 112,
   "metadata": {},
   "outputs": [
    {
     "data": {
      "text/plain": [
       "120"
      ]
     },
     "execution_count": 112,
     "metadata": {},
     "output_type": "execute_result"
    }
   ],
   "source": [
    "# 수학에서 factorial 5! = 5*4*3*2*1\n",
    "def factorial(n):\n",
    "    sum = 1 #  항등원 : 덧셈의 항등원 0, 곱셈의 항등원 1, 행렬의 항등원 : 단위행렬\n",
    "    for i in range(n,1,-1):\n",
    "        sum *= i\n",
    "    return sum\n",
    "factorial(5)"
   ]
  },
  {
   "cell_type": "code",
   "execution_count": 118,
   "metadata": {},
   "outputs": [
    {
     "data": {
      "text/plain": [
       "720"
      ]
     },
     "execution_count": 118,
     "metadata": {},
     "output_type": "execute_result"
    }
   ],
   "source": [
    "# 재귀함수 : 함수가 자기자신 함수를 호출\n",
    "def fact(n,stop=1):\n",
    "    if n <= stop or n <= 0: # 종료조건, 입력제한\n",
    "        return 1\n",
    "    return n*fact(n-1,stop)\n",
    "fact(6)"
   ]
  },
  {
   "cell_type": "code",
   "execution_count": 124,
   "metadata": {},
   "outputs": [
    {
     "name": "stdout",
     "output_type": "stream",
     "text": [
      "1024\n"
     ]
    }
   ],
   "source": [
    "# power 함수를 구현하시오 (2^10) # pow(2,10)\n",
    "def power(r,n):\n",
    "    value = 1\n",
    "    for i in range(1, n+1):\n",
    "        value = value * r\n",
    "    return value\n",
    "print(power(2,10))"
   ]
  },
  {
   "cell_type": "code",
   "execution_count": 127,
   "metadata": {},
   "outputs": [
    {
     "name": "stdout",
     "output_type": "stream",
     "text": [
      "1024\n"
     ]
    }
   ],
   "source": [
    "def power2(r,n):\n",
    "    if n == 1:  # 종료조건, 입력제한\n",
    "        return r\n",
    "    else:\n",
    "        return r * power2(r,n-1)\n",
    "print(power(2,10))"
   ]
  },
  {
   "cell_type": "code",
   "execution_count": 130,
   "metadata": {},
   "outputs": [
    {
     "name": "stdout",
     "output_type": "stream",
     "text": [
      "inner\n",
      "global inner\n"
     ]
    }
   ],
   "source": [
    "# 내부함수\n",
    "def outer():\n",
    "    def inner():\n",
    "        print('inner')\n",
    "    inner()\n",
    "def inner():\n",
    "    print(\"global inner\")\n",
    "outer()\n",
    "inner()"
   ]
  },
  {
   "cell_type": "code",
   "execution_count": 138,
   "metadata": {},
   "outputs": [
    {
     "name": "stdout",
     "output_type": "stream",
     "text": [
      "0.996320710737567\n",
      "0.29323385097747523\n",
      "0.980975913258051\n",
      "0.9682891091015398\n",
      "0.42218917445056303\n"
     ]
    }
   ],
   "source": [
    "# generator\n",
    "# for in : Collections(list, tuple, dict, set), iterator(range), generator, eneumerate\n",
    "\n",
    "import random\n",
    "def gaus_dist(n):\n",
    "    while n > 0:\n",
    "        yield random.random() # 비동기 호출함수 0~1\n",
    "        n-=1\n",
    "gd = gaus_dist(5)\n",
    "for i in gd:\n",
    "    print(i)"
   ]
  },
  {
   "cell_type": "code",
   "execution_count": 141,
   "metadata": {},
   "outputs": [
    {
     "name": "stdout",
     "output_type": "stream",
     "text": [
      "python's recipe no.1\n",
      "perl's recipe no.2\n"
     ]
    },
    {
     "data": {
      "text/plain": [
       "(2953133134472, 2953133134616)"
      ]
     },
     "execution_count": 141,
     "metadata": {},
     "output_type": "execute_result"
    }
   ],
   "source": [
    "# 함수가 값을 저장할 수 있을까?\n",
    "# clouser ( 자바스크립트에서 사용하던 방식 ) : 값을 저장하는 방법\n",
    "def cook(name):\n",
    "    def recipe(no):\n",
    "        print(\"%s's recipe no.%d\" % (name,no))\n",
    "    return recipe\n",
    "python_recipe = cook('python')\n",
    "perl_recipe = cook('perl')\n",
    "python_recipe(1)\n",
    "perl_recipe(2)\n",
    "id(python_recipe), id(perl_recipe)"
   ]
  },
  {
   "cell_type": "code",
   "execution_count": 144,
   "metadata": {},
   "outputs": [
    {
     "name": "stdout",
     "output_type": "stream",
     "text": [
      "         1.7560\n",
      "         2.2220\n",
      "              1\n"
     ]
    }
   ],
   "source": [
    "# clouser 클로저의 응용(장식자 : decorator)\n",
    "def format_and_pad(template, space):\n",
    "    def formatter(x):\n",
    "        return (template % x).rjust(space)\n",
    "    return formatter\n",
    "\n",
    "fmt=format_and_pad('%.4f', 15)\n",
    "print(fmt(1.756))\n",
    "print(fmt(2.222))\n",
    "\n",
    "fmt2=format_and_pad('%d', 15)\n",
    "print(fmt2(1.756))"
   ]
  },
  {
   "cell_type": "code",
   "execution_count": 147,
   "metadata": {},
   "outputs": [
    {
     "name": "stdout",
     "output_type": "stream",
     "text": [
      " 삼각형의 밑변을 입력하시오 : 5\n",
      " 삼각형의 높이를 입력하시오 : 10\n",
      "25.0\n"
     ]
    }
   ],
   "source": [
    "# 데이터를 입력받아\n",
    "# 삼각형의 넓이 (밑변 * 높이 / 2)\n",
    "# 사각형의 넓이 (밑변 , 높이)\n",
    "# 원의 넓이를 계산하는 함수를 작성해라 (반지름)\n",
    "\n",
    "def sam(x,y):\n",
    "    return (x*y)/2\n",
    "samgack = float(input(\" 삼각형의 밑변을 입력하시오 : \"))\n",
    "samgack2 = float(input(\" 삼각형의 높이를 입력하시오 : \"))\n",
    "print(sam(samgack,samgack2))"
   ]
  },
  {
   "cell_type": "code",
   "execution_count": 148,
   "metadata": {},
   "outputs": [
    {
     "name": "stdout",
     "output_type": "stream",
     "text": [
      " 사각형의 밑변을 입력하시오 : 5\n",
      " 사각형의 높이를 입력하시오 : 8\n",
      "40.0\n"
     ]
    }
   ],
   "source": [
    "# 사각형의 넓이\n",
    "def sagac(x,y):\n",
    "    return x*y\n",
    "samgac = float(input(\" 사각형의 밑변을 입력하시오 : \"))\n",
    "samgac2 = float(input(\" 사각형의 높이를 입력하시오 : \"))\n",
    "print(sagac(samgac,samgac2))"
   ]
  },
  {
   "cell_type": "code",
   "execution_count": 149,
   "metadata": {},
   "outputs": [],
   "source": [
    "#원\n",
    "\n",
    "def one(x):\n",
    "    return x*3.14\n"
   ]
  },
  {
   "cell_type": "code",
   "execution_count": 151,
   "metadata": {},
   "outputs": [
    {
     "name": "stdout",
     "output_type": "stream",
     "text": [
      "밑변이나 반지름으로 사용할 값을 입력하시오 5\n",
      " 삼각형이나 사각형의 높이를 입력하시오6\n",
      "삼각형의 넓이는 15.0\n",
      "사각형의 넓이는 30\n",
      "원의 넓이는  78.53981633974483\n"
     ]
    }
   ],
   "source": [
    "import math\n",
    "def cal_tri(mylist):\n",
    "    return mylist[0] * mylist[1]/2\n",
    "def cal_rec(mylist):\n",
    "    return mylist[0] * mylist[1]\n",
    "def cal_cir(mylist):\n",
    "    return math.pi * (mylist[0] ** 2)\n",
    "mylist = []\n",
    "width = eval(input(\"밑변이나 반지름으로 사용할 값을 입력하시오 \"))\n",
    "height = eval(input(\" 삼각형이나 사각형의 높이를 입력하시오\"))\n",
    "mylist.append(width)\n",
    "mylist.append(height)\n",
    "print(\"삼각형의 넓이는\", cal_tri(mylist))\n",
    "print(\"사각형의 넓이는\", cal_rec(mylist))\n",
    "print(\"원의 넓이는 \", cal_cir(mylist))"
   ]
  },
  {
   "cell_type": "code",
   "execution_count": 157,
   "metadata": {},
   "outputs": [
    {
     "name": "stdout",
     "output_type": "stream",
     "text": [
      "시급을 입력하시오.8500\n",
      "일하는시간을 입력하시오.45\n",
      "당신의 주급은 40시간 초과로 1.5배입니다. 573750.0\n"
     ]
    }
   ],
   "source": [
    "# 시간과 시간당 급여를 입력받아  주급을 계산하는 프로그램을 작성하시오.\n",
    "# - 조건 : 40시간이 넘으면 1.5배를 지급\n",
    "# - 매개변수(시간,시간당 급여)\n",
    "\n",
    "def sigup(x,y):\n",
    "    return x*y\n",
    "def sigupover(x,y):\n",
    "    z = x*1.5\n",
    "    return (y*z)\n",
    "\n",
    "sig = eval(input(\"시급을 입력하시오.\"))\n",
    "work = eval(input(\"일하는시간을 입력하시오.\"))\n",
    "\n",
    "if work >=40:\n",
    "    print(\"당신의 주급은 40시간 초과로 1.5배입니다.\", sigupover(sig,work))\n",
    "else:\n",
    "    print(\"당신의 주급입니다.\", sigup(sig,work))\n",
    "\n"
   ]
  },
  {
   "cell_type": "code",
   "execution_count": 158,
   "metadata": {},
   "outputs": [
    {
     "name": "stdout",
     "output_type": "stream",
     "text": [
      "시간당 급여는 : 8500\n",
      "주간 총 근무시간 : 45\n"
     ]
    },
    {
     "ename": "NameError",
     "evalue": "name 'basictime' is not defined",
     "output_type": "error",
     "traceback": [
      "\u001b[1;31m---------------------------------------------------------------------------\u001b[0m",
      "\u001b[1;31mNameError\u001b[0m                                 Traceback (most recent call last)",
      "\u001b[1;32m<ipython-input-158-16fb22d8c4df>\u001b[0m in \u001b[0;36m<module>\u001b[1;34m\u001b[0m\n\u001b[0;32m      8\u001b[0m \u001b[0mwage\u001b[0m \u001b[1;33m=\u001b[0m \u001b[0meval\u001b[0m\u001b[1;33m(\u001b[0m\u001b[0minput\u001b[0m\u001b[1;33m(\u001b[0m\u001b[1;34m\"시간당 급여는 : \"\u001b[0m\u001b[1;33m)\u001b[0m\u001b[1;33m)\u001b[0m\u001b[1;33m\u001b[0m\u001b[1;33m\u001b[0m\u001b[0m\n\u001b[0;32m      9\u001b[0m \u001b[0mwork\u001b[0m \u001b[1;33m=\u001b[0m \u001b[0meval\u001b[0m\u001b[1;33m(\u001b[0m\u001b[0minput\u001b[0m\u001b[1;33m(\u001b[0m\u001b[1;34m\"주간 총 근무시간 : \"\u001b[0m\u001b[1;33m)\u001b[0m\u001b[1;33m)\u001b[0m\u001b[1;33m\u001b[0m\u001b[1;33m\u001b[0m\u001b[0m\n\u001b[1;32m---> 10\u001b[1;33m \u001b[0mearnings\u001b[0m \u001b[1;33m=\u001b[0m \u001b[0mpay\u001b[0m\u001b[1;33m(\u001b[0m\u001b[0mwage\u001b[0m\u001b[1;33m,\u001b[0m\u001b[0mwork\u001b[0m\u001b[1;33m)\u001b[0m\u001b[1;33m\u001b[0m\u001b[1;33m\u001b[0m\u001b[0m\n\u001b[0m\u001b[0;32m     11\u001b[0m \u001b[0mprint\u001b[0m\u001b[1;33m(\u001b[0m\u001b[1;34m\"주간 수입은 : {0:,.2f}원\"\u001b[0m\u001b[1;33m.\u001b[0m \u001b[0mformat\u001b[0m\u001b[1;33m(\u001b[0m\u001b[0mearnings\u001b[0m\u001b[1;33m)\u001b[0m\u001b[1;33m)\u001b[0m\u001b[1;33m\u001b[0m\u001b[1;33m\u001b[0m\u001b[0m\n",
      "\u001b[1;32m<ipython-input-158-16fb22d8c4df>\u001b[0m in \u001b[0;36mpay\u001b[1;34m(wage, hours)\u001b[0m\n\u001b[0;32m      1\u001b[0m \u001b[0mbasic\u001b[0m \u001b[1;33m=\u001b[0m \u001b[1;36m40\u001b[0m\u001b[1;33m\u001b[0m\u001b[1;33m\u001b[0m\u001b[0m\n\u001b[0;32m      2\u001b[0m \u001b[1;32mdef\u001b[0m \u001b[0mpay\u001b[0m\u001b[1;33m(\u001b[0m\u001b[0mwage\u001b[0m\u001b[1;33m,\u001b[0m \u001b[0mhours\u001b[0m\u001b[1;33m)\u001b[0m\u001b[1;33m:\u001b[0m\u001b[1;33m\u001b[0m\u001b[1;33m\u001b[0m\u001b[0m\n\u001b[1;32m----> 3\u001b[1;33m     \u001b[1;32mif\u001b[0m \u001b[0mhours\u001b[0m \u001b[1;33m<=\u001b[0m \u001b[0mbasictime\u001b[0m\u001b[1;33m:\u001b[0m\u001b[1;33m\u001b[0m\u001b[1;33m\u001b[0m\u001b[0m\n\u001b[0m\u001b[0;32m      4\u001b[0m         \u001b[0mamount\u001b[0m \u001b[1;33m=\u001b[0m \u001b[0mwage\u001b[0m \u001b[1;33m*\u001b[0m \u001b[0mhours\u001b[0m\u001b[1;33m\u001b[0m\u001b[1;33m\u001b[0m\u001b[0m\n\u001b[0;32m      5\u001b[0m     \u001b[1;32melse\u001b[0m\u001b[1;33m:\u001b[0m\u001b[1;33m\u001b[0m\u001b[1;33m\u001b[0m\u001b[0m\n",
      "\u001b[1;31mNameError\u001b[0m: name 'basictime' is not defined"
     ]
    }
   ],
   "source": [
    "basic = 40\n",
    "def pay(wage, hours):\n",
    "    if hours <= basictime:\n",
    "        amount = wage * hours\n",
    "    else:\n",
    "        amount = (wage * basictime) + ((1.5)* wage * (hours - basictime))\n",
    "    return amount\n",
    "wage = eval(input(\"시간당 급여는 : \"))\n",
    "work = eval(input(\"주간 총 근무시간 : \"))\n",
    "earnings = pay(wage,work)\n",
    "print(\"주간 수입은 : {0:,.2f}원\". format(earnings))"
   ]
  },
  {
   "cell_type": "code",
   "execution_count": 245,
   "metadata": {},
   "outputs": [
    {
     "name": "stdout",
     "output_type": "stream",
     "text": [
      "2.2296265364093537e-136\n"
     ]
    }
   ],
   "source": [
    "# 이자율이 주어졌을 때 기간거치후의 총액과 이자수익을 출력하시오\n",
    "# 복리계산 = 원가 * (1 * 0.04) = 복리) ** 거치년수\n",
    "# 원가1 + 이율 0.04 ** 거치년수\n",
    "# 매개변수 :원금,거치기간\n",
    "# 단서 조건 : 입력 함수, 계산함수 , 출력함수로 분리해서 작성하시오.\n",
    "\n",
    "rate = 0.04\n",
    "\n",
    "\n",
    "def ipruc():\n",
    "    won = eval(input(\" 원금을 입력하시오 : \"))\n",
    "    guch = eval(input(\" 거치 년수를 입력하시오 : \"))\n",
    "    return won,guch\n",
    "\n",
    "\n",
    "# 입력함수\n",
    "def bokri(x):\n",
    "    x = x * (1 * rate ** guch)\n",
    "    return x\n",
    "\n",
    "\n",
    "\n",
    "print(bokri(won))\n",
    "\n",
    "\n",
    "\n",
    "# print(bokri(won))\n",
    "# 계산함수\n",
    "\n",
    "\n",
    "\n",
    "\n",
    "# 출력함수"
   ]
  },
  {
   "cell_type": "code",
   "execution_count": 229,
   "metadata": {},
   "outputs": [
    {
     "ename": "NameError",
     "evalue": "name 'won2' is not defined",
     "output_type": "error",
     "traceback": [
      "\u001b[1;31m---------------------------------------------------------------------------\u001b[0m",
      "\u001b[1;31mNameError\u001b[0m                                 Traceback (most recent call last)",
      "\u001b[1;32m<ipython-input-229-89a41877741d>\u001b[0m in \u001b[0;36m<module>\u001b[1;34m\u001b[0m\n\u001b[0;32m      1\u001b[0m \u001b[0mwon\u001b[0m \u001b[1;33m=\u001b[0m \u001b[0mwon\u001b[0m\u001b[1;33m*\u001b[0m\u001b[1;36m0.04\u001b[0m\u001b[1;33m\u001b[0m\u001b[1;33m\u001b[0m\u001b[0m\n\u001b[1;32m----> 2\u001b[1;33m \u001b[0mwon2\u001b[0m \u001b[1;33m=\u001b[0m \u001b[0mwon2\u001b[0m\u001b[1;33m+\u001b[0m\u001b[0mwon\u001b[0m\u001b[1;33m\u001b[0m\u001b[1;33m\u001b[0m\u001b[0m\n\u001b[0m\u001b[0;32m      3\u001b[0m \u001b[0mprint\u001b[0m\u001b[1;33m(\u001b[0m\u001b[0mwon2\u001b[0m\u001b[1;33m)\u001b[0m\u001b[1;33m\u001b[0m\u001b[1;33m\u001b[0m\u001b[0m\n",
      "\u001b[1;31mNameError\u001b[0m: name 'won2' is not defined"
     ]
    }
   ],
   "source": [
    "won = won*0.04\n",
    "won2 = won2+won\n",
    "print(won2)"
   ]
  },
  {
   "cell_type": "code",
   "execution_count": 261,
   "metadata": {},
   "outputs": [
    {
     "name": "stdout",
     "output_type": "stream",
     "text": [
      "예금액 :500\n",
      "기간: 50\n",
      "예금총액 : \\3,553.34   이자총액 : \\3,053.34\n"
     ]
    }
   ],
   "source": [
    "rate = 0.04\n",
    "def getinput(): #입력\n",
    "    principal = eval(input(\"예금액 :\"))\n",
    "    numberOfYears = eval(input(\"기간: \"))\n",
    "    return (principal,numberOfYears)\n",
    "def balance(prin,num): #처리\n",
    "    balan = prin * ((1+rate) ** num) # 원금포암 이자 계산액\n",
    "    inter = balan - prin\n",
    "    return (balan,inter)\n",
    "def display(bal, intE): # 출력\n",
    "    print(\"예금총액 : \\{0:,.2f}   이자총액 : \\{1:,.2f}\". format(bal,intE))\n",
    "def mainaa():\n",
    "    principal, num = getinput()\n",
    "    bal, intE = balance(principal, num)\n",
    "    display(bal, intE)\n",
    "mainaa()\n",
    "#  display(*(balance(*(getinput()))))"
   ]
  },
  {
   "cell_type": "code",
   "execution_count": 262,
   "metadata": {},
   "outputs": [],
   "source": [
    "# 함수화 프로그래밍 for + 함수를 적용\n",
    "# lambda 함수를 이용한 처리가 많음.\n"
   ]
  },
  {
   "cell_type": "code",
   "execution_count": 264,
   "metadata": {},
   "outputs": [
    {
     "data": {
      "text/plain": [
       "100"
      ]
     },
     "execution_count": 264,
     "metadata": {},
     "output_type": "execute_result"
    }
   ],
   "source": [
    "(lambda x: x*x )(10)"
   ]
  },
  {
   "cell_type": "code",
   "execution_count": 266,
   "metadata": {},
   "outputs": [
    {
     "name": "stdout",
     "output_type": "stream",
     "text": [
      "11\n"
     ]
    },
    {
     "data": {
      "text/plain": [
       "11"
      ]
     },
     "execution_count": 266,
     "metadata": {},
     "output_type": "execute_result"
    }
   ],
   "source": [
    "incr = lambda x, incr=1: x+incr # 무명함수 -> 유명함수\n",
    "print(incr(10))\n",
    "incr(10,)"
   ]
  },
  {
   "cell_type": "code",
   "execution_count": 268,
   "metadata": {},
   "outputs": [
    {
     "name": "stdout",
     "output_type": "stream",
     "text": [
      "['aaaa', 'foo', 'abab', 'bar', 'cars']\n"
     ]
    }
   ],
   "source": [
    "strings=['foo','cars','bar','aaaa','abab']\n",
    "# 정렬기준을 key에 함수로 전달 ()\n",
    "strings.sort(key=lambda x: len(set(list(x)))) # 중복되지 않는 데이터 개수에 따라\n",
    "print(strings) # key는 defalt 매개변수였음."
   ]
  },
  {
   "cell_type": "code",
   "execution_count": 269,
   "metadata": {},
   "outputs": [
    {
     "name": "stdout",
     "output_type": "stream",
     "text": [
      "<map object at 0x000002AF9640B508>\n",
      "[9, 16]\n"
     ]
    }
   ],
   "source": [
    "# 디폴트가 없기 때문에.\n",
    "m = map(lambda x: x*x, [3,4]) # 고유한 포멧으로 출력 무조건 처음에 함수가 와야함\n",
    "print(m)\n",
    "print(list(m)) # 리스트로 캐스팅해야 출력"
   ]
  },
  {
   "cell_type": "code",
   "execution_count": 271,
   "metadata": {},
   "outputs": [
    {
     "data": {
      "text/plain": [
       "[0, 1, 4, 9, 16]"
      ]
     },
     "execution_count": 271,
     "metadata": {},
     "output_type": "execute_result"
    }
   ],
   "source": [
    "list(map(lambda x: x*x, range(5)))\n"
   ]
  },
  {
   "cell_type": "code",
   "execution_count": 274,
   "metadata": {},
   "outputs": [
    {
     "data": {
      "text/plain": [
       "[0, 1, 4, 9, 16]"
      ]
     },
     "execution_count": 274,
     "metadata": {},
     "output_type": "execute_result"
    }
   ],
   "source": [
    "sqr = lambda x: x*x\n",
    "list(map(sqr, range(5)))"
   ]
  },
  {
   "cell_type": "code",
   "execution_count": 283,
   "metadata": {},
   "outputs": [
    {
     "name": "stdout",
     "output_type": "stream",
     "text": [
      "[1210000, 1135000, 910000, 1360000, 2260000, 3010000]\n",
      "[1210000, 1135000, 910000, 1360000, 2260000, 3010000]\n"
     ]
    }
   ],
   "source": [
    "# 문제 : 다음 출근 시간 데이터에 대하여 기본금 10000원, 시간당 7500원의 급여를 계산\n",
    "# lambda와 map 함수를 이용하여 구하시오.\n",
    "\n",
    "total_time = [160,150,120,180,300,400]\n",
    "calc = lambda x: 10000 + 7500 *x\n",
    "pay = list(map(calc, total_time))\n",
    "print(pay)\n",
    "\n",
    "pay2 = list(map(lambda x: 10000+7500 *x, total_time))\n",
    "print(pay2)"
   ]
  },
  {
   "cell_type": "code",
   "execution_count": 285,
   "metadata": {},
   "outputs": [
    {
     "data": {
      "text/plain": [
       "[1, 3, 5, 7, 9]"
      ]
     },
     "execution_count": 285,
     "metadata": {},
     "output_type": "execute_result"
    }
   ],
   "source": [
    "def odd(p):\n",
    "    return [i for i in p if i%2]\n",
    "odd(range(10))"
   ]
  },
  {
   "cell_type": "code",
   "execution_count": 291,
   "metadata": {},
   "outputs": [
    {
     "name": "stdout",
     "output_type": "stream",
     "text": [
      "[1, 3, 5, 7, 9]"
     ]
    }
   ],
   "source": [
    "# 필터의 함수는 True/False 를 리턴하는 함수여야함.\n",
    "def add(k):\n",
    "    return k%2\n",
    "print(list(filter(add, range(10))), end = '')"
   ]
  },
  {
   "cell_type": "code",
   "execution_count": 296,
   "metadata": {},
   "outputs": [
    {
     "name": "stdout",
     "output_type": "stream",
     "text": [
      "[3, 6, 9, 12, 15, 18, 21, 24, 27, 30, 33, 36, 39, 42, 45, 48, 51, 54, 57, 60, 63, 66, 69, 72, 75, 78, 81, 84, 87, 90, 93, 96, 99]"
     ]
    }
   ],
   "source": [
    "# 문제 : 1부터 99사이의 데이터중 3으로 나누어 떨어지는 데이터를 filter를 이용해\n",
    "# 구하시오.\n",
    "def add(k):\n",
    "    return k%3 == 0\n",
    "print(list(filter(add, range(1,100))), end = '')"
   ]
  },
  {
   "cell_type": "code",
   "execution_count": 304,
   "metadata": {},
   "outputs": [
    {
     "data": {
      "text/plain": [
       "55"
      ]
     },
     "execution_count": 304,
     "metadata": {},
     "output_type": "execute_result"
    }
   ],
   "source": [
    "# reduce (분산처리시 값을 합계)\n",
    "from functools import reduce\n",
    "reduce(lambda x,y: x+y, range(11)) # 이전에 계산된값이 x로"
   ]
  },
  {
   "cell_type": "code",
   "execution_count": 305,
   "metadata": {},
   "outputs": [
    {
     "data": {
      "text/plain": [
       "362880"
      ]
     },
     "execution_count": 305,
     "metadata": {},
     "output_type": "execute_result"
    }
   ],
   "source": [
    "reduce(lambda x,y: x*y, range(1,10)) # 이전에 계산된값이 x로"
   ]
  },
  {
   "cell_type": "code",
   "execution_count": 306,
   "metadata": {},
   "outputs": [
    {
     "data": {
      "text/plain": [
       "'edcba'"
      ]
     },
     "execution_count": 306,
     "metadata": {},
     "output_type": "execute_result"
    }
   ],
   "source": [
    "reduce(lambda x,y: y+x, 'abcde')"
   ]
  },
  {
   "cell_type": "code",
   "execution_count": 315,
   "metadata": {},
   "outputs": [
    {
     "data": {
      "text/plain": [
       "5.0"
      ]
     },
     "execution_count": 315,
     "metadata": {},
     "output_type": "execute_result"
    }
   ],
   "source": [
    "# 함수 배열\n",
    "func_choice = [lambda x,y: x**y, lambda x,y: x/y]\n",
    "func_choice[0](10,2)\n",
    "func_choice[1](10,2)"
   ]
  },
  {
   "cell_type": "code",
   "execution_count": 317,
   "metadata": {},
   "outputs": [
    {
     "name": "stdout",
     "output_type": "stream",
     "text": [
      "[5, 6, 7, 8]\n"
     ]
    }
   ],
   "source": [
    "# 문제 1) 다음 데이터에서 4보다 큰 수 만 출력하도록 filtering해 보시오\n",
    "data = [1,2,3,4,5,6,7,8,3,4,2,1]\n",
    "fil = list(filter(lambda x: x>4,data))\n",
    "print(fil)"
   ]
  },
  {
   "cell_type": "code",
   "execution_count": 325,
   "metadata": {},
   "outputs": [
    {
     "name": "stdout",
     "output_type": "stream",
     "text": [
      "True\n",
      "True\n"
     ]
    }
   ],
   "source": [
    "# 문제2) 숫자를 입력 받아서 홀수 인 경우는 \" 나는 행복 합니다.\" 라고 출력하고\n",
    "# 짝수인 경우는 \"나는 귀중한 사람이다\" 라고 출력하는 함수 선택을 구현해 보시오.\n",
    "# hang = [\"나는 행복합니다. \", \"나는 귀중한 사람이다.\"]\n",
    "# ha = int(input(\"숫자입력.\"))\n",
    "# def hang2(k):\n",
    "#     return k%2 == 0\n",
    "# print(hang2(ha))\n",
    "\n",
    "\n",
    "func_choice = [lambda x: x%2==0, lambda x: x%2!=0]\n",
    "print(func_choice[0](10))\n",
    "print(func_choice[1](9))\n"
   ]
  },
  {
   "cell_type": "code",
   "execution_count": 326,
   "metadata": {},
   "outputs": [
    {
     "name": "stdout",
     "output_type": "stream",
     "text": [
      " 숫자 입력 5\n",
      "나는 행복합니다. \n"
     ]
    }
   ],
   "source": [
    "func = [lambda:print(\"나는 귀중한 사람입니다.\"),lambda:print(\"나는 행복합니다. \")]\n",
    "con = eval(input(\" 숫자 입력 \"))\n",
    "con %=2\n",
    "func[con]()"
   ]
  },
  {
   "cell_type": "code",
   "execution_count": 333,
   "metadata": {},
   "outputs": [
    {
     "name": "stdout",
     "output_type": "stream",
     "text": [
      "이름을 입력하시오 : 임영택\n",
      "국어점수를 입력하시오 : 85\n",
      "영어점수를 입력하시오 : 95\n",
      "수학점수를 입력하시오 : 100\n",
      "이름 :  임영택 \n",
      " 국어점수 :  85 영어점수 :  95 수학점수 :  100 총점 :  280 평균 :  93.33\n"
     ]
    }
   ],
   "source": [
    "# 성적 프로그램을 입력, 처리, 출력 함수를 이용해서 구현하시오\n",
    "# 이름, 국어, 영어, 수학, 총점, 평균\n",
    "sungjuk=[] # 전역함수\n",
    "def input1():\n",
    "    name = str(input(\"이름을 입력하시오 : \"))\n",
    "    kor = int(input(\"국어점수를 입력하시오 : \"))\n",
    "    eng = int(input(\"영어점수를 입력하시오 : \"))\n",
    "    math = int(input(\"수학점수를 입력하시오 : \"))\n",
    "    return name,kor,eng,math\n",
    "\n",
    "def hap(kor,eng,math):\n",
    "    total = kor+eng+math\n",
    "    aver = total/3\n",
    "    return total,aver\n",
    "\n",
    "def main():\n",
    "    name, kor, eng, math = input1()\n",
    "    total, aver = hap(kor,eng,math)\n",
    "    return print(\"이름 : \", name,\"\\n\",\"국어점수 : \",kor, \"영어점수 : \",eng, \"수학점수 : \", math, \"총점 : \", total, \"평균 : \", round(aver,2))\n",
    "main()"
   ]
  },
  {
   "cell_type": "code",
   "execution_count": 374,
   "metadata": {
    "scrolled": true
   },
   "outputs": [
    {
     "name": "stdout",
     "output_type": "stream",
     "text": [
      "이름을 입력하시오 : ㅇㅇㅁㄴㅇ\n",
      "국어점수를 입력하시오 : 123\n",
      "영어점수를 입력하시오 : 123\n",
      "수학점수를 입력하시오 : 123\n",
      "이름 : ㅇㅇㅁㄴㅇ, 국어 : 123,영어 : 123, 수학 123 , 총점 369 , 평균 123.0  \n"
     ]
    }
   ],
   "source": [
    "sungjuk=[] # 전역함수\n",
    "def input2():\n",
    "    name = str(input(\"이름을 입력하시오 : \"))\n",
    "    kor = int(input(\"국어점수를 입력하시오 : \"))\n",
    "    eng = int(input(\"영어점수를 입력하시오 : \"))\n",
    "    math = int(input(\"수학점수를 입력하시오 : \"))\n",
    "    sungjuk.append(name)\n",
    "    sungjuk.append(kor)\n",
    "    sungjuk.append(eng)\n",
    "    sungjuk.append(math)\n",
    "    return sungjuk\n",
    "\n",
    "def hap2():\n",
    "    total = sum(sungjuk[1:4])\n",
    "    aver = total/3\n",
    "    sungjuk.append(total)\n",
    "    sungjuk.append(aver)\n",
    "    return sungjuk\n",
    "\n",
    "def main2():\n",
    "    input2(); hap2()\n",
    "    print(\"이름 : {0}, 국어 : {1},영어 : {2}, 수학 {3} , 총점 {4} , 평균 {5}  \".format(sungjuk[0],sungjuk[1],sungjuk[2],sungjuk[3],sungjuk[4],sungjuk[5]))\n",
    "main2()"
   ]
  },
  {
   "cell_type": "code",
   "execution_count": 360,
   "metadata": {},
   "outputs": [
    {
     "ename": "TypeError",
     "evalue": "hap2() takes 0 positional arguments but 1 was given",
     "output_type": "error",
     "traceback": [
      "\u001b[1;31m---------------------------------------------------------------------------\u001b[0m",
      "\u001b[1;31mTypeError\u001b[0m                                 Traceback (most recent call last)",
      "\u001b[1;32m<ipython-input-360-e3bbd8fe0f92>\u001b[0m in \u001b[0;36m<module>\u001b[1;34m\u001b[0m\n\u001b[0;32m      2\u001b[0m \u001b[0mtotal\u001b[0m \u001b[1;33m=\u001b[0m \u001b[0msum\u001b[0m\u001b[1;33m(\u001b[0m\u001b[0msungjuk\u001b[0m\u001b[1;33m[\u001b[0m\u001b[1;36m1\u001b[0m\u001b[1;33m:\u001b[0m\u001b[1;36m4\u001b[0m\u001b[1;33m]\u001b[0m\u001b[1;33m)\u001b[0m\u001b[1;33m\u001b[0m\u001b[1;33m\u001b[0m\u001b[0m\n\u001b[0;32m      3\u001b[0m \u001b[0mtotal\u001b[0m\u001b[1;33m\u001b[0m\u001b[1;33m\u001b[0m\u001b[0m\n\u001b[1;32m----> 4\u001b[1;33m \u001b[0mhap2\u001b[0m\u001b[1;33m(\u001b[0m\u001b[0msungjuk\u001b[0m\u001b[1;33m)\u001b[0m\u001b[1;33m\u001b[0m\u001b[1;33m\u001b[0m\u001b[0m\n\u001b[0m",
      "\u001b[1;31mTypeError\u001b[0m: hap2() takes 0 positional arguments but 1 was given"
     ]
    }
   ],
   "source": [
    "\n"
   ]
  }
 ],
 "metadata": {
  "kernelspec": {
   "display_name": "Python 3",
   "language": "python",
   "name": "python3"
  },
  "language_info": {
   "codemirror_mode": {
    "name": "ipython",
    "version": 3
   },
   "file_extension": ".py",
   "mimetype": "text/x-python",
   "name": "python",
   "nbconvert_exporter": "python",
   "pygments_lexer": "ipython3",
   "version": "3.7.4"
  }
 },
 "nbformat": 4,
 "nbformat_minor": 4
}
