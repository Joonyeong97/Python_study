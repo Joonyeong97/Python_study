{
 "cells": [
  {
   "cell_type": "code",
   "execution_count": 5,
   "metadata": {},
   "outputs": [
    {
     "name": "stdin",
     "output_type": "stream",
     "text": [
      "입력하세요 Hello\n"
     ]
    },
    {
     "name": "stdout",
     "output_type": "stream",
     "text": [
      "{'message': {'@type': 'response', '@service': 'naverservice.nmt.proxy', '@version': '1.0.0', 'result': {'srcLangType': 'en', 'tarLangType': 'ko', 'translatedText': '안녕하세요.'}}}\n"
     ]
    }
   ],
   "source": [
    "import requests\n",
    "\n",
    "request_url = \"https://openapi.naver.com/v1/papago/n2mt\"\n",
    "text1 = \"Python is an easy to learn, powerful programming language. It has efficient high-level data structures and a simple but effective approach to object-oriented programming. Python’s elegant syntax and dynamic typing, together with its interpreted nature, make it an ideal language for scripting and rapid application development in many areas on most platforms.\"\n",
    "text = input(\"입력하세요\")\n",
    "headers = {\"X-Naver-Client-Id\": \"87f7_YRity2S1E5_YSq7\", \"X-Naver-Client-Secret\": \"v61ABQPCWt\"}\n",
    "params = {\"source\": \"en\", \"target\": \"ko\", \"text\": text}\n",
    "response = requests.post(request_url, headers=headers, data=params)\n",
    " \n",
    "result = response.json()\n",
    " \n",
    "print(result)"
   ]
  }
 ],
 "metadata": {
  "kernelspec": {
   "display_name": "Python 3",
   "language": "python",
   "name": "python3"
  },
  "language_info": {
   "codemirror_mode": {
    "name": "ipython",
    "version": 3
   },
   "file_extension": ".py",
   "mimetype": "text/x-python",
   "name": "python",
   "nbconvert_exporter": "python",
   "pygments_lexer": "ipython3",
   "version": "3.7.6"
  }
 },
 "nbformat": 4,
 "nbformat_minor": 4
}
