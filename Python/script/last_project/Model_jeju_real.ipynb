{
 "cells": [
  {
   "cell_type": "code",
   "execution_count": 1,
   "metadata": {
    "colab": {
     "base_uri": "https://localhost:8080/",
     "height": 81
    },
    "colab_type": "code",
    "id": "tVYjsemAJimL",
    "outputId": "57776531-c216-4852-c492-36817cc53530"
   },
   "outputs": [
    {
     "data": {
      "text/html": [
       "<p style=\"color: red;\">\n",
       "The default version of TensorFlow in Colab will soon switch to TensorFlow 2.x.<br>\n",
       "We recommend you <a href=\"https://www.tensorflow.org/guide/migrate\" target=\"_blank\">upgrade</a> now \n",
       "or ensure your notebook will continue to use TensorFlow 1.x via the <code>%tensorflow_version 1.x</code> magic:\n",
       "<a href=\"https://colab.research.google.com/notebooks/tensorflow_version.ipynb\" target=\"_blank\">more info</a>.</p>\n"
      ],
      "text/plain": [
       "<IPython.core.display.HTML object>"
      ]
     },
     "metadata": {
      "tags": []
     },
     "output_type": "display_data"
    }
   ],
   "source": [
    "import tensorflow as tf\n",
    "config = tf.compat.v1.ConfigProto()\n",
    "config.gpu_options.allow_growth = True"
   ]
  },
  {
   "cell_type": "code",
   "execution_count": 2,
   "metadata": {
    "colab": {
     "base_uri": "https://localhost:8080/",
     "height": 35
    },
    "colab_type": "code",
    "id": "KUmtPDf1JlEX",
    "outputId": "88b1efdd-7732-4f8d-a243-2f68e3aa7c10"
   },
   "outputs": [
    {
     "data": {
      "text/plain": [
       "'/device:GPU:0'"
      ]
     },
     "execution_count": 2,
     "metadata": {
      "tags": []
     },
     "output_type": "execute_result"
    }
   ],
   "source": [
    "import tensorflow as tf\n",
    "tf.test.gpu_device_name()"
   ]
  },
  {
   "cell_type": "code",
   "execution_count": 3,
   "metadata": {
    "colab": {
     "base_uri": "https://localhost:8080/",
     "height": 35
    },
    "colab_type": "code",
    "id": "r0J3Q69AJnkg",
    "outputId": "e95ad12d-256e-47a0-cd86-681fb86dca34"
   },
   "outputs": [
    {
     "data": {
      "text/plain": [
       "466"
      ]
     },
     "execution_count": 3,
     "metadata": {
      "tags": []
     },
     "output_type": "execute_result"
    }
   ],
   "source": [
    "import pandas as pd\n",
    "lines= pd.read_csv('/content/jeju_final.txt', names=['src', 'tar'], sep='\\t')\n",
    "len(lines)"
   ]
  },
  {
   "cell_type": "code",
   "execution_count": 4,
   "metadata": {
    "colab": {
     "base_uri": "https://localhost:8080/",
     "height": 359
    },
    "colab_type": "code",
    "id": "SNnc8y3FJz7m",
    "outputId": "0fafb062-fdf4-492b-8fbc-74a8fefa6cb2"
   },
   "outputs": [
    {
     "data": {
      "text/html": [
       "<div>\n",
       "<style scoped>\n",
       "    .dataframe tbody tr th:only-of-type {\n",
       "        vertical-align: middle;\n",
       "    }\n",
       "\n",
       "    .dataframe tbody tr th {\n",
       "        vertical-align: top;\n",
       "    }\n",
       "\n",
       "    .dataframe thead th {\n",
       "        text-align: right;\n",
       "    }\n",
       "</style>\n",
       "<table border=\"1\" class=\"dataframe\">\n",
       "  <thead>\n",
       "    <tr style=\"text-align: right;\">\n",
       "      <th></th>\n",
       "      <th>src</th>\n",
       "      <th>tar</th>\n",
       "    </tr>\n",
       "  </thead>\n",
       "  <tbody>\n",
       "    <tr>\n",
       "      <th>127</th>\n",
       "      <td>가레죽</td>\n",
       "      <td>삽</td>\n",
       "    </tr>\n",
       "    <tr>\n",
       "      <th>50</th>\n",
       "      <td>마농</td>\n",
       "      <td>마늘</td>\n",
       "    </tr>\n",
       "    <tr>\n",
       "      <th>244</th>\n",
       "      <td>감장돌다</td>\n",
       "      <td>맴돌다</td>\n",
       "    </tr>\n",
       "    <tr>\n",
       "      <th>323</th>\n",
       "      <td>먹엄직이 살암직이 시상</td>\n",
       "      <td>먹어볼만한 살아볼만한 세상</td>\n",
       "    </tr>\n",
       "    <tr>\n",
       "      <th>387</th>\n",
       "      <td>어떵허코 어떵허코 어떵허코 어떵허코</td>\n",
       "      <td>어떡하지 어떡하지 어떡하지 어떡하지</td>\n",
       "    </tr>\n",
       "    <tr>\n",
       "      <th>226</th>\n",
       "      <td>옴탕호다</td>\n",
       "      <td>오목하다</td>\n",
       "    </tr>\n",
       "    <tr>\n",
       "      <th>429</th>\n",
       "      <td>눈물 남쩌 눈물 남서</td>\n",
       "      <td>눈물 나네 눈물이 나</td>\n",
       "    </tr>\n",
       "    <tr>\n",
       "      <th>150</th>\n",
       "      <td>고냉이</td>\n",
       "      <td>고양이</td>\n",
       "    </tr>\n",
       "    <tr>\n",
       "      <th>183</th>\n",
       "      <td>감저</td>\n",
       "      <td>고구마</td>\n",
       "    </tr>\n",
       "    <tr>\n",
       "      <th>181</th>\n",
       "      <td>송키</td>\n",
       "      <td>채소</td>\n",
       "    </tr>\n",
       "  </tbody>\n",
       "</table>\n",
       "</div>"
      ],
      "text/plain": [
       "                     src                  tar\n",
       "127                 가레죽                     삽\n",
       "50                   마농                    마늘\n",
       "244                감장돌다                   맴돌다\n",
       "323         먹엄직이 살암직이 시상       먹어볼만한 살아볼만한 세상\n",
       "387  어떵허코 어떵허코 어떵허코 어떵허코  어떡하지 어떡하지 어떡하지 어떡하지\n",
       "226                옴탕호다                  오목하다\n",
       "429          눈물 남쩌 눈물 남서          눈물 나네 눈물이 나\n",
       "150                 고냉이                   고양이\n",
       "183                  감저                   고구마\n",
       "181                  송키                    채소"
      ]
     },
     "execution_count": 4,
     "metadata": {
      "tags": []
     },
     "output_type": "execute_result"
    }
   ],
   "source": [
    "lines.sample(10)"
   ]
  },
  {
   "cell_type": "code",
   "execution_count": 5,
   "metadata": {
    "colab": {
     "base_uri": "https://localhost:8080/",
     "height": 359
    },
    "colab_type": "code",
    "id": "MKdZhp2cJ7L3",
    "outputId": "76946e1d-c3a5-484f-f93b-6b30227eb6c4"
   },
   "outputs": [
    {
     "data": {
      "text/html": [
       "<div>\n",
       "<style scoped>\n",
       "    .dataframe tbody tr th:only-of-type {\n",
       "        vertical-align: middle;\n",
       "    }\n",
       "\n",
       "    .dataframe tbody tr th {\n",
       "        vertical-align: top;\n",
       "    }\n",
       "\n",
       "    .dataframe thead th {\n",
       "        text-align: right;\n",
       "    }\n",
       "</style>\n",
       "<table border=\"1\" class=\"dataframe\">\n",
       "  <thead>\n",
       "    <tr style=\"text-align: right;\">\n",
       "      <th></th>\n",
       "      <th>src</th>\n",
       "      <th>tar</th>\n",
       "    </tr>\n",
       "  </thead>\n",
       "  <tbody>\n",
       "    <tr>\n",
       "      <th>123</th>\n",
       "      <td>작박</td>\n",
       "      <td>\\t  작은바가지 \\n</td>\n",
       "    </tr>\n",
       "    <tr>\n",
       "      <th>273</th>\n",
       "      <td>소도리호다</td>\n",
       "      <td>\\t  소문내다 \\n</td>\n",
       "    </tr>\n",
       "    <tr>\n",
       "      <th>256</th>\n",
       "      <td>귀태우다</td>\n",
       "      <td>\\t  은밀히알려주다 \\n</td>\n",
       "    </tr>\n",
       "    <tr>\n",
       "      <th>421</th>\n",
       "      <td>저 보름이</td>\n",
       "      <td>\\t 저 바람이 \\n</td>\n",
       "    </tr>\n",
       "    <tr>\n",
       "      <th>244</th>\n",
       "      <td>감장돌다</td>\n",
       "      <td>\\t  맴돌다 \\n</td>\n",
       "    </tr>\n",
       "    <tr>\n",
       "      <th>79</th>\n",
       "      <td>쪼께</td>\n",
       "      <td>\\t  조끼 \\n</td>\n",
       "    </tr>\n",
       "    <tr>\n",
       "      <th>417</th>\n",
       "      <td>휘이이</td>\n",
       "      <td>\\t 휘이이 \\n</td>\n",
       "    </tr>\n",
       "    <tr>\n",
       "      <th>65</th>\n",
       "      <td>보선</td>\n",
       "      <td>\\t  버선 \\n</td>\n",
       "    </tr>\n",
       "    <tr>\n",
       "      <th>145</th>\n",
       "      <td>고냥 독생이</td>\n",
       "      <td>\\t  굴뚝새 \\n</td>\n",
       "    </tr>\n",
       "    <tr>\n",
       "      <th>340</th>\n",
       "      <td>진아영 이우다</td>\n",
       "      <td>\\t 진아영 입니다 \\n</td>\n",
       "    </tr>\n",
       "  </tbody>\n",
       "</table>\n",
       "</div>"
      ],
      "text/plain": [
       "         src             tar\n",
       "123      작박     \\t  작은바가지 \\n\n",
       "273   소도리호다      \\t  소문내다 \\n\n",
       "256    귀태우다   \\t  은밀히알려주다 \\n\n",
       "421    저 보름이     \\t 저 바람이 \\n\n",
       "244    감장돌다       \\t  맴돌다 \\n\n",
       "79       쪼께        \\t  조끼 \\n\n",
       "417      휘이이       \\t 휘이이 \\n\n",
       "65       보선        \\t  버선 \\n\n",
       "145  고냥 독생이       \\t  굴뚝새 \\n\n",
       "340  진아영 이우다   \\t 진아영 입니다 \\n"
      ]
     },
     "execution_count": 5,
     "metadata": {
      "tags": []
     },
     "output_type": "execute_result"
    }
   ],
   "source": [
    "lines.tar = lines.tar.apply(lambda x : '\\t '+ x + ' \\n')\n",
    "lines.sample(10)"
   ]
  },
  {
   "cell_type": "code",
   "execution_count": null,
   "metadata": {
    "colab": {},
    "colab_type": "code",
    "id": "vK_TAZQlKCwv"
   },
   "outputs": [],
   "source": [
    "# 글자 집합 구축\n",
    "src_vocab=set()\n",
    "for line in lines.src: # 1줄씩 읽음\n",
    "    for char in line: # 1개의 글자씩 읽음\n",
    "        src_vocab.add(char)\n",
    "\n",
    "tar_vocab=set()\n",
    "for line in lines.tar:\n",
    "    for char in line:\n",
    "        tar_vocab.add(char)"
   ]
  },
  {
   "cell_type": "code",
   "execution_count": 7,
   "metadata": {
    "colab": {
     "base_uri": "https://localhost:8080/",
     "height": 53
    },
    "colab_type": "code",
    "id": "j8MFf_KTKDXP",
    "outputId": "2379212f-b2a4-4f5a-aac3-66f618de7522"
   },
   "outputs": [
    {
     "name": "stdout",
     "output_type": "stream",
     "text": [
      "499\n",
      "484\n"
     ]
    }
   ],
   "source": [
    "src_vocab_size = len(src_vocab)+1\n",
    "tar_vocab_size = len(tar_vocab)+1\n",
    "print(src_vocab_size)\n",
    "print(tar_vocab_size)"
   ]
  },
  {
   "cell_type": "code",
   "execution_count": 9,
   "metadata": {
    "colab": {
     "base_uri": "https://localhost:8080/",
     "height": 73
    },
    "colab_type": "code",
    "id": "WpED8X_TKMmv",
    "outputId": "621a2a00-a36b-4431-dd76-fbdc5ba949a7"
   },
   "outputs": [
    {
     "name": "stdout",
     "output_type": "stream",
     "text": [
      "['귀', '그', '근', '글', '금', '기', '김', '깍', '꺼', '껍', '께', '껭', '껴', '꼬', '꼭', '꼴', '꼽', '꽃', '꽈', '꽉', '꽝', '꾸', '꿀', '꿩', '꿰', '끄', '끈', '끌', '끼', '나']\n",
      "['근', '글', '금', '긋', '기', '긷', '길', '김', '까', '깨', '꺼', '껏', '께', '꼬', '꼭', '꽁', '꽂', '꽃', '꽉', '꾸', '꿀', '끄', '끈', '끌', '끓', '끔', '끼', '나', '난', '날']\n"
     ]
    }
   ],
   "source": [
    "src_vocab = sorted(list(src_vocab))\n",
    "tar_vocab = sorted(list(tar_vocab))\n",
    "print(src_vocab[45:75])\n",
    "print(tar_vocab[45:75])"
   ]
  },
  {
   "cell_type": "code",
   "execution_count": 10,
   "metadata": {
    "colab": {
     "base_uri": "https://localhost:8080/",
     "height": 73
    },
    "colab_type": "code",
    "id": "JlkaB9a_KMoq",
    "outputId": "e47879e9-1d12-4eea-eb0f-38033c7b54a8"
   },
   "outputs": [
    {
     "name": "stdout",
     "output_type": "stream",
     "text": [
      "{' ': 1, '.': 2, '3': 3, '4': 4, '5': 5, '?': 6, '가': 7, '각': 8, '간': 9, '갈': 10, '감': 11, '갓': 12, '강': 13, '개': 14, '갱': 15, '거': 16, '걱': 17, '건': 18, '걸': 19, '검': 20, '것': 21, '겅': 22, '게': 23, '겡': 24, '경': 25, '고': 26, '곡': 27, '곤': 28, '곧': 29, '골': 30, '곱': 31, '공': 32, '과': 33, '관': 34, '괭': 35, '괴': 36, '괸': 37, '교': 38, '구': 39, '국': 40, '군': 41, '굴': 42, '굶': 43, '굼': 44, '궤': 45, '귀': 46, '그': 47, '근': 48, '글': 49, '금': 50, '기': 51, '김': 52, '깍': 53, '꺼': 54, '껍': 55, '께': 56, '껭': 57, '껴': 58, '꼬': 59, '꼭': 60, '꼴': 61, '꼽': 62, '꽃': 63, '꽈': 64, '꽉': 65, '꽝': 66, '꾸': 67, '꿀': 68, '꿩': 69, '꿰': 70, '끄': 71, '끈': 72, '끌': 73, '끼': 74, '나': 75, '난': 76, '날': 77, '남': 78, '났': 79, '낭': 80, '내': 81, '냉': 82, '냐': 83, '냑': 84, '냥': 85, '넘': 86, '네': 87, '넹': 88, '녀': 89, '녁': 90, '년': 91, '녜': 92, '노': 93, '놀': 94, '놈': 95, '놋': 96, '농': 97, '놩': 98, '누': 99, '눈': 100, '뉠': 101, '느': 102, '는': 103, '늘': 104, '니': 105, '님': 106, '다': 107, '닥': 108, '단': 109, '달': 110, '담': 111, '답': 112, '당': 113, '대': 114, '댕': 115, '더': 116, '덕': 117, '덜': 118, '덮': 119, '데': 120, '덴': 121, '뎅': 122, '뎌': 123, '도': 124, '독': 125, '돈': 126, '돌': 127, '돔': 128, '돗': 129, '동': 130, '되': 131, '두': 132, '둘': 133, '둠': 134, '둥': 135, '뒤': 136, '드': 137, '든': 138, '들': 139, '듬': 140, '등': 141, '듸': 142, '디': 143, '딱': 144, '때': 145, '땡': 146, '떡': 147, '떵': 148, '또': 149, '뚝': 150, '뚱': 151, '뜩': 152, '라': 153, '락': 154, '람': 155, '랍': 156, '랐': 157, '랑': 158, '래': 159, '랜': 160, '랭': 161, '량': 162, '러': 163, '럭': 164, '런': 165, '럽': 166, '렀': 167, '렁': 168, '레': 169, '려': 170, '련': 171, '렴': 172, '렵': 173, '령': 174, '로': 175, '록': 176, '롬': 177, '롱': 178, '루': 179, '룩': 180, '룹': 181, '룽': 182, '르': 183, '른': 184, '를': 185, '름': 186, '릅': 187, '릇': 188, '리': 189, '릴': 190, '립': 191, '마': 192, '막': 193, '만': 194, '말': 195, '망': 196, '맞': 197, '맨': 198, '맹': 199, '머': 200, '먹': 201, '멀': 202, '멍': 203, '메': 204, '멕': 205, '멘': 206, '멩': 207, '명': 208, '모': 209, '목': 210, '몬': 211, '몰': 212, '몸': 213, '못': 214, '몽': 215, '무': 216, '묵': 217, '문': 218, '물': 219, '뭐': 220, '미': 221, '민': 222, '밀': 223, '바': 224, '박': 225, '반': 226, '발': 227, '밥': 228, '밧': 229, '방': 230, '밭': 231, '배': 232, '백': 233, '밸': 234, '뱅': 235, '벅': 236, '벌': 237, '벗': 238, '벙': 239, '베': 240, '벡': 241, '벤': 242, '보': 243, '복': 244, '볼': 245, '봉': 246, '봐': 247, '뵈': 248, '부': 249, '분': 250, '불': 251, '비': 252, '빈': 253, '빗': 254, '빙': 255, '빠': 256, '빡': 257, '뺄': 258, '뽈': 259, '삐': 260, '사': 261, '삭': 262, '산': 263, '살': 264, '삶': 265, '삼': 266, '상': 267, '새': 268, '생': 269, '서': 270, '석': 271, '섞': 272, '선': 273, '섯': 274, '성': 275, '세': 276, '소': 277, '속': 278, '손': 279, '솔': 280, '솖': 281, '솜': 282, '솟': 283, '송': 284, '쇠': 285, '수': 286, '숙': 287, '숟': 288, '숨': 289, '숭': 290, '쉐': 291, '스': 292, '슬': 293, '슴': 294, '시': 295, '식': 296, '신': 297, '실': 298, '심': 299, '싸': 300, '썰': 301, '썸': 302, '쎄': 303, '쏘': 304, '쏟': 305, '쏠': 306, '씀': 307, '씸': 308, '씻': 309, '아': 310, '악': 311, '안': 312, '앉': 313, '알': 314, '암': 315, '았': 316, '앙': 317, '앚': 318, '애': 319, '앨': 320, '야': 321, '얄': 322, '양': 323, '어': 324, '언': 325, '얼': 326, '엄': 327, '었': 328, '엉': 329, '에': 330, '엔': 331, '여': 332, '역': 333, '연': 334, '열': 335, '염': 336, '영': 337, '예': 338, '오': 339, '온': 340, '올': 341, '옴': 342, '옷': 343, '와': 344, '왁': 345, '완': 346, '왐': 347, '왓': 348, '왕': 349, '요': 350, '욕': 351, '용': 352, '우': 353, '욱': 354, '운': 355, '울': 356, '움': 357, '웃': 358, '워': 359, '위': 360, '으': 361, '은': 362, '을': 363, '음': 364, '의': 365, '이': 366, '인': 367, '일': 368, '잃': 369, '임': 370, '입': 371, '있': 372, '작': 373, '잠': 374, '잡': 375, '장': 376, '잰': 377, '쟁': 378, '저': 379, '적': 380, '전': 381, '절': 382, '접': 383, '정': 384, '제': 385, '젠': 386, '젯': 387, '젱': 388, '져': 389, '졈': 390, '졌': 391, '졍': 392, '조': 393, '존': 394, '좀': 395, '좁': 396, '좋': 397, '죙': 398, '주': 399, '죽': 400, '줄': 401, '줌': 402, '중': 403, '쥐': 404, '지': 405, '직': 406, '진': 407, '질': 408, '짐': 409, '짓': 410, '짝': 411, '짹': 412, '쩌': 413, '쪼': 414, '쪽': 415, '찌': 416, '찍': 417, '차': 418, '착': 419, '채': 420, '처': 421, '척': 422, '천': 423, '청': 424, '체': 425, '쳉': 426, '쳐': 427, '쳤': 428, '초': 429, '촌': 430, '촐': 431, '촘': 432, '촙': 433, '총': 434, '추': 435, '춘': 436, '춤': 437, '췀': 438, '취': 439, '치': 440, '카': 441, '캐': 442, '케': 443, '켜': 444, '코': 445, '쿨': 446, '퀴': 447, '큰': 448, '키': 449, '탁': 450, '탕': 451, '태': 452, '택': 453, '탱': 454, '터': 455, '턱': 456, '털': 457, '테': 458, '텡': 459, '통': 460, '톼': 461, '퉁': 462, '파': 463, '판': 464, '팝': 465, '팡': 466, '패': 467, '팽': 468, '펀': 469, '페': 470, '펜': 471, '폭': 472, '퐁': 473, '푼': 474, '풀': 475, '풍': 476, '픔': 477, '핏': 478, '하': 479, '한': 480, '할': 481, '함': 482, '항': 483, '해': 484, '핵': 485, '햄': 486, '행': 487, '허': 488, '헌': 489, '헐': 490, '호': 491, '혼': 492, '홀': 493, '확': 494, '황': 495, '훌': 496, '휘': 497, '흙': 498}\n",
      "{'\\t': 1, '\\n': 2, ' ': 3, '.': 4, '3': 5, '4': 6, '5': 7, '?': 8, '가': 9, '간': 10, '갈': 11, '감': 12, '갑': 13, '갓': 14, '강': 15, '같': 16, '개': 17, '거': 18, '걱': 19, '건': 20, '걸': 21, '겁': 22, '게': 23, '겠': 24, '겨': 25, '경': 26, '고': 27, '곡': 28, '곧': 29, '곱': 30, '곳': 31, '공': 32, '과': 33, '관': 34, '괘': 35, '괭': 36, '교': 37, '구': 38, '국': 39, '굴': 40, '굵': 41, '굶': 42, '궁': 43, '귀': 44, '그': 45, '근': 46, '글': 47, '금': 48, '긋': 49, '기': 50, '긷': 51, '길': 52, '김': 53, '까': 54, '깨': 55, '꺼': 56, '껏': 57, '께': 58, '꼬': 59, '꼭': 60, '꽁': 61, '꽂': 62, '꽃': 63, '꽉': 64, '꾸': 65, '꿀': 66, '끄': 67, '끈': 68, '끌': 69, '끓': 70, '끔': 71, '끼': 72, '나': 73, '난': 74, '날': 75, '남': 76, '납': 77, '낫': 78, '내': 79, '낼': 80, '냥': 81, '너': 82, '넓': 83, '넘': 84, '넣': 85, '네': 86, '녀': 87, '녁': 88, '년': 89, '노': 90, '놈': 91, '놓': 92, '누': 93, '눈': 94, '느': 95, '늑': 96, '는': 97, '늘': 98, '니': 99, '닐': 100, '님': 101, '다': 102, '단': 103, '달': 104, '닭': 105, '닮': 106, '담': 107, '닷': 108, '당': 109, '대': 110, '더': 111, '던': 112, '덜': 113, '덟': 114, '덮': 115, '데': 116, '도': 117, '돈': 118, '돌': 119, '동': 120, '돼': 121, '되': 122, '된': 123, '두': 124, '둘': 125, '뒤': 126, '뒹': 127, '드': 128, '득': 129, '든': 130, '들': 131, '등': 132, '디': 133, '따': 134, '땀': 135, '땋': 136, '때': 137, '떠': 138, '떡': 139, '떨': 140, '떻': 141, '뗀': 142, '똑': 143, '똥': 144, '뚝': 145, '뚱': 146, '뛰': 147, '뜬': 148, '뜻': 149, '라': 150, '락': 151, '란': 152, '람': 153, '랐': 154, '랑': 155, '랗': 156, '래': 157, '랴': 158, '러': 159, '런': 160, '럼': 161, '럽': 162, '렀': 163, '렇': 164, '레': 165, '려': 166, '렴': 167, '렵': 168, '렸': 169, '례': 170, '로': 171, '롭': 172, '롱': 173, '루': 174, '르': 175, '른': 176, '를': 177, '름': 178, '릇': 179, '릎': 180, '리': 181, '린': 182, '릴': 183, '림': 184, '마': 185, '막': 186, '만': 187, '많': 188, '말': 189, '망': 190, '맞': 191, '매': 192, '맨': 193, '맴': 194, '맷': 195, '맹': 196, '머': 197, '먹': 198, '먼': 199, '멍': 200, '메': 201, '며': 202, '멱': 203, '면': 204, '명': 205, '모': 206, '목': 207, '몸': 208, '못': 209, '무': 210, '문': 211, '물': 212, '뭇': 213, '뭐': 214, '믄': 215, '미': 216, '밀': 217, '바': 218, '박': 219, '반': 220, '발': 221, '밟': 222, '밤': 223, '밥': 224, '방': 225, '밭': 226, '배': 227, '백': 228, '뱀': 229, '버': 230, '번': 231, '벌': 232, '벗': 233, '벙': 234, '베': 235, '별': 236, '병': 237, '보': 238, '복': 239, '볼': 240, '봐': 241, '부': 242, '분': 243, '불': 244, '붓': 245, '비': 246, '빈': 247, '빗': 248, '빙': 249, '빠': 250, '빨': 251, '뺨': 252, '뼈': 253, '뿐': 254, '쁘': 255, '쁜': 256, '삐': 257, '사': 258, '산': 259, '살': 260, '삶': 261, '삼': 262, '삽': 263, '삿': 264, '상': 265, '새': 266, '색': 267, '생': 268, '서': 269, '섞': 270, '선': 271, '설': 272, '섯': 273, '성': 274, '세': 275, '소': 276, '속': 277, '손': 278, '솔': 279, '송': 280, '쇠': 281, '수': 282, '숟': 283, '숨': 284, '숫': 285, '쉐': 286, '슨': 287, '슬': 288, '시': 289, '식': 290, '신': 291, '실': 292, '심': 293, '십': 294, '쌀': 295, '쌌': 296, '썩': 297, '썰': 298, '쏟': 299, '쐐': 300, '쑥': 301, '쓰': 302, '씀': 303, '씨': 304, '아': 305, '안': 306, '앉': 307, '알': 308, '앗': 309, '았': 310, '앞': 311, '야': 312, '얀': 313, '얇': 314, '양': 315, '어': 316, '억': 317, '언': 318, '얼': 319, '엄': 320, '없': 321, '었': 322, '엊': 323, '에': 324, '엔': 325, '여': 326, '연': 327, '열': 328, '염': 329, '영': 330, '옆': 331, '예': 332, '오': 333, '온': 334, '올': 335, '옷': 336, '와': 337, '왁': 338, '왔': 339, '왜': 340, '외': 341, '요': 342, '욕': 343, '용': 344, '우': 345, '운': 346, '울': 347, '움': 348, '웃': 349, '워': 350, '원': 351, '위': 352, '으': 353, '은': 354, '을': 355, '음': 356, '의': 357, '이': 358, '익': 359, '인': 360, '일': 361, '잃': 362, '입': 363, '있': 364, '자': 365, '작': 366, '잔': 367, '잖': 368, '잘': 369, '잠': 370, '잡': 371, '장': 372, '재': 373, '쟁': 374, '저': 375, '적': 376, '전': 377, '젊': 378, '점': 379, '젓': 380, '정': 381, '제': 382, '져': 383, '졌': 384, '조': 385, '족': 386, '좀': 387, '종': 388, '좋': 389, '죠': 390, '주': 391, '죽': 392, '줄': 393, '줌': 394, '줍': 395, '쥐': 396, '즐': 397, '지': 398, '진': 399, '질': 400, '집': 401, '짓': 402, '짚': 403, '짝': 404, '째': 405, '짹': 406, '쨍': 407, '쩌': 408, '쪽': 409, '찌': 410, '찡': 411, '차': 412, '찬': 413, '참': 414, '찹': 415, '채': 416, '챙': 417, '처': 418, '척': 419, '천': 420, '청': 421, '쳐': 422, '쳤': 423, '촉': 424, '촌': 425, '총': 426, '추': 427, '춤': 428, '치': 429, '친': 430, '칠': 431, '침': 432, '카': 433, '캄': 434, '켜': 435, '콤': 436, '쾌': 437, '큰': 438, '타': 439, '탕': 440, '태': 441, '턱': 442, '텅': 443, '테': 444, '텐': 445, '통': 446, '투': 447, '퉁': 448, '퉈': 449, '티': 450, '파': 451, '팽': 452, '편': 453, '평': 454, '포': 455, '푼': 456, '풀': 457, '픔': 458, '하': 459, '학': 460, '한': 461, '할': 462, '함': 463, '항': 464, '해': 465, '허': 466, '헤': 467, '형': 468, '호': 469, '홀': 470, '화': 471, '확': 472, '황': 473, '휘': 474, '흉': 475, '흐': 476, '흔': 477, '흙': 478, '흩': 479, '희': 480, '흰': 481, '히': 482, '힘': 483}\n"
     ]
    }
   ],
   "source": [
    "src_to_index = dict([(word, i+1) for i, word in enumerate(src_vocab)])\n",
    "tar_to_index = dict([(word, i+1) for i, word in enumerate(tar_vocab)])\n",
    "print(src_to_index)\n",
    "print(tar_to_index)"
   ]
  },
  {
   "cell_type": "code",
   "execution_count": 11,
   "metadata": {
    "colab": {
     "base_uri": "https://localhost:8080/",
     "height": 35
    },
    "colab_type": "code",
    "id": "AGFcTxa9KXfY",
    "outputId": "be9ae7f3-0db6-4fcd-c436-cf0b3114f2bb"
   },
   "outputs": [
    {
     "name": "stdout",
     "output_type": "stream",
     "text": [
      "[[479, 183, 230, 1], [481, 196, 1], [310, 230, 1], [324, 203, 1], [252, 224, 189, 1]]\n"
     ]
    }
   ],
   "source": [
    "encoder_input = []\n",
    "for line in lines.src: #입력 데이터에서 1줄씩 문장을 읽음\n",
    "    temp_X = []\n",
    "    for w in line: #각 줄에서 1개씩 글자를 읽음\n",
    "      temp_X.append(src_to_index[w]) # 글자를 해당되는 정수로 변환\n",
    "    encoder_input.append(temp_X)\n",
    "print(encoder_input[:5])"
   ]
  },
  {
   "cell_type": "code",
   "execution_count": 12,
   "metadata": {
    "colab": {
     "base_uri": "https://localhost:8080/",
     "height": 55
    },
    "colab_type": "code",
    "id": "VVXRj279KMqQ",
    "outputId": "1d96998c-55e6-4d39-eea4-a35eb3f76eeb"
   },
   "outputs": [
    {
     "name": "stdout",
     "output_type": "stream",
     "text": [
      "[[1, 3, 3, 462, 305, 230, 398, 3, 2], [1, 3, 3, 462, 197, 99, 3, 2], [1, 3, 305, 230, 398, 3, 2], [1, 3, 3, 316, 197, 99, 3, 2], [1, 3, 3, 418, 87, 3, 2]]\n"
     ]
    }
   ],
   "source": [
    "decoder_input = []\n",
    "for line in lines.tar:\n",
    "    temp_X = []\n",
    "    for w in line:\n",
    "      temp_X.append(tar_to_index[w])\n",
    "    decoder_input.append(temp_X)\n",
    "print(decoder_input[:5])"
   ]
  },
  {
   "cell_type": "code",
   "execution_count": 15,
   "metadata": {
    "colab": {
     "base_uri": "https://localhost:8080/",
     "height": 55
    },
    "colab_type": "code",
    "id": "I4STqcICMKZA",
    "outputId": "1a790041-23c0-4d5f-8b14-8ad6bce28933"
   },
   "outputs": [
    {
     "name": "stdout",
     "output_type": "stream",
     "text": [
      "[[3, 3, 462, 305, 230, 398, 3, 2], [3, 3, 462, 197, 99, 3, 2], [3, 305, 230, 398, 3, 2], [3, 3, 316, 197, 99, 3, 2], [3, 3, 418, 87, 3, 2]]\n"
     ]
    }
   ],
   "source": [
    "decoder_target = []\n",
    "for line in lines.tar:\n",
    "    t=0\n",
    "    temp_X = []\n",
    "    for w in line:\n",
    "      if t>0:\n",
    "        temp_X.append(tar_to_index[w])\n",
    "      t=t+1\n",
    "    decoder_target.append(temp_X)\n",
    "print(decoder_target[:5])"
   ]
  },
  {
   "cell_type": "code",
   "execution_count": 16,
   "metadata": {
    "colab": {
     "base_uri": "https://localhost:8080/",
     "height": 53
    },
    "colab_type": "code",
    "id": "6uMT8IP3KMr_",
    "outputId": "1dca2828-f1fb-47c4-ddf4-3adbd9b1ad48"
   },
   "outputs": [
    {
     "name": "stdout",
     "output_type": "stream",
     "text": [
      "37\n",
      "44\n"
     ]
    }
   ],
   "source": [
    "max_src_len = max([len(line) for line in lines.src])\n",
    "max_tar_len = max([len(line) for line in lines.tar])\n",
    "print(max_src_len)\n",
    "print(max_tar_len)"
   ]
  },
  {
   "cell_type": "code",
   "execution_count": null,
   "metadata": {
    "colab": {},
    "colab_type": "code",
    "id": "y1Kk0ssOL_JU"
   },
   "outputs": [],
   "source": [
    "from tensorflow.keras.preprocessing.sequence import pad_sequences\n",
    "encoder_input = pad_sequences(encoder_input, maxlen=max_src_len, padding='post')\n",
    "decoder_input = pad_sequences(decoder_input, maxlen=max_tar_len, padding='post')\n",
    "decoder_target = pad_sequences(decoder_target, maxlen=max_tar_len, padding='post')"
   ]
  },
  {
   "cell_type": "code",
   "execution_count": null,
   "metadata": {
    "colab": {},
    "colab_type": "code",
    "id": "ZTMVwEpuL7yo"
   },
   "outputs": [],
   "source": [
    "from tensorflow.keras.utils import to_categorical\n",
    "encoder_input = to_categorical(encoder_input)\n",
    "decoder_input = to_categorical(decoder_input)\n",
    "decoder_target = to_categorical(decoder_target)"
   ]
  },
  {
   "cell_type": "code",
   "execution_count": null,
   "metadata": {
    "colab": {},
    "colab_type": "code",
    "id": "X9z4g0LWL71H"
   },
   "outputs": [],
   "source": []
  },
  {
   "cell_type": "markdown",
   "metadata": {
    "colab_type": "text",
    "id": "I_t0UQVcMWlS"
   },
   "source": []
  },
  {
   "cell_type": "code",
   "execution_count": 22,
   "metadata": {
    "colab": {
     "base_uri": "https://localhost:8080/",
     "height": 91
    },
    "colab_type": "code",
    "id": "t_DP8LxPL72k",
    "outputId": "9c9d4550-6d27-4d42-dae6-45c9fa9b55ea"
   },
   "outputs": [
    {
     "name": "stdout",
     "output_type": "stream",
     "text": [
      "WARNING:tensorflow:From /usr/local/lib/python3.6/dist-packages/tensorflow_core/python/ops/resource_variable_ops.py:1630: calling BaseResourceVariable.__init__ (from tensorflow.python.ops.resource_variable_ops) with constraint is deprecated and will be removed in a future version.\n",
      "Instructions for updating:\n",
      "If using Keras pass *_constraint arguments to layers.\n"
     ]
    }
   ],
   "source": [
    "from tensorflow.keras.layers import Input, LSTM, Embedding, Dense\n",
    "from tensorflow.keras.models import Model\n",
    "\n",
    "encoder_inputs = Input(shape=(None, src_vocab_size))\n",
    "encoder_lstm = LSTM(units=256, return_state=True)\n",
    "encoder_outputs, state_h, state_c = encoder_lstm(encoder_inputs)\n",
    "# encoder_outputs도 같이 리턴받기는 했지만 여기서는 필요없으므로 이 값은 버림.\n",
    "encoder_states = [state_h, state_c]\n",
    "# LSTM은 바닐라 RNN과는 달리 상태가 두 개. 바로 은닉 상태와 셀 상태."
   ]
  },
  {
   "cell_type": "code",
   "execution_count": null,
   "metadata": {
    "colab": {},
    "colab_type": "code",
    "id": "OEuWEi3RL73_"
   },
   "outputs": [],
   "source": [
    "decoder_inputs = Input(shape=(None, tar_vocab_size))\n",
    "decoder_lstm = LSTM(units=256, return_sequences=True, return_state=True)\n",
    "decoder_outputs, _, _= decoder_lstm(decoder_inputs, initial_state=encoder_states)\n",
    "# 디코더의 첫 상태를 인코더의 은닉 상태, 셀 상태로 합니다.\n",
    "decoder_softmax_layer = Dense(tar_vocab_size, activation='softmax')\n",
    "decoder_outputs = decoder_softmax_layer(decoder_outputs)\n",
    "\n",
    "model = Model([encoder_inputs, decoder_inputs], decoder_outputs)\n",
    "model.compile(optimizer=\"rmsprop\", loss=\"categorical_crossentropy\")"
   ]
  },
  {
   "cell_type": "code",
   "execution_count": 24,
   "metadata": {
    "colab": {
     "base_uri": "https://localhost:8080/",
     "height": 1000
    },
    "colab_type": "code",
    "id": "4DjEUwZjMmAG",
    "outputId": "3f32495c-5632-42ae-a71e-c31fe8740dd4"
   },
   "outputs": [
    {
     "name": "stdout",
     "output_type": "stream",
     "text": [
      "WARNING:tensorflow:From /usr/local/lib/python3.6/dist-packages/tensorflow_core/python/ops/math_grad.py:1424: where (from tensorflow.python.ops.array_ops) is deprecated and will be removed in a future version.\n",
      "Instructions for updating:\n",
      "Use tf.where in 2.0, which has the same broadcast rule as np.where\n",
      "Train on 372 samples, validate on 94 samples\n",
      "Epoch 1/50\n",
      "372/372 [==============================] - 9s 25ms/sample - loss: 3.5953 - val_loss: 2.5762\n",
      "Epoch 2/50\n",
      "372/372 [==============================] - 1s 2ms/sample - loss: 1.0237 - val_loss: 2.4668\n",
      "Epoch 3/50\n",
      "372/372 [==============================] - 1s 2ms/sample - loss: 1.0023 - val_loss: 2.2461\n",
      "Epoch 4/50\n",
      "372/372 [==============================] - 1s 2ms/sample - loss: 0.9460 - val_loss: 2.5317\n",
      "Epoch 5/50\n",
      "372/372 [==============================] - 1s 2ms/sample - loss: 0.9457 - val_loss: 2.3743\n",
      "Epoch 6/50\n",
      "372/372 [==============================] - 1s 2ms/sample - loss: 0.9251 - val_loss: 2.2102\n",
      "Epoch 7/50\n",
      "372/372 [==============================] - 1s 2ms/sample - loss: 0.8978 - val_loss: 2.2760\n",
      "Epoch 8/50\n",
      "372/372 [==============================] - 1s 2ms/sample - loss: 0.9060 - val_loss: 2.3257\n",
      "Epoch 9/50\n",
      "372/372 [==============================] - 1s 2ms/sample - loss: 1.0307 - val_loss: 2.5285\n",
      "Epoch 10/50\n",
      "372/372 [==============================] - 1s 2ms/sample - loss: 1.0969 - val_loss: 2.4086\n",
      "Epoch 11/50\n",
      "372/372 [==============================] - 1s 2ms/sample - loss: 1.0151 - val_loss: 2.2809\n",
      "Epoch 12/50\n",
      "372/372 [==============================] - 1s 2ms/sample - loss: 0.8957 - val_loss: 2.1695\n",
      "Epoch 13/50\n",
      "372/372 [==============================] - 1s 2ms/sample - loss: 0.8784 - val_loss: 2.2667\n",
      "Epoch 14/50\n",
      "372/372 [==============================] - 1s 2ms/sample - loss: 0.8215 - val_loss: 2.3508\n",
      "Epoch 15/50\n",
      "372/372 [==============================] - 1s 2ms/sample - loss: 0.7804 - val_loss: 2.4904\n",
      "Epoch 16/50\n",
      "372/372 [==============================] - 1s 2ms/sample - loss: 0.9251 - val_loss: 2.3779\n",
      "Epoch 17/50\n",
      "372/372 [==============================] - 1s 2ms/sample - loss: 0.8939 - val_loss: 2.2263\n",
      "Epoch 18/50\n",
      "372/372 [==============================] - 1s 2ms/sample - loss: 0.9906 - val_loss: 2.3086\n",
      "Epoch 19/50\n",
      "372/372 [==============================] - 1s 2ms/sample - loss: 0.8558 - val_loss: 2.2199\n",
      "Epoch 20/50\n",
      "372/372 [==============================] - 1s 2ms/sample - loss: 0.8331 - val_loss: 2.0548\n",
      "Epoch 21/50\n",
      "372/372 [==============================] - 1s 2ms/sample - loss: 0.8650 - val_loss: 2.2659\n",
      "Epoch 22/50\n",
      "372/372 [==============================] - 1s 3ms/sample - loss: 0.8014 - val_loss: 2.6128\n",
      "Epoch 23/50\n",
      "372/372 [==============================] - 1s 2ms/sample - loss: 0.8432 - val_loss: 2.1497\n",
      "Epoch 24/50\n",
      "372/372 [==============================] - 1s 2ms/sample - loss: 0.8560 - val_loss: 2.2901\n",
      "Epoch 25/50\n",
      "372/372 [==============================] - 1s 2ms/sample - loss: 0.7909 - val_loss: 2.1230\n",
      "Epoch 26/50\n",
      "372/372 [==============================] - 1s 2ms/sample - loss: 0.7526 - val_loss: 1.9960\n",
      "Epoch 27/50\n",
      "372/372 [==============================] - 1s 2ms/sample - loss: 0.8055 - val_loss: 2.3186\n",
      "Epoch 28/50\n",
      "372/372 [==============================] - 1s 3ms/sample - loss: 0.7133 - val_loss: 2.1166\n",
      "Epoch 29/50\n",
      "372/372 [==============================] - 1s 2ms/sample - loss: 0.7162 - val_loss: 2.0369\n",
      "Epoch 30/50\n",
      "372/372 [==============================] - 1s 2ms/sample - loss: 0.7414 - val_loss: 2.1108\n",
      "Epoch 31/50\n",
      "372/372 [==============================] - 1s 2ms/sample - loss: 0.6919 - val_loss: 2.2924\n",
      "Epoch 32/50\n",
      "372/372 [==============================] - 1s 2ms/sample - loss: 0.6763 - val_loss: 2.1837\n",
      "Epoch 33/50\n",
      "372/372 [==============================] - 1s 2ms/sample - loss: 0.7284 - val_loss: 2.2784\n",
      "Epoch 34/50\n",
      "372/372 [==============================] - 1s 2ms/sample - loss: 0.6633 - val_loss: 2.4243\n",
      "Epoch 35/50\n",
      "372/372 [==============================] - 1s 2ms/sample - loss: 0.6922 - val_loss: 2.2075\n",
      "Epoch 36/50\n",
      "372/372 [==============================] - 1s 2ms/sample - loss: 0.6498 - val_loss: 2.1634\n",
      "Epoch 37/50\n",
      "372/372 [==============================] - 1s 2ms/sample - loss: 0.6386 - val_loss: 2.4278\n",
      "Epoch 38/50\n",
      "372/372 [==============================] - 1s 2ms/sample - loss: 0.7225 - val_loss: 3.1720\n",
      "Epoch 39/50\n",
      "372/372 [==============================] - 1s 2ms/sample - loss: 0.6901 - val_loss: 2.4728\n",
      "Epoch 40/50\n",
      "372/372 [==============================] - 1s 2ms/sample - loss: 0.6206 - val_loss: 2.1356\n",
      "Epoch 41/50\n",
      "372/372 [==============================] - 1s 2ms/sample - loss: 0.6125 - val_loss: 2.1545\n",
      "Epoch 42/50\n",
      "372/372 [==============================] - 1s 2ms/sample - loss: 0.6068 - val_loss: 2.5459\n",
      "Epoch 43/50\n",
      "372/372 [==============================] - 1s 2ms/sample - loss: 0.6277 - val_loss: 2.1297\n",
      "Epoch 44/50\n",
      "372/372 [==============================] - 1s 2ms/sample - loss: 0.5882 - val_loss: 2.2252\n",
      "Epoch 45/50\n",
      "372/372 [==============================] - 1s 2ms/sample - loss: 0.5891 - val_loss: 2.5013\n",
      "Epoch 46/50\n",
      "372/372 [==============================] - 1s 2ms/sample - loss: 0.7877 - val_loss: 2.4756\n",
      "Epoch 47/50\n",
      "372/372 [==============================] - 1s 2ms/sample - loss: 0.5866 - val_loss: 2.3332\n",
      "Epoch 48/50\n",
      "372/372 [==============================] - 1s 2ms/sample - loss: 0.5763 - val_loss: 2.4138\n",
      "Epoch 49/50\n",
      "372/372 [==============================] - 1s 2ms/sample - loss: 0.5670 - val_loss: 2.3265\n",
      "Epoch 50/50\n",
      "372/372 [==============================] - 1s 2ms/sample - loss: 0.5606 - val_loss: 2.4806\n"
     ]
    },
    {
     "data": {
      "text/plain": [
       "<tensorflow.python.keras.callbacks.History at 0x7fe88a0cbac8>"
      ]
     },
     "execution_count": 24,
     "metadata": {
      "tags": []
     },
     "output_type": "execute_result"
    }
   ],
   "source": [
    "model.fit(x=[encoder_input, decoder_input], y=decoder_target, batch_size=64, epochs=50, validation_split=0.2)\n"
   ]
  },
  {
   "cell_type": "code",
   "execution_count": null,
   "metadata": {
    "colab": {},
    "colab_type": "code",
    "id": "hr55s6kuL75v"
   },
   "outputs": [],
   "source": []
  },
  {
   "cell_type": "code",
   "execution_count": null,
   "metadata": {
    "colab": {},
    "colab_type": "code",
    "id": "Y4VKctefL77h"
   },
   "outputs": [],
   "source": [
    "encoder_model = Model(inputs=encoder_inputs, outputs=encoder_states)\n"
   ]
  },
  {
   "cell_type": "code",
   "execution_count": null,
   "metadata": {
    "colab": {},
    "colab_type": "code",
    "id": "Sp5ZWr2aL79L"
   },
   "outputs": [],
   "source": [
    "decoder_state_input_h = Input(shape=(256,))\n",
    "decoder_state_input_c = Input(shape=(256,))\n",
    "decoder_states_inputs = [decoder_state_input_h, decoder_state_input_c]\n",
    "decoder_outputs, state_h, state_c = decoder_lstm(decoder_inputs, initial_state=decoder_states_inputs)\n",
    "# 문장의 다음 단어를 예측하기 위해서 초기 상태를 이전 상태로 사용\n",
    "decoder_states = [state_h, state_c]\n",
    "# 이번에는 훈련 과정에서와 달리 은닉 상태와 셀 상태인 state_h와 state_c를 버리지 않음.\n",
    "decoder_outputs = decoder_softmax_layer(decoder_outputs)\n",
    "decoder_model = Model(inputs=[decoder_inputs] + decoder_states_inputs, outputs=[decoder_outputs] + decoder_states)"
   ]
  },
  {
   "cell_type": "code",
   "execution_count": null,
   "metadata": {
    "colab": {},
    "colab_type": "code",
    "id": "8VW-hwnEKMtw"
   },
   "outputs": [],
   "source": [
    "index_to_src = dict(\n",
    "    (i, char) for char, i in src_to_index.items())\n",
    "index_to_tar = dict(\n",
    "    (i, char) for char, i in tar_to_index.items())"
   ]
  },
  {
   "cell_type": "code",
   "execution_count": null,
   "metadata": {
    "colab": {},
    "colab_type": "code",
    "id": "tJ5WZyYPP9Fw"
   },
   "outputs": [],
   "source": [
    "def decode_sequence(input_seq):\n",
    "    # 입력으로부터 인코더의 상태를 얻음\n",
    "    states_value = encoder_model.predict(input_seq)\n",
    "    # <SOS>에 해당하는 원-핫 벡터 생성\n",
    "    target_seq = np.zeros((1, 1, tar_vocab_size))\n",
    "    target_seq[0, 0, tar_to_index['\\t']] = 1.\n",
    "\n",
    "    stop_condition = False\n",
    "    decoded_sentence = \"\"\n",
    "    while not stop_condition: #stop_condition이 True가 될 때까지 루프 반복\n",
    "        output_tokens, h, c = decoder_model.predict([target_seq] + states_value)\n",
    "        sampled_token_index = np.argmax(output_tokens[0, -1, :])\n",
    "        sampled_char = index_to_tar[sampled_token_index]\n",
    "        decoded_sentence += sampled_char\n",
    "\n",
    "        # <sos>에 도달하거나 최대 길이를 넘으면 중단.\n",
    "        if (sampled_char == '\\n' or\n",
    "           len(decoded_sentence) > max_tar_len):\n",
    "            stop_condition = True\n",
    "\n",
    "        # 길이가 1인 타겟 시퀀스를 업데이트 합니다.\n",
    "        target_seq = np.zeros((1, 1, tar_vocab_size))\n",
    "        target_seq[0, 0, sampled_token_index] = 1.\n",
    "\n",
    "        # 상태를 업데이트 합니다.\n",
    "        states_value = [h, c]\n",
    "\n",
    "    return decoded_sentence"
   ]
  },
  {
   "cell_type": "code",
   "execution_count": 31,
   "metadata": {
    "colab": {
     "base_uri": "https://localhost:8080/",
     "height": 1000
    },
    "colab_type": "code",
    "id": "nYsOIUoEP9If",
    "outputId": "c6eb380b-0831-4240-c302-e29610d1f1eb"
   },
   "outputs": [
    {
     "name": "stdout",
     "output_type": "stream",
     "text": [
      "-----------------------------------\n",
      "입력 문장: 하르방 \n",
      "정답 문장:   할아버지 \n",
      "번역기가 번역한 문장:   아지 \n",
      "-----------------------------------\n",
      "입력 문장: 할망 \n",
      "정답 문장:   할머니 \n",
      "번역기가 번역한 문장:   아지 \n",
      "-----------------------------------\n",
      "입력 문장: 아방 \n",
      "정답 문장:  아버지 \n",
      "번역기가 번역한 문장:   아지 \n",
      "-----------------------------------\n",
      "입력 문장: 어멍 \n",
      "정답 문장:   어머니 \n",
      "번역기가 번역한 문장:   아지 \n",
      "-----------------------------------\n",
      "입력 문장: 비바리 \n",
      "정답 문장:   처녀 \n",
      "번역기가 번역한 문장:   아지 \n",
      "-----------------------------------\n",
      "입력 문장: 괸당 \n",
      "정답 문장:   친척 \n",
      "번역기가 번역한 문장:   아지 \n",
      "-----------------------------------\n",
      "입력 문장: 걸바시 \n",
      "정답 문장:   거지 \n",
      "번역기가 번역한 문장:   아지 \n",
      "-----------------------------------\n",
      "입력 문장: 넹바리 \n",
      "정답 문장:   시집간색시 \n",
      "번역기가 번역한 문장:   아지 \n",
      "-----------------------------------\n",
      "입력 문장: 다슴아돌 \n",
      "정답 문장:   의붓아들 \n",
      "번역기가 번역한 문장:   아지 \n",
      "-----------------------------------\n",
      "입력 문장: 말젯놈 \n",
      "정답 문장:   세번째자식 \n",
      "번역기가 번역한 문장:   아지 \n",
      "-----------------------------------\n",
      "입력 문장: 소나이 \n",
      "정답 문장:   사나이 \n",
      "번역기가 번역한 문장:   아지 \n",
      "-----------------------------------\n",
      "입력 문장: 성님 \n",
      "정답 문장:   형님 \n",
      "번역기가 번역한 문장:   아지 \n",
      "-----------------------------------\n",
      "입력 문장: 작산 거 \n",
      "정답 문장:   어른이된 사람 \n",
      "번역기가 번역한 문장:   아지 \n",
      "-----------------------------------\n",
      "입력 문장: 좀녀 \n",
      "정답 문장:   해녀 \n",
      "번역기가 번역한 문장:   아지 \n",
      "-----------------------------------\n",
      "입력 문장: 촐람생이 \n",
      "정답 문장:   경솔한사람 \n",
      "번역기가 번역한 문장:   아지 \n",
      "-----------------------------------\n",
      "입력 문장: 홀아방 \n",
      "정답 문장:   홀아비  \n",
      "번역기가 번역한 문장:   아지 \n",
      "-----------------------------------\n",
      "입력 문장: 가달 \n",
      "정답 문장:   다리 \n",
      "번역기가 번역한 문장:   아지 \n",
      "-----------------------------------\n",
      "입력 문장: 꼴랑지 \n",
      "정답 문장:   꼬리 \n",
      "번역기가 번역한 문장:   아지 \n",
      "-----------------------------------\n",
      "입력 문장: 구뚱배기 \n",
      "정답 문장:   귀쪽뺨 \n",
      "번역기가 번역한 문장:   아지 \n",
      "-----------------------------------\n",
      "입력 문장: 꽝 \n",
      "정답 문장:   뼈 \n",
      "번역기가 번역한 문장:   아지 \n",
      "-----------------------------------\n",
      "입력 문장: 굴레 \n",
      "정답 문장:   입 \n",
      "번역기가 번역한 문장:   아지 \n",
      "-----------------------------------\n",
      "입력 문장: 대망생이 \n",
      "정답 문장:   머리 \n",
      "번역기가 번역한 문장:   아지 \n",
      "-----------------------------------\n",
      "입력 문장: 등땡이 \n",
      "정답 문장:   등어리 \n",
      "번역기가 번역한 문장:   아지 \n",
      "-----------------------------------\n",
      "입력 문장: 또꼬망 \n",
      "정답 문장:   똥구멍 \n",
      "번역기가 번역한 문장:   아지 \n",
      "-----------------------------------\n",
      "입력 문장: 모감지 \n",
      "정답 문장:   멱살 \n",
      "번역기가 번역한 문장:   아지 \n",
      "-----------------------------------\n",
      "입력 문장: 베 봉탱이 \n",
      "정답 문장:   배 불뚝이 \n",
      "번역기가 번역한 문장:   아지 \n",
      "-----------------------------------\n",
      "입력 문장: 베아지 볼라불라\n",
      "정답 문장:   배 밟아버린다 \n",
      "번역기가 번역한 문장:   아지 \n",
      "-----------------------------------\n",
      "입력 문장: 상판이 \n",
      "정답 문장:   얼굴 \n",
      "번역기가 번역한 문장:   아지 \n",
      "-----------------------------------\n",
      "입력 문장: 야게기 \n",
      "정답 문장:   목 \n",
      "번역기가 번역한 문장:   아지 \n",
      "-----------------------------------\n",
      "입력 문장: 야굴탁 \n",
      "정답 문장:   턱 \n",
      "번역기가 번역한 문장:   아 \n"
     ]
    }
   ],
   "source": [
    "import numpy as np\n",
    "for seq_index in range(30): # 입력 문장의 인덱스\n",
    "    input_seq = encoder_input[seq_index: seq_index + 1]\n",
    "    decoded_sentence = decode_sequence(input_seq)\n",
    "    print(35 * \"-\")\n",
    "    print('입력 문장:', lines.src[seq_index])\n",
    "    print('정답 문장:', lines.tar[seq_index][1:len(lines.tar[seq_index])-1]) # '\\t'와 '\\n'을 빼고 출력\n",
    "    print('번역기가 번역한 문장:', decoded_sentence[:len(decoded_sentence)-1]) # '\\n'을 빼고 출력"
   ]
  },
  {
   "cell_type": "code",
   "execution_count": null,
   "metadata": {
    "colab": {},
    "colab_type": "code",
    "id": "Ihe6EBnuP9J9"
   },
   "outputs": [],
   "source": []
  },
  {
   "cell_type": "code",
   "execution_count": null,
   "metadata": {
    "colab": {},
    "colab_type": "code",
    "id": "v6Hc0KdOP9NK"
   },
   "outputs": [],
   "source": []
  },
  {
   "cell_type": "code",
   "execution_count": null,
   "metadata": {
    "colab": {},
    "colab_type": "code",
    "id": "kXxR3Uz4P9PB"
   },
   "outputs": [],
   "source": []
  },
  {
   "cell_type": "code",
   "execution_count": null,
   "metadata": {
    "colab": {},
    "colab_type": "code",
    "id": "XXK0BmI_P9Q0"
   },
   "outputs": [],
   "source": []
  },
  {
   "cell_type": "code",
   "execution_count": null,
   "metadata": {
    "colab": {},
    "colab_type": "code",
    "id": "x935fwqKP9L6"
   },
   "outputs": [],
   "source": []
  },
  {
   "cell_type": "code",
   "execution_count": null,
   "metadata": {
    "colab": {},
    "colab_type": "code",
    "id": "xQobzEqWKMvg"
   },
   "outputs": [],
   "source": []
  },
  {
   "cell_type": "code",
   "execution_count": null,
   "metadata": {
    "colab": {},
    "colab_type": "code",
    "id": "ECQhjbfwKMxU"
   },
   "outputs": [],
   "source": []
  },
  {
   "cell_type": "markdown",
   "metadata": {
    "colab_type": "text",
    "id": "T4SH4g_3KDy3"
   },
   "source": []
  },
  {
   "cell_type": "markdown",
   "metadata": {
    "colab_type": "text",
    "id": "ZUZ3tkHHJzTK"
   },
   "source": []
  }
 ],
 "metadata": {
  "accelerator": "GPU",
  "colab": {
   "collapsed_sections": [],
   "name": "Model_jeju_real.ipynb",
   "provenance": []
  },
  "kernelspec": {
   "display_name": "Python 3",
   "language": "python",
   "name": "python3"
  },
  "language_info": {
   "codemirror_mode": {
    "name": "ipython",
    "version": 3
   },
   "file_extension": ".py",
   "mimetype": "text/x-python",
   "name": "python",
   "nbconvert_exporter": "python",
   "pygments_lexer": "ipython3",
   "version": "3.7.6"
  }
 },
 "nbformat": 4,
 "nbformat_minor": 4
}
