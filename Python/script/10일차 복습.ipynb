{
 "cells": [
  {
   "cell_type": "code",
   "execution_count": null,
   "metadata": {},
   "outputs": [],
   "source": [
    "st.count(\"t\") # s안에 t가 몇개있느냐 대소문자를 구분함\n",
    "st.lower() # 소문자로 바꿈   \n",
    "st.find(\"that\")  # 단어별 \n",
    "print(df.skew())    # 왜도 : 기준 :0  ( 좌우대칭 )\n",
    "print(df.kurt())    # 첨도 : 기준 : 3  ( 정규분포 )\n",
    "st.corr()# correlation : 상관계수 행렬\n",
    "# 행과 열의 이름은 열변수이름 \n",
    "# 상관계수행렬은 정방행렬, 대칭행렬 => 고유값분해\n",
    "# ==> 고유값(value 3개) + 고유 벡터(3,3)\n",
    "# * 고유벡터 (3,3) -> 3개의 방향축 / 모두 직교함  크기는 \n",
    "\n",
    "# 고유값 : 고유벡터 방향으로 크기를 나타냄\n",
    "# 고유값에서 가장 값이 큰 것 => 주성분 축 => 변수 선택(값이 낮은 것을 제외함)   =====: PCA\n",
    "    \n",
    "    \n",
    "-- Series\n",
    "st.str.lower() # 전체 소문자로 출력\n",
    "st.str.len() # 문자수 카운트해줌  \n",
    "st.str.startswith('첫문자') # 첫문자열로 파악해줌\n",
    "st.str.split() # 한 list를 분류시켜줌\n",
    "st.str.contains('A', na = False) # 포함하는지 여부  /  True, False 출력"
   ]
  },
  {
   "cell_type": "code",
   "execution_count": null,
   "metadata": {},
   "outputs": [],
   "source": []
  },
  {
   "cell_type": "code",
   "execution_count": null,
   "metadata": {},
   "outputs": [],
   "source": [
    "import pandas as pd\n",
    "monte = pd.Series(['Graham Chapman', 'John Cleese', 'Terry Gilliam',\n",
    "                   'Eric Idle', 'Terry Jones', 'Michael Palin']) \n",
    "# 정규표현식\n",
    "# [] : 선택  +  여러개\n",
    "# extract : 추출\n",
    "# ^ : 처음부터\n",
    "# [^] : 부정\n",
    "# .* : 여러개\n",
    "# $ : 끝\n",
    "print(monte)\n",
    "print(\"=================================\")\n",
    "print(monte.str.extract('([A-Za-z]+)',expand = False))  # 대문자 A-Z 소문자 a-z\n",
    "print(\"=================================\")\n",
    "print(monte.str.findall(r'^[^AEIOU].*[^aeiou]$'))  # 대문자 A,E,I,O,U가 아니고, 끝이 소문자 a,e,i,o,u가 아닌것"
   ]
  },
  {
   "cell_type": "code",
   "execution_count": null,
   "metadata": {},
   "outputs": [],
   "source": [
    "print('C:\\\\nowhere')\n",
    "print(r'C:\\\\nowhere')  # 정규표현식   # 3버전은 기본적으로 유니코드 사용 \n",
    "# * 유니코드 : 전세계 언어를 표현하기 위해 사용( 2바이트를 이용 )\n",
    "print(u'Hello, world!') # unicode 2.7버전"
   ]
  },
  {
   "cell_type": "code",
   "execution_count": null,
   "metadata": {},
   "outputs": [],
   "source": [
    "aqw = re.compile(r'\\d') 로 숫자 를 어떻게 표시할건지 파악후\n",
    "ss = aqw.search(text) 로 뽑아낸뒤\n",
    "qq = ss.group() 그룹화하면 끝"
   ]
  },
  {
   "cell_type": "code",
   "execution_count": 8,
   "metadata": {},
   "outputs": [
    {
     "name": "stdout",
     "output_type": "stream",
     "text": [
      "032-232-3245\n"
     ]
    }
   ],
   "source": [
    "import re\n",
    "text = \"문의사항이 있으면 032-232-3245 로 연락주세요.\"\n",
    "# \\d :숫자한개\n",
    "# \\d{} : 개수\n",
    "# 패턴을 컴파일수 함수적용\n",
    "regex = re.compile(r'\\d\\d\\d-\\d\\d\\d-\\d\\d\\d\\d')\n",
    "regex = re.compile(r'(\\d{3})-(\\d{3})-(\\d{4})')\n",
    "mat = regex.search(text)\n",
    "phon= mat.group()\n",
    "print(phon)"
   ]
  },
  {
   "cell_type": "code",
   "execution_count": null,
   "metadata": {},
   "outputs": [],
   "source": [
    "from pandas import Series, DataFrame\n",
    "import pandas as pd\n",
    "import numpy as np\n",
    "\n",
    "import re\n",
    "\n",
    "data={'Dave':'iadslba@naver.com', 'Steve':'steve@gmail.com', 'Rob':'rob', 'Wes':np.nan}\n",
    "data=Series(data)\n",
    "print(data.isnull())\n",
    "print(\"네이버\\n\", data.str.contains('naver'))\n",
    "\n",
    "print(\"=========================================\")\n",
    "# 이메일 출력하기\n",
    "# 정규표현식\n",
    "# . : 한개를 의미\n",
    "# \\. : 한개가 아니고 .(dot)으로 입력\n",
    "pattern = r'[a-z0-9._%+-]+@[a-z0-9.-]+\\.[a-z]'  \n",
    "matches = data.str.match(pattern, flags = re.IGNORECASE) # flags = 대소문자 구문하지 말것\n",
    "print(\"match결과 : \\n\" , matches)  # T, F로 출력\n",
    "\n",
    "print(\"=========================================\")\n",
    "matches = data.str.findall(pattern, flags = re.IGNORECASE)\n",
    "print(\"findall 결과 : \\n\", matches)"
   ]
  },
  {
   "cell_type": "code",
   "execution_count": 9,
   "metadata": {},
   "outputs": [],
   "source": [
    "pattern = r'[a-z0-9._%+-]+@[a-z0-9.-]+\\.[a-z]'"
   ]
  },
  {
   "cell_type": "code",
   "execution_count": 12,
   "metadata": {},
   "outputs": [
    {
     "name": "stdout",
     "output_type": "stream",
     "text": [
      "0      a\n",
      "1    a|b\n",
      "2    NaN\n",
      "3    a|c\n",
      "dtype: object\n"
     ]
    },
    {
     "data": {
      "text/html": [
       "<div>\n",
       "<style scoped>\n",
       "    .dataframe tbody tr th:only-of-type {\n",
       "        vertical-align: middle;\n",
       "    }\n",
       "\n",
       "    .dataframe tbody tr th {\n",
       "        vertical-align: top;\n",
       "    }\n",
       "\n",
       "    .dataframe thead th {\n",
       "        text-align: right;\n",
       "    }\n",
       "</style>\n",
       "<table border=\"1\" class=\"dataframe\">\n",
       "  <thead>\n",
       "    <tr style=\"text-align: right;\">\n",
       "      <th></th>\n",
       "      <th>a</th>\n",
       "      <th>b</th>\n",
       "      <th>c</th>\n",
       "    </tr>\n",
       "  </thead>\n",
       "  <tbody>\n",
       "    <tr>\n",
       "      <td>0</td>\n",
       "      <td>1</td>\n",
       "      <td>0</td>\n",
       "      <td>0</td>\n",
       "    </tr>\n",
       "    <tr>\n",
       "      <td>1</td>\n",
       "      <td>1</td>\n",
       "      <td>1</td>\n",
       "      <td>0</td>\n",
       "    </tr>\n",
       "    <tr>\n",
       "      <td>2</td>\n",
       "      <td>0</td>\n",
       "      <td>0</td>\n",
       "      <td>0</td>\n",
       "    </tr>\n",
       "    <tr>\n",
       "      <td>3</td>\n",
       "      <td>1</td>\n",
       "      <td>0</td>\n",
       "      <td>1</td>\n",
       "    </tr>\n",
       "  </tbody>\n",
       "</table>\n",
       "</div>"
      ],
      "text/plain": [
       "   a  b  c\n",
       "0  1  0  0\n",
       "1  1  1  0\n",
       "2  0  0  0\n",
       "3  1  0  1"
      ]
     },
     "execution_count": 12,
     "metadata": {},
     "output_type": "execute_result"
    }
   ],
   "source": [
    "from pandas import Series, DataFrame\n",
    "import pandas as pd\n",
    "import numpy as np\n",
    "s = pd.Series(['a','a|b',np.nan,'a|c'])\n",
    "print(s)\n",
    "s.str.get_dummies(sep='|')#seperate : 분리 \n",
    "# 0행은 a만 있음 => a만 1\n",
    "# 1행은 a,b만 있음 "
   ]
  },
  {
   "cell_type": "code",
   "execution_count": null,
   "metadata": {},
   "outputs": [],
   "source": [
    "\n",
    "\n"
   ]
  }
 ],
 "metadata": {
  "kernelspec": {
   "display_name": "Python 3",
   "language": "python",
   "name": "python3"
  },
  "language_info": {
   "codemirror_mode": {
    "name": "ipython",
    "version": 3
   },
   "file_extension": ".py",
   "mimetype": "text/x-python",
   "name": "python",
   "nbconvert_exporter": "python",
   "pygments_lexer": "ipython3",
   "version": "3.7.4"
  }
 },
 "nbformat": 4,
 "nbformat_minor": 4
}
