{
 "cells": [
  {
   "cell_type": "code",
   "execution_count": 1,
   "metadata": {},
   "outputs": [],
   "source": [
    "from bs4 import BeautifulSoup\n",
    "from urllib.request import urlopen\n",
    "\n",
    "with urlopen('https://www.naver.com/') as response:\n",
    "    soup = BeautifulSoup(response, 'html.parser')\n",
    "    for anchor in soup.select(\"span.ah_k\"):\n",
    "        print(anchor)"
   ]
  },
  {
   "cell_type": "code",
   "execution_count": 10,
   "metadata": {},
   "outputs": [],
   "source": [
    "with urlopen('https://www.naver.com/') as response:\n",
    "    soup = BeautifulSoup(response, 'html.parser')\n",
    "    for anchor in soup.select(\"span.ah_k\"):\n",
    "        print(anchor)"
   ]
  },
  {
   "cell_type": "code",
   "execution_count": 4,
   "metadata": {},
   "outputs": [],
   "source": [
    "from selenium import webdriver"
   ]
  },
  {
   "cell_type": "code",
   "execution_count": 15,
   "metadata": {},
   "outputs": [
    {
     "name": "stdout",
     "output_type": "stream",
     "text": [
      "['1', '리버클래시']\n",
      "['2', '원피스']\n",
      "['3', '여성숏패딩']\n",
      "['4', '핸드메이드코트']\n",
      "['5', '롱패딩']\n",
      "['6', '숏패딩']\n",
      "['7', '라쉬반']\n",
      "['8', '트위드자켓']\n",
      "['9', '다이나핏패딩']\n",
      "['10', '로맨틱크라운패딩']\n",
      "['11', 'mlb패딩']\n",
      "['12', '니트원피스']\n",
      "['13', '여성패딩']\n",
      "['14', '여름원피스']\n",
      "['15', '스톤아일랜드맨투맨']\n",
      "['16', '코트']\n",
      "['17', '후드티']\n",
      "['18', '여성경량패딩']\n",
      "['19', '여성롱패딩']\n",
      "['20', '여성코트']\n"
     ]
    }
   ],
   "source": [
    "import time\n",
    "\n",
    "from selenium import webdriver\n",
    "from selenium.webdriver.chrome.options import Options\n",
    "from selenium.webdriver.support.wait import WebDriverWait\n",
    "\n",
    "options = Options()\n",
    "options.headless = True\n",
    "browser = webdriver.Chrome(executable_path=\"./chromedriver.exe\", options=options)\n",
    "browser.get(\"https://www.google.com\")\n",
    "\n",
    "time.sleep(3)\n",
    "tag_names = browser.find_element_by_css_selector(\".rank_top1000_list\").find_elements_by_tag_name(\"li\")\n",
    "for tag in tag_names:\n",
    "    print(tag.text.split(\"\\n\"))\n",
    "    \n",
    "browser.close()"
   ]
  },
  {
   "cell_type": "code",
   "execution_count": 19,
   "metadata": {},
   "outputs": [],
   "source": [
    "from bs4 import BeautifulSoup\n",
    "from urllib.request import urlopen\n",
    "\n",
    "driver = webdriver.Chrome(executable_path=\"./chromedriver.exe\", options=options)\n",
    "driver.implicitly_wait(3) ## 암묵적으로 웹 자원을 (최대) 3초 기다리기\n",
    "## Login\n",
    "driver.get('https://nid.naver.com/nidlogin.login') ## 네이버 로그인 URL로 이동하기\n",
    "driver.find_element_by_name('id').send_keys('ljkk1542') ## 값 입력\n",
    "driver.find_element_by_name('pw').send_keys('!@')\n",
    "driver.find_element_by_xpath(\n",
    "    '//*[@id=\"frmNIDLogin\"]/fieldset/input'\n",
    "    ).click() ## 버튼클릭하기\n",
    "driver.get('https://order.pay.naver.com/home') ## Naver 페이 들어가기\n",
    "html = driver.page_source ## 페이지의 elements모두 가져오기\n",
    "soup = BeautifulSoup(html, 'html.parser') ## BeautifulSoup사용하기\n",
    "notices = soup.select('div.p_inr > div.p_info > a > span')\n",
    "\n",
    "for n in notices:\n",
    "    print(n.text.strip())"
   ]
  }
 ],
 "metadata": {
  "kernelspec": {
   "display_name": "Python 3",
   "language": "python",
   "name": "python3"
  },
  "language_info": {
   "codemirror_mode": {
    "name": "ipython",
    "version": 3
   },
   "file_extension": ".py",
   "mimetype": "text/x-python",
   "name": "python",
   "nbconvert_exporter": "python",
   "pygments_lexer": "ipython3",
   "version": "3.7.6"
  }
 },
 "nbformat": 4,
 "nbformat_minor": 4
}
