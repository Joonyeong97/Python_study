{
 "cells": [
  {
   "cell_type": "code",
   "execution_count": null,
   "metadata": {},
   "outputs": [],
   "source": [
    "# Deep learning (신경망)\n"
   ]
  },
  {
   "cell_type": "markdown",
   "metadata": {},
   "source": [
    " conda install tensorflow=1.14.0\n",
    " conda create --name tf_test python anaconda\n",
    " activate tf_test  / 입장\n",
    " conda update conda  /\n",
    " conda update pip \n",
    " jupyter kernel install \n",
    " \n",
    " 이건 가상환경 구성"
   ]
  },
  {
   "cell_type": "code",
   "execution_count": null,
   "metadata": {},
   "outputs": [],
   "source": [
    "# Cuda\n",
    "\n",
    "Constant 상수\n",
    "Variables 변수(가중치)\n",
    "placeholder 주입변수 (미니배치만큼 넘겨줌)\n",
    "session = GPU에 준다는것\n",
    "\n",
    "\n",
    "fitting은 for문으로 진행~\n",
    "미니배치사이즈로 데이터를 만듦\n",
    "신경망은 데이터가 많아야함.\n",
    "\n",
    "신경망의 자료구조는 Graph\n",
    "\n",
    "동그라미는 node 다리는 edge\n",
    "edge는 tensor가 처리함.\n",
    "그리고 분산처리가 가능함.\n",
    "분산처리는 동기화가 제일 중요함."
   ]
  },
  {
   "cell_type": "code",
   "execution_count": 2,
   "metadata": {},
   "outputs": [
    {
     "name": "stdout",
     "output_type": "stream",
     "text": [
      "1.14.0\n"
     ]
    }
   ],
   "source": [
    "import tensorflow as tf\n",
    "print(tf.__version__)"
   ]
  },
  {
   "cell_type": "code",
   "execution_count": 3,
   "metadata": {},
   "outputs": [
    {
     "name": "stdout",
     "output_type": "stream",
     "text": [
      "b'Hello tensorFlow!'\n",
      "Tensor(\"Const:0\", shape=(), dtype=string)\n"
     ]
    }
   ],
   "source": [
    "# 데이터 타입\n",
    "hello = tf.constant('Hello tensorFlow!')\n",
    "sess = tf.Session()\n",
    "print(sess.run(hello))\n",
    "print(hello)"
   ]
  }
 ],
 "metadata": {
  "kernelspec": {
   "display_name": "Python 3",
   "language": "python",
   "name": "python3"
  },
  "language_info": {
   "codemirror_mode": {
    "name": "ipython",
    "version": 3
   },
   "file_extension": ".py",
   "mimetype": "text/x-python",
   "name": "python",
   "nbconvert_exporter": "python",
   "pygments_lexer": "ipython3",
   "version": "3.7.4"
  }
 },
 "nbformat": 4,
 "nbformat_minor": 4
}
