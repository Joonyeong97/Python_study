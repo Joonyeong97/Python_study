{
 "cells": [
  {
   "cell_type": "code",
   "execution_count": null,
   "metadata": {},
   "outputs": [],
   "source": [
    "# Deep learning (신경망)\n"
   ]
  },
  {
   "cell_type": "code",
   "execution_count": null,
   "metadata": {},
   "outputs": [],
   "source": [
    " #conda install tensorflow=1.14.0\n",
    " #conda create --name tf_test python anaconda\n",
    " #activate tf_test  / 입장\n",
    " #conda update conda  /\n",
    " #conda update pip \n",
    " #jupyter kernel install \n",
    " \n",
    " # 이건 가상환경 구성"
   ]
  },
  {
   "cell_type": "code",
   "execution_count": null,
   "metadata": {},
   "outputs": [],
   "source": [
    "# Cuda\n",
    "\n",
    "Constant 상수\n",
    "Variables 변수(가중치)\n",
    "placeholder 주입변수 (미니배치만큼 넘겨줌)\n",
    "session = GPU에 준다는것\n",
    "\n",
    "\n",
    "fitting은 for문으로 진행~\n",
    "미니배치사이즈로 데이터를 만듦\n",
    "신경망은 데이터가 많아야함.\n",
    "\n",
    "신경망의 자료구조는 Graph\n",
    "\n",
    "동그라미는 node 다리는 edge\n",
    "edge는 tensor가 처리함.\n",
    "그리고 분산처리가 가능함.\n",
    "분산처리는 동기화가 제일 중요함."
   ]
  },
  {
   "cell_type": "code",
   "execution_count": 2,
   "metadata": {
    "scrolled": true
   },
   "outputs": [
    {
     "name": "stderr",
     "output_type": "stream",
     "text": [
      "C:\\Users\\ICT01_22\\Anaconda3\\envs\\tf_test\\lib\\site-packages\\tensorflow\\python\\framework\\dtypes.py:516: FutureWarning: Passing (type, 1) or '1type' as a synonym of type is deprecated; in a future version of numpy, it will be understood as (type, (1,)) / '(1,)type'.\n",
      "  _np_qint8 = np.dtype([(\"qint8\", np.int8, 1)])\n",
      "C:\\Users\\ICT01_22\\Anaconda3\\envs\\tf_test\\lib\\site-packages\\tensorflow\\python\\framework\\dtypes.py:517: FutureWarning: Passing (type, 1) or '1type' as a synonym of type is deprecated; in a future version of numpy, it will be understood as (type, (1,)) / '(1,)type'.\n",
      "  _np_quint8 = np.dtype([(\"quint8\", np.uint8, 1)])\n",
      "C:\\Users\\ICT01_22\\Anaconda3\\envs\\tf_test\\lib\\site-packages\\tensorflow\\python\\framework\\dtypes.py:518: FutureWarning: Passing (type, 1) or '1type' as a synonym of type is deprecated; in a future version of numpy, it will be understood as (type, (1,)) / '(1,)type'.\n",
      "  _np_qint16 = np.dtype([(\"qint16\", np.int16, 1)])\n",
      "C:\\Users\\ICT01_22\\Anaconda3\\envs\\tf_test\\lib\\site-packages\\tensorflow\\python\\framework\\dtypes.py:519: FutureWarning: Passing (type, 1) or '1type' as a synonym of type is deprecated; in a future version of numpy, it will be understood as (type, (1,)) / '(1,)type'.\n",
      "  _np_quint16 = np.dtype([(\"quint16\", np.uint16, 1)])\n",
      "C:\\Users\\ICT01_22\\Anaconda3\\envs\\tf_test\\lib\\site-packages\\tensorflow\\python\\framework\\dtypes.py:520: FutureWarning: Passing (type, 1) or '1type' as a synonym of type is deprecated; in a future version of numpy, it will be understood as (type, (1,)) / '(1,)type'.\n",
      "  _np_qint32 = np.dtype([(\"qint32\", np.int32, 1)])\n",
      "C:\\Users\\ICT01_22\\Anaconda3\\envs\\tf_test\\lib\\site-packages\\tensorflow\\python\\framework\\dtypes.py:525: FutureWarning: Passing (type, 1) or '1type' as a synonym of type is deprecated; in a future version of numpy, it will be understood as (type, (1,)) / '(1,)type'.\n",
      "  np_resource = np.dtype([(\"resource\", np.ubyte, 1)])\n"
     ]
    },
    {
     "name": "stdout",
     "output_type": "stream",
     "text": [
      "1.14.0\n"
     ]
    },
    {
     "name": "stderr",
     "output_type": "stream",
     "text": [
      "C:\\Users\\ICT01_22\\Anaconda3\\envs\\tf_test\\lib\\site-packages\\tensorboard\\compat\\tensorflow_stub\\dtypes.py:541: FutureWarning: Passing (type, 1) or '1type' as a synonym of type is deprecated; in a future version of numpy, it will be understood as (type, (1,)) / '(1,)type'.\n",
      "  _np_qint8 = np.dtype([(\"qint8\", np.int8, 1)])\n",
      "C:\\Users\\ICT01_22\\Anaconda3\\envs\\tf_test\\lib\\site-packages\\tensorboard\\compat\\tensorflow_stub\\dtypes.py:542: FutureWarning: Passing (type, 1) or '1type' as a synonym of type is deprecated; in a future version of numpy, it will be understood as (type, (1,)) / '(1,)type'.\n",
      "  _np_quint8 = np.dtype([(\"quint8\", np.uint8, 1)])\n",
      "C:\\Users\\ICT01_22\\Anaconda3\\envs\\tf_test\\lib\\site-packages\\tensorboard\\compat\\tensorflow_stub\\dtypes.py:543: FutureWarning: Passing (type, 1) or '1type' as a synonym of type is deprecated; in a future version of numpy, it will be understood as (type, (1,)) / '(1,)type'.\n",
      "  _np_qint16 = np.dtype([(\"qint16\", np.int16, 1)])\n",
      "C:\\Users\\ICT01_22\\Anaconda3\\envs\\tf_test\\lib\\site-packages\\tensorboard\\compat\\tensorflow_stub\\dtypes.py:544: FutureWarning: Passing (type, 1) or '1type' as a synonym of type is deprecated; in a future version of numpy, it will be understood as (type, (1,)) / '(1,)type'.\n",
      "  _np_quint16 = np.dtype([(\"quint16\", np.uint16, 1)])\n",
      "C:\\Users\\ICT01_22\\Anaconda3\\envs\\tf_test\\lib\\site-packages\\tensorboard\\compat\\tensorflow_stub\\dtypes.py:545: FutureWarning: Passing (type, 1) or '1type' as a synonym of type is deprecated; in a future version of numpy, it will be understood as (type, (1,)) / '(1,)type'.\n",
      "  _np_qint32 = np.dtype([(\"qint32\", np.int32, 1)])\n",
      "C:\\Users\\ICT01_22\\Anaconda3\\envs\\tf_test\\lib\\site-packages\\tensorboard\\compat\\tensorflow_stub\\dtypes.py:550: FutureWarning: Passing (type, 1) or '1type' as a synonym of type is deprecated; in a future version of numpy, it will be understood as (type, (1,)) / '(1,)type'.\n",
      "  np_resource = np.dtype([(\"resource\", np.ubyte, 1)])\n"
     ]
    }
   ],
   "source": [
    "import tensorflow as tf\n",
    "print(tf.__version__)"
   ]
  },
  {
   "cell_type": "code",
   "execution_count": 5,
   "metadata": {},
   "outputs": [
    {
     "name": "stdout",
     "output_type": "stream",
     "text": [
      "b'Hello tensorFlow!'\n",
      "Tensor(\"Const_3:0\", shape=(), dtype=string)\n"
     ]
    }
   ],
   "source": [
    "# 데이터 타입\n",
    "hello = tf.constant('Hello tensorFlow!')\n",
    "sess = tf.Session()\n",
    "print(sess.run(hello))#tensorflow의 데이터는 직접 확인이 불가함\n",
    "print(hello) # numpy 데이터로 변경\n"
   ]
  },
  {
   "cell_type": "code",
   "execution_count": 6,
   "metadata": {},
   "outputs": [
    {
     "name": "stdout",
     "output_type": "stream",
     "text": [
      "<tf.Variable 'y:0' shape=() dtype=int32_ref>\n"
     ]
    }
   ],
   "source": [
    "x = tf.constant(35,name='x') \n",
    "# model의 그라프 구조확인\n",
    "# model을 그대로 저장할때( 가중치 ) 메모리 위치를 확인하기 위해서\n",
    "y = tf.Variable(x + 5, name='y') # 변수가 있는경우 - 반드시 초기화해줘야함.\n",
    "\n",
    "print(y)"
   ]
  },
  {
   "cell_type": "code",
   "execution_count": 9,
   "metadata": {},
   "outputs": [
    {
     "name": "stdout",
     "output_type": "stream",
     "text": [
      "40\n"
     ]
    }
   ],
   "source": [
    "# variables 를 호출할때는 불러야함 \n",
    "model = tf.global_variables_initializer() # 변수 초기화\n",
    "\n",
    "# 학습 시키는과정\n",
    "with tf.Session() as sess:\n",
    "    sess.run(model)\n",
    "    print(sess.run(y))"
   ]
  },
  {
   "cell_type": "code",
   "execution_count": 10,
   "metadata": {},
   "outputs": [
    {
     "name": "stdout",
     "output_type": "stream",
     "text": [
      "[5 7 9]\n"
     ]
    }
   ],
   "source": [
    "# 판다스에서 데이터 초기화 (list , dict)\n",
    "# 요소끼리 계산 (배열연산)\n",
    "a = tf.constant([1,2,3], name='a') # GPU 공간\n",
    "b = tf.constant([4,5,6], name='b')\n",
    "add_op = a+b\n",
    "\n",
    "with tf.Session() as sess:\n",
    "    print(sess.run(add_op))"
   ]
  },
  {
   "cell_type": "markdown",
   "metadata": {},
   "source": [
    "# 데이터 주입\n",
    " - 항상 골격이 만들어지고 처리하는 구조임"
   ]
  },
  {
   "cell_type": "code",
   "execution_count": 11,
   "metadata": {},
   "outputs": [],
   "source": [
    "# 자료구조 : Graph로 구성 - 골격(구조) 형성\n",
    "a = tf.placeholder(tf.int16) # 데이터없이 공간만 확보\n",
    "b = tf.placeholder(tf.int16)\n",
    "add = tf.add(a,b)\n",
    "mul = tf.multiply(a,b)\n",
    "total = tf.multiply(add,mul)"
   ]
  },
  {
   "cell_type": "code",
   "execution_count": 15,
   "metadata": {},
   "outputs": [
    {
     "name": "stdout",
     "output_type": "stream",
     "text": [
      "feed 변수합 : 5\n",
      "feed 변수곱 : 6\n",
      "feed 변수곱 : 30\n"
     ]
    }
   ],
   "source": [
    "# 처리하는 구조\n",
    "with tf.Session() as sess:\n",
    "    print(\"feed 변수합 : %i\" % sess.run(add,feed_dict={a:2,b:3}) )\n",
    "    print(\"feed 변수곱 : %i\" % sess.run(mul,feed_dict={a:2,b:3}) )\n",
    "    print(\"feed 변수곱 : %i\" % sess.run(total,feed_dict={a:2,b:3}) )"
   ]
  },
  {
   "cell_type": "code",
   "execution_count": 5,
   "metadata": {},
   "outputs": [
    {
     "name": "stdout",
     "output_type": "stream",
     "text": [
      "[[12.]]\n",
      "Tensor(\"MatMul_1:0\", shape=(1, 1), dtype=float32)\n"
     ]
    }
   ],
   "source": [
    "matrix1 = tf.constant([[3.,3.]]) # 1*2\n",
    "matrix2 = tf.constant([[2.],[2.]]) # 2*1 -> 1*1\n",
    "product = tf.matmul(matrix1, matrix2) # matrix multiply \n",
    "\n",
    "with tf.Session() as sess: # 실행부\n",
    "    result = sess.run(product)\n",
    "    print(result)\n",
    "    print(product)"
   ]
  },
  {
   "cell_type": "code",
   "execution_count": 7,
   "metadata": {},
   "outputs": [],
   "source": [
    "zeros = tf.zeros([2,2])\n",
    "ones = tf.ones([6])\n",
    "# 균등분포\n",
    "uniform = tf.random_uniform([3,3,3], minval=0.0, maxval=10)\n",
    "# 정규분포\n",
    "normal = tf.random_normal([3,3,3], mean=0.0, stddev=2.0)\n",
    "# 표준편차 2배내의 것으로 초기화\n",
    "trunc = tf.truncated_normal([2,2], mean=5.0, stddev=1.0)\n",
    "random_var = tf.Variable(tf.truncated_normal([2,2]))"
   ]
  },
  {
   "cell_type": "code",
   "execution_count": 11,
   "metadata": {},
   "outputs": [
    {
     "name": "stdout",
     "output_type": "stream",
     "text": [
      "[[3.3591108 6.5323834]\n",
      " [5.6735196 4.8054166]]\n",
      "변수초기화 [[-0.8331173  -0.51437855]\n",
      " [ 0.6814071   0.05346737]]\n"
     ]
    }
   ],
   "source": [
    "init = tf.global_variables_initializer()\n",
    "sess = tf.Session()\n",
    "sess.run(init)\n",
    "print(sess.run(trunc))\n",
    "print('변수초기화', sess.run(random_var))"
   ]
  },
  {
   "cell_type": "code",
   "execution_count": 13,
   "metadata": {},
   "outputs": [
    {
     "name": "stdout",
     "output_type": "stream",
     "text": [
      "<class 'tensorflow.python.framework.tensor_shape.TensorShape'>\n",
      "(6, 2)\n",
      "(2, 6)\n"
     ]
    }
   ],
   "source": [
    "my_tensor = tf.constant(0, shape=[6,2]) # 6*2 행열 -> 상수화\n",
    "my_static_shape = my_tensor.get_shape() \n",
    "print(type(my_static_shape)) # class\n",
    "print(my_static_shape) # 내용은 run으로 차수는 get_shape 함수\n",
    "my_tensor_transposed = tf.transpose(my_tensor)\n",
    "print(my_tensor_transposed.get_shape())"
   ]
  },
  {
   "cell_type": "code",
   "execution_count": 14,
   "metadata": {},
   "outputs": [
    {
     "name": "stdout",
     "output_type": "stream",
     "text": [
      "[0. 0.]\n"
     ]
    }
   ],
   "source": [
    "tf.InteractiveSession() # 대화형 Session\n",
    "tf.zeros(2)\n",
    "a = tf.zeros(2)\n",
    "print(a.eval())"
   ]
  },
  {
   "cell_type": "code",
   "execution_count": 15,
   "metadata": {},
   "outputs": [],
   "source": [
    "def showvalue(t):\n",
    "    sess = tf.InteractiveSession()\n",
    "    tf.global_variables_initializer().run() # Chaining\n",
    "    print(t.eval())\n",
    "    sess.close()"
   ]
  },
  {
   "cell_type": "code",
   "execution_count": 16,
   "metadata": {},
   "outputs": [
    {
     "name": "stdout",
     "output_type": "stream",
     "text": [
      "[ 3.5 10.1]\n",
      "[-8  5 17]\n"
     ]
    },
    {
     "name": "stderr",
     "output_type": "stream",
     "text": [
      "C:\\Users\\ICT01_22\\Anaconda3\\envs\\tf_test\\lib\\site-packages\\tensorflow\\python\\client\\session.py:1735: UserWarning: An interactive session is already active. This can cause out-of-memory errors in some cases. You must explicitly call `InteractiveSession.close()` to release resources held by the other session(s).\n",
      "  warnings.warn('An interactive session is already active. This can '\n"
     ]
    }
   ],
   "source": [
    "c2, c3 = tf.constant([1.2,5.6]), tf.constant([-4,-1,7])\n",
    "v2, v3 = tf.constant([2.3,4.5]), tf.constant([-2,3,5])\n",
    "showvalue(tf.add_n([c2,v2]))\n",
    "showvalue(tf.add_n([c3,v3,v3])) # 여러개 더하기."
   ]
  },
  {
   "cell_type": "code",
   "execution_count": null,
   "metadata": {},
   "outputs": [],
   "source": [
    "# 2x + y+ z = 1\n",
    "# 4x + 3y + 4z = 2\n",
    "# -4x+ 2y + 2z = -6\n",
    "# A dot x =[1,2,-6] # 행열 나누기 -> 역행열\n",
    "# 방정식을 구하는거"
   ]
  },
  {
   "cell_type": "code",
   "execution_count": 21,
   "metadata": {},
   "outputs": [
    {
     "name": "stdout",
     "output_type": "stream",
     "text": [
      "[[ 2.  1.  1.]\n",
      " [ 4.  3.  4.]\n",
      " [-4.  2.  2.]]\n",
      "[[ 1.]\n",
      " [ 2.]\n",
      " [-6.]]\n"
     ]
    }
   ],
   "source": [
    "sess = tf.Session()\n",
    "x = tf.constant([2.0,1.0,1.0,4,3,4,-4,2,2], shape=[3,3])\n",
    "showvalue(x)\n",
    "y = tf.constant([1.0,2,-6], shape=[3,1])\n",
    "print(sess.run(y))"
   ]
  },
  {
   "cell_type": "code",
   "execution_count": 23,
   "metadata": {},
   "outputs": [
    {
     "name": "stdout",
     "output_type": "stream",
     "text": [
      "계수 :  [[ 1.0000001]\n",
      " [-2.0000002]\n",
      " [ 1.0000001]]\n",
      "[[ 1.0000001]\n",
      " [-2.0000002]\n",
      " [ 1.0000001]]\n"
     ]
    },
    {
     "data": {
      "text/plain": [
       "1"
      ]
     },
     "execution_count": 23,
     "metadata": {},
     "output_type": "execute_result"
    }
   ],
   "source": [
    "z = tf.matrix_solve(x,y) # 앞에있는 함수의 역행열을 구해서 y랑 곱해줌\n",
    "result = sess.run(z)\n",
    "print(\"계수 : \", result) # 밑에랑 같은거\n",
    "print(sess.run(z))\n",
    "# 1\n",
    "# -2\n",
    "# 1\n",
    "2*1 +(-2)+1"
   ]
  },
  {
   "cell_type": "code",
   "execution_count": 26,
   "metadata": {},
   "outputs": [
    {
     "name": "stdout",
     "output_type": "stream",
     "text": [
      "[1.0000001]\n",
      "[[ 1.0000001]\n",
      " [ 2.       ]\n",
      " [-6.000001 ]]\n"
     ]
    }
   ],
   "source": [
    "print(2.0* result[0] + 1.0 * result[1] + 1.0 * result[2])\n",
    "print(sess.run(tf.matmul(x,z)))"
   ]
  },
  {
   "cell_type": "code",
   "execution_count": 29,
   "metadata": {},
   "outputs": [
    {
     "name": "stdout",
     "output_type": "stream",
     "text": [
      "해 :  [[ 1.0000002]\n",
      " [-2.0000005]\n",
      " [ 1.0000002]]\n"
     ]
    }
   ],
   "source": [
    "x_1 =tf.matrix_inverse(x)\n",
    "z = tf.matmul(x_1,y)\n",
    "print('해 : ', sess.run(z))"
   ]
  },
  {
   "cell_type": "code",
   "execution_count": 30,
   "metadata": {},
   "outputs": [
    {
     "name": "stdout",
     "output_type": "stream",
     "text": [
      "WARNING:tensorflow:From <ipython-input-30-290ee90e2d3b>:2: to_float (from tensorflow.python.ops.math_ops) is deprecated and will be removed in a future version.\n",
      "Instructions for updating:\n",
      "Use `tf.cast` instead.\n",
      "[9.508034   0.77286935]\n",
      "[[-0.38631773 -0.92236584]\n",
      " [-0.92236584  0.38631773]]\n",
      "[[-0.42866713  0.8059641 ]\n",
      " [-0.56630695  0.1123824 ]\n",
      " [-0.70394677 -0.58119917]]\n"
     ]
    }
   ],
   "source": [
    "# 특이행열분해 (singular value decomposition) : 행열이 다를떄 가능함\n",
    "# PCA 할 때 - 고유값분해 eigenvalue + eigenvector : 정방행열\n",
    "a = tf.constant([1,2,3,4,5,6], shape=[2,3])\n",
    "a = tf.to_float(a)\n",
    "# 행과열의 특징을 별도로 뽑음\n",
    "# 정방행열\n",
    "# truncate :\n",
    "s,u,v =tf.svd(a) # singula value, s(1x2), u(2x2), v(3x2)\n",
    "print(sess.run(s))\n",
    "print(sess.run(u))\n",
    "print(sess.run(v))\n"
   ]
  },
  {
   "cell_type": "code",
   "execution_count": 31,
   "metadata": {},
   "outputs": [
    {
     "name": "stdout",
     "output_type": "stream",
     "text": [
      "[[1 0 0 0]\n",
      " [0 2 0 0]\n",
      " [0 0 3 0]\n",
      " [0 0 0 4]]\n"
     ]
    }
   ],
   "source": [
    "diagonal = [1,2,3,4]\n",
    "dia = tf.diag(diagonal)\n",
    "print(sess.run(dia))"
   ]
  },
  {
   "cell_type": "code",
   "execution_count": 32,
   "metadata": {},
   "outputs": [
    {
     "name": "stdout",
     "output_type": "stream",
     "text": [
      "[1 2 3 4]\n",
      "10\n"
     ]
    }
   ],
   "source": [
    "print(sess.run(tf.diag_part(dia)))\n",
    "print(sess.run(tf.trace(dia))) # 대각요소의 값을 더해줌"
   ]
  },
  {
   "cell_type": "code",
   "execution_count": 33,
   "metadata": {},
   "outputs": [
    {
     "data": {
      "text/plain": [
       "array([[ 58,  64],\n",
       "       [139, 154]])"
      ]
     },
     "execution_count": 33,
     "metadata": {},
     "output_type": "execute_result"
    }
   ],
   "source": [
    "import numpy as np\n",
    "a = tf.constant([1,2,3,4,5,6], shape=[2,3])\n",
    "b = tf.constant([7,8,9,10,11,12], shape=[3,2])\n",
    "c = tf.matmul(a,b)\n",
    "sess.run(c) # 2x2"
   ]
  },
  {
   "cell_type": "code",
   "execution_count": 36,
   "metadata": {},
   "outputs": [
    {
     "name": "stdout",
     "output_type": "stream",
     "text": [
      "[[[[ 1  2  3]\n",
      "   [ 4  5  6]]\n",
      "\n",
      "  [[ 7  8  9]\n",
      "   [10 11 12]]]\n",
      "\n",
      "\n",
      " [[[13 14 15]\n",
      "   [16 17 18]]\n",
      "\n",
      "  [[19 20 21]\n",
      "   [22 23 24]]]]\n",
      "[[[[25 26]\n",
      "   [27 28]\n",
      "   [29 30]]\n",
      "\n",
      "  [[31 32]\n",
      "   [33 34]\n",
      "   [35 36]]]\n",
      "\n",
      "\n",
      " [[[37 38]\n",
      "   [39 40]\n",
      "   [41 42]]\n",
      "\n",
      "  [[43 44]\n",
      "   [45 46]\n",
      "   [47 48]]]]\n"
     ]
    },
    {
     "data": {
      "text/plain": [
       "array([[[[ 166,  172],\n",
       "         [ 409,  424]],\n",
       "\n",
       "        [[ 796,  820],\n",
       "         [1093, 1126]]],\n",
       "\n",
       "\n",
       "       [[[1642, 1684],\n",
       "         [1993, 2044]],\n",
       "\n",
       "        [[2704, 2764],\n",
       "         [3109, 3178]]]])"
      ]
     },
     "execution_count": 36,
     "metadata": {},
     "output_type": "execute_result"
    }
   ],
   "source": [
    "# 행렬 : 행과 열을 확인하고 앞의 것은 개수 어떻게 층을 이루고 있는가?\n",
    "a = tf.constant(np.arange(1,25,dtype=np.int32), shape=[2,2,2,3])\n",
    "# 행렬을 중심하고 데이터 표현\n",
    "print(sess.run(a))\n",
    "b = tf.constant(np.arange(25,49,dtype = np.int32), shape=[2,2,3,2])\n",
    "print(sess.run(b))\n",
    "c = tf.matmul(a,b)\n",
    "sess.run(c)\n",
    "# 2x2x2\n",
    "# 2x2 -> 4개"
   ]
  },
  {
   "cell_type": "code",
   "execution_count": 40,
   "metadata": {},
   "outputs": [
    {
     "name": "stdout",
     "output_type": "stream",
     "text": [
      "[[[[  14   32]\n",
      "   [  32   77]]\n",
      "\n",
      "  [[ 194  266]\n",
      "   [ 266  365]]]\n",
      "\n",
      "\n",
      " [[[ 590  716]\n",
      "   [ 716  869]]\n",
      "\n",
      "  [[1202 1382]\n",
      "   [1382 1589]]]]\n"
     ]
    },
    {
     "data": {
      "text/plain": [
       "<tf.Tensor 'MatMul_14:0' shape=(2, 2, 2, 2) dtype=int32>"
      ]
     },
     "execution_count": 40,
     "metadata": {},
     "output_type": "execute_result"
    }
   ],
   "source": [
    "# a를 제곱한다면 : 자기자신을 제곱하려면 전치\n",
    "d = tf.matmul(a, tf.transpose(a, perm=[0,1,3,2]))\n",
    "print(sess.run(d))\n",
    "tf.matmul(a,a,transpose_b=True) # 전치해서 자기제곱ㄴ"
   ]
  },
  {
   "cell_type": "code",
   "execution_count": 42,
   "metadata": {},
   "outputs": [
    {
     "name": "stdout",
     "output_type": "stream",
     "text": [
      "[2 2 3]\n"
     ]
    },
    {
     "data": {
      "text/plain": [
       "array([[[ 1,  7],\n",
       "        [ 4, 10]],\n",
       "\n",
       "       [[ 2,  8],\n",
       "        [ 5, 11]],\n",
       "\n",
       "       [[ 3,  9],\n",
       "        [ 6, 12]]])"
      ]
     },
     "execution_count": 42,
     "metadata": {},
     "output_type": "execute_result"
    }
   ],
   "source": [
    "                            # 0 1 2 3\n",
    "                            # 4x2x2x3\n",
    "x = tf.constant([[[1,2,3],\n",
    "                 [4,5,6]],\n",
    "                [[7,8,9],\n",
    "                [10,11,12]]])\n",
    "print(sess.run(tf.shape(x)))\n",
    "sess.run(tf.transpose(x)) # 3x2x2 : # 디폴트 2 1 0 "
   ]
  },
  {
   "cell_type": "code",
   "execution_count": 43,
   "metadata": {},
   "outputs": [
    {
     "data": {
      "text/plain": [
       "array([[[ 1,  7],\n",
       "        [ 2,  8],\n",
       "        [ 3,  9]],\n",
       "\n",
       "       [[ 4, 10],\n",
       "        [ 5, 11],\n",
       "        [ 6, 12]]])"
      ]
     },
     "execution_count": 43,
     "metadata": {},
     "output_type": "execute_result"
    }
   ],
   "source": [
    "y = tf.transpose(x, perm = [0,2,1])\n",
    "sess.run(tf.transpose(y))"
   ]
  },
  {
   "cell_type": "code",
   "execution_count": 44,
   "metadata": {},
   "outputs": [
    {
     "data": {
      "text/plain": [
       "array([[[[[[1]],\n",
       "\n",
       "          [[2]],\n",
       "\n",
       "          [[3]]]],\n",
       "\n",
       "\n",
       "\n",
       "        [[[[4]],\n",
       "\n",
       "          [[5]],\n",
       "\n",
       "          [[6]]]]]])"
      ]
     },
     "execution_count": 44,
     "metadata": {},
     "output_type": "execute_result"
    }
   ],
   "source": [
    "t = [1,2,3,4,5,6]\n",
    "t = tf.reshape(t, [1,2,1,3,1,1])\n",
    "sess.run(t)"
   ]
  },
  {
   "cell_type": "code",
   "execution_count": 45,
   "metadata": {},
   "outputs": [
    {
     "name": "stdout",
     "output_type": "stream",
     "text": [
      "t의 차원은 :  [1 2 1 3 1 1]\n"
     ]
    }
   ],
   "source": [
    "print('t의 차원은 : ', sess.run(tf.shape(t)))"
   ]
  },
  {
   "cell_type": "code",
   "execution_count": 46,
   "metadata": {},
   "outputs": [
    {
     "name": "stdout",
     "output_type": "stream",
     "text": [
      "차원의 수를 축소할 때  [2 3]\n"
     ]
    }
   ],
   "source": [
    "print('차원의 수를 축소할 때 ', sess.run(tf.shape(tf.squeeze(t))))"
   ]
  },
  {
   "cell_type": "code",
   "execution_count": 47,
   "metadata": {},
   "outputs": [
    {
     "name": "stdout",
     "output_type": "stream",
     "text": [
      "[[ 1  2  3  4  5  6]\n",
      " [ 7  8  9 10 11 12]]\n",
      "[[[ 1  2  3]\n",
      "  [ 4  5  6]]\n",
      "\n",
      " [[ 7  8  9]\n",
      "  [10 11 12]]]\n"
     ]
    }
   ],
   "source": [
    "tensor = [1,2,3,4,5,6,7,8,9,10,11,12]\n",
    "print(sess.run(tf.reshape(tensor, [2,-1])))\n",
    "tf.reshape(tensor, [-1,6])\n",
    "print(sess.run(tf.reshape(tensor, [2,-1,3])))"
   ]
  },
  {
   "cell_type": "code",
   "execution_count": 48,
   "metadata": {},
   "outputs": [
    {
     "name": "stdout",
     "output_type": "stream",
     "text": [
      "Tensor(\"ExpandDims:0\", shape=(1, 1, 2, 1, 3, 1, 1), dtype=int32)\n"
     ]
    }
   ],
   "source": [
    "# t : 1,1,2,1,3,1,1\n",
    "print(tf.expand_dims(t,0)) # 차원확대"
   ]
  },
  {
   "cell_type": "code",
   "execution_count": 49,
   "metadata": {},
   "outputs": [
    {
     "name": "stdout",
     "output_type": "stream",
     "text": [
      "[[0 0 0 0 0 0 0]\n",
      " [0 0 1 2 3 0 0]\n",
      " [0 0 4 5 6 0 0]\n",
      " [0 0 0 0 0 0 0]]\n"
     ]
    }
   ],
   "source": [
    "# padding 충전재\n",
    "t = [[1,2,3],[4,5,6]]\n",
    "paddings = [[1,1],[2,2]] # 위아래 / 왼쪽 오른쪽\n",
    "print(sess.run(tf.pad(t, paddings, \"CONSTANT\")))"
   ]
  },
  {
   "cell_type": "code",
   "execution_count": 50,
   "metadata": {},
   "outputs": [
    {
     "name": "stdout",
     "output_type": "stream",
     "text": [
      "[[5 4 5 6 5]\n",
      " [2 1 2 3 2]\n",
      " [5 4 5 6 5]\n",
      " [2 1 2 3 2]]\n"
     ]
    }
   ],
   "source": [
    "# 수를 채우는 방법\n",
    "paddings = [[1,1],[1,1]]  # 4x5\n",
    "print(sess.run(tf.pad(t,paddings,\"REFLECT\")))"
   ]
  },
  {
   "cell_type": "code",
   "execution_count": 51,
   "metadata": {},
   "outputs": [
    {
     "name": "stdout",
     "output_type": "stream",
     "text": [
      "[[1 1 2 3 3]\n",
      " [1 1 2 3 3]\n",
      " [4 4 5 6 6]\n",
      " [4 4 5 6 6]]\n"
     ]
    }
   ],
   "source": [
    "print(sess.run(tf.pad(t,paddings,\"SYMMETRIC\")))"
   ]
  },
  {
   "cell_type": "code",
   "execution_count": null,
   "metadata": {},
   "outputs": [],
   "source": [
    "# 다차 방정식의 해\n",
    "- 무작의 대입법\n",
    "- 역행렬을 구함\n",
    "- 입출력 데이터만 : 계수 결정 (가중치 학습으 통해 학습)"
   ]
  },
  {
   "cell_type": "code",
   "execution_count": 85,
   "metadata": {},
   "outputs": [
    {
     "data": {
      "text/plain": [
       "100"
      ]
     },
     "execution_count": 85,
     "metadata": {},
     "output_type": "execute_result"
    }
   ],
   "source": [
    "import numpy as np\n",
    "import tensorflow as tf\n",
    "# 데이터 생선 -> minibatch -> feeding\n",
    "x_data = np.random.rand(100).astype(np.float32)\n",
    "y_data = x_data * 0.1 + 0.3\n",
    "len(y_data)"
   ]
  },
  {
   "cell_type": "code",
   "execution_count": 86,
   "metadata": {},
   "outputs": [],
   "source": [
    "# 가중치와 바이어스\n",
    "# 가중치는 설명력\n",
    "# bias 는  activation을 결정한다 \n",
    "# activation 은 활성화\n",
    "# 가중치에는 꼭 바이어스가 붙어야함\n",
    "W = tf.Variable(tf.random_uniform([1], -1.0,1.0)) # 균등분포 -1~ 1 사이로\n",
    "b = tf.Variable(tf.zeros([1])) # 바이어스\n",
    "sess = tf.Session()\n",
    "y = W * x_data + b # 예측값"
   ]
  },
  {
   "cell_type": "code",
   "execution_count": 66,
   "metadata": {},
   "outputs": [
    {
     "name": "stdout",
     "output_type": "stream",
     "text": [
      "[0.0999999]\n",
      "[0.30000007]\n",
      "[0.32809007 0.3334747  0.33800706 0.3837629  0.3370582  0.38286477\n",
      " 0.36644566 0.30881107 0.34825587 0.33201396 0.31893787 0.35215327\n",
      " 0.33333528 0.36454874 0.36347446 0.30195144 0.32972407 0.3925203\n",
      " 0.34922332 0.30083922 0.31895483 0.3917113  0.3336721  0.30897236\n",
      " 0.31345227 0.3704395  0.36777875 0.3855257  0.3121305  0.3959436\n",
      " 0.3377916  0.3881818  0.38358438 0.33880404 0.35766888 0.3971143\n",
      " 0.3977134  0.30594242 0.3494686  0.33610177 0.3467932  0.3018239\n",
      " 0.34537724 0.3726145  0.3087171  0.3774928  0.3156579  0.37050232\n",
      " 0.30967957 0.34044552 0.31466419 0.37027928 0.34573293 0.38021925\n",
      " 0.31090215 0.3857423  0.35439554 0.30602977 0.3969725  0.31385434\n",
      " 0.31906942 0.30567566 0.342353   0.3060363  0.31650496 0.33354652\n",
      " 0.3982063  0.3870167  0.30194435 0.30656135 0.37359145 0.323612\n",
      " 0.3960002  0.30245724 0.30914247 0.36519983 0.3572702  0.36826503\n",
      " 0.32152042 0.37633464 0.3188106  0.38928008 0.39524162 0.3705341\n",
      " 0.31986073 0.39810753 0.36227193 0.30430546 0.3079546  0.37859055\n",
      " 0.3254737  0.38410008 0.38628876 0.34271786 0.36804205 0.30379704\n",
      " 0.35083592 0.32511914 0.32914916 0.3707487 ]\n"
     ]
    }
   ],
   "source": [
    "print(sess.run(W))\n",
    "print(sess.run(b))\n",
    "print(sess.run(y))"
   ]
  },
  {
   "cell_type": "code",
   "execution_count": 58,
   "metadata": {},
   "outputs": [],
   "source": [
    "# loss function : MSE : 2차원인 경우 포물선을 이루고 최적점은 한개\n",
    "loss = tf.reduce_mean(tf.square(y - y_data)) # y = 예측치 , y_data = 실제값 예측치 - 실제값 **2\n",
    "# MSE를 구하는식 reduce_mean = 전체 더해서 평균해라\n",
    "# 기울기 : 미분을 이용해서 - 면 가중치에 차를 더해주고,\n",
    "#                   기울기 + 면 가중치에 감하는 연산\n",
    "optimazer = tf.train.GradientDescentOptimizer(0.5) # 경사하강법 learning mate / 학습율\n",
    "train = optimazer.minimize(loss) # minimize = 최적화해라 "
   ]
  },
  {
   "cell_type": "code",
   "execution_count": 56,
   "metadata": {},
   "outputs": [],
   "source": [
    "init = tf.global_variables_initializer() # 꼭초기화시켜서 sess해줘야함 1.4버전에서는~\n",
    "sess.run(init)"
   ]
  },
  {
   "cell_type": "code",
   "execution_count": 59,
   "metadata": {},
   "outputs": [
    {
     "name": "stdout",
     "output_type": "stream",
     "text": [
      "0 [-0.433878] [0.759037]\n",
      "20 [-0.01825921] [0.35989493]\n",
      "40 [0.07707019] [0.3116133]\n",
      "60 [0.09555403] [0.30225176]\n",
      "80 [0.09913795] [0.30043662]\n",
      "100 [0.09983284] [0.30008468]\n",
      "120 [0.09996758] [0.30001643]\n",
      "140 [0.09999371] [0.3000032]\n",
      "160 [0.09999877] [0.30000064]\n",
      "180 [0.09999977] [0.30000013]\n",
      "200 [0.0999999] [0.30000007]\n"
     ]
    }
   ],
   "source": [
    "for step in range(201):\n",
    "    sess.run(train)\n",
    "    if step % 20 == 0: # 20번 마다 실행~\n",
    "        print(step, sess.run(W), sess.run(b)) # 기울기/ 바이어스 출력 결국 0.1 + 0.3 을 출력함"
   ]
  },
  {
   "cell_type": "code",
   "execution_count": 71,
   "metadata": {},
   "outputs": [],
   "source": [
    "predicted = sess.run(y_model, {x:[i for i in range(100)]})"
   ]
  },
  {
   "cell_type": "code",
   "execution_count": 72,
   "metadata": {},
   "outputs": [
    {
     "data": {
      "image/png": "[encoded data removed]",
      "text/plain": [
       "<Figure size 432x288 with 1 Axes>"
      ]
     },
     "metadata": {
      "needs_background": "light"
     },
     "output_type": "display_data"
    }
   ],
   "source": [
    "%matplotlib inline\n",
    "import matplotlib.pyplot as plt\n",
    "plt.plot(x_data, y_data, 'o', markersize=2)\n",
    "plt.plot(predicted, 'r')\n",
    "\n",
    "plt.show()"
   ]
  },
  {
   "cell_type": "code",
   "execution_count": 87,
   "metadata": {},
   "outputs": [
    {
     "name": "stdout",
     "output_type": "stream",
     "text": [
      "0 [0.3910543] [0.20019397]\n",
      "20 [0.17086317] [0.26493084]\n",
      "40 [0.11836243] [0.29091272]\n",
      "60 [0.10475819] [0.29764527]\n",
      "80 [0.10123299] [0.29938984]\n",
      "100 [0.10031951] [0.29984188]\n",
      "120 [0.1000828] [0.29995903]\n",
      "140 [0.10002146] [0.2999894]\n",
      "160 [0.10000556] [0.29999727]\n",
      "180 [0.10000142] [0.2999993]\n",
      "200 [0.10000038] [0.29999983]\n"
     ]
    }
   ],
   "source": [
    "\n",
    "# 주입변수 변경\n",
    "x = tf.placeholder(tf.float32, name='x')\n",
    "y = tf.placeholder(tf.float32)\n",
    "\n",
    "W = tf.Variable(tf.random_uniform([1], -1.0,1.0)) # 균등분포 -1~ 1 사이로\n",
    "b = tf.Variable(tf.zeros([1])) # 바이어스\n",
    "sess = tf.Session()\n",
    "y_model = W * x + b # 예측값\n",
    "\n",
    "loss = tf.reduce_mean(tf.square(y_model - y))\n",
    "optimazer = tf.train.GradientDescentOptimizer(0.5) \n",
    "train = optimazer.minimize(loss)\n",
    "\n",
    "init = tf.global_variables_initializer() # 꼭초기화시켜서 sess해줘야함 1.4버전에서는~\n",
    "sess.run(init)\n",
    "\n",
    "for step in range(201):\n",
    "    sess.run(train, {x:x_data, y:y_data})\n",
    "    if step % 20 == 0: # 20번 마다 실행~\n",
    "        print(step, sess.run(W), sess.run(b)) # 기울기/ 바이어스 출력 결국 0.1 + 0.3 을 출력함"
   ]
  },
  {
   "cell_type": "code",
   "execution_count": 79,
   "metadata": {},
   "outputs": [],
   "source": [
    "from tensorflow.python.framework import ops\n",
    "import os\n",
    "ops.reset_default_graph()"
   ]
  },
  {
   "cell_type": "code",
   "execution_count": 80,
   "metadata": {},
   "outputs": [
    {
     "name": "stdout",
     "output_type": "stream",
     "text": [
      "[1. 3. 5. 7. 9.]\n",
      "[ 3.  9. 15. 21. 27.]\n",
      "[ 5. 15. 25. 35. 45.]\n",
      "[ 7. 21. 35. 49. 63.]\n",
      "[ 9. 27. 45. 63. 81.]\n"
     ]
    }
   ],
   "source": [
    "sess = tf.Session()\n",
    "x_vals = np.array([1.,3.,5.,7.,9.])\n",
    "y_vals = np.array([1.,3.,5.,7.,9.])\n",
    "x_data = tf.placeholder(tf.float32)\n",
    "y_data = tf.placeholder(tf.float32)\n",
    "\n",
    "m = tf.constant(3.)\n",
    "prod = tf.multiply(x_data,y_data)\n",
    "\n",
    "for x_val in x_vals:\n",
    "    print(sess.run(prod, feed_dict={x_data:x_val,\n",
    "                                   y_data:y_vals}))"
   ]
  },
  {
   "cell_type": "code",
   "execution_count": 88,
   "metadata": {},
   "outputs": [],
   "source": [
    "merged = tf.summary.merge_all()\n",
    "if not os.path.exists('c://tmp/tensorboard_logs/'):\n",
    "    os.makedirs('c://tmp/tensorboard_logs/')\n",
    "my_writer = tf.summary.FileWriter('c://tmp/tensorboard_logs/',sess.graph)"
   ]
  },
  {
   "cell_type": "code",
   "execution_count": null,
   "metadata": {},
   "outputs": [],
   "source": [
    "# 이거한다음에\n",
    "# anaconda 프롬프트에서\n",
    "# tensorboard --logdir=/tmp\n",
    "# 서버열어서 키는거"
   ]
  },
  {
   "cell_type": "code",
   "execution_count": 91,
   "metadata": {},
   "outputs": [],
   "source": [
    "import numpy as np\n",
    "train_X = np.asarray([3.3,4.4,5.5,6.71,6.93,4.168,9.779,6.182,7.59,2.167,7.042,10.791,5.313,7.997,5.654,9.27,3.1])\n",
    "train_Y = np.asarray([1.7,2.76,2.09,3.19,1.694,1.573,3.366,2.596,2.53,1.221,2.827,3.465,1.65,2.904,2.42,2.94,1.3]) "
   ]
  },
  {
   "cell_type": "code",
   "execution_count": 100,
   "metadata": {},
   "outputs": [
    {
     "data": {
      "text/plain": [
       "array([ 3.3  ,  4.4  ,  5.5  ,  6.71 ,  6.93 ,  4.168,  9.779,  6.182,\n",
       "        7.59 ,  2.167,  7.042, 10.791,  5.313,  7.997,  5.654,  9.27 ,\n",
       "        3.1  ])"
      ]
     },
     "execution_count": 100,
     "metadata": {},
     "output_type": "execute_result"
    }
   ],
   "source": [
    "train_X"
   ]
  },
  {
   "cell_type": "code",
   "execution_count": 93,
   "metadata": {},
   "outputs": [],
   "source": [
    "rng = np.random\n",
    "\n",
    "learning_rate = 0.01\n",
    "training_epochs = 4000\n",
    "display_step = 50\n"
   ]
  },
  {
   "cell_type": "code",
   "execution_count": 104,
   "metadata": {},
   "outputs": [],
   "source": [
    "# data point : 관측치\n",
    "# 변수개수\n",
    "n_samples = train_X.shape[0]\n",
    "X = tf.placeholder(\"float\") # 실제값\n",
    "Y = tf.placeholder(\"float\") # 실제값\n",
    "W = tf.Variable(rng.randn(), name=\"weight\") # 설명\n",
    "b = tf.Variable(rng.randn(), name=\"bias\") # activation 활성화\n",
    "activation = tf.add(tf.multiply(X,W),b) # y = ax + b\n",
    "# 미니배치 사이즈를 고려함\n",
    "cost = tf.reduce_sum(tf.pow(activation-Y,2))/(2*n_samples) # pow(,2) 2승\n",
    "# 역전파 : optimizer 도 hyper parameter임\n",
    "optimizer = tf.train.GradientDescentOptimizer(learning_rate).minimize(cost) # hyper parameter\n",
    "# 기울기를 어떻게 찾아가느냐? momentum: 가던방향으로 데이터를 고려함\n",
    "init = tf.initialize_all_variables()"
   ]
  },
  {
   "cell_type": "code",
   "execution_count": null,
   "metadata": {},
   "outputs": [],
   "source": []
  },
  {
   "cell_type": "code",
   "execution_count": 98,
   "metadata": {},
   "outputs": [
    {
     "name": "stdout",
     "output_type": "stream",
     "text": [
      "Epoch: 0001 cost= 20.247396469 W= -0.37591952 b= -1.4713278\n",
      "Epoch: 0051 cost= 0.327848822 W= 0.52953386 b= -1.2124035\n",
      "Epoch: 0101 cost= 0.298873872 W= 0.5128847 b= -1.0926312\n",
      "Epoch: 0151 cost= 0.273244113 W= 0.4972257 b= -0.97998124\n",
      "Epoch: 0201 cost= 0.250573486 W= 0.48249793 b= -0.87403065\n",
      "Epoch: 0251 cost= 0.230520368 W= 0.46864593 b= -0.77438045\n",
      "Epoch: 0301 cost= 0.212782979 W= 0.45561787 b= -0.6806576\n",
      "Epoch: 0351 cost= 0.197093591 W= 0.4433646 b= -0.5925081\n",
      "Epoch: 0401 cost= 0.183216155 W= 0.43184015 b= -0.5096022\n",
      "Epoch: 0451 cost= 0.170941204 W= 0.42100108 b= -0.43162668\n",
      "Epoch: 0501 cost= 0.160083830 W= 0.41080666 b= -0.35828856\n",
      "Epoch: 0551 cost= 0.150480360 W= 0.40121844 b= -0.2893119\n",
      "Epoch: 0601 cost= 0.141986132 W= 0.3922007 b= -0.22443856\n",
      "Epoch: 0651 cost= 0.134472996 W= 0.38371915 b= -0.16342317\n",
      "Epoch: 0701 cost= 0.127827644 W= 0.37574205 b= -0.10603657\n",
      "Epoch: 0751 cost= 0.121949926 W= 0.36823946 b= -0.052063074\n",
      "Epoch: 0801 cost= 0.116751187 W= 0.36118296 b= -0.0012996426\n",
      "Epoch: 0851 cost= 0.112153038 W= 0.35454625 b= 0.046444602\n",
      "Epoch: 0901 cost= 0.108086102 W= 0.34830424 b= 0.09134939\n",
      "Epoch: 0951 cost= 0.104489073 W= 0.3424334 b= 0.13358344\n",
      "Epoch: 1001 cost= 0.101307712 W= 0.3369118 b= 0.17330542\n",
      "Epoch: 1051 cost= 0.098493963 W= 0.3317185 b= 0.21066521\n",
      "Epoch: 1101 cost= 0.096005350 W= 0.3268342 b= 0.24580306\n",
      "Epoch: 1151 cost= 0.093804374 W= 0.32224026 b= 0.27885133\n",
      "Epoch: 1201 cost= 0.091857746 W= 0.31791955 b= 0.30993456\n",
      "Epoch: 1251 cost= 0.090136275 W= 0.313856 b= 0.33916748\n",
      "Epoch: 1301 cost= 0.088613763 W= 0.31003392 b= 0.36666274\n",
      "Epoch: 1351 cost= 0.087267250 W= 0.3064392 b= 0.39252293\n",
      "Epoch: 1401 cost= 0.086076476 W= 0.30305842 b= 0.41684455\n",
      "Epoch: 1451 cost= 0.085023411 W= 0.29987854 b= 0.4397197\n",
      "Epoch: 1501 cost= 0.084092125 W= 0.29688784 b= 0.46123502\n",
      "Epoch: 1551 cost= 0.083268583 W= 0.29407498 b= 0.48147058\n",
      "Epoch: 1601 cost= 0.082540363 W= 0.2914295 b= 0.5005016\n",
      "Epoch: 1651 cost= 0.081896372 W= 0.2889414 b= 0.518401\n",
      "Epoch: 1701 cost= 0.081326962 W= 0.2866013 b= 0.53523576\n",
      "Epoch: 1751 cost= 0.080823399 W= 0.28440025 b= 0.5510701\n",
      "Epoch: 1801 cost= 0.080378130 W= 0.28233007 b= 0.56596285\n",
      "Epoch: 1851 cost= 0.079984441 W= 0.28038296 b= 0.5799703\n",
      "Epoch: 1901 cost= 0.079636320 W= 0.27855146 b= 0.59314567\n",
      "Epoch: 1951 cost= 0.079328515 W= 0.27682894 b= 0.60553735\n",
      "Epoch: 2001 cost= 0.079056449 W= 0.2752092 b= 0.6171901\n",
      "Epoch: 2051 cost= 0.078815930 W= 0.27368587 b= 0.6281486\n",
      "Epoch: 2101 cost= 0.078603290 W= 0.27225316 b= 0.6384555\n",
      "Epoch: 2151 cost= 0.078415334 W= 0.27090552 b= 0.64814955\n",
      "Epoch: 2201 cost= 0.078249142 W= 0.26963815 b= 0.6572673\n",
      "Epoch: 2251 cost= 0.078102253 W= 0.2684461 b= 0.6658428\n",
      "Epoch: 2301 cost= 0.077972397 W= 0.2673249 b= 0.67390895\n",
      "Epoch: 2351 cost= 0.077857636 W= 0.26627037 b= 0.68149495\n",
      "Epoch: 2401 cost= 0.077756204 W= 0.26527858 b= 0.68862957\n",
      "Epoch: 2451 cost= 0.077666558 W= 0.26434565 b= 0.69534063\n",
      "Epoch: 2501 cost= 0.077587321 W= 0.26346838 b= 0.70165205\n",
      "Epoch: 2551 cost= 0.077517316 W= 0.2626432 b= 0.70758843\n",
      "Epoch: 2601 cost= 0.077455461 W= 0.26186705 b= 0.71317214\n",
      "Epoch: 2651 cost= 0.077400796 W= 0.26113704 b= 0.71842355\n",
      "Epoch: 2701 cost= 0.077352494 W= 0.2604505 b= 0.7233628\n",
      "Epoch: 2751 cost= 0.077309854 W= 0.25980464 b= 0.7280086\n",
      "Epoch: 2801 cost= 0.077272169 W= 0.2591972 b= 0.73237884\n",
      "Epoch: 2851 cost= 0.077238895 W= 0.258626 b= 0.7364878\n",
      "Epoch: 2901 cost= 0.077209502 W= 0.25808868 b= 0.7403531\n",
      "Epoch: 2951 cost= 0.077183545 W= 0.25758332 b= 0.7439886\n",
      "Epoch: 3001 cost= 0.077160604 W= 0.25710812 b= 0.7474075\n",
      "Epoch: 3051 cost= 0.077140383 W= 0.25666112 b= 0.7506238\n",
      "Epoch: 3101 cost= 0.077122517 W= 0.25624058 b= 0.7536489\n",
      "Epoch: 3151 cost= 0.077106744 W= 0.25584504 b= 0.756494\n",
      "Epoch: 3201 cost= 0.077092834 W= 0.25547293 b= 0.7591706\n",
      "Epoch: 3251 cost= 0.077080555 W= 0.25512326 b= 0.76168627\n",
      "Epoch: 3301 cost= 0.077069730 W= 0.2547942 b= 0.76405364\n",
      "Epoch: 3351 cost= 0.077060163 W= 0.2544847 b= 0.76628065\n",
      "Epoch: 3401 cost= 0.077051751 W= 0.2541936 b= 0.7683742\n",
      "Epoch: 3451 cost= 0.077044331 W= 0.25391978 b= 0.7703438\n",
      "Epoch: 3501 cost= 0.077037759 W= 0.25366226 b= 0.7721968\n",
      "Epoch: 3551 cost= 0.077032030 W= 0.25342017 b= 0.77393836\n",
      "Epoch: 3601 cost= 0.077026926 W= 0.25319234 b= 0.77557683\n",
      "Epoch: 3651 cost= 0.077022448 W= 0.25297818 b= 0.7771184\n",
      "Epoch: 3701 cost= 0.077018492 W= 0.25277653 b= 0.7785688\n",
      "Epoch: 3751 cost= 0.077015027 W= 0.25258708 b= 0.7799316\n",
      "Epoch: 3801 cost= 0.077011995 W= 0.25240895 b= 0.7812129\n",
      "Epoch: 3851 cost= 0.077009298 W= 0.2522412 b= 0.7824196\n",
      "Epoch: 3901 cost= 0.077006914 W= 0.2520835 b= 0.7835537\n",
      "Epoch: 3951 cost= 0.077004857 W= 0.25193518 b= 0.7846216\n",
      "최적화 종료\n",
      "cost= 0.07700307 W= 0.25179836 b= 0.78560543\n"
     ]
    },
    {
     "data": {
      "image/png": "[encoded data removed]",
      "text/plain": [
       "<Figure size 432x288 with 1 Axes>"
      ]
     },
     "metadata": {
      "needs_background": "light"
     },
     "output_type": "display_data"
    }
   ],
   "source": [
    "# 그라프 정의 : node (연산) + edge(데이터 전달 : tensor(배열+행렬))\n",
    "\n",
    "# 전제조건 : GPU가 존재 -> 네트워크로 연결\n",
    "# session이 있으면 실행한다고 보면됨.\n",
    "with tf.Session() as sess: # 실행부\n",
    "    sess.run(init)\n",
    "    for epoch in range(training_epochs):\n",
    "        for (x,y) in zip(train_X,train_Y):\n",
    "            sess.run(optimizer, feed_dict = {X:x, Y:y})\n",
    "            # 어큐러시는 증가\n",
    "        if epoch % display_step == 0: # 비용함수 : 감소 :우하향\n",
    "            print(\"Epoch:\", '%04d' % (epoch+1), \"cost=\",\n",
    "                 \"{:.9f}\".format(sess.run(cost, feed_dict={X:train_X,Y:train_Y})),\n",
    "                 \"W=\", sess.run(W), \"b=\", sess.run(b)) # 수렴값\n",
    "    print(\"최적화 종료\")\n",
    "    print(\"cost=\", sess.run(cost, feed_dict={X:train_X,Y:train_Y}),\n",
    "         \"W=\", sess.run(W), \"b=\", sess.run(b))\n",
    "    plt.plot(train_X, train_Y, 'ro', label=\"Original data\")\n",
    "    # predict(예측값) 한 값을 출력\n",
    "    plt.plot(train_X,sess.run(W) * train_X + sess.run(b), label='Fitted line')\n",
    "    plt.legend()\n",
    "    plt.show()"
   ]
  },
  {
   "cell_type": "code",
   "execution_count": 106,
   "metadata": {},
   "outputs": [],
   "source": [
    "# tensor는 직접 시각화하는것이 불가능함 -> sess를 사용해서 numpy 포맷으로 변경\n",
    "def run_variable(variable):\n",
    "    tf.global_variables_initializer()\n",
    "    with tf.Session() as sess:\n",
    "        return sess.run(variable)"
   ]
  },
  {
   "cell_type": "code",
   "execution_count": 109,
   "metadata": {},
   "outputs": [],
   "source": [
    "my_distribution = tf.random_uniform((600,400), seed=42) # 24\n",
    "uniform = run_variable(my_distribution)"
   ]
  },
  {
   "cell_type": "code",
   "execution_count": 110,
   "metadata": {},
   "outputs": [
    {
     "data": {
      "text/plain": [
       "<function matplotlib.pyplot.show(*args, **kw)>"
      ]
     },
     "execution_count": 110,
     "metadata": {},
     "output_type": "execute_result"
    },
    {
     "data": {
      "image/png": "[encoded data removed]",
      "text/plain": [
       "<Figure size 432x288 with 1 Axes>"
      ]
     },
     "metadata": {
      "needs_background": "light"
     },
     "output_type": "display_data"
    }
   ],
   "source": [
    "from matplotlib import pyplot as plt\n",
    "plt.hist(uniform.flatten()) # 데이터 메모리 저장 : 1차원 # 평탄화 작업\n",
    "plt.show"
   ]
  },
  {
   "cell_type": "code",
   "execution_count": null,
   "metadata": {},
   "outputs": [],
   "source": [
    "# activation 함수 : 활성화 함수 : 회귀냐 분류인가를 결정\n",
    "- 비선형 매핑을 해줌 ( 선형대수를 -> 비선형문제로 변경)\n",
    "- 가중치를 깊게하고 활성화함수 매핑으로 XOR문제를 해결"
   ]
  },
  {
   "cell_type": "code",
   "execution_count": 113,
   "metadata": {},
   "outputs": [
    {
     "name": "stdout",
     "output_type": "stream",
     "text": [
      "[-10.          -9.7979798   -9.5959596   -9.39393939  -9.19191919\n",
      "  -8.98989899  -8.78787879  -8.58585859  -8.38383838  -8.18181818\n",
      "  -7.97979798  -7.77777778  -7.57575758  -7.37373737  -7.17171717\n",
      "  -6.96969697  -6.76767677  -6.56565657  -6.36363636  -6.16161616\n",
      "  -5.95959596  -5.75757576  -5.55555556  -5.35353535  -5.15151515\n",
      "  -4.94949495  -4.74747475  -4.54545455  -4.34343434  -4.14141414\n",
      "  -3.93939394  -3.73737374  -3.53535354  -3.33333333  -3.13131313\n",
      "  -2.92929293  -2.72727273  -2.52525253  -2.32323232  -2.12121212\n",
      "  -1.91919192  -1.71717172  -1.51515152  -1.31313131  -1.11111111\n",
      "  -0.90909091  -0.70707071  -0.50505051  -0.3030303   -0.1010101\n",
      "   0.1010101    0.3030303    0.50505051   0.70707071   0.90909091\n",
      "   1.11111111   1.31313131   1.51515152   1.71717172   1.91919192\n",
      "   2.12121212   2.32323232   2.52525253   2.72727273   2.92929293\n",
      "   3.13131313   3.33333333   3.53535354   3.73737374   3.93939394\n",
      "   4.14141414   4.34343434   4.54545455   4.74747475   4.94949495\n",
      "   5.15151515   5.35353535   5.55555556   5.75757576   5.95959596\n",
      "   6.16161616   6.36363636   6.56565657   6.76767677   6.96969697\n",
      "   7.17171717   7.37373737   7.57575758   7.77777778   7.97979798\n",
      "   8.18181818   8.38383838   8.58585859   8.78787879   8.98989899\n",
      "   9.19191919   9.39393939   9.5959596    9.7979798   10.        ]\n"
     ]
    }
   ],
   "source": [
    "# 텐서플로는 한번 실행한 함수는 다시 사용못함.\n",
    "\n",
    "from tensorflow.python.framework import ops\n",
    "ops.reset_default_graph()\n",
    "sess = tf.Session()\n",
    "\n",
    "x_vals = np.linspace(-10., 10.,100)\n",
    "print(x_vals)"
   ]
  },
  {
   "cell_type": "code",
   "execution_count": 119,
   "metadata": {},
   "outputs": [
    {
     "name": "stdout",
     "output_type": "stream",
     "text": [
      "[ 0.  3. 10.]\n",
      "[0.26894143 0.5        0.7310586 ]\n",
      "[-0.7615942  0.         0.7615942]\n",
      "[-0.63212055  0.          1.        ]\n",
      "[0.31326166 0.6931472  1.3132616 ]\n",
      "[4.53988992e-05 5.55621925e-05 6.80006294e-05 8.32234827e-05\n",
      " 1.01854002e-04 1.24654915e-04 1.52559623e-04 1.86710374e-04\n",
      " 2.28504961e-04 2.79653838e-04 3.42249995e-04 4.18854392e-04\n",
      " 5.12600439e-04 6.27321712e-04 7.67708042e-04 9.39496227e-04\n",
      " 1.14970295e-03 1.40690911e-03 1.72160671e-03 2.10662180e-03\n",
      " 2.57762963e-03 3.15378152e-03 3.85846667e-03 4.72023638e-03\n",
      " 5.77392318e-03 7.06199264e-03 8.63617122e-03 1.05593993e-02\n",
      " 1.29081631e-02 1.57752639e-02 1.92730804e-02 2.35373794e-02\n",
      " 2.87317129e-02 3.50524161e-02 4.27341757e-02 5.20560700e-02\n",
      " 6.33478781e-02 7.69963170e-02 9.34506760e-02 1.13227094e-01\n",
      " 1.36910472e-01 1.65152775e-01 1.98666320e-01 2.38210660e-01\n",
      " 2.84571982e-01 3.38534624e-01 4.00845440e-01 4.72173209e-01\n",
      " 5.53066799e-01 6.43916968e-01 7.44927069e-01 8.56097102e-01\n",
      " 9.77223714e-01 1.10791615e+00 1.24762553e+00 1.39568309e+00\n",
      " 1.55134197e+00 1.71381783e+00 1.88232449e+00 2.05610239e+00\n",
      " 2.23443922e+00 2.41668300e+00 2.60224884e+00 2.79062061e+00\n",
      " 2.98134900e+00 3.17404731e+00 3.36838575e+00 3.56408525e+00\n",
      " 3.76091112e+00 3.95866702e+00 4.15718941e+00 4.35634251e+00\n",
      " 4.55601394e+00 4.75611092e+00 4.95655694e+00 5.15728907e+00\n",
      " 5.35825559e+00 5.55941402e+00 5.76072954e+00 5.96217359e+00\n",
      " 6.16372278e+00 6.36535797e+00 6.56706347e+00 6.76882647e+00\n",
      " 6.97063647e+00 7.17248488e+00 7.37436470e+00 7.57627018e+00\n",
      " 7.77819663e+00 7.98014023e+00 8.18209784e+00 8.38406689e+00\n",
      " 8.58604530e+00 8.78803135e+00 8.99002364e+00 9.19202105e+00\n",
      " 9.39402262e+00 9.59602760e+00 9.79803536e+00 1.00000454e+01]\n",
      "[-0.9999546  -0.99994444 -0.999932   -0.99991677 -0.99989814 -0.99987534\n",
      " -0.99984743 -0.99981327 -0.99977147 -0.99972031 -0.99965769 -0.99958106\n",
      " -0.99948727 -0.99937248 -0.999232   -0.99906006 -0.99884964 -0.9985921\n",
      " -0.99827691 -0.99789116 -0.99741905 -0.99684124 -0.99613408 -0.99526861\n",
      " -0.99420938 -0.99291301 -0.99132643 -0.98938465 -0.98700817 -0.98409965\n",
      " -0.98053999 -0.97618343 -0.97085155 -0.96432601 -0.95633957 -0.94656519\n",
      " -0.9346026  -0.9199619  -0.90204355 -0.88011378 -0.85327452 -0.82042669\n",
      " -0.78022512 -0.73102351 -0.67080701 -0.59710968 -0.50691352 -0.3965249\n",
      " -0.26142329 -0.0960761   0.1010101   0.3030303   0.50505051  0.70707071\n",
      "  0.90909091  1.11111111  1.31313131  1.51515152  1.71717172  1.91919192\n",
      "  2.12121212  2.32323232  2.52525253  2.72727273  2.92929293  3.13131313\n",
      "  3.33333333  3.53535354  3.73737374  3.93939394  4.14141414  4.34343434\n",
      "  4.54545455  4.74747475  4.94949495  5.15151515  5.35353535  5.55555556\n",
      "  5.75757576  5.95959596  6.16161616  6.36363636  6.56565657  6.76767677\n",
      "  6.96969697  7.17171717  7.37373737  7.57575758  7.77777778  7.97979798\n",
      "  8.18181818  8.38383838  8.58585859  8.78787879  8.98989899  9.19191919\n",
      "  9.39393939  9.5959596   9.7979798  10.        ]\n"
     ]
    },
    {
     "data": {
      "image/png": "[encoded data removed]",
      "text/plain": [
       "<Figure size 432x288 with 1 Axes>"
      ]
     },
     "metadata": {
      "needs_background": "light"
     },
     "output_type": "display_data"
    },
    {
     "data": {
      "image/png": "[encoded data removed]",
      "text/plain": [
       "<Figure size 432x288 with 1 Axes>"
      ]
     },
     "metadata": {
      "needs_background": "light"
     },
     "output_type": "display_data"
    }
   ],
   "source": [
    "print(sess.run(tf.nn.relu([-3.,3.,10.]))) # 0 ~ 00\n",
    "y_relu = sess.run(tf.nn.relu(x_vals))\n",
    "print(sess.run(tf.nn.sigmoid([-1.,0.,1.]))) # 0 ~ 1\n",
    "y_sigmoid = sess.run(tf.nn.sigmoid(x_vals))\n",
    "print(sess.run(tf.nn.tanh([-1.,0.,1.]))) # -1 ~ 1\n",
    "y_tanh = sess.run(tf.nn.tanh(x_vals))\n",
    "print(sess.run(tf.nn.elu([-1.,0.,1.]))) # -1 ~ 00 수정본\n",
    "y_elu = sess.run(tf.nn.elu(x_vals))\n",
    "print(sess.run(tf.nn.softplus([-1.,0.,1.]))) # 각진 단점 보완 elu 에서\n",
    "y_softplus = sess.run(tf.nn.softplus(x_vals))\n",
    "print(y_softplus)\n",
    "print(y_elu)\n",
    "plt.plot(x_vals, y_relu, 'b:', label=\"ReLU\", linewidth=2)\n",
    "plt.plot(x_vals, y_elu, 'k:', label=\"ExpLU\", linewidth=0.5)\n",
    "plt.ylim([-1.5,7])\n",
    "plt.legend(loc='upper left')\n",
    "plt.show()\n",
    "plt.plot(x_vals, y_sigmoid, 'r--', label=\"Sigmoid\", linewidth=2)\n",
    "plt.plot(x_vals, y_tanh, 'b:', label=\"Tanh\", linewidth=0.5)\n",
    "plt.plot(x_vals, y_softplus, 'g:', label=\"Softplus\", linewidth=0.5)\n",
    "plt.ylim([-2,7])\n",
    "plt.legend(loc='upper left')\n",
    "plt.show()"
   ]
  },
  {
   "cell_type": "code",
   "execution_count": 134,
   "metadata": {},
   "outputs": [],
   "source": [
    "# 오늘의 정리\n",
    "\n",
    "ops.reset_default_graph() # 그라프 초기화\n",
    "sess = tf.Session()\n",
    "tf.set_random_seed(5) # 시드의 초기값 tensorflow\n",
    "np.random.seed(42) # numpy\n",
    "batch_size = 50\n",
    "a1 = tf.Variable(tf.random_normal(shape=[1,1])) # 가중치\n",
    "b1 = tf.Variable(tf.random_uniform(shape=[1,1])) # bias\n",
    "a2 = tf.Variable(tf.random_normal(shape=[1,1]))\n",
    "b2 = tf.Variable(tf.random_uniform(shape=[1,1]))\n",
    "x = np.random.normal(2,0.1,500)\n",
    "# 사이즈를 fix 하지 않고 입력 데이터로 부터 계산\n",
    "# 행데이터로 생성\n",
    "x_data = tf.placeholder(shape=[None,1], dtype=tf.float32)"
   ]
  },
  {
   "cell_type": "code",
   "execution_count": 135,
   "metadata": {},
   "outputs": [
    {
     "name": "stdout",
     "output_type": "stream",
     "text": [
      "\n",
      " Sigmoid AND ReLU 함수의 최적화 0.75\n"
     ]
    }
   ],
   "source": [
    "# y = ax + b  / 0~1 사이 값으로 mapping / sigmoid\n",
    "sigmoid_activation = tf.sigmoid(tf.add(tf.matmul(x_data, a1), b1))\n",
    "# ReLU 0 ~ oo 무한대\n",
    "relu_activation = tf.nn.relu(tf.add(tf.matmul(x_data,a2),b2))\n",
    "\n",
    "# 0.75로 수렴과정\n",
    "# MSE\n",
    "loss1 = tf.reduce_mean(tf.square(tf.subtract(sigmoid_activation,0.75)))\n",
    "loss2 = tf.reduce_mean(tf.square(tf.subtract(relu_activation,0.75)))\n",
    "init = tf.global_variables_initializer()\n",
    "sess.run(init)\n",
    "my_opt = tf.train.GradientDescentOptimizer(0.01)\n",
    "train_step_sigmoid = my_opt.minimize(loss1)\n",
    "train_step_relu = my_opt.minimize(loss2)\n",
    "print('\\n Sigmoid AND ReLU 함수의 최적화 0.75')"
   ]
  },
  {
   "cell_type": "code",
   "execution_count": 136,
   "metadata": {},
   "outputs": [],
   "source": [
    "loss_vec_sigmoid = [] # 로스값을 지정\n",
    "loss_vec_relu = []"
   ]
  },
  {
   "cell_type": "code",
   "execution_count": 137,
   "metadata": {},
   "outputs": [
    {
     "name": "stdout",
     "output_type": "stream",
     "text": [
      "sigmoid = 0.12655206\n",
      "relu = 2.0227606\n",
      "\n",
      "sigmoid = 0.17863758\n",
      "relu = 0.7530296\n",
      "\n",
      "sigmoid = 0.24769813\n",
      "relu = 0.7492897\n",
      "\n",
      "sigmoid = 0.3446748\n",
      "relu = 0.7499546\n",
      "\n",
      "sigmoid = 0.4400661\n",
      "relu = 0.7539999\n",
      "\n",
      "sigmoid = 0.5236898\n",
      "relu = 0.754772\n",
      "\n",
      "sigmoid = 0.58373857\n",
      "relu = 0.7508698\n",
      "\n",
      "sigmoid = 0.62733483\n",
      "relu = 0.7470234\n",
      "\n",
      "sigmoid = 0.6549499\n",
      "relu = 0.75180537\n",
      "\n",
      "sigmoid = 0.67452586\n",
      "relu = 0.75470716\n",
      "\n"
     ]
    }
   ],
   "source": [
    "for i in range(500):\n",
    "    rand_indices = np.random.choice(len(x), size = batch_size)\n",
    "    x_vals = np.transpose([x[rand_indices]]) # 모양을 맞추기 위해서\n",
    "    sess.run(train_step_sigmoid, feed_dict={x_data:x_vals})\n",
    "    sess.run(train_step_relu, feed_dict={x_data:x_vals})\n",
    "    loss_vec_sigmoid.append(sess.run(loss1, feed_dict={x_data:x_vals}))\n",
    "    loss_vec_relu.append(sess.run(loss2, feed_dict={x_data:x_vals}))\n",
    "    sigmoid_output = np.mean(sess.run(sigmoid_activation, feed_dict={x_data:x_vals}))\n",
    "    relu_output = np.mean(sess.run(relu_activation, feed_dict={x_data:x_vals}))\n",
    "    if i%50==0:\n",
    "        print('sigmoid = ' + str(np.mean(sigmoid_output))+'\\n'+ 'relu = ' + str(np.mean(relu_output)) + '\\n')"
   ]
  },
  {
   "cell_type": "code",
   "execution_count": 138,
   "metadata": {},
   "outputs": [
    {
     "data": {
      "image/png": "[encoded data removed]",
      "text/plain": [
       "<Figure size 432x288 with 1 Axes>"
      ]
     },
     "metadata": {
      "needs_background": "light"
     },
     "output_type": "display_data"
    }
   ],
   "source": [
    "plt.plot(loss_vec_sigmoid, 'k-', label='Sigmoid Activation')\n",
    "plt.plot(loss_vec_relu, 'r--', label='Relu Activation')\n",
    "plt.ylim([0, 1.0])\n",
    "plt.title(' loss per Generation')\n",
    "plt.xlabel('Generation')\n",
    "\n",
    "\n",
    "plt.ylabel('Loss')\n",
    "plt.legend(loc='upper right')\n",
    "plt.show() "
   ]
  },
  {
   "cell_type": "code",
   "execution_count": null,
   "metadata": {},
   "outputs": [],
   "source": [
    "# 오늘 정리\n",
    "미니배치를 하는이유\n",
    "\n",
    "엑티베이션 : 선형을 비선형으로 바꿔서 회귀와 분류를 구분\n",
    "            :예측과 분류를 나누고\n",
    "        \n",
    "accuracy를 이용해서 경사하강법을 하지 못하고 function : accuracy는 미분이 안되고 0~1로 되ㅐ어서\n",
    "    \n",
    "    회귀일땐 MSE\n",
    "    분류 :Auto\n",
    "        \n",
    "    경사하강법이 해결하는 문제 : 러닝레이트, 기울기\n",
    "        \n",
    "graph를 만들고 세션으로 실행\n",
    "그라프는 실행되지 않고 세선으로 꼭지점에서 실행"
   ]
  }
 ],
 "metadata": {
  "kernelspec": {
   "display_name": "Python 3",
   "language": "python",
   "name": "python3"
  },
  "language_info": {
   "codemirror_mode": {
    "name": "ipython",
    "version": 3
   },
   "file_extension": ".py",
   "mimetype": "text/x-python",
   "name": "python",
   "nbconvert_exporter": "python",
   "pygments_lexer": "ipython3",
   "version": "3.7.6"
  },
  "toc": {
   "base_numbering": 1,
   "nav_menu": {},
   "number_sections": true,
   "sideBar": true,
   "skip_h1_title": false,
   "title_cell": "Table of Contents",
   "title_sidebar": "Contents",
   "toc_cell": false,
   "toc_position": {},
   "toc_section_display": true,
   "toc_window_display": false
  }
 },
 "nbformat": 4,
 "nbformat_minor": 4
}
