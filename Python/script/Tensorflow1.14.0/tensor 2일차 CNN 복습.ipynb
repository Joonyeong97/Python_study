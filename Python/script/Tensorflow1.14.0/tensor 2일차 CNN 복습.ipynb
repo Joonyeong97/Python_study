{
 "cells": [
  {
   "cell_type": "code",
   "execution_count": null,
   "metadata": {},
   "outputs": [],
   "source": [
    "# youtube CNN\n",
    "# https://www.youtube.com/watch?v=UmAa2wyyHkw"
   ]
  },
  {
   "cell_type": "code",
   "execution_count": null,
   "metadata": {},
   "outputs": [],
   "source": [
    "입력데이터 * 필터링 -> 컨볼루션 연산결과 + 바이어스 -> \n",
    "특징맵 -> Relu-> pooling\n",
    "-> 완전연결층( FLATTEN( 평평하게 ) ) -> Linear regression -> \n",
    "softmax  -> 손실함수 최소값 확인\n"
   ]
  },
  {
   "cell_type": "markdown",
   "metadata": {},
   "source": [
    "convolution 이란? \n",
    "입력데이터와 가중치들의 집합체인 다양한 필터와의\n",
    "컨볼루션 연산을 통해서 입력데이터의 특징을 추출하는 역할\n",
    "\n",
    "pooling 이란?\n",
    "입력정보를 최대값 or 최소값 or 평균값등으로 압축하여 데이터\n",
    "연산량을 줄여주는 역할 수행\n",
    "일반적으로 max값으로 출력을 진행함\n",
    "\n",
    "padding 이란?\n",
    "패딩이란 컨볼루션 연산을 수행하기 전에 입력데이터 주변을 특정 값\n",
    "으로 채우는것을 말하며, 컨볼루션 연산에서 자주 이용되는방법\n",
    "- 컨볼루션 연산을 수행하면 데이터 크기가(shape) 줄어드는 단점을\n",
    "방지하기 위함\n",
    "\n",
    "(softmax란?\n",
    "입력받은 값을 출력으로 0~1사이의 값으로 모두 정규화하며 출력값들의\n",
    "총합은 항상 1이 되도록 진행)"
   ]
  },
  {
   "cell_type": "markdown",
   "metadata": {},
   "source": [
    "입력층 -> 컨볼루션층 -> 완전연결층 -> 출력층 -> 손실함수 최소값확인 -> 학습종료\n",
    "\n",
    "이미지입력하면\n",
    "conv층에서 입력층*필터+바이어스 를 스프라이드 횟수만큼 옆으로 필터링을 진행함.\n",
    "그 후 필터링된 값을 relu로 진행해주면 마이너스인값들을 다 0으로 변환해주고 나머지는 그대로 진행\n",
    "그 후 pooling을 진행 예를들어 2*2 max pooling이면\n",
    "2*2 행렬에서 제일 큰값을 저장해서 하나의 행렬을 만들어서\n",
    "다음 컨볼루션층으로 보냄\n",
    "\n",
    "padding은 입력층에서 필터링되기전에 입히고서 진행해야함.\n",
    "필터링되고나서 넣는게 아님.\n",
    "\n",
    "마지막 컨볼루션 층에서 완전연결층으로 전달되면\n",
    "FLATTEN(평탄화) 작업으로 1차원 벡터로 reshape 진행\n",
    "그 후 Linear Regression을 한뒤\n",
    "softmax를 진행한뒤\n",
    "\n",
    "손실함수 최소값이 되면 학습종료 아니면 다시 재생"
   ]
  },
  {
   "cell_type": "markdown",
   "metadata": {},
   "source": [
    "conv = tf.nn.conv2d(...)\n",
    "relu = tf.nn.relu(...)\n",
    "pooling = tf.nn.max_pool(...)\n",
    "FLATTEN = tf.reshape(conv마지막값,...)\n",
    "softmax = tf.nn.softmax(linear값)"
   ]
  },
  {
   "cell_type": "code",
   "execution_count": null,
   "metadata": {},
   "outputs": [],
   "source": [
    "tf.nn.conv2d(input, fillter, strides, padding, ...)\n",
    "밑에 파라미터 설명"
   ]
  },
  {
   "cell_type": "code",
   "execution_count": null,
   "metadata": {},
   "outputs": [],
   "source": [
    "input : 컨볼루션 연산을 위한 입력 데이터이며 \n",
    "    [batch, in_height,inwidth,in_channels]\n",
    "예를들어 100개의 배치로 묶은 28*28 크기의 흑백 이미지를 입력으로\n",
    "넣을경우 input은 [100,28,28,1]로 나타냄"
   ]
  },
  {
   "cell_type": "code",
   "execution_count": null,
   "metadata": {},
   "outputs": [],
   "source": [
    "fillter : 컨볼루션 연산에 적용할 필터이며 \n",
    "    [fillter_height,fillter_width,in_channels,out_channels]\n",
    "예를들어, 필터 크기 3*3이며 입력채널 개수는 1이고 적용되는 필터 개수가\n",
    "총 32개이면 fillter는 [3,3,1,32]"
   ]
  },
  {
   "cell_type": "code",
   "execution_count": null,
   "metadata": {},
   "outputs": [],
   "source": [
    "strides : 컨볼루션 연산을 위해 필터를 이동시키는 간격을 나타냄,\n",
    "    예를들어 [1, 1, 1, 1]로 strides를 나타낸다면\n",
    "    컨볼루션 적용을 위해 1칸씩 이동 필터를 이동하는것을 의미함."
   ]
  },
  {
   "cell_type": "code",
   "execution_count": null,
   "metadata": {},
   "outputs": [],
   "source": [
    "padding : \"SAME\" 또는 \"VALID\" 값을 가짐. padding='VALID'라면\n",
    "    컨볼루션 연산 공식에 의하여 가로/세로(차원)의 크기가 축소된\n",
    "    결과가 리턴됨, 그러나 padding='SAME'으로 지정하면\n",
    "    입력값의 가로/세로(차원) 크기와 같은 출력이 리턴되도록\n",
    "    작아진 차원 부분에 0값을 채운 제로패딩을 출력함"
   ]
  },
  {
   "cell_type": "code",
   "execution_count": null,
   "metadata": {},
   "outputs": [],
   "source": [
    "입력채널 : 직관적으로 데이터가 들어오는 통로라고 생각하면 무난함.\n",
    "    즉 입력채널이 1이라고 하면 데이터가 들어오는 통로가 1개이며,\n",
    "    만약 입력채널이 32개라고 하면 32개의 통로를 통해서 입력데이터가\n",
    "    들어온다고 판단하면 무리가 없음"
   ]
  },
  {
   "cell_type": "code",
   "execution_count": null,
   "metadata": {},
   "outputs": [],
   "source": [
    "tf.nn.max_pooling(value,ksize,strides,padding)\n",
    "밑에 파라미터 설명"
   ]
  },
  {
   "cell_type": "code",
   "execution_count": null,
   "metadata": {},
   "outputs": [],
   "source": [
    "value : [batch, height, width, channels] / Tensor로 만들어져있는\n",
    "    형식의 입력데이터, 일반적으로 relu를 통과한 출력결과를 말한다.\n",
    "    "
   ]
  },
  {
   "cell_type": "code",
   "execution_count": null,
   "metadata": {},
   "outputs": [],
   "source": [
    "ksize : 컨볼루션 신경망에서 일반적인 ksize는 다음과 같이\n",
    "    [1,height,width,1] 형태로 표시함. 예를 들어\n",
    "    ksize = [1,2,2,1]이라면 2칸씩 이동하면서 출력결과를 1개를\n",
    "    만들어 낸다는 것을 의미함.\n",
    "    즉 4개 (2*2) 데이터 중에서 가장 큰 값 1개를 찾아서\n",
    "    반환하는 역할을 수행함, 만약 ksize = [1,3,3,1]이라고 하면\n",
    "    3칸씩 이동, 즉 9개 (3*3) 데이터중에서 가장 큰 값을 찾는다는거"
   ]
  },
  {
   "cell_type": "code",
   "execution_count": null,
   "metadata": {},
   "outputs": [],
   "source": [
    "strides : max pooling 을 위해 윈도우를 이동시키는 간격을 나타냄\n",
    "    예를 들어 [1,2,2,1] 로 strides를 나타낸다면 max pooling적용을\n",
    "    위해 2칸씩 이동하는것을 의미함"
   ]
  },
  {
   "cell_type": "code",
   "execution_count": null,
   "metadata": {},
   "outputs": [],
   "source": [
    "padding : max pooling에서의 padding값은 max pooling을 수행하기에는\n",
    "    데이터가 부족한 경우에 주변을 0등으로 채워는 역할을 함.\n",
    "    예를 들어 max pooling에서 풀링층으로 들어오는 입력데이터가\n",
    "    7*7이고, 데이터를 2개씩 묶어 최대값을 찾아내는 연산을 하기엔\n",
    "    입력으로 주어진 데이터가 부족한 상황임 (즉, 최소 8*8이여야 가능)\n",
    "    이때 padding='SAME' 이면, 부족한 데이터 부분을 0등으로 채운 후에\n",
    "    데이터를 2개씩 묶어 최대값을 뽑아낼 수 있음"
   ]
  },
  {
   "cell_type": "code",
   "execution_count": 7,
   "metadata": {},
   "outputs": [
    {
     "name": "stdout",
     "output_type": "stream",
     "text": [
      "Extracting MNIST_data/train-images-idx3-ubyte.gz\n",
      "Extracting MNIST_data/train-labels-idx1-ubyte.gz\n",
      "Extracting MNIST_data/t10k-images-idx3-ubyte.gz\n",
      "Extracting MNIST_data/t10k-labels-idx1-ubyte.gz\n",
      "\n",
      " 55000 10000 5000\n",
      "\n",
      " train image shape =  (55000, 784)\n",
      "train label shape =  (55000, 10)\n",
      "test image shape =  (10000, 784)\n",
      "test label shape =  (10000, 10)\n"
     ]
    }
   ],
   "source": [
    "import tensorflow as tf\n",
    "from tensorflow.examples.tutorials.mnist import input_data\n",
    "import numpy as np\n",
    "from datetime import datetime\n",
    "\n",
    "mnist = input_data.read_data_sets(\"MNIST_data/\", one_hot=True)\n",
    "\n",
    "print(\"\\n\", mnist.train.num_examples, mnist.test.num_examples, mnist.validation.num_examples)\n",
    "\n",
    "print(\"\\n train image shape = \", np.shape(mnist.train.images))\n",
    "print('train label shape = ', np.shape(mnist.train.labels))\n",
    "print('test image shape = ', np.shape(mnist.test.images))\n",
    "print('test label shape = ', np.shape(mnist.test.labels))"
   ]
  },
  {
   "cell_type": "code",
   "execution_count": 25,
   "metadata": {},
   "outputs": [],
   "source": [
    "learning_rate = 0.001 # 학습률\n",
    "epochs = 30   # 반복횟수\n",
    "batch_size = 100   # 한번에 입력으로 주어지는 MNIST 개수\n",
    "\n",
    "# 입력\n",
    "X = tf.placeholder(tf.float32,[None,784])\n",
    "T = tf.placeholder(tf.float32,[None,10])\n",
    "\n",
    "# 입력층의 출력값, 컨볼루션 연산을 위해 reshape시킴\n",
    "A1 = X_img = tf.reshape(X,[-1,28,28,1]) # 이미지 28* 28 *1(black/white)"
   ]
  },
  {
   "cell_type": "code",
   "execution_count": 26,
   "metadata": {},
   "outputs": [],
   "source": [
    "# 1번째 컨볼루션 층\n",
    "# 3* 3 크기를 가지는 32개의 필터를 적용\n",
    "F2 = tf.Variable(tf.random_normal([3,3,1,32], stddev=0.01)) # 이게 필터\n",
    "b2 = tf.Variable(tf.constant(0.1, shape=[32]))\n",
    "\n",
    "# 1번째 컨볼루션 연산을 통해 28 * 28* 1 -> 28*28*32\n",
    "C2 = tf.nn.conv2d(A1, F2, strides=[1,1,1,1], padding='SAME')\n",
    "\n",
    "# ReLU\n",
    "Z2 = tf.nn.relu(C2+b2)\n",
    "\n",
    "# 1번째 max pooling을 통해 28*28*32 -> 14*14*32\n",
    "A2 = P2 = tf.nn.max_pool(Z2, ksize=[1,2,2,1], strides=[1,2,2,1], padding='SAME')"
   ]
  },
  {
   "cell_type": "code",
   "execution_count": 27,
   "metadata": {},
   "outputs": [],
   "source": [
    "# 2번째 컨볼루션 층\n",
    "# 3* 3 크기를 가지는 64개의 필터를 적용\n",
    "F3 = tf.Variable(tf.random_normal([3,3,32,64], stddev=0.01)) # 이게 필터\n",
    "b3 = tf.Variable(tf.constant(0.1, shape=[64]))\n",
    "\n",
    "# 1번째 컨볼루션 연산을 통해 14 * 14* 32 -> 14*14*64\n",
    "C3 = tf.nn.conv2d(A2, F3, strides=[1,1,1,1], padding='SAME')\n",
    "\n",
    "# ReLU\n",
    "Z3 = tf.nn.relu(C3+b3)\n",
    "\n",
    "# 1번째 max pooling을 통해 14*14*32 -> 7*7*64\n",
    "A3 = P3 = tf.nn.max_pool(Z3, ksize=[1,2,2,1], strides=[1,2,2,1], padding='SAME')"
   ]
  },
  {
   "cell_type": "code",
   "execution_count": 28,
   "metadata": {},
   "outputs": [],
   "source": [
    "# 3번째 컨볼루션 층\n",
    "# 3* 3 크기를 가지는 128개의 필터를 적용\n",
    "F4 = tf.Variable(tf.random_normal([3,3,64,128], stddev=0.01)) # 이게 필터\n",
    "b4 = tf.Variable(tf.constant(0.1, shape=[128]))\n",
    "\n",
    "# 1번째 컨볼루션 연산을 통해 7 * 7* 64 -> 7*7*128\n",
    "C4 = tf.nn.conv2d(A3, F4, strides=[1,1,1,1], padding='SAME')\n",
    "\n",
    "# ReLU\n",
    "Z4 = tf.nn.relu(C4+b4)\n",
    "\n",
    "# 1번째 max pooling을 통해 7*7*128 -> 4*4*128\n",
    "A4 = P4 = tf.nn.max_pool(Z4, ksize=[1,2,2,1], strides=[1,2,2,1], padding='SAME')"
   ]
  },
  {
   "cell_type": "code",
   "execution_count": 29,
   "metadata": {},
   "outputs": [],
   "source": [
    "# 완전 연결층\n",
    "# 4 * 4 크기를 가진 128개의 activation map을 flatten 시킴\n",
    "A4_flat = P4_flat = tf.reshape(A4, [-1, 128*4*4])\n",
    "# 2,048 개 (128*4*4) 노드를 가지도록 reshape 시켜줌,\n",
    "# 즉 완전 결정층 (2048개 노드)와 출력층 (10개노드)는 2048*10 개 노드가\n",
    "# 완전 연결되어있음."
   ]
  },
  {
   "cell_type": "code",
   "execution_count": 30,
   "metadata": {},
   "outputs": [],
   "source": [
    "# 출력층\n",
    "W5 = tf.Variable(tf.random_normal([128*4*4, 10], stddev=0.01))\n",
    "b5 = tf.Variable(tf.random_normal([10])) # MNiST는 원핫인코딩 10개임\n",
    "\n",
    "# 출력층 선형회귀 값 Z5, 즉 softmax에 들어가는 입력값\n",
    "Z5 = logits = tf.matmul(A4_flat, W5) + b5 # 선형회귀값 Z5\n",
    "\n",
    "y = A5 = tf.nn.softmax(Z5 )\n",
    "\n",
    "loss = tf.reduce_mean(tf.nn.softmax_cross_entropy_with_logits_v2(logits=Z5, labels= T))\n",
    "# 출력층 선형회귀 값(logits) Z5 와 정답 T를 이용하여\n",
    "# 손실함수 크로스 엔트로피(cross_entropy) 계산\n",
    "optimizer = tf.train.AdamOptimizer(learning_rate) \n",
    "# 성능개선을 위해 AdamOptimizer를 사용\n",
    "train = optimizer.minimize(loss)"
   ]
  },
  {
   "cell_type": "code",
   "execution_count": 31,
   "metadata": {},
   "outputs": [],
   "source": [
    "# batch_size X 10 데이터에 대해 argmax를 통해 행단위로 비교함\n",
    "predicted_val = tf.equal(tf.argmax(A5,1), tf.argmax(T,1))\n",
    "# 출력층의 계산 값 A5와 정답 T에 대해 , 행 단위로 값을 비교함\n",
    "\n",
    "\n",
    "# batch_size X 10 의 True, False 를 1또는 0으로 변환\n",
    "accuracy = tf.reduce_mean(tf.cast(predicted_val, dtype=tf.float32))\n",
    "\n",
    "saver = tf.train.Saver()"
   ]
  },
  {
   "cell_type": "code",
   "execution_count": null,
   "metadata": {},
   "outputs": [],
   "source": [
    "출력층 선형회귀 값(logits) Z5 와 정답 T를 이용하여 손실함수 loss 정의,\n",
    "여기서 한번에 입력되는 배치 사이즈가 100이므로 Z5 와 T shape는 (100*10)이며,\n",
    "tf.nn.softmax_cross_entropy_with_logits_v2(...) 에 의해\n",
    "100개의 데이터에 대해 각각의 소프트 맥스가 계산된 후에 정답과이 비교를 통해\n",
    "크로스 엔트로피 손실 함수 값이 계산되고, tf.reduce_mean(...)에 의해서 100개의\n",
    "손실함수 값의 평균이 계산됨"
   ]
  },
  {
   "cell_type": "code",
   "execution_count": null,
   "metadata": {},
   "outputs": [],
   "source": [
    "one-hot encoding에 의해서 출력 층 계산 값 A5와 정답\n",
    "T는 (bacth_size X 10) shape을 가지는 행렬임. 따라서\n",
    "argmax의 두번쨰 인자에 1을 주어 행 단위로 A5와 T를 비교함.\n",
    "위 예에서는 batch_size가 100이므로 ( 100*10 )\n",
    "행렬에 대해서 행 단위로 비교하고 있음"
   ]
  },
  {
   "cell_type": "code",
   "execution_count": null,
   "metadata": {},
   "outputs": [
    {
     "name": "stdout",
     "output_type": "stream",
     "text": [
      "epochs =  0 , step =  0 , loss_val =  2.631057\n",
      "epochs =  0 , step =  100 , loss_val =  2.2050521\n",
      "epochs =  0 , step =  200 , loss_val =  0.27028155\n",
      "epochs =  0 , step =  300 , loss_val =  0.17769174\n",
      "epochs =  0 , step =  400 , loss_val =  0.3965767\n",
      "epochs =  0 , step =  500 , loss_val =  0.2605692\n",
      "epochs =  1 , step =  0 , loss_val =  0.10127671\n",
      "epochs =  1 , step =  100 , loss_val =  0.1595788\n",
      "epochs =  1 , step =  200 , loss_val =  0.08790804\n",
      "epochs =  1 , step =  300 , loss_val =  0.11730233\n",
      "epochs =  1 , step =  400 , loss_val =  0.0628011\n",
      "epochs =  1 , step =  500 , loss_val =  0.07072595\n",
      "epochs =  2 , step =  0 , loss_val =  0.0450754\n",
      "epochs =  2 , step =  100 , loss_val =  0.11723035\n",
      "epochs =  2 , step =  200 , loss_val =  0.018835936\n",
      "epochs =  2 , step =  300 , loss_val =  0.06945107\n",
      "epochs =  2 , step =  400 , loss_val =  0.0991227\n",
      "epochs =  2 , step =  500 , loss_val =  0.059435006\n",
      "epochs =  3 , step =  0 , loss_val =  0.100868285\n",
      "epochs =  3 , step =  100 , loss_val =  0.14708854\n",
      "epochs =  3 , step =  200 , loss_val =  0.027533673\n",
      "epochs =  3 , step =  300 , loss_val =  0.07107118\n",
      "epochs =  3 , step =  400 , loss_val =  0.13237642\n",
      "epochs =  3 , step =  500 , loss_val =  0.020523755\n"
     ]
    }
   ],
   "source": [
    "with  tf.Session()  as sess:\n",
    "    \n",
    "    sess.run(tf.global_variables_initializer())  # 변수 노드(tf.Variable) 초기화\n",
    "    \n",
    "    start_time = datetime.now()\n",
    "    \n",
    "    for i in range(epochs):    # 30 번 반복수행\n",
    "        \n",
    "        total_batch = int(mnist.train.num_examples / batch_size)  # 55,000 / 100\n",
    "\n",
    "        for step in range(total_batch):\n",
    "            \n",
    "            batch_x_data, batch_t_data = mnist.train.next_batch(batch_size)\n",
    "      \n",
    "            loss_val, _ = sess.run([loss, train], feed_dict={X: batch_x_data, T: batch_t_data})    \n",
    "        \n",
    "            if step % 100 == 0:\n",
    "                print(\"epochs = \", i, \", step = \", step, \", loss_val = \", loss_val)\n",
    "                save_path = saver.save(sess, \"/tmp/mnist_model_set.ckpt\")\n",
    "    \n",
    "    end_time = datetime.now() \n",
    "    \n",
    "    print(\"\\nelapsed time = \", end_time - start_time) \n",
    "    \n",
    "    # Accuracy 확인\n",
    "    test_x_data = mnist.test.images    # 10000 X 784\n",
    "    test_t_data = mnist.test.labels    # 10000 X 10\n",
    "    \n",
    "    accuracy_val = sess.run(accuracy, feed_dict={X: test_x_data, T: test_t_data})\n",
    "    \n",
    "    print(\"\\nAccuracy = \", accuracy_val)\n",
    "    save_path = saver.save(sess, \"/tmp/mnist_model_final.ckpt\")"
   ]
  },
  {
   "cell_type": "code",
   "execution_count": null,
   "metadata": {},
   "outputs": [],
   "source": [
    "saver = tf.train.import_meta_graph(\"/tmp/mnist_model_final.ckpt.meta\")\n",
    "with  tf.Session()  as sess:\n",
    "    saver.restore(sess, \"/tmp/mnist_model_final.ckpt\")"
   ]
  }
 ],
 "metadata": {
  "kernelspec": {
   "display_name": "Python 3",
   "language": "python",
   "name": "python3"
  },
  "language_info": {
   "codemirror_mode": {
    "name": "ipython",
    "version": 3
   },
   "file_extension": ".py",
   "mimetype": "text/x-python",
   "name": "python",
   "nbconvert_exporter": "python",
   "pygments_lexer": "ipython3",
   "version": "3.7.6"
  }
 },
 "nbformat": 4,
 "nbformat_minor": 4
}
