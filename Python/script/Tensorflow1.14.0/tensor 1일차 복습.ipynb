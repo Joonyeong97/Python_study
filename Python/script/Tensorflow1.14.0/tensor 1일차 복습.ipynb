{
 "cells": [
  {
   "cell_type": "code",
   "execution_count": 2,
   "metadata": {},
   "outputs": [
    {
     "name": "stdout",
     "output_type": "stream",
     "text": [
      "1.14.0\n"
     ]
    }
   ],
   "source": [
    "import tensorflow as tf\n",
    "import numpy as np\n",
    "print(tf.__version__)"
   ]
  },
  {
   "cell_type": "markdown",
   "metadata": {},
   "source": [
    "tensorflow로 linear Regression\n",
    "x_data =\n",
    "y_data = \n",
    "두개 초기화\n"
   ]
  },
  {
   "cell_type": "code",
   "execution_count": 30,
   "metadata": {},
   "outputs": [],
   "source": [
    "load_data = np.loadtxt('C:/Users/82105/Desktop/bigdata analysis/neowizard/MachineLearning/data-01.csv',delimiter=',')\n",
    "x_data = load_data[:,0:-1]\n",
    "y_data = load_data[:,[-1]]"
   ]
  },
  {
   "cell_type": "code",
   "execution_count": 31,
   "metadata": {},
   "outputs": [],
   "source": [
    "W = tf.Variable(tf.random_normal([3,1]))\n",
    "b = tf.Variable(tf.random_normal([1]))\n",
    "X = tf.placeholder(tf.float32, [None,3])\n",
    "T = tf.placeholder(tf.float32, [None,1])"
   ]
  },
  {
   "cell_type": "code",
   "execution_count": 32,
   "metadata": {},
   "outputs": [],
   "source": [
    "y = tf.matmul(X,W)+b"
   ]
  },
  {
   "cell_type": "code",
   "execution_count": 33,
   "metadata": {},
   "outputs": [],
   "source": [
    "#loss = tf.reduce_mean(tf.square(y-T))\n",
    "loss = tf.reduce_mean(tf.square(y-T))"
   ]
  },
  {
   "cell_type": "code",
   "execution_count": 34,
   "metadata": {},
   "outputs": [],
   "source": [
    "optimizer = tf.train.GradientDescentOptimizer(0.05)\n",
    "train = optimizer.minimize(loss)"
   ]
  },
  {
   "cell_type": "code",
   "execution_count": 35,
   "metadata": {},
   "outputs": [
    {
     "name": "stdout",
     "output_type": "stream",
     "text": [
      "step =  0 , loss_Val =  155267.9\n",
      "step =  400 , loss_Val =  nan\n",
      "step =  800 , loss_Val =  nan\n",
      "step =  1200 , loss_Val =  nan\n",
      "step =  1600 , loss_Val =  nan\n",
      "step =  2000 , loss_Val =  nan\n",
      "step =  2400 , loss_Val =  nan\n",
      "step =  2800 , loss_Val =  nan\n",
      "step =  3200 , loss_Val =  nan\n",
      "step =  3600 , loss_Val =  nan\n",
      "step =  4000 , loss_Val =  nan\n",
      "step =  4400 , loss_Val =  nan\n",
      "step =  4800 , loss_Val =  nan\n",
      "step =  5200 , loss_Val =  nan\n",
      "step =  5600 , loss_Val =  nan\n",
      "step =  6000 , loss_Val =  nan\n",
      "step =  6400 , loss_Val =  nan\n",
      "step =  6800 , loss_Val =  nan\n",
      "step =  7200 , loss_Val =  nan\n",
      "step =  7600 , loss_Val =  nan\n",
      "step =  8000 , loss_Val =  nan\n",
      "\n",
      " Predict :  [[nan]]\n"
     ]
    }
   ],
   "source": [
    "with tf.Session() as sess:\n",
    "    sess.run(tf.global_variables_initializer())\n",
    "    for step in range(8001):\n",
    "        loss_val, y_val, _ = sess.run([loss,y,train], feed_dict={X:x_data,T:y_data})\n",
    "        \n",
    "        if step%400==0:\n",
    "            print('step = ',step,', loss_Val = ',loss_val)\n",
    "    print(\"\\n Predict : \", sess.run(y,feed_dict={X:[[100,98,81]]}))"
   ]
  },
  {
   "cell_type": "code",
   "execution_count": null,
   "metadata": {},
   "outputs": [],
   "source": []
  }
 ],
 "metadata": {
  "kernelspec": {
   "display_name": "Python 3",
   "language": "python",
   "name": "python3"
  },
  "language_info": {
   "codemirror_mode": {
    "name": "ipython",
    "version": 3
   },
   "file_extension": ".py",
   "mimetype": "text/x-python",
   "name": "python",
   "nbconvert_exporter": "python",
   "pygments_lexer": "ipython3",
   "version": "3.7.6"
  }
 },
 "nbformat": 4,
 "nbformat_minor": 4
}
