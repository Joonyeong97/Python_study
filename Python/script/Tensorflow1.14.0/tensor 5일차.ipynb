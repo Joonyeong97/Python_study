{
 "cells": [
  {
   "cell_type": "code",
   "execution_count": 1,
   "metadata": {},
   "outputs": [],
   "source": [
    "# tensor flow 5일차@"
   ]
  },
  {
   "cell_type": "code",
   "execution_count": 32,
   "metadata": {},
   "outputs": [
    {
     "name": "stdout",
     "output_type": "stream",
     "text": [
      "41\n"
     ]
    }
   ],
   "source": [
    "import tensorflow as tf\n",
    "import numpy as np\n",
    "from tensorflow.python.framework import ops\n",
    "ops.reset_default_graph()\n",
    "# encoding을 하기위해서\n",
    "# S,E,P... 순으로\n",
    "char_arr = [c for c in 'SEPabcdefghijklmnopqrstuvwxyz단어나무놀이소녀연습사랑'] \n",
    "# 0:S , 1:E, 2:P 순으로 번호매겨줌 enumerate\n",
    "num_dic = {n: i for i, n in enumerate(char_arr)}\n",
    "dic_len = len(num_dic) # \n",
    "print(dic_len)\n",
    "#seq2seq번역망\n",
    "seq_data = [['word', '단어'], ['wood', '나무'],\n",
    "           ['game', ' 놀이'], ['girl', '소녀'],\n",
    "           ['test','연습'], ['love','사랑']]\n",
    "\n",
    "def make_batch(seq_data):\n",
    "    input_batch = []\n",
    "    output_batch = []\n",
    "    target_batch = []\n",
    "    for seq in seq_data: # ['word', '단어'] #\n",
    "        input = [num_dic[n] for n in seq[0]] # word -> 번호순으로 25, 17 ..등등 char_arr에 들어있는 순번대로\n",
    "        # 첫번째 입력되는 데이터는 'word'이 학습된 smoking gun\n",
    "        output = [num_dic[n] for n in ('S'+seq[1])] # 훈련된 특징값이 나옴\n",
    "        target = [num_dic[n] for n in (seq[1]+'E')] # 끝을 확인하기 위해서\n",
    "        # identity matrix 단위행렬 -> 원핫 인코딩 용도로 사용\n",
    "        input_batch.append(np.eye(dic_len)[input]) # 4X41차원으로 생성 2차원배열로\n",
    "        output_batch.append(np.eye(dic_len)[output])\n",
    "        target_batch.append(target)\n",
    "    return input_batch, output_batch, target_batch\n",
    "\n",
    "learning_rate = 0.01\n",
    "n_hidden = 128\n",
    "total_epoch = 100\n",
    "n_class = n_input = dic_len\n",
    "# encoder, decoder 용 데이터 주입변수\n",
    "enc_input = tf.placeholder(tf.float32, [None, None, n_input])\n",
    "dec_input = tf.placeholder(tf.float32, [None, None, n_input])\n",
    "targets = tf.placeholder(tf.int64, [None,None])"
   ]
  },
  {
   "cell_type": "code",
   "execution_count": 33,
   "metadata": {
    "collapsed": true,
    "jupyter": {
     "outputs_hidden": true
    }
   },
   "outputs": [
    {
     "name": "stdout",
     "output_type": "stream",
     "text": [
      "WARNING:tensorflow:Entity <bound method BasicRNNCell.call of <tensorflow.python.ops.rnn_cell_impl.BasicRNNCell object at 0x000001867D647C08>> could not be transformed and will be executed as-is. Please report this to the AutgoGraph team. When filing the bug, set the verbosity to 10 (on Linux, `export AUTOGRAPH_VERBOSITY=10`) and attach the full output. Cause: converting <bound method BasicRNNCell.call of <tensorflow.python.ops.rnn_cell_impl.BasicRNNCell object at 0x000001867D647C08>>: AssertionError: Bad argument number for Name: 3, expecting 4\n",
      "WARNING: Entity <bound method BasicRNNCell.call of <tensorflow.python.ops.rnn_cell_impl.BasicRNNCell object at 0x000001867D647C08>> could not be transformed and will be executed as-is. Please report this to the AutgoGraph team. When filing the bug, set the verbosity to 10 (on Linux, `export AUTOGRAPH_VERBOSITY=10`) and attach the full output. Cause: converting <bound method BasicRNNCell.call of <tensorflow.python.ops.rnn_cell_impl.BasicRNNCell object at 0x000001867D647C08>>: AssertionError: Bad argument number for Name: 3, expecting 4\n",
      "WARNING:tensorflow:Entity <bound method BasicRNNCell.call of <tensorflow.python.ops.rnn_cell_impl.BasicRNNCell object at 0x000001867DE76708>> could not be transformed and will be executed as-is. Please report this to the AutgoGraph team. When filing the bug, set the verbosity to 10 (on Linux, `export AUTOGRAPH_VERBOSITY=10`) and attach the full output. Cause: converting <bound method BasicRNNCell.call of <tensorflow.python.ops.rnn_cell_impl.BasicRNNCell object at 0x000001867DE76708>>: AssertionError: Bad argument number for Name: 3, expecting 4\n",
      "WARNING: Entity <bound method BasicRNNCell.call of <tensorflow.python.ops.rnn_cell_impl.BasicRNNCell object at 0x000001867DE76708>> could not be transformed and will be executed as-is. Please report this to the AutgoGraph team. When filing the bug, set the verbosity to 10 (on Linux, `export AUTOGRAPH_VERBOSITY=10`) and attach the full output. Cause: converting <bound method BasicRNNCell.call of <tensorflow.python.ops.rnn_cell_impl.BasicRNNCell object at 0x000001867DE76708>>: AssertionError: Bad argument number for Name: 3, expecting 4\n"
     ]
    }
   ],
   "source": [
    "with tf.variable_scope('encode'):\n",
    "    # FFNN 한개 입력 -> 가중치 -> 출력 (n_hidden)\n",
    "    enc_cell = tf.nn.rnn_cell.BasicRNNCell(n_hidden) # 입력  41 x 128 이 가중치\n",
    "    # 과적합을 방지하기 위해 계산회로 생략 - random 하게 생략\n",
    "    enc_cell = tf.nn.rnn_cell.DropoutWrapper(enc_cell, output_keep_prob=0.5, seed=100)\n",
    "    outputs, enc_states = tf.nn.dynamic_rnn(enc_cell, enc_input, dtype=tf.float32)\n",
    "with tf.variable_scope('decode'):\n",
    "    dec_cell = tf.nn.rnn_cell.BasicRNNCell(n_hidden)\n",
    "    dec_cell = tf.nn.rnn_cell.DropoutWrapper(dec_cell,output_keep_prob=0.5)\n",
    "    # 2 x 42\n",
    "    outputs, dec_states = tf.nn.dynamic_rnn(dec_cell, dec_input, initial_state=enc_states, dtype=tf.float32)\n",
    "    # initial_state은 앞의 인코더 망에서 출력된 states값 : 마지막 cell의 출력값\n",
    "    # 앞의 데이터를 다 고려한 특징\n",
    "    # 두개의 망을 연결!"
   ]
  },
  {
   "cell_type": "code",
   "execution_count": 34,
   "metadata": {
    "collapsed": true,
    "jupyter": {
     "outputs_hidden": true
    }
   },
   "outputs": [
    {
     "name": "stdout",
     "output_type": "stream",
     "text": [
      "WARNING:tensorflow:Entity <bound method Dense.call of <tensorflow.python.layers.core.Dense object at 0x000001867DF73A88>> could not be transformed and will be executed as-is. Please report this to the AutgoGraph team. When filing the bug, set the verbosity to 10 (on Linux, `export AUTOGRAPH_VERBOSITY=10`) and attach the full output. Cause: converting <bound method Dense.call of <tensorflow.python.layers.core.Dense object at 0x000001867DF73A88>>: AssertionError: Bad argument number for Name: 3, expecting 4\n",
      "WARNING: Entity <bound method Dense.call of <tensorflow.python.layers.core.Dense object at 0x000001867DF73A88>> could not be transformed and will be executed as-is. Please report this to the AutgoGraph team. When filing the bug, set the verbosity to 10 (on Linux, `export AUTOGRAPH_VERBOSITY=10`) and attach the full output. Cause: converting <bound method Dense.call of <tensorflow.python.layers.core.Dense object at 0x000001867DF73A88>>: AssertionError: Bad argument number for Name: 3, expecting 4\n"
     ]
    }
   ],
   "source": [
    "# 6 x 2 x 128 로 나오고있음\n",
    "#  41개\n",
    "model = tf.layers.dense(outputs, n_class, activation=None)\n",
    "cost = tf.reduce_mean(tf.nn.sparse_softmax_cross_entropy_with_logits(logits=model, labels=targets))\n",
    "optimizer = tf.train.AdamOptimizer(learning_rate).minimize(cost)\n",
    "sess = tf.Session()\n",
    "sess.run(tf.global_variables_initializer())"
   ]
  },
  {
   "cell_type": "code",
   "execution_count": 38,
   "metadata": {},
   "outputs": [
    {
     "name": "stdout",
     "output_type": "stream",
     "text": [
      "41\n",
      "WARNING:tensorflow:Entity <bound method BasicRNNCell.call of <tensorflow.python.ops.rnn_cell_impl.BasicRNNCell object at 0x000001867D64DE08>> could not be transformed and will be executed as-is. Please report this to the AutgoGraph team. When filing the bug, set the verbosity to 10 (on Linux, `export AUTOGRAPH_VERBOSITY=10`) and attach the full output. Cause: converting <bound method BasicRNNCell.call of <tensorflow.python.ops.rnn_cell_impl.BasicRNNCell object at 0x000001867D64DE08>>: AssertionError: Bad argument number for Name: 3, expecting 4\n",
      "WARNING: Entity <bound method BasicRNNCell.call of <tensorflow.python.ops.rnn_cell_impl.BasicRNNCell object at 0x000001867D64DE08>> could not be transformed and will be executed as-is. Please report this to the AutgoGraph team. When filing the bug, set the verbosity to 10 (on Linux, `export AUTOGRAPH_VERBOSITY=10`) and attach the full output. Cause: converting <bound method BasicRNNCell.call of <tensorflow.python.ops.rnn_cell_impl.BasicRNNCell object at 0x000001867D64DE08>>: AssertionError: Bad argument number for Name: 3, expecting 4\n",
      "WARNING:tensorflow:Entity <bound method BasicRNNCell.call of <tensorflow.python.ops.rnn_cell_impl.BasicRNNCell object at 0x000001867D64DF88>> could not be transformed and will be executed as-is. Please report this to the AutgoGraph team. When filing the bug, set the verbosity to 10 (on Linux, `export AUTOGRAPH_VERBOSITY=10`) and attach the full output. Cause: converting <bound method BasicRNNCell.call of <tensorflow.python.ops.rnn_cell_impl.BasicRNNCell object at 0x000001867D64DF88>>: AssertionError: Bad argument number for Name: 3, expecting 4\n",
      "WARNING: Entity <bound method BasicRNNCell.call of <tensorflow.python.ops.rnn_cell_impl.BasicRNNCell object at 0x000001867D64DF88>> could not be transformed and will be executed as-is. Please report this to the AutgoGraph team. When filing the bug, set the verbosity to 10 (on Linux, `export AUTOGRAPH_VERBOSITY=10`) and attach the full output. Cause: converting <bound method BasicRNNCell.call of <tensorflow.python.ops.rnn_cell_impl.BasicRNNCell object at 0x000001867D64DF88>>: AssertionError: Bad argument number for Name: 3, expecting 4\n",
      "WARNING:tensorflow:Entity <bound method Dense.call of <tensorflow.python.layers.core.Dense object at 0x000001867E196248>> could not be transformed and will be executed as-is. Please report this to the AutgoGraph team. When filing the bug, set the verbosity to 10 (on Linux, `export AUTOGRAPH_VERBOSITY=10`) and attach the full output. Cause: converting <bound method Dense.call of <tensorflow.python.layers.core.Dense object at 0x000001867E196248>>: AssertionError: Bad argument number for Name: 3, expecting 4\n",
      "WARNING: Entity <bound method Dense.call of <tensorflow.python.layers.core.Dense object at 0x000001867E196248>> could not be transformed and will be executed as-is. Please report this to the AutgoGraph team. When filing the bug, set the verbosity to 10 (on Linux, `export AUTOGRAPH_VERBOSITY=10`) and attach the full output. Cause: converting <bound method Dense.call of <tensorflow.python.layers.core.Dense object at 0x000001867E196248>>: AssertionError: Bad argument number for Name: 3, expecting 4\n"
     ]
    }
   ],
   "source": [
    "import tensorflow as tf\n",
    "import numpy as np\n",
    "from tensorflow.python.framework import ops\n",
    "ops.reset_default_graph()\n",
    "char_arr = [c for c in 'SEPabcdefghijklmnopqrstuvwxyz단어나무놀이소녀연습사랑'] \n",
    "# 범주형 데이터로 만들어줌\n",
    "num_dic = {n: i for i, n in enumerate(char_arr)}\n",
    "dic_len= len(num_dic)\n",
    "print(dic_len) # 41개\n",
    "# seq2seq 번역망\n",
    "seq_data = [['word', '단어'], ['wood', '나무'], ['game', '놀이'], ['girl', '소녀'],\n",
    "           ['test', '연습'], ['love', '사랑']]\n",
    "def make_batch(seq_data):\n",
    "    input_batch = []\n",
    "    output_batch = []\n",
    "    target_batch = []\n",
    "    for seq in seq_data:\n",
    "        input = [num_dic[n] for n in seq[0]] # 첫번째 입력되는 데이터는 'word'이 학습된 smoking gun\n",
    "        output = [num_dic[n] for n in ('S' + seq[1])]\n",
    "        target = [num_dic[n] for n in (seq[1] + 'E')] # 끝을 확인하기 위해서\n",
    "        input_batch.append(np.eye(dic_len)[input]) #4X41\n",
    "        output_batch.append(np.eye(dic_len)[output]) # 2X41\n",
    "        target_batch.append(target)\n",
    "    return input_batch, output_batch, target_batch\n",
    "\n",
    "learning_rate = 0.01\n",
    "n_hidden = 128\n",
    "total_epoch = 100\n",
    "n_class = n_input = dic_len\n",
    "\n",
    "# encoder, decoder용 데이터 주입 변수\n",
    "enc_input = tf.placeholder(tf.float32, [None, None, n_input])\n",
    "dec_input = tf.placeholder(tf.float32, [None, None, n_input])\n",
    "targets = tf.placeholder(tf.int64, [None, None])\n",
    "\n",
    "with tf.variable_scope('encode'):\n",
    "    # FFNN  한개 입력 -> 가중치 -> 출력 (n_hidden)\n",
    "    enc_cell = tf.nn.rnn_cell.BasicRNNCell(n_hidden) # 41X128\n",
    "    # 과적합 방지하기 위해 계산회로 생략 - random하게 생략\n",
    "    enc_cell = tf.nn.rnn_cell.DropoutWrapper(enc_cell, output_keep_prob=0.5, seed=100) # 셀 4개, 셀당 41개 데이터\n",
    "    outputs, enc_states = tf.nn.dynamic_rnn(enc_cell, enc_input, dtype=tf.float32)\n",
    "    \n",
    "with tf.variable_scope('decode'):\n",
    "    dec_cell = tf.nn.rnn_cell.BasicRNNCell(n_hidden)\n",
    "    dec_cell = tf.nn.rnn_cell.DropoutWrapper(dec_cell, output_keep_prob=0.5)\n",
    "    outputs, dec_states = tf.nn.dynamic_rnn(dec_cell, dec_input, initial_state=enc_states, dtype=tf.float32) # 2X41\n",
    "    # initial_state = enc_states 두 개의 망을 연결\n",
    "    # 앞의 인코더망에서 출력된 states값 : 마지막 cell의 출력\n",
    "    # 앞의 데이터를 다 고려한 특징\n",
    "# outputs 6 X 3 X 128\n",
    "# nclass 41\n",
    "model = tf.layers.dense(outputs, n_class, activation=None) # \n",
    "cost = tf.reduce_mean(tf.nn.sparse_softmax_cross_entropy_with_logits(\n",
    "    logits=model, labels=targets))\n",
    "optimizer = tf.train.AdamOptimizer(learning_rate).minimize(cost)\n",
    "sess = tf.Session()\n",
    "sess.run(tf.global_variables_initializer())"
   ]
  },
  {
   "cell_type": "code",
   "execution_count": null,
   "metadata": {},
   "outputs": [],
   "source": []
  },
  {
   "cell_type": "code",
   "execution_count": 39,
   "metadata": {},
   "outputs": [
    {
     "name": "stdout",
     "output_type": "stream",
     "text": [
      "Epoch: 0001 cost =  3.716554\n",
      "Epoch: 0002 cost =  2.643712\n",
      "Epoch: 0003 cost =  1.637584\n",
      "Epoch: 0004 cost =  0.969343\n",
      "Epoch: 0005 cost =  0.812048\n",
      "Epoch: 0006 cost =  0.409807\n",
      "Epoch: 0007 cost =  0.325812\n",
      "Epoch: 0008 cost =  0.327433\n",
      "Epoch: 0009 cost =  0.309425\n",
      "Epoch: 0010 cost =  0.235525\n",
      "Epoch: 0011 cost =  0.207553\n",
      "Epoch: 0012 cost =  0.185693\n",
      "Epoch: 0013 cost =  0.210563\n",
      "Epoch: 0014 cost =  0.118978\n",
      "Epoch: 0015 cost =  0.150119\n",
      "Epoch: 0016 cost =  0.130938\n",
      "Epoch: 0017 cost =  0.113834\n",
      "Epoch: 0018 cost =  0.202711\n",
      "Epoch: 0019 cost =  0.122610\n",
      "Epoch: 0020 cost =  0.114828\n",
      "Epoch: 0021 cost =  0.024567\n",
      "Epoch: 0022 cost =  0.039424\n",
      "Epoch: 0023 cost =  0.077874\n",
      "Epoch: 0024 cost =  0.019230\n",
      "Epoch: 0025 cost =  0.005337\n",
      "Epoch: 0026 cost =  0.021675\n",
      "Epoch: 0027 cost =  0.012866\n",
      "Epoch: 0028 cost =  0.012532\n",
      "Epoch: 0029 cost =  0.009704\n",
      "Epoch: 0030 cost =  0.006471\n",
      "Epoch: 0031 cost =  0.013644\n",
      "Epoch: 0032 cost =  0.009083\n",
      "Epoch: 0033 cost =  0.009828\n",
      "Epoch: 0034 cost =  0.004926\n",
      "Epoch: 0035 cost =  0.001285\n",
      "Epoch: 0036 cost =  0.001596\n",
      "Epoch: 0037 cost =  0.007989\n",
      "Epoch: 0038 cost =  0.001380\n",
      "Epoch: 0039 cost =  0.002075\n",
      "Epoch: 0040 cost =  0.006390\n",
      "Epoch: 0041 cost =  0.004951\n",
      "Epoch: 0042 cost =  0.002397\n",
      "Epoch: 0043 cost =  0.001455\n",
      "Epoch: 0044 cost =  0.001090\n",
      "Epoch: 0045 cost =  0.001195\n",
      "Epoch: 0046 cost =  0.007857\n",
      "Epoch: 0047 cost =  0.001628\n",
      "Epoch: 0048 cost =  0.000519\n",
      "Epoch: 0049 cost =  0.000730\n",
      "Epoch: 0050 cost =  0.000528\n",
      "Epoch: 0051 cost =  0.001073\n",
      "Epoch: 0052 cost =  0.001032\n",
      "Epoch: 0053 cost =  0.001008\n",
      "Epoch: 0054 cost =  0.001800\n",
      "Epoch: 0055 cost =  0.000483\n",
      "Epoch: 0056 cost =  0.000954\n",
      "Epoch: 0057 cost =  0.008026\n",
      "Epoch: 0058 cost =  0.000879\n",
      "Epoch: 0059 cost =  0.002108\n",
      "Epoch: 0060 cost =  0.000598\n",
      "Epoch: 0061 cost =  0.000437\n",
      "Epoch: 0062 cost =  0.001137\n",
      "Epoch: 0063 cost =  0.000685\n",
      "Epoch: 0064 cost =  0.000661\n",
      "Epoch: 0065 cost =  0.000543\n",
      "Epoch: 0066 cost =  0.000745\n",
      "Epoch: 0067 cost =  0.000410\n",
      "Epoch: 0068 cost =  0.001856\n",
      "Epoch: 0069 cost =  0.004429\n",
      "Epoch: 0070 cost =  0.001442\n",
      "Epoch: 0071 cost =  0.002247\n",
      "Epoch: 0072 cost =  0.000871\n",
      "Epoch: 0073 cost =  0.001004\n",
      "Epoch: 0074 cost =  0.001089\n",
      "Epoch: 0075 cost =  0.000824\n",
      "Epoch: 0076 cost =  0.001065\n",
      "Epoch: 0077 cost =  0.001023\n",
      "Epoch: 0078 cost =  0.000341\n",
      "Epoch: 0079 cost =  0.000417\n",
      "Epoch: 0080 cost =  0.000349\n",
      "Epoch: 0081 cost =  0.001004\n",
      "Epoch: 0082 cost =  0.000692\n",
      "Epoch: 0083 cost =  0.000424\n",
      "Epoch: 0084 cost =  0.000239\n",
      "Epoch: 0085 cost =  0.000180\n",
      "Epoch: 0086 cost =  0.000473\n",
      "Epoch: 0087 cost =  0.000467\n",
      "Epoch: 0088 cost =  0.000262\n",
      "Epoch: 0089 cost =  0.000625\n",
      "Epoch: 0090 cost =  0.000644\n",
      "Epoch: 0091 cost =  0.000443\n",
      "Epoch: 0092 cost =  0.001019\n",
      "Epoch: 0093 cost =  0.000373\n",
      "Epoch: 0094 cost =  0.000293\n",
      "Epoch: 0095 cost =  0.000646\n",
      "Epoch: 0096 cost =  0.000945\n",
      "Epoch: 0097 cost =  0.000682\n",
      "Epoch: 0098 cost =  0.000706\n",
      "Epoch: 0099 cost =  0.001955\n",
      "Epoch: 0100 cost =  0.000427\n"
     ]
    }
   ],
   "source": [
    "input_batch, output_batch, target_batch = make_batch(seq_data)\n",
    "for epoch in range(total_epoch):\n",
    "    _, loss = sess.run([optimizer, cost],\n",
    "                      feed_dict={enc_input:input_batch,\n",
    "                                dec_input:output_batch,\n",
    "                                targets:target_batch})\n",
    "    print('Epoch:', '%04d'%(epoch+1),'cost = ', '{:.6f}'.format(loss))"
   ]
  },
  {
   "cell_type": "code",
   "execution_count": 40,
   "metadata": {},
   "outputs": [
    {
     "name": "stdout",
     "output_type": "stream",
     "text": [
      "word ->  단어\n"
     ]
    }
   ],
   "source": [
    "def translate(word):\n",
    "    # 모델의 자리수는 일치해야하기때문에\n",
    "    seq_data = [word, 'P' * len(word)] # PPPP\n",
    "    # 1 x 4 x 41\n",
    "    # 1 x 4 x 41\n",
    "    input_batch, output_batch, target_batch = make_batch([seq_data])\n",
    "    prediction = tf.argmax(model,2) # 면, 행, 열중에 2번째인 열을 중심해라\n",
    "    # 6x3x41 중 41의 max값\n",
    "    result = sess.run(prediction, feed_dict={enc_input:input_batch,\n",
    "                                            dec_input:output_batch,\n",
    "                                            targets:target_batch})\n",
    "    decoded = [char_arr[i] for i in result[0]] # 5 x 41\n",
    "    end = decoded.index('E')\n",
    "    translated = ''.join(decoded[:end])\n",
    "    \n",
    "    return translated\n",
    "print('word -> ', translate('word'))"
   ]
  },
  {
   "cell_type": "code",
   "execution_count": 41,
   "metadata": {},
   "outputs": [
    {
     "name": "stdout",
     "output_type": "stream",
     "text": [
      "word ->  단어\n"
     ]
    }
   ],
   "source": [
    "def translate(word):\n",
    "    seq_data = [word, \"P\" * len(word)]\n",
    "    \n",
    "    input_batch, output_batch, target_batch = make_batch([seq_data])\n",
    "    prediction = tf.argmax(model, 2)\n",
    "    \n",
    "    result = sess.run(prediction, feed_dict={enc_input: input_batch,\n",
    "                                             dec_input: output_batch,\n",
    "                                             targets: target_batch})\n",
    "    decoded = [char_arr[i] for i in result[0]]\n",
    "    \n",
    "    try:\n",
    "        end = decoded.index(\"E\")\n",
    "        translated = \"\".join(decoded[:end])\n",
    "        return translated\n",
    "        \n",
    "    except Exception as ex:\n",
    "        pass\n",
    "print('word -> ', translate('word'))"
   ]
  },
  {
   "cell_type": "code",
   "execution_count": null,
   "metadata": {},
   "outputs": [],
   "source": [
    "# 카카오 API "
   ]
  },
  {
   "cell_type": "code",
   "execution_count": 113,
   "metadata": {},
   "outputs": [],
   "source": [
    "import json\n",
    "import cv2 # computer cvison\n",
    "import requests\n",
    "import sys\n",
    "LIMIT_PX = 1024\n",
    "LIMIT_BYTE = 1024*1024\n",
    "LIMIT_BOX = 40\n",
    "# pip install opencv-python\n",
    "\n",
    "# OCR.절차\n",
    "# 이미지 사이즈 조정\n",
    "# 글씨를 둘러싼 Box 를 detection"
   ]
  },
  {
   "cell_type": "code",
   "execution_count": 114,
   "metadata": {},
   "outputs": [],
   "source": [
    "def kakao_ocr_resize(image_path:str):\n",
    "    image = cv2.imread('2.jpg')\n",
    "    height, width, _ = image.shape\n",
    "    if LIMIT_PX < height or LIMIT_PX < width:\n",
    "        ratio = float(LIMIT_PX) / max(height, width)\n",
    "        image = cv2.resize(image, None, fx=ratio, fy=ratio)\n",
    "        height, width, _ = height, width, _ = image.shape\n",
    "        image_path = \"{}_resized.jpg\".format('2')\n",
    "        cv2.imwrite(image_path, image)\n",
    "        return image_path\n",
    "    return None"
   ]
  },
  {
   "cell_type": "code",
   "execution_count": 115,
   "metadata": {},
   "outputs": [],
   "source": [
    "# 사용법\n",
    "# openapi 란 함수를 원격호출 (remote call)\n",
    "def kakao_ocr_detect(image_path: str, appkey: str):\n",
    "    API_URL = 'http://kapi.kakao.com/v1/vision/text/detect'\n",
    "    headers = {'Authorization':'KakaoAK {}'.format('0fb10dd3ce3fca2a83151ab0ca2ec021')}\n",
    "    image = cv2.imread('2.jpg')\n",
    "    # naver -> jpg형식만 \n",
    "    jpeg_image = cv2.imencode(\".jpg\", image)[1]\n",
    "    data = jpeg_image.tobytes()\n",
    "    # 네트워크일 때 -> 데이터가 시리얼로 가야함 (네트워크 모뎀)\n",
    "    # 8개 line으로 구성 -> 현재는 4개의 회선만 사용->1개는전송,1개는수신\n",
    "    # 네트워크를 통해 함수 호출 (시간) : 비동기방식\n",
    "    # 네트워크를 통해서 원격호출\n",
    "    # 동기 방식, 비동기방식(다른작업중 - event)\n",
    "    # 대표적인 비동기 통신방식으로 AJAX\n",
    "    # flask에서 사용\n",
    "    # 인터넷에서 표준 데이터 포멧 : json\n",
    "    return requests.post(API_URL, headers=headers, files={\"file\":data})"
   ]
  },
  {
   "cell_type": "code",
   "execution_count": 116,
   "metadata": {},
   "outputs": [],
   "source": [
    "def kakao_ocr_recognize(image_path: str, boxes: list, appkey: str):\n",
    "    API_URL = 'https://kapi.kakao.com/v1/vision/text/recognize'\n",
    "    headers = {'Authorization': 'KakaoAK {}'.format('0fb10dd3ce3fca2a83151ab0ca2ec021')}\n",
    "    image = cv2.imread('2.jpg')\n",
    "    jpeg_image = cv2.imencode('.jpg', image)[1]\n",
    "    data = jpeg_image.tobytes()\n",
    "    # OCR, 인식은 BOX로 택스트 구역을 확인하고\n",
    "    # recognize 인식한다.\n",
    "    return requests.post(API_URL, headers=headers,\n",
    "                        files={\"file\": data}, data={\"boxes\": json.dumps(boxes)})"
   ]
  },
  {
   "cell_type": "code",
   "execution_count": 118,
   "metadata": {},
   "outputs": [
    {
     "ename": "TypeError",
     "evalue": "'int' object is not subscriptable",
     "output_type": "error",
     "traceback": [
      "\u001b[1;31m---------------------------------------------------------------------------\u001b[0m",
      "\u001b[1;31mTypeError\u001b[0m                                 Traceback (most recent call last)",
      "\u001b[1;32m<ipython-input-118-6734dea1c8d9>\u001b[0m in \u001b[0;36m<module>\u001b[1;34m\u001b[0m\n\u001b[0;32m      7\u001b[0m     \u001b[0moutput\u001b[0m \u001b[1;33m=\u001b[0m \u001b[0mkakao_ocr_recognize\u001b[0m\u001b[1;33m(\u001b[0m\u001b[0mimage_path\u001b[0m\u001b[1;33m,\u001b[0m\u001b[0mboxes\u001b[0m\u001b[1;33m,\u001b[0m \u001b[0mappkey\u001b[0m\u001b[1;33m)\u001b[0m\u001b[1;33m.\u001b[0m\u001b[0mjson\u001b[0m\u001b[1;33m(\u001b[0m\u001b[1;33m)\u001b[0m\u001b[1;33m\u001b[0m\u001b[1;33m\u001b[0m\u001b[0m\n\u001b[0;32m      8\u001b[0m     \u001b[1;32mreturn\u001b[0m \u001b[0moutput\u001b[0m\u001b[1;33m\u001b[0m\u001b[1;33m\u001b[0m\u001b[0m\n\u001b[1;32m----> 9\u001b[1;33m \u001b[0moutput\u001b[0m \u001b[1;33m=\u001b[0m \u001b[0mmain\u001b[0m\u001b[1;33m(\u001b[0m\u001b[1;33m)\u001b[0m\u001b[1;33m\u001b[0m\u001b[1;33m\u001b[0m\u001b[0m\n\u001b[0m\u001b[0;32m     10\u001b[0m \u001b[0moutput\u001b[0m\u001b[1;33m[\u001b[0m\u001b[1;34m'result'\u001b[0m\u001b[1;33m]\u001b[0m\u001b[1;33m\u001b[0m\u001b[1;33m\u001b[0m\u001b[0m\n",
      "\u001b[1;32m<ipython-input-118-6734dea1c8d9>\u001b[0m in \u001b[0;36mmain\u001b[1;34m()\u001b[0m\n\u001b[0;32m      3\u001b[0m     \u001b[0mresize_impath\u001b[0m \u001b[1;33m=\u001b[0m \u001b[0mkakao_ocr_resize\u001b[0m\u001b[1;33m(\u001b[0m\u001b[0mimage_path\u001b[0m\u001b[1;33m)\u001b[0m\u001b[1;33m\u001b[0m\u001b[1;33m\u001b[0m\u001b[0m\n\u001b[0;32m      4\u001b[0m     \u001b[0moutput\u001b[0m \u001b[1;33m=\u001b[0m \u001b[0mkakao_ocr_detect\u001b[0m\u001b[1;33m(\u001b[0m\u001b[0mimage_path\u001b[0m\u001b[1;33m,\u001b[0m \u001b[0mappkey\u001b[0m\u001b[1;33m)\u001b[0m\u001b[1;33m.\u001b[0m\u001b[0mjson\u001b[0m\u001b[1;33m(\u001b[0m\u001b[1;33m)\u001b[0m\u001b[1;33m\u001b[0m\u001b[1;33m\u001b[0m\u001b[0m\n\u001b[1;32m----> 5\u001b[1;33m     \u001b[0mboxes\u001b[0m \u001b[1;33m=\u001b[0m \u001b[0moutput\u001b[0m\u001b[1;33m[\u001b[0m\u001b[1;34m'result'\u001b[0m\u001b[1;33m]\u001b[0m\u001b[1;33m[\u001b[0m\u001b[1;34m'boxes'\u001b[0m\u001b[1;33m]\u001b[0m\u001b[1;33m\u001b[0m\u001b[1;33m\u001b[0m\u001b[0m\n\u001b[0m\u001b[0;32m      6\u001b[0m     \u001b[0mboxes\u001b[0m \u001b[1;33m=\u001b[0m \u001b[0mboxes\u001b[0m\u001b[1;33m[\u001b[0m\u001b[1;33m:\u001b[0m\u001b[0mmin\u001b[0m\u001b[1;33m(\u001b[0m\u001b[0mlen\u001b[0m\u001b[1;33m(\u001b[0m\u001b[0mboxes\u001b[0m\u001b[1;33m)\u001b[0m\u001b[1;33m,\u001b[0m \u001b[0mLIMIT_BOX\u001b[0m\u001b[1;33m)\u001b[0m\u001b[1;33m]\u001b[0m\u001b[1;33m\u001b[0m\u001b[1;33m\u001b[0m\u001b[0m\n\u001b[0;32m      7\u001b[0m     \u001b[0moutput\u001b[0m \u001b[1;33m=\u001b[0m \u001b[0mkakao_ocr_recognize\u001b[0m\u001b[1;33m(\u001b[0m\u001b[0mimage_path\u001b[0m\u001b[1;33m,\u001b[0m\u001b[0mboxes\u001b[0m\u001b[1;33m,\u001b[0m \u001b[0mappkey\u001b[0m\u001b[1;33m)\u001b[0m\u001b[1;33m.\u001b[0m\u001b[0mjson\u001b[0m\u001b[1;33m(\u001b[0m\u001b[1;33m)\u001b[0m\u001b[1;33m\u001b[0m\u001b[1;33m\u001b[0m\u001b[0m\n",
      "\u001b[1;31mTypeError\u001b[0m: 'int' object is not subscriptable"
     ]
    }
   ],
   "source": [
    "def main():\n",
    "    image_path, appkey = sys.argv[1], sys.argv[2]\n",
    "    resize_impath = kakao_ocr_resize(image_path)\n",
    "    output = kakao_ocr_detect(image_path, appkey).json()\n",
    "    boxes = output['result']['boxes']\n",
    "    boxes = boxes[:min(len(boxes), LIMIT_BOX)]\n",
    "    output = kakao_ocr_recognize(image_path,boxes, appkey).json()\n",
    "    return output\n",
    "output = main()\n",
    "output['result']"
   ]
  },
  {
   "cell_type": "code",
   "execution_count": 110,
   "metadata": {},
   "outputs": [
    {
     "name": "stdout",
     "output_type": "stream",
     "text": [
      "(400, 295)\n"
     ]
    }
   ],
   "source": [
    "%matplotlib inline\n",
    "import cv2\n",
    "from matplotlib import pyplot as plt\n",
    "img = cv2.imread('2.jpg',0)\n",
    "print(img.shape)\n"
   ]
  },
  {
   "cell_type": "code",
   "execution_count": 111,
   "metadata": {},
   "outputs": [
    {
     "data": {
      "text/plain": [
       "{'recognition_words': ['임수증 (고객용)',\n",
       "  '매장명 : 마한네일산',\n",
       "  '사업자번호: 123-45-67891',\n",
       "  '대표자명 : 전지현',\n",
       "  '전화번호: O2-1544-4639',\n",
       "  '주소ø경기 안양시 동안구 시민대로 401,1106호',\n",
       "  '판매일시: 2017-11-24오후 2.38.m',\n",
       "  '1.찔제거(실장님',\n",
       "  '10.mmT',\n",
       "  '2. 레케어(실장님)',\n",
       "  '10.m',\n",
       "  '3, 젤갈라(실장님)',\n",
       "  '50.00m',\n",
       "  '[할인] 20%',\n",
       "  '- 10,000',\n",
       "  '합계',\n",
       "  '7o.00m',\n",
       "  '향미',\n",
       "  '-10.00m',\n",
       "  '선출사용',\n",
       "  '-60.0m',\n",
       "  '소계',\n",
       "  '!',\n",
       "  '부가세',\n",
       "  '[',\n",
       "  '힙합계',\n",
       "  'ø',\n",
       "  '[박현선]님의',\n",
       "  '정보',\n",
       "  '잡여포인트',\n",
       "  '선물잔액',\n",
       "  '90.0m',\n",
       "  '선물만료의',\n",
       "  '2018-11-24']}"
      ]
     },
     "execution_count": 111,
     "metadata": {},
     "output_type": "execute_result"
    }
   ],
   "source": [
    "# pip install opencv-python\n",
    "import json\n",
    "import cv2 # computer vision tool (이미지, 동영상 처리)\n",
    "import requests # html 페이지 요청\n",
    "import sys\n",
    "LIMIT_PX = 1024\n",
    "LIMIT_BYTE = 1028*1024\n",
    "LIMIT_BOX = 40\n",
    "# OCR 절차\n",
    "# 이미지 사이즈 조정\n",
    "# 글씨를 둘러싼 Box를 detection\n",
    "\n",
    "def kakao_ocr_resize(image_path: str):\n",
    "    image = cv2.imread('2.jpg')\n",
    "    height, width, _ = image.shape\n",
    "    if LIMIT_PX < height or LIMIT_PX < width:\n",
    "        ratio = float(LIMIT_PX) / max(heigth, width)\n",
    "        image = cv2.resize(image, None, fx=ratio, fy=ratio)\n",
    "        height, width, _ = height, width, _ = image.shape\n",
    "        image_path = \"{}_resize.jpg\".format('2')\n",
    "        cv2.imwrite(image_path, image)\n",
    "        return image_path\n",
    "    return None\n",
    "\n",
    "# 사용법\n",
    "# open api 함수를 원격호출 (remote call)\n",
    "def kakao_ocr_detect(image_path: str, appkey: str):\n",
    "    API_URL ='https://kapi.kakao.com/v1/vision/text/detect'\n",
    "    headers = {'Authorization': 'KakaoAK {}'.format('0fb10dd3ce3fca2a83151ab0ca2ec021')}\n",
    "    image = cv2.imread('2.jpg') # 이미지 로드\n",
    "    # naver는 jpg만, gif 애니메이션 지원, png 투명도 지원\n",
    "    jpeg_image = cv2.imencode('.jpg', image)[1]\n",
    "    data = jpeg_image.tobytes() # 네크워크 전송 -> serialization\n",
    "    # 네트워크일 때 => 데이터가 시리얼로 가야 함 (모뎀)\n",
    "    # 8개 라인으로 구성, 4개 회선만 사용 (1개 전송, 1개 수신)\n",
    "    # 네트워크를 통해 함수 호출 (시간) : 비동기 방식\n",
    "    # 동기 방식(호출 후 돌아올 때까지 기다림), 비동기 방식(다른 작업 중 -event 받아서 작업)\n",
    "    # 대표적인 비동기 통신 방식이 AJAX : 웹 브라우저 내부적 처리\n",
    "    # 인터넷 표준 데이터 형식 json\n",
    "    return requests.post(API_URL, headers=headers, files={\"file\": data})\n",
    "\n",
    "def kakao_ocr_recognize(image_path: str, boxes: list, appkey: str):\n",
    "    API_URL = 'https://kapi.kakao.com/v1/vision/text/recognize'\n",
    "    headers = {'Authorization': 'KakaoAK {}'.format('0fb10dd3ce3fca2a83151ab0ca2ec021')}\n",
    "    image = cv2.imread('2.jpg')\n",
    "    jpeg_image = cv2.imencode('.jpg', image)[1]\n",
    "    data = jpeg_image.tobytes()\n",
    "    # 인식은 BOX로 텍스트 구역을 확인하고, recognize 인식한다.\n",
    "    return requests.post(API_URL, headers=headers, files={\"file\": data}, data={\"boxes\": json.dumps(boxes)})\n",
    "\n",
    "def main():\n",
    "    image_path, appkey = sys.argv[1], sys.argv[2]\n",
    "    resize_impath = kakao_ocr_resize(image_path)\n",
    "    output = kakao_ocr_detect(image_path, appkey).json()\n",
    "    boxes = output['result']['boxes']\n",
    "    boxes = boxes[:min(len(boxes), LIMIT_BOX)]\n",
    "    output = kakao_ocr_recognize(image_path, boxes, appkey).json()\n",
    "    return output\n",
    "output = main()\n",
    "output['result']"
   ]
  },
  {
   "cell_type": "code",
   "execution_count": 141,
   "metadata": {},
   "outputs": [],
   "source": [
    "from tensorflow.python.framework import ops\n",
    "ops.reset_default_graph()"
   ]
  },
  {
   "cell_type": "code",
   "execution_count": 142,
   "metadata": {},
   "outputs": [],
   "source": [
    "import cv2\n",
    "import numpy as np\n",
    "history = 30\n",
    "# cap = cv2.VideoCapture(0) 이거로하면 카메라 영상으로 받아들임\n",
    "cap = cv2.VideoCapture('corrupted_video.mp4')\n",
    "if (cap.isOpened()==False): # 파일이 없거나 장치가 없거나\n",
    "    print(\"ERROR\")\n",
    "fgbg = cv2.createBackgroundSubtractorMOG2() # 백그라운드 필터\n",
    "while(cap.isOpened()):\n",
    "    ret, frame = cap.read() # 1개의 frame -> 동영상은 ntsc방식 초당29\n",
    "    if ret == True:\n",
    "        gray = cv2.cvtColor(frame, cv2.COLOR_BGR2GRAY)\n",
    "        fgmask = fgbg.apply(gray,learningRate=1.0/history)\n",
    "        cv2.imshow(\"Frame\",fgmask\n",
    "                  ) # 이미지 출력\n",
    "        if cv2.waitKey(25) & 0xFF == ord('q'):\n",
    "            break\n",
    "    else:\n",
    "        break\n",
    "cap.release()\n",
    "cv2.destroyAllWindows()"
   ]
  },
  {
   "cell_type": "code",
   "execution_count": 129,
   "metadata": {},
   "outputs": [],
   "source": [
    "# 동영상 저장\n",
    "import numpy as np\n",
    "# 동영상 데이터 전처리 -> AI model 훈련 -> 실시간인식\n",
    "import cv2\n",
    "cap = cv2.VideoCapture(\"corrupted_video.mp4\")\n",
    "fourcc = cv2.VideoWriter_fourcc(*'XVID') # codec\n",
    "out = cv2.VideoWriter('output.avi', fourcc, 20.0, (640,480))\n",
    "while(cap.isOpened()):\n",
    "    ret, frame = cap.read() # embeded 장칭 ai npu 삼성엑시노스\n",
    "    if ret == True:\n",
    "        frame = cv2.flip(frame,0) # 여기다가 카메라로 인식하게해서 보여주면 차선변경 코드로 전환이 가능함\n",
    "        frame = cv2.cvtColor(frame, cv2.COLOR_BGR2GRAY)\n",
    "        out.write(frame)\n",
    "        cv2.imshow('frame', frame)\n",
    "        if cv2.waitKey(1) & 0xFF == ord('q'):\n",
    "            break\n",
    "    else:\n",
    "        break\n",
    "cap.release()\n",
    "out.release()\n",
    "cv2.destroyAllWindows()"
   ]
  },
  {
   "cell_type": "code",
   "execution_count": null,
   "metadata": {},
   "outputs": [],
   "source": []
  },
  {
   "cell_type": "code",
   "execution_count": null,
   "metadata": {},
   "outputs": [],
   "source": []
  },
  {
   "cell_type": "code",
   "execution_count": null,
   "metadata": {},
   "outputs": [],
   "source": []
  },
  {
   "cell_type": "code",
   "execution_count": 185,
   "metadata": {},
   "outputs": [],
   "source": [
    "# AE (auto encoder)\n",
    "# 오토인코더는 비지도학습 : 데이터의 특징 추출 : PCA 데이터 재해석(직교하는 축으로)\n",
    "# autoencoder input: 자기자신 == output도 자기자신"
   ]
  },
  {
   "cell_type": "code",
   "execution_count": null,
   "metadata": {},
   "outputs": [],
   "source": [
    "# denoising autoencoder\n",
    "- 원본, noise가 있는 학습 데이터\n",
    "- 학습은 noise가 있는 학습 데이터 -> 가중치\n",
    "- autoencoder 는 denosing을 한다."
   ]
  },
  {
   "cell_type": "code",
   "execution_count": 170,
   "metadata": {},
   "outputs": [],
   "source": [
    "from tensorflow.python.framework import ops\n",
    "ops.reset_default_graph()"
   ]
  },
  {
   "cell_type": "code",
   "execution_count": 178,
   "metadata": {},
   "outputs": [],
   "source": [
    "%matplotlib inline\n",
    "from tensorflow.examples.tutorials.mnist import  input_data\n",
    "import matplotlib.pyplot as plt\n",
    "import matplotlib.gridspec as gridspec\n",
    "def vis(images, save_name):\n",
    "    dim = images.shape[0]\n",
    "    n_image_rows = int(np.ceil(np.sqrt(dim)))\n",
    "    n_image_cols = int(np.ceil(dim * 1.0/n_image_rows))\n",
    "    gs = gridspec.GridSpec(n_image_rows, n_image_cols, top=1.,\n",
    "                          bottom=0., right=1., left=0., hspace=0., wspace=0.)\n",
    "    for g, count in zip(gs, range(int(dim))):\n",
    "        ax = plt.subplot(g)\n",
    "        ax.imshow(images[count,:].reshape((28,28)))\n",
    "        ax.set_xticks([])\n",
    "        ax.set_yticks([])\n",
    "    plt.savefig(save_name+'_vis.png')\n",
    "    plt.show()\n",
    "mnist_width = 28\n",
    "n_visible = mnist_width * mnist_width\n",
    "n_hidden = 500"
   ]
  },
  {
   "cell_type": "code",
   "execution_count": 179,
   "metadata": {},
   "outputs": [],
   "source": [
    "corruption_level = 0.3\n",
    "X = tf.placeholder('float', [None, n_visible], name='X')\n",
    "mask = tf.placeholder('float', [None, n_visible], name='mask')\n",
    "\n",
    "W_init_max = 4 * np.sqrt(6./ (n_visible+n_hidden))\n",
    "# 균등 분포에서 데이터생성\n",
    "W_init = tf.random_uniform(shape=[n_visible, n_hidden],\n",
    "                          minval = -W_init_max, maxval=W_init_max)\n",
    "W = tf.Variable(W_init, name='W')\n",
    "b = tf.Variable(tf.zeros([n_hidden]), name='b')"
   ]
  },
  {
   "cell_type": "code",
   "execution_count": 180,
   "metadata": {},
   "outputs": [],
   "source": [
    "W_prime = tf.transpose(W)\n",
    "b_prime = tf.Variable(tf.zeros([n_visible]), name='b_prime')\n",
    "def model(X, mask, W, b, W_prime, b_prime):\n",
    "    tilde_X = mask * X\n",
    "    Y = tf.nn.sigmoid(tf.matmul(tilde_X, W) + b)\n",
    "    Z = tf.nn.sigmoid(tf.matmul(Y, W_prime) + b_prime)\n",
    "    return Z\n",
    "Z = model(X, mask, W, b, W_prime, b_prime)\n",
    "# 가중치에 이미지의 특성이 추출"
   ]
  },
  {
   "cell_type": "code",
   "execution_count": 181,
   "metadata": {},
   "outputs": [
    {
     "name": "stdout",
     "output_type": "stream",
     "text": [
      "Extracting MNIST_data/train-images-idx3-ubyte.gz\n",
      "Extracting MNIST_data/train-labels-idx1-ubyte.gz\n",
      "Extracting MNIST_data/t10k-images-idx3-ubyte.gz\n",
      "Extracting MNIST_data/t10k-labels-idx1-ubyte.gz\n"
     ]
    }
   ],
   "source": [
    "# X 원본데이터 == Z 예측데이터\n",
    "# autoencoder input : 자기자신 == output도 자기자신\n",
    "# autoencoder는 noise를 추가함 : 원본의 특징을 추출한다\n",
    "cost = tf.reduce_sum(tf.pow(X - Z,2))\n",
    "train_op = tf.train.GradientDescentOptimizer(0.02).minimize(cost)\n",
    "predict_op = Z\n",
    "mnist = input_data.read_data_sets(\"MNIST_data/\", one_hot=True)\n",
    "trX, trY, teX, teY = mnist.train.images, mnist.train.labels,mnist.test.images, mnist.test.labels"
   ]
  },
  {
   "cell_type": "code",
   "execution_count": 160,
   "metadata": {
    "collapsed": true,
    "jupyter": {
     "outputs_hidden": true,
     "source_hidden": true
    }
   },
   "outputs": [
    {
     "name": "stdout",
     "output_type": "stream",
     "text": [
      "Extracting MNIST_data/train-images-idx3-ubyte.gz\n",
      "Extracting MNIST_data/train-labels-idx1-ubyte.gz\n",
      "Extracting MNIST_data/t10k-images-idx3-ubyte.gz\n",
      "Extracting MNIST_data/t10k-labels-idx1-ubyte.gz\n"
     ]
    }
   ],
   "source": [
    "%matplotlib inline\n",
    "import tensorflow as tf\n",
    "from tensorflow.examples.tutorials.mnist import input_data\n",
    "import matplotlib.pyplot as plt\n",
    "import matplotlib.gridspec as gridspec\n",
    "\n",
    "#denoising autoencoder\n",
    "def vis(images, save_name):\n",
    "    dim = images.shape[0]\n",
    "    n_image_rows = int(np.ceil(np.sqrt(dim)))\n",
    "    n_image_cols = int(np.ceil(dim * 1.0/n_image_rows))\n",
    "    gs = gridspec.GridSpec(n_image_rows, n_image_cols, top=1.,\n",
    "                          botton=1., right=1., left=0., hspace=0., wspace=0.)\n",
    "    for g, count in zip(gs, range(int(dim))):\n",
    "        ax = plt.subplot(g)\n",
    "        ax.imshow(images[count,:].reshape((28,28)))\n",
    "        ax.set_xticks([])\n",
    "        ax.set_yticks([])\n",
    "    plt.savefig(save_name+'_vis.png')\n",
    "    plt.show()\n",
    "mnist_width = 28\n",
    "n_visible = mnist_width * mnist_width\n",
    "n_hidden = 500\n",
    "\n",
    "corruption_level = 0.3\n",
    "X = tf.placeholder('float', [None, n_visible], name='X')\n",
    "mask = tf.placeholder('float', [None, n_visible], name='mask')\n",
    "W_init_max = 4 * np.sqrt(6./ (n_visible+n_hidden))\n",
    "W_init = tf.random_uniform(shape=[n_visible, n_hidden],\n",
    "                          minval = -W_init_max, maxval=W_init_max)\n",
    "W = tf.Variable(W_init, name='W')\n",
    "b = tf.Variable(tf.zeros([n_hidden]), name='b')\n",
    "\n",
    "W_prime = tf.transpose(W)\n",
    "b_prime = tf.Variable(tf.zeros([n_visible]), name='b_prime')\n",
    "def model(X, mask, W, b, W_prime, b_prime):\n",
    "    tilde_X = mask * X\n",
    "    Y = tf.nn.sigmoid(tf.matmul(tilde_X, W) + b)\n",
    "    Z = tf.nn.sigmoid(tf.matmul(Y, W_prime) + b_prime)\n",
    "    return Z\n",
    "Z = model(X, mask, W, b, W_prime, b_prime)\n",
    "\n",
    "cost = tf.reduce_sum(tf.pow(X - Z, 2))\n",
    "train_op = tf.train.GradientDescentOptimizer(0.02).minimize(cost)\n",
    "predict_op = Z\n",
    "\n",
    "mnist = input_data.read_data_sets(\"MNIST_data/\", one_hot=True)\n",
    "trX, trY, teX, teY = mnist.train.images, mnist.train.labels, mnist.test.images, mnist.test.labels"
   ]
  },
  {
   "cell_type": "code",
   "execution_count": 184,
   "metadata": {},
   "outputs": [
    {
     "name": "stdout",
     "output_type": "stream",
     "text": [
      "0 114777.58\n",
      "1 98478.5\n",
      "2 89702.77\n",
      "3 84727.82\n",
      "4 78772.03\n",
      "5 75303.484\n",
      "6 75133.97\n",
      "7 73700.555\n",
      "8 72138.805\n",
      "9 71014.195\n",
      "10 69141.7\n",
      "11 68192.77\n",
      "12 67660.914\n",
      "13 65828.79\n",
      "14 66605.05\n",
      "15 66457.77\n",
      "16 65891.016\n",
      "17 64894.16\n",
      "18 64860.73\n",
      "19 64754.086\n",
      "20 64245.004\n",
      "21 63875.8\n",
      "22 62692.305\n",
      "23 62155.85\n",
      "24 62843.137\n",
      "25 63756.023\n",
      "26 61827.758\n",
      "27 63225.082\n",
      "28 63318.15\n",
      "29 63536.836\n",
      "30 61973.78\n",
      "31 62362.035\n",
      "32 61357.773\n",
      "33 61412.234\n",
      "34 61231.273\n",
      "35 61886.11\n",
      "36 60765.83\n",
      "37 61130.984\n",
      "38 61833.887\n",
      "39 60058.047\n",
      "40 60671.934\n",
      "41 60791.758\n",
      "42 60489.23\n",
      "43 60220.41\n",
      "44 60157.03\n",
      "45 60208.547\n",
      "46 59892.996\n",
      "47 59585.99\n",
      "48 59556.938\n",
      "49 59962.926\n",
      "50 59184.234\n",
      "51 60256.5\n",
      "52 59318.82\n",
      "53 59480.945\n",
      "54 58637.35\n",
      "55 59031.242\n",
      "56 59630.25\n",
      "57 59691.7\n",
      "58 59776.79\n",
      "59 59727.83\n",
      "60 58904.824\n",
      "61 58862.074\n",
      "62 59468.895\n",
      "63 58256.15\n",
      "64 57795.0\n",
      "65 58025.805\n",
      "66 58775.29\n",
      "67 57715.035\n",
      "68 58038.78\n",
      "69 57903.223\n",
      "70 57701.06\n",
      "71 58057.7\n",
      "72 58360.703\n",
      "73 57310.54\n",
      "74 57564.555\n",
      "75 59121.742\n",
      "76 57425.113\n",
      "77 57209.67\n",
      "78 58352.312\n",
      "79 56933.09\n",
      "80 57769.57\n",
      "81 57572.69\n",
      "82 58163.344\n",
      "83 58477.29\n",
      "84 57390.45\n",
      "85 57210.984\n",
      "86 57245.44\n",
      "87 56974.688\n",
      "88 57369.117\n",
      "89 56902.293\n",
      "90 56468.883\n",
      "91 56207.805\n",
      "92 57135.246\n",
      "93 56535.023\n",
      "94 56410.2\n",
      "95 56196.16\n",
      "96 57657.688\n",
      "97 56727.07\n",
      "98 57525.918\n",
      "99 57040.8\n"
     ]
    },
    {
     "data": {
      "image/png": "[encoded data removed]",
      "text/plain": [
       "<Figure size 432x288 with 100 Axes>"
      ]
     },
     "metadata": {},
     "output_type": "display_data"
    },
    {
     "data": {
      "image/png": "[encoded data removed]",
      "text/plain": [
       "<Figure size 432x288 with 100 Axes>"
      ]
     },
     "metadata": {},
     "output_type": "display_data"
    }
   ],
   "source": [
    "with tf.Session() as sess:\n",
    "    tf.global_variables_initializer().run()\n",
    "    for i in range(100):\n",
    "        for start, end in zip(range(0, len(trX), 128),\n",
    "                             range(128, len(trX)+1,128)):\n",
    "            input_ = trX[start:end]\n",
    "            mask_np = np.random.binomial(1,1-corruption_level,input_.shape)\n",
    "            sess.run(train_op, feed_dict={X:input_, mask:mask_np})\n",
    "        # 이항분포로 마스크 생성 + 노이즈(원본이미지 노이즈)\n",
    "        mask_np = np.random.binomial(1,1-corruption_level, teX.shape)\n",
    "        print(i, sess.run(cost, feed_dict={X:teX, mask:mask_np}))\n",
    "    mask_np = np.random.binomial(1,1 - corruption_level, teX[:100].shape)\n",
    "    predicted_imgs = sess.run(predict_op, feed_dict={X: teX[:100], mask: mask_np})\n",
    "    input_imgs = teX[:100]\n",
    "vis(predicted_imgs,'pred') # 예측된 이미지.\n",
    "vis(input_imgs, 'in') # 입력이미지"
   ]
  },
  {
   "cell_type": "code",
   "execution_count": null,
   "metadata": {},
   "outputs": [],
   "source": [
    "# 판별모델 (discrimitive model) / \n",
    "# Variational autoencoder (VAE)\n",
    "# 변동인코더\n",
    "# generative model 생성 모델 -> 확률 평균 + 분산 (분포)\n",
    "# 잠재변수 (latent variables) : 키, 남자 "
   ]
  },
  {
   "cell_type": "code",
   "execution_count": 201,
   "metadata": {},
   "outputs": [
    {
     "name": "stdout",
     "output_type": "stream",
     "text": [
      "Downloading data from https://storage.googleapis.com/tensorflow/tf-keras-datasets/mnist.npz\n",
      "11493376/11490434 [==============================] - 1s 0us/step\n"
     ]
    }
   ],
   "source": [
    "import tensorflow as tf\n",
    "from tensorflow.python.framework import ops\n",
    "ops.reset_default_graph()\n",
    "train, test = tf.keras.datasets.mnist.load_data()\n",
    "train_x, train_y = train\n",
    "from functools import partial\n",
    "n_inputs = 28 * 28\n",
    "n_hidden1 = 500\n",
    "n_hidden2 = 500\n",
    "n_hidden3 = 20\n",
    "n_hidden4 = n_hidden2\n",
    "n_hidden5 = n_hidden1\n",
    "n_outputs = n_inputs # 입력이 출력으로 \n",
    "learning_rate = 0.001\n",
    "# without scaling 초기화\n",
    "initializer = tf.contrib.layers.variance_scaling_initializer()"
   ]
  },
  {
   "cell_type": "code",
   "execution_count": 202,
   "metadata": {},
   "outputs": [
    {
     "name": "stdout",
     "output_type": "stream",
     "text": [
      "WARNING:tensorflow:Entity <bound method Dense.call of <tensorflow.python.layers.core.Dense object at 0x0000018623165E08>> could not be transformed and will be executed as-is. Please report this to the AutgoGraph team. When filing the bug, set the verbosity to 10 (on Linux, `export AUTOGRAPH_VERBOSITY=10`) and attach the full output. Cause: converting <bound method Dense.call of <tensorflow.python.layers.core.Dense object at 0x0000018623165E08>>: AssertionError: Bad argument number for Name: 3, expecting 4\n",
      "WARNING: Entity <bound method Dense.call of <tensorflow.python.layers.core.Dense object at 0x0000018623165E08>> could not be transformed and will be executed as-is. Please report this to the AutgoGraph team. When filing the bug, set the verbosity to 10 (on Linux, `export AUTOGRAPH_VERBOSITY=10`) and attach the full output. Cause: converting <bound method Dense.call of <tensorflow.python.layers.core.Dense object at 0x0000018623165E08>>: AssertionError: Bad argument number for Name: 3, expecting 4\n",
      "WARNING:tensorflow:Entity <bound method Dense.call of <tensorflow.python.layers.core.Dense object at 0x0000018609E9BFC8>> could not be transformed and will be executed as-is. Please report this to the AutgoGraph team. When filing the bug, set the verbosity to 10 (on Linux, `export AUTOGRAPH_VERBOSITY=10`) and attach the full output. Cause: converting <bound method Dense.call of <tensorflow.python.layers.core.Dense object at 0x0000018609E9BFC8>>: AssertionError: Bad argument number for Name: 3, expecting 4\n",
      "WARNING: Entity <bound method Dense.call of <tensorflow.python.layers.core.Dense object at 0x0000018609E9BFC8>> could not be transformed and will be executed as-is. Please report this to the AutgoGraph team. When filing the bug, set the verbosity to 10 (on Linux, `export AUTOGRAPH_VERBOSITY=10`) and attach the full output. Cause: converting <bound method Dense.call of <tensorflow.python.layers.core.Dense object at 0x0000018609E9BFC8>>: AssertionError: Bad argument number for Name: 3, expecting 4\n",
      "WARNING:tensorflow:Entity <bound method Dense.call of <tensorflow.python.layers.core.Dense object at 0x000001862B4CC4C8>> could not be transformed and will be executed as-is. Please report this to the AutgoGraph team. When filing the bug, set the verbosity to 10 (on Linux, `export AUTOGRAPH_VERBOSITY=10`) and attach the full output. Cause: converting <bound method Dense.call of <tensorflow.python.layers.core.Dense object at 0x000001862B4CC4C8>>: AssertionError: Bad argument number for Name: 3, expecting 4\n",
      "WARNING: Entity <bound method Dense.call of <tensorflow.python.layers.core.Dense object at 0x000001862B4CC4C8>> could not be transformed and will be executed as-is. Please report this to the AutgoGraph team. When filing the bug, set the verbosity to 10 (on Linux, `export AUTOGRAPH_VERBOSITY=10`) and attach the full output. Cause: converting <bound method Dense.call of <tensorflow.python.layers.core.Dense object at 0x000001862B4CC4C8>>: AssertionError: Bad argument number for Name: 3, expecting 4\n",
      "WARNING:tensorflow:Entity <bound method Dense.call of <tensorflow.python.layers.core.Dense object at 0x0000018609E9BFC8>> could not be transformed and will be executed as-is. Please report this to the AutgoGraph team. When filing the bug, set the verbosity to 10 (on Linux, `export AUTOGRAPH_VERBOSITY=10`) and attach the full output. Cause: converting <bound method Dense.call of <tensorflow.python.layers.core.Dense object at 0x0000018609E9BFC8>>: AssertionError: Bad argument number for Name: 3, expecting 4\n",
      "WARNING: Entity <bound method Dense.call of <tensorflow.python.layers.core.Dense object at 0x0000018609E9BFC8>> could not be transformed and will be executed as-is. Please report this to the AutgoGraph team. When filing the bug, set the verbosity to 10 (on Linux, `export AUTOGRAPH_VERBOSITY=10`) and attach the full output. Cause: converting <bound method Dense.call of <tensorflow.python.layers.core.Dense object at 0x0000018609E9BFC8>>: AssertionError: Bad argument number for Name: 3, expecting 4\n",
      "WARNING:tensorflow:Entity <bound method Dense.call of <tensorflow.python.layers.core.Dense object at 0x0000018609E59A88>> could not be transformed and will be executed as-is. Please report this to the AutgoGraph team. When filing the bug, set the verbosity to 10 (on Linux, `export AUTOGRAPH_VERBOSITY=10`) and attach the full output. Cause: converting <bound method Dense.call of <tensorflow.python.layers.core.Dense object at 0x0000018609E59A88>>: AssertionError: Bad argument number for Name: 3, expecting 4\n",
      "WARNING: Entity <bound method Dense.call of <tensorflow.python.layers.core.Dense object at 0x0000018609E59A88>> could not be transformed and will be executed as-is. Please report this to the AutgoGraph team. When filing the bug, set the verbosity to 10 (on Linux, `export AUTOGRAPH_VERBOSITY=10`) and attach the full output. Cause: converting <bound method Dense.call of <tensorflow.python.layers.core.Dense object at 0x0000018609E59A88>>: AssertionError: Bad argument number for Name: 3, expecting 4\n",
      "WARNING:tensorflow:Entity <bound method Dense.call of <tensorflow.python.layers.core.Dense object at 0x000001862B606988>> could not be transformed and will be executed as-is. Please report this to the AutgoGraph team. When filing the bug, set the verbosity to 10 (on Linux, `export AUTOGRAPH_VERBOSITY=10`) and attach the full output. Cause: converting <bound method Dense.call of <tensorflow.python.layers.core.Dense object at 0x000001862B606988>>: AssertionError: Bad argument number for Name: 3, expecting 4\n",
      "WARNING: Entity <bound method Dense.call of <tensorflow.python.layers.core.Dense object at 0x000001862B606988>> could not be transformed and will be executed as-is. Please report this to the AutgoGraph team. When filing the bug, set the verbosity to 10 (on Linux, `export AUTOGRAPH_VERBOSITY=10`) and attach the full output. Cause: converting <bound method Dense.call of <tensorflow.python.layers.core.Dense object at 0x000001862B606988>>: AssertionError: Bad argument number for Name: 3, expecting 4\n",
      "WARNING:tensorflow:Entity <bound method Dense.call of <tensorflow.python.layers.core.Dense object at 0x0000018609E59A88>> could not be transformed and will be executed as-is. Please report this to the AutgoGraph team. When filing the bug, set the verbosity to 10 (on Linux, `export AUTOGRAPH_VERBOSITY=10`) and attach the full output. Cause: converting <bound method Dense.call of <tensorflow.python.layers.core.Dense object at 0x0000018609E59A88>>: AssertionError: Bad argument number for Name: 3, expecting 4\n",
      "WARNING: Entity <bound method Dense.call of <tensorflow.python.layers.core.Dense object at 0x0000018609E59A88>> could not be transformed and will be executed as-is. Please report this to the AutgoGraph team. When filing the bug, set the verbosity to 10 (on Linux, `export AUTOGRAPH_VERBOSITY=10`) and attach the full output. Cause: converting <bound method Dense.call of <tensorflow.python.layers.core.Dense object at 0x0000018609E59A88>>: AssertionError: Bad argument number for Name: 3, expecting 4\n"
     ]
    }
   ],
   "source": [
    "# 매개변수 일부를 고정할때\n",
    "# dense 라는 함수에서 activation을 상수취급하겠다는말임\n",
    "my_dense_layer = partial(tf.layers.dense, activation = tf.nn.elu, kernel_initializer=initializer) # (-1 을고려한 relu)\n",
    "X = tf.placeholder(tf.float32, [None, n_inputs])\n",
    "hidden1 = my_dense_layer(X, n_hidden1)\n",
    "hidden2 = my_dense_layer(hidden1, n_hidden2)\n",
    "hidden3_mean = my_dense_layer(hidden2, n_hidden3, activation=None)\n",
    "\n",
    "hidden3_sigma = my_dense_layer(hidden2, n_hidden3, activation=None)\n",
    "# 평균, 분산 * 노이즈\n",
    "noise = tf.random_normal(tf.shape(hidden3_sigma), dtype = tf.float32)\n",
    "\n",
    "hidden3 = hidden3_mean + hidden3_sigma * noise\n",
    "hidden4 = my_dense_layer(hidden3, n_hidden4)\n",
    "hidden5 = my_dense_layer(hidden4, n_hidden5)\n",
    "# 자기 자신값 28 * 28 = 784\n",
    "logits = my_dense_layer(hidden5, n_outputs, activation=None)\n",
    "outputs = tf.sigmoid(logits)"
   ]
  },
  {
   "cell_type": "code",
   "execution_count": 203,
   "metadata": {},
   "outputs": [],
   "source": [
    "xentropy = tf.nn.sigmoid_cross_entropy_with_logits(labels=X, logits=logits)\n",
    "# 재구축손실\n",
    "reconstruction_loss = tf.reduce_sum(xentropy)\n",
    "# epsilon 상수 : 부동소수점을 비교 0.0001 차가 : 0.0001 이하면 같은것으로 판단\n",
    "eps = 1e-10 # epsilon 상수 : 로그의 성질 : 0이면 무한대\n",
    "# cost function : \n",
    "# log liklihood 우도 확률\n",
    "# 지연손실 ( 확률분포 곡선 )\n",
    "latent_loss = 0.5 * tf.reduce_sum(tf.square(hidden3_sigma) + tf.square(hidden3_mean) - 1 - tf.log(eps + tf.square(hidden3_sigma)))\n",
    "loss = reconstruction_loss + latent_loss\n",
    "optimizer = tf.train.AdamOptimizer(learning_rate=learning_rate)\n",
    "training_op = optimizer.minimize(loss)\n",
    "init =tf.global_variables_initializer()"
   ]
  },
  {
   "cell_type": "code",
   "execution_count": 204,
   "metadata": {},
   "outputs": [
    {
     "name": "stdout",
     "output_type": "stream",
     "text": [
      "09% Train total loss: 36312.26 \t Reconstruction loss: 26550.635 \t Latent loss: 9761.627\n",
      "1 Train total loss: 34106.69 \t Reconstruction loss: 23782.684 \t Latent loss: 10324.008\n",
      "2 Train total loss: 27420.164 \t Reconstruction loss: 22993.996 \t Latent loss: 4426.167\n"
     ]
    }
   ],
   "source": [
    "import sys\n",
    "n_digits =60\n",
    "n_epochs = 3\n",
    "batch_size = 150\n",
    "with tf.Session() as sess:\n",
    "    init.run()\n",
    "    for epoch in range(n_epochs):\n",
    "        n_batches = mnist.train.num_examples // batch_size\n",
    "        for iteration in range(n_batches):\n",
    "            print(\"\\r{}%\".format(100 * iteration // n_batches),end=\"\")\n",
    "            sys.stdout.flush()\n",
    "            X_batch, y_batch = mnist.train.next_batch(batch_size)\n",
    "            sess.run(training_op, feed_dict={X:X_batch})\n",
    "        loss_val, reconstruction_loss_val, latent_loss_val = sess.run([loss, reconstruction_loss, latent_loss], feed_dict={X:X_batch})\n",
    "        print(\"\\r{}\".format(epoch), \"Train total loss:\", loss_val, \"\\t Reconstruction loss:\", reconstruction_loss_val,\"\\t Latent loss:\", latent_loss_val)\n",
    "        codings_rnd = np.random.normal(size=[n_digits, n_hidden3])\n",
    "        outputs_val = outputs.eval(feed_dict={hidden3: codings_rnd})\n"
   ]
  },
  {
   "cell_type": "code",
   "execution_count": null,
   "metadata": {},
   "outputs": [],
   "source": [
    "# 가중치를 통과한 데이터 ( test ) : 모델오나성\n",
    "# PCA처럼 비지도 학습의 특성으로 추출된 데이터(분류와 예측)                                                                                                    "
   ]
  }
 ],
 "metadata": {
  "kernelspec": {
   "display_name": "Python 3",
   "language": "python",
   "name": "python3"
  },
  "language_info": {
   "codemirror_mode": {
    "name": "ipython",
    "version": 3
   },
   "file_extension": ".py",
   "mimetype": "text/x-python",
   "name": "python",
   "nbconvert_exporter": "python",
   "pygments_lexer": "ipython3",
   "version": "3.7.6"
  }
 },
 "nbformat": 4,
 "nbformat_minor": 4
}
