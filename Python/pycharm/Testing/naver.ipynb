{
 "cells": [
  {
   "cell_type": "code",
   "execution_count": 2,
   "metadata": {},
   "outputs": [
    {
     "name": "stdout",
     "output_type": "stream",
     "text": [
      "접속중\n"
     ]
    },
    {
     "name": "stderr",
     "output_type": "stream",
     "text": [
      "100%|██████████| 1000/1000 [00:13<00:00, 75.34it/s]\n",
      "0it [00:00, ?it/s]"
     ]
    },
    {
     "name": "stdout",
     "output_type": "stream",
     "text": [
      "수집완료\n",
      "다운로드중\n"
     ]
    },
    {
     "name": "stderr",
     "output_type": "stream",
     "text": [
      "1000it [14:19,  1.16it/s]"
     ]
    },
    {
     "name": "stdout",
     "output_type": "stream",
     "text": [
      "다운로드 완료\n"
     ]
    },
    {
     "name": "stderr",
     "output_type": "stream",
     "text": [
      "\n"
     ]
    }
   ],
   "source": [
    "from selenium import webdriver\n",
    "from selenium.webdriver.common.keys import Keys\n",
    "import time\n",
    "from tqdm import tqdm\n",
    "\n",
    "\n",
    "# 키워드 입력\n",
    "keyword = \"골든 리트리버\"\n",
    "key = \"gold_dog\"\n",
    "\n",
    "# 웹접속 - 네이버 이미지 접속\n",
    "# 79.0.3945.36 / chrome version\n",
    "print(\"접속중\")\n",
    "driver = webdriver.Chrome(executable_path=\"./chromedriver.exe\")\n",
    "driver.implicitly_wait(30)\n",
    "\n",
    "url = 'https://search.naver.com/search.naver?where=image&sm=tab_jum&query={}'.format(keyword)\n",
    "driver.get(url)\n",
    "# 페이지 스크롤 다운\n",
    "body = driver.find_element_by_css_selector('body')\n",
    "for i in range(100):\n",
    "    body.send_keys(Keys.PAGE_DOWN)\n",
    "    time.sleep(1)\n",
    "\n",
    "# 이미지 링크 수집\n",
    "imgs = driver.find_elements_by_css_selector('img._img')\n",
    "result = []\n",
    "for img in tqdm(imgs):\n",
    "    if 'http' in img.get_attribute('src'):\n",
    "        result.append(img.get_attribute('src'))\n",
    "# print(result)\n",
    "\n",
    "driver.close()\n",
    "print('수집완료')\n",
    "\n",
    "# 파일 저장\n",
    "import os\n",
    "if not os.path.isdir('./{}'.format(key)):\n",
    "    print('폴더생성')\n",
    "    os.mkdir('./{}'.format(key))\n",
    "\n",
    "# 다운로드\n",
    "from urllib.request import urlretrieve\n",
    "\n",
    "print(\"다운로드중\")\n",
    "for index, link in tqdm(enumerate(result)):\n",
    "    start = link.rfind('.')\n",
    "    end = link.rfind('&')\n",
    "    # print(link[start:end])\n",
    "    filetype = link[start:end]\n",
    "    if filetype == '.jpg':  # jpg 만 다운\n",
    "        urlretrieve(link, './{}/{}{}{}'.format(key, key, index+1998, filetype))\n",
    "        time.sleep(1)\n",
    "print(\"다운로드 완료\")\n",
    "\n",
    "# import zipfile\n",
    "# zip_file = zipfile.Zipfile('./{}.zip'.format(keyword),'w')\n",
    "# # 이 폴더안에 파일 가져오는거\n",
    "# for image in tqdm(os.listdir('./{}'.format(keyword))):\n",
    "#     zip_file.write('./{}/{}'.format(keyword,image), compress_type=zip_file.ZIP_DEFLATED)\n",
    "# zip_file.close()\n",
    "# print(\"압축완료\")\n"
   ]
  }
 ],
 "metadata": {
  "kernelspec": {
   "display_name": "Python 3",
   "language": "python",
   "name": "python3"
  },
  "language_info": {
   "codemirror_mode": {
    "name": "ipython",
    "version": 3
   },
   "file_extension": ".py",
   "mimetype": "text/x-python",
   "name": "python",
   "nbconvert_exporter": "python",
   "pygments_lexer": "ipython3",
   "version": "3.7.6"
  }
 },
 "nbformat": 4,
 "nbformat_minor": 4
}
